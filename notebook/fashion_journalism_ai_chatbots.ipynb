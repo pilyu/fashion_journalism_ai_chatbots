{
 "cells": [
  {
   "cell_type": "markdown",
   "id": "65fa8ee3-eadf-4530-9a97-c56a15c8af45",
   "metadata": {},
   "source": [
    "# Fashion Journalism and Chatbots: A Quantitative Analysis of Potential Benefits and Risks Associated with the Adoption of AI-based Digital Tools for Sustainable Fashion Content Creation"
   ]
  },
  {
   "cell_type": "markdown",
   "id": "5e12d4c5-85cb-4794-ac86-165d876e645d",
   "metadata": {},
   "source": [
    "*Supporting Notebook*"
   ]
  },
  {
   "cell_type": "markdown",
   "id": "792a4eb1-9683-4448-83ce-f1dd9ade0ab3",
   "metadata": {},
   "source": [
    "This research aims to contribute to the understanding of the impact of Artificial Intelligence on Fashion Journalism, particularly on Sustainable Fashion Journalism, evaluating both the risks that careless use of these technologies might imply and what their potential benefits could be in enabling and augmenting the work of conscious professionals.\n",
    "\n",
    "This paper leverages quantitative textual analysis, based on inductive techniques (Hovy, 2022) where texts are taken as input and structures are identified to explain their content. The computational methods approach involves the creation of a Spanish-language dataset composed of three groups of sustainable fashion news articles from diverse authors: Latin American journalists, Spanish journalists, and AI-based chatbots."
   ]
  },
  {
   "cell_type": "markdown",
   "id": "93f0632e-f95b-460e-82dc-b736fb8742e1",
   "metadata": {},
   "source": [
    "### Research Questions"
   ]
  },
  {
   "cell_type": "markdown",
   "id": "24c716c9-b16f-49b4-b657-55bba4431051",
   "metadata": {},
   "source": [
    "1. What are the differences and similarities between journalistic texts written by human journalists and chatbots?\n",
    "1. What are the narratives that chatbots pick up and perpetuate around sustainable fashion in Latin America and Spain?\n",
    "1. How might chatbots influence the way fashion journalists write about sustainable fashion?"
   ]
  },
  {
   "cell_type": "markdown",
   "id": "612f509e-79db-4998-ba9c-73f5ebc53b7b",
   "metadata": {},
   "source": [
    "### Explanation of the variables of the dataset \n",
    "\n",
    "The dataset has 8 columns, and the following information was obtained from a total of 1150 fashion journalist articles, of which 624 were written by Latin American journalists, 425 by Spanish journalists and 86 by three different chatbots, , during a period of time from 2011 to 2023. The creation of the articles by ChatGPT-3.5, Perplexity and Jasper were created during the March and April 2023."
   ]
  },
  {
   "cell_type": "markdown",
   "id": "9f042d00-5b6a-46b6-b690-f2c8624d4cf2",
   "metadata": {},
   "source": [
    "| Information | Description |\n",
    "| --- | --- |\n",
    "| Source | Name of the magazine or chatbot | \n",
    "| Source_type | Human or chatbot |\n",
    "| Date | Date of publication of the article |\n",
    "| Author | Name of person, media or chatbot signing the article |\n",
    "| Headline | Title of the article |\n",
    "| Lead | Article lead |\n",
    "| Body | Content of the article |\n",
    "| Keywords | The list of hashtags/tag in a text |\n",
    "| Country | Origin of the media. NOTE: This field was left empty for chatbots  |"
   ]
  },
  {
   "cell_type": "code",
   "execution_count": 1,
   "id": "28c0bfed-331d-4cf9-8b4c-82510c3712f5",
   "metadata": {},
   "outputs": [
    {
     "name": "stdout",
     "output_type": "stream",
     "text": [
      "Requirement already satisfied: colorcet in c:\\users\\pilyu\\anaconda3\\lib\\site-packages (3.0.0)\n",
      "Requirement already satisfied: gensim in c:\\users\\pilyu\\anaconda3\\lib\\site-packages (4.1.2)\n",
      "Requirement already satisfied: nltk in c:\\users\\pilyu\\anaconda3\\lib\\site-packages (3.7)\n",
      "Requirement already satisfied: spacy in c:\\users\\pilyu\\appdata\\roaming\\python\\python39\\site-packages (3.5.1)\n",
      "Requirement already satisfied: spacy_spanish_lemmatizer in c:\\users\\pilyu\\anaconda3\\lib\\site-packages (0.7)\n",
      "Requirement already satisfied: wordcloud in c:\\users\\pilyu\\anaconda3\\lib\\site-packages (1.9.1.1)\n",
      "Requirement already satisfied: pyct>=0.4.4 in c:\\users\\pilyu\\anaconda3\\lib\\site-packages (from colorcet) (0.4.8)\n",
      "Requirement already satisfied: param>=1.7.0 in c:\\users\\pilyu\\anaconda3\\lib\\site-packages (from colorcet) (1.12.0)\n",
      "Requirement already satisfied: smart-open>=1.8.1 in c:\\users\\pilyu\\anaconda3\\lib\\site-packages (from gensim) (5.2.1)\n",
      "Requirement already satisfied: numpy>=1.17.0 in c:\\users\\pilyu\\anaconda3\\lib\\site-packages (from gensim) (1.24.3)\n",
      "Requirement already satisfied: scipy>=0.18.1 in c:\\users\\pilyu\\anaconda3\\lib\\site-packages (from gensim) (1.9.1)\n",
      "Requirement already satisfied: joblib in c:\\users\\pilyu\\anaconda3\\lib\\site-packages (from nltk) (1.2.0)\n",
      "Requirement already satisfied: tqdm in c:\\users\\pilyu\\anaconda3\\lib\\site-packages (from nltk) (4.64.1)\n",
      "Requirement already satisfied: click in c:\\users\\pilyu\\anaconda3\\lib\\site-packages (from nltk) (8.0.4)\n",
      "Requirement already satisfied: regex>=2021.8.3 in c:\\users\\pilyu\\anaconda3\\lib\\site-packages (from nltk) (2022.7.9)\n",
      "Requirement already satisfied: spacy-legacy<3.1.0,>=3.0.11 in c:\\users\\pilyu\\anaconda3\\lib\\site-packages (from spacy) (3.0.12)\n",
      "Requirement already satisfied: pathy>=0.10.0 in c:\\users\\pilyu\\anaconda3\\lib\\site-packages (from spacy) (0.10.1)\n",
      "Requirement already satisfied: setuptools in c:\\users\\pilyu\\anaconda3\\lib\\site-packages (from spacy) (63.4.1)\n",
      "Requirement already satisfied: spacy-loggers<2.0.0,>=1.0.0 in c:\\users\\pilyu\\anaconda3\\lib\\site-packages (from spacy) (1.0.4)\n",
      "Requirement already satisfied: pydantic!=1.8,!=1.8.1,<1.11.0,>=1.7.4 in c:\\users\\pilyu\\anaconda3\\lib\\site-packages (from spacy) (1.10.7)\n",
      "Requirement already satisfied: thinc<8.2.0,>=8.1.8 in c:\\users\\pilyu\\anaconda3\\lib\\site-packages (from spacy) (8.1.9)\n",
      "Requirement already satisfied: packaging>=20.0 in c:\\users\\pilyu\\anaconda3\\lib\\site-packages (from spacy) (21.3)\n",
      "Requirement already satisfied: requests<3.0.0,>=2.13.0 in c:\\users\\pilyu\\anaconda3\\lib\\site-packages (from spacy) (2.28.1)\n",
      "Requirement already satisfied: cymem<2.1.0,>=2.0.2 in c:\\users\\pilyu\\anaconda3\\lib\\site-packages (from spacy) (2.0.7)\n",
      "Requirement already satisfied: preshed<3.1.0,>=3.0.2 in c:\\users\\pilyu\\anaconda3\\lib\\site-packages (from spacy) (3.0.8)\n",
      "Requirement already satisfied: murmurhash<1.1.0,>=0.28.0 in c:\\users\\pilyu\\anaconda3\\lib\\site-packages (from spacy) (1.0.9)\n",
      "Requirement already satisfied: jinja2 in c:\\users\\pilyu\\anaconda3\\lib\\site-packages (from spacy) (2.11.3)\n",
      "Requirement already satisfied: langcodes<4.0.0,>=3.2.0 in c:\\users\\pilyu\\anaconda3\\lib\\site-packages (from spacy) (3.3.0)\n",
      "Requirement already satisfied: wasabi<1.2.0,>=0.9.1 in c:\\users\\pilyu\\anaconda3\\lib\\site-packages (from spacy) (1.1.1)\n",
      "Requirement already satisfied: catalogue<2.1.0,>=2.0.6 in c:\\users\\pilyu\\anaconda3\\lib\\site-packages (from spacy) (2.0.8)\n",
      "Requirement already satisfied: typer<0.8.0,>=0.3.0 in c:\\users\\pilyu\\anaconda3\\lib\\site-packages (from spacy) (0.7.0)\n",
      "Requirement already satisfied: srsly<3.0.0,>=2.4.3 in c:\\users\\pilyu\\anaconda3\\lib\\site-packages (from spacy) (2.4.6)\n",
      "Requirement already satisfied: pillow in c:\\users\\pilyu\\anaconda3\\lib\\site-packages (from wordcloud) (9.2.0)\n",
      "Requirement already satisfied: matplotlib in c:\\users\\pilyu\\anaconda3\\lib\\site-packages (from wordcloud) (3.5.2)\n",
      "Requirement already satisfied: pyparsing!=3.0.5,>=2.0.2 in c:\\users\\pilyu\\anaconda3\\lib\\site-packages (from packaging>=20.0->spacy) (3.0.9)\n",
      "Requirement already satisfied: typing-extensions>=4.2.0 in c:\\users\\pilyu\\anaconda3\\lib\\site-packages (from pydantic!=1.8,!=1.8.1,<1.11.0,>=1.7.4->spacy) (4.3.0)\n",
      "Requirement already satisfied: charset-normalizer<3,>=2 in c:\\users\\pilyu\\anaconda3\\lib\\site-packages (from requests<3.0.0,>=2.13.0->spacy) (2.0.4)\n",
      "Requirement already satisfied: certifi>=2017.4.17 in c:\\users\\pilyu\\anaconda3\\lib\\site-packages (from requests<3.0.0,>=2.13.0->spacy) (2022.9.14)\n",
      "Requirement already satisfied: idna<4,>=2.5 in c:\\users\\pilyu\\anaconda3\\lib\\site-packages (from requests<3.0.0,>=2.13.0->spacy) (3.3)\n",
      "Requirement already satisfied: urllib3<1.27,>=1.21.1 in c:\\users\\pilyu\\anaconda3\\lib\\site-packages (from requests<3.0.0,>=2.13.0->spacy) (1.26.11)\n",
      "Requirement already satisfied: confection<1.0.0,>=0.0.1 in c:\\users\\pilyu\\anaconda3\\lib\\site-packages (from thinc<8.2.0,>=8.1.8->spacy) (0.0.4)\n",
      "Requirement already satisfied: blis<0.8.0,>=0.7.8 in c:\\users\\pilyu\\anaconda3\\lib\\site-packages (from thinc<8.2.0,>=8.1.8->spacy) (0.7.9)\n",
      "Requirement already satisfied: colorama in c:\\users\\pilyu\\appdata\\roaming\\python\\python39\\site-packages (from tqdm->nltk) (0.4.6)\n",
      "Requirement already satisfied: MarkupSafe>=0.23 in c:\\users\\pilyu\\anaconda3\\lib\\site-packages (from jinja2->spacy) (2.0.1)\n",
      "Requirement already satisfied: cycler>=0.10 in c:\\users\\pilyu\\anaconda3\\lib\\site-packages (from matplotlib->wordcloud) (0.11.0)\n",
      "Requirement already satisfied: python-dateutil>=2.7 in c:\\users\\pilyu\\appdata\\roaming\\python\\python39\\site-packages (from matplotlib->wordcloud) (2.8.2)\n",
      "Requirement already satisfied: fonttools>=4.22.0 in c:\\users\\pilyu\\anaconda3\\lib\\site-packages (from matplotlib->wordcloud) (4.25.0)\n",
      "Requirement already satisfied: kiwisolver>=1.0.1 in c:\\users\\pilyu\\anaconda3\\lib\\site-packages (from matplotlib->wordcloud) (1.4.2)\n",
      "Requirement already satisfied: six>=1.5 in c:\\users\\pilyu\\anaconda3\\lib\\site-packages (from python-dateutil>=2.7->matplotlib->wordcloud) (1.16.0)\n",
      "Note: you may need to restart the kernel to use updated packages.\n",
      "Collecting es-core-news-md==3.5.0\n",
      "  Downloading https://github.com/explosion/spacy-models/releases/download/es_core_news_md-3.5.0/es_core_news_md-3.5.0-py3-none-any.whl (42.3 MB)\n",
      "     ---------------------------------------- 42.3/42.3 MB 3.9 MB/s eta 0:00:00\n",
      "Requirement already satisfied: spacy<3.6.0,>=3.5.0 in c:\\users\\pilyu\\appdata\\roaming\\python\\python39\\site-packages (from es-core-news-md==3.5.0) (3.5.1)\n",
      "Requirement already satisfied: thinc<8.2.0,>=8.1.8 in c:\\users\\pilyu\\anaconda3\\lib\\site-packages (from spacy<3.6.0,>=3.5.0->es-core-news-md==3.5.0) (8.1.9)\n",
      "Requirement already satisfied: preshed<3.1.0,>=3.0.2 in c:\\users\\pilyu\\anaconda3\\lib\\site-packages (from spacy<3.6.0,>=3.5.0->es-core-news-md==3.5.0) (3.0.8)\n",
      "Requirement already satisfied: numpy>=1.15.0 in c:\\users\\pilyu\\anaconda3\\lib\\site-packages (from spacy<3.6.0,>=3.5.0->es-core-news-md==3.5.0) (1.24.3)\n",
      "Requirement already satisfied: smart-open<7.0.0,>=5.2.1 in c:\\users\\pilyu\\anaconda3\\lib\\site-packages (from spacy<3.6.0,>=3.5.0->es-core-news-md==3.5.0) (5.2.1)\n",
      "Requirement already satisfied: tqdm<5.0.0,>=4.38.0 in c:\\users\\pilyu\\anaconda3\\lib\\site-packages (from spacy<3.6.0,>=3.5.0->es-core-news-md==3.5.0) (4.64.1)\n",
      "Requirement already satisfied: murmurhash<1.1.0,>=0.28.0 in c:\\users\\pilyu\\anaconda3\\lib\\site-packages (from spacy<3.6.0,>=3.5.0->es-core-news-md==3.5.0) (1.0.9)\n",
      "Requirement already satisfied: langcodes<4.0.0,>=3.2.0 in c:\\users\\pilyu\\anaconda3\\lib\\site-packages (from spacy<3.6.0,>=3.5.0->es-core-news-md==3.5.0) (3.3.0)\n",
      "Requirement already satisfied: spacy-loggers<2.0.0,>=1.0.0 in c:\\users\\pilyu\\anaconda3\\lib\\site-packages (from spacy<3.6.0,>=3.5.0->es-core-news-md==3.5.0) (1.0.4)\n",
      "Requirement already satisfied: spacy-legacy<3.1.0,>=3.0.11 in c:\\users\\pilyu\\anaconda3\\lib\\site-packages (from spacy<3.6.0,>=3.5.0->es-core-news-md==3.5.0) (3.0.12)\n",
      "Requirement already satisfied: wasabi<1.2.0,>=0.9.1 in c:\\users\\pilyu\\anaconda3\\lib\\site-packages (from spacy<3.6.0,>=3.5.0->es-core-news-md==3.5.0) (1.1.1)\n",
      "Requirement already satisfied: pathy>=0.10.0 in c:\\users\\pilyu\\anaconda3\\lib\\site-packages (from spacy<3.6.0,>=3.5.0->es-core-news-md==3.5.0) (0.10.1)\n",
      "Requirement already satisfied: catalogue<2.1.0,>=2.0.6 in c:\\users\\pilyu\\anaconda3\\lib\\site-packages (from spacy<3.6.0,>=3.5.0->es-core-news-md==3.5.0) (2.0.8)\n",
      "Requirement already satisfied: requests<3.0.0,>=2.13.0 in c:\\users\\pilyu\\anaconda3\\lib\\site-packages (from spacy<3.6.0,>=3.5.0->es-core-news-md==3.5.0) (2.28.1)\n",
      "Requirement already satisfied: pydantic!=1.8,!=1.8.1,<1.11.0,>=1.7.4 in c:\\users\\pilyu\\anaconda3\\lib\\site-packages (from spacy<3.6.0,>=3.5.0->es-core-news-md==3.5.0) (1.10.7)\n",
      "Requirement already satisfied: srsly<3.0.0,>=2.4.3 in c:\\users\\pilyu\\anaconda3\\lib\\site-packages (from spacy<3.6.0,>=3.5.0->es-core-news-md==3.5.0) (2.4.6)\n",
      "Requirement already satisfied: setuptools in c:\\users\\pilyu\\anaconda3\\lib\\site-packages (from spacy<3.6.0,>=3.5.0->es-core-news-md==3.5.0) (63.4.1)\n",
      "Requirement already satisfied: typer<0.8.0,>=0.3.0 in c:\\users\\pilyu\\anaconda3\\lib\\site-packages (from spacy<3.6.0,>=3.5.0->es-core-news-md==3.5.0) (0.7.0)\n",
      "Requirement already satisfied: cymem<2.1.0,>=2.0.2 in c:\\users\\pilyu\\anaconda3\\lib\\site-packages (from spacy<3.6.0,>=3.5.0->es-core-news-md==3.5.0) (2.0.7)\n",
      "Requirement already satisfied: packaging>=20.0 in c:\\users\\pilyu\\anaconda3\\lib\\site-packages (from spacy<3.6.0,>=3.5.0->es-core-news-md==3.5.0) (21.3)\n",
      "Requirement already satisfied: jinja2 in c:\\users\\pilyu\\anaconda3\\lib\\site-packages (from spacy<3.6.0,>=3.5.0->es-core-news-md==3.5.0) (2.11.3)\n",
      "Requirement already satisfied: pyparsing!=3.0.5,>=2.0.2 in c:\\users\\pilyu\\anaconda3\\lib\\site-packages (from packaging>=20.0->spacy<3.6.0,>=3.5.0->es-core-news-md==3.5.0) (3.0.9)\n",
      "Requirement already satisfied: typing-extensions>=4.2.0 in c:\\users\\pilyu\\anaconda3\\lib\\site-packages (from pydantic!=1.8,!=1.8.1,<1.11.0,>=1.7.4->spacy<3.6.0,>=3.5.0->es-core-news-md==3.5.0) (4.3.0)\n",
      "Requirement already satisfied: certifi>=2017.4.17 in c:\\users\\pilyu\\anaconda3\\lib\\site-packages (from requests<3.0.0,>=2.13.0->spacy<3.6.0,>=3.5.0->es-core-news-md==3.5.0) (2022.9.14)\n",
      "Requirement already satisfied: charset-normalizer<3,>=2 in c:\\users\\pilyu\\anaconda3\\lib\\site-packages (from requests<3.0.0,>=2.13.0->spacy<3.6.0,>=3.5.0->es-core-news-md==3.5.0) (2.0.4)\n",
      "Requirement already satisfied: idna<4,>=2.5 in c:\\users\\pilyu\\anaconda3\\lib\\site-packages (from requests<3.0.0,>=2.13.0->spacy<3.6.0,>=3.5.0->es-core-news-md==3.5.0) (3.3)\n",
      "Requirement already satisfied: urllib3<1.27,>=1.21.1 in c:\\users\\pilyu\\anaconda3\\lib\\site-packages (from requests<3.0.0,>=2.13.0->spacy<3.6.0,>=3.5.0->es-core-news-md==3.5.0) (1.26.11)\n",
      "Requirement already satisfied: confection<1.0.0,>=0.0.1 in c:\\users\\pilyu\\anaconda3\\lib\\site-packages (from thinc<8.2.0,>=8.1.8->spacy<3.6.0,>=3.5.0->es-core-news-md==3.5.0) (0.0.4)\n",
      "Requirement already satisfied: blis<0.8.0,>=0.7.8 in c:\\users\\pilyu\\anaconda3\\lib\\site-packages (from thinc<8.2.0,>=8.1.8->spacy<3.6.0,>=3.5.0->es-core-news-md==3.5.0) (0.7.9)\n",
      "Requirement already satisfied: colorama in c:\\users\\pilyu\\appdata\\roaming\\python\\python39\\site-packages (from tqdm<5.0.0,>=4.38.0->spacy<3.6.0,>=3.5.0->es-core-news-md==3.5.0) (0.4.6)\n",
      "Requirement already satisfied: click<9.0.0,>=7.1.1 in c:\\users\\pilyu\\anaconda3\\lib\\site-packages (from typer<0.8.0,>=0.3.0->spacy<3.6.0,>=3.5.0->es-core-news-md==3.5.0) (8.0.4)\n",
      "Requirement already satisfied: MarkupSafe>=0.23 in c:\\users\\pilyu\\anaconda3\\lib\\site-packages (from jinja2->spacy<3.6.0,>=3.5.0->es-core-news-md==3.5.0) (2.0.1)\n",
      "\u001b[38;5;2m[+] Download and installation successful\u001b[0m\n",
      "You can now load the package via spacy.load('es_core_news_md')\n",
      "Downloading wiktionary dump from: https://dumps.wikimedia.org/eswiktionary/latest/eswiktionary-latest-pages-articles.xml.bz2 (it may take some time)\n",
      "Decompressing dump file: C:\\Users\\pilyu\\anaconda3\\Lib\\site-packages\\spacy_spanish_lemmatizer\\tmp\\eswiktionary-latest-pages-articles.xml.bz2\n",
      "Parsing downloaded file...\n",
      "Generating lemmatization...\n",
      "Exporting lemmatizer files...\n",
      "Cleaning temporary files...\n"
     ]
    }
   ],
   "source": [
    "%pip install colorcet gensim nltk spacy spacy_spanish_lemmatizer wordcloud\n",
    "!python -m spacy download es_core_news_md\n",
    "!python -m spacy_spanish_lemmatizer download wiki"
   ]
  },
  {
   "cell_type": "code",
   "execution_count": 2,
   "id": "4fc7876b-5d74-478b-8013-78e51660c631",
   "metadata": {},
   "outputs": [
    {
     "name": "stderr",
     "output_type": "stream",
     "text": [
      "[nltk_data] Downloading package stopwords to\n",
      "[nltk_data]     C:\\Users\\pilyu\\AppData\\Roaming\\nltk_data...\n",
      "[nltk_data]   Package stopwords is already up-to-date!\n"
     ]
    }
   ],
   "source": [
    "import urllib.request\n",
    "from collections import Counter\n",
    "from glob import glob\n",
    "\n",
    "import colorcet as cc\n",
    "import gensim\n",
    "import nltk\n",
    "import pandas as pd\n",
    "import seaborn as sns\n",
    "import spacy\n",
    "import spacy_spanish_lemmatizer\n",
    "from gensim.models import KeyedVectors, Word2Vec\n",
    "from matplotlib import pyplot as plt\n",
    "from nltk import word_tokenize\n",
    "from nltk.corpus import stopwords as nltk_stopwords\n",
    "from sklearn.feature_extraction.text import CountVectorizer, TfidfVectorizer\n",
    "from wordcloud import WordCloud\n",
    "\n",
    "nltk.download(\"stopwords\")\n",
    "\n",
    "url = \"https://raw.githubusercontent.com/stopwords-iso/stopwords-es/master/stopwords-es.txt\"\n",
    "with urllib.request.urlopen(url) as response:\n",
    "    stopwords = response.read().decode(\"utf-8\")\n",
    "stopwords = stopwords.split(\"\\n\")"
   ]
  },
  {
   "cell_type": "code",
   "execution_count": 3,
   "id": "efd2863c-71e1-45d7-b6c7-e22be1046d01",
   "metadata": {},
   "outputs": [
    {
     "data": {
      "text/html": [
       "<div>\n",
       "<style scoped>\n",
       "    .dataframe tbody tr th:only-of-type {\n",
       "        vertical-align: middle;\n",
       "    }\n",
       "\n",
       "    .dataframe tbody tr th {\n",
       "        vertical-align: top;\n",
       "    }\n",
       "\n",
       "    .dataframe thead th {\n",
       "        text-align: right;\n",
       "    }\n",
       "</style>\n",
       "<table border=\"1\" class=\"dataframe\">\n",
       "  <thead>\n",
       "    <tr style=\"text-align: right;\">\n",
       "      <th></th>\n",
       "      <th>source</th>\n",
       "      <th>source_type</th>\n",
       "      <th>date</th>\n",
       "      <th>author</th>\n",
       "      <th>headline</th>\n",
       "      <th>lead</th>\n",
       "      <th>body</th>\n",
       "      <th>keywords</th>\n",
       "      <th>country</th>\n",
       "    </tr>\n",
       "  </thead>\n",
       "  <tbody>\n",
       "    <tr>\n",
       "      <th>174</th>\n",
       "      <td>Revista COSAS</td>\n",
       "      <td>human</td>\n",
       "      <td>2022-05-13 21:09:16+00:00</td>\n",
       "      <td>Arianna Gonzales</td>\n",
       "      <td>El look de Sassa de Osma, perfecto para adopta...</td>\n",
       "      <td>Sassa de Osma vuelve a sorprender con sus esti...</td>\n",
       "      <td>Sassa de Osma vuelve a sorprender con sus esti...</td>\n",
       "      <td>looks de sassa de osma,sassa de osma</td>\n",
       "      <td>Peru</td>\n",
       "    </tr>\n",
       "    <tr>\n",
       "      <th>752</th>\n",
       "      <td>Viste La Calle</td>\n",
       "      <td>human</td>\n",
       "      <td>2018-10-09 13:00:59+00:00</td>\n",
       "      <td>Kevin Cortés</td>\n",
       "      <td>Renace, una pasarela dedicada 100% a la moda s...</td>\n",
       "      <td>Fotos: Maglio Cicardini (@ballentinno), Isidor...</td>\n",
       "      <td>Fotos: Maglio Cicardini (@ballentinno), Isidor...</td>\n",
       "      <td>moda</td>\n",
       "      <td>Chile</td>\n",
       "    </tr>\n",
       "    <tr>\n",
       "      <th>467</th>\n",
       "      <td>Ocean Drive</td>\n",
       "      <td>human</td>\n",
       "      <td>2020-07-17 01:27:59+00:00</td>\n",
       "      <td>Mary Villarroel Sneshko.</td>\n",
       "      <td>“Heart for hope”: Carolina Herrera se une con ...</td>\n",
       "      <td>La reconocida casa de moda ha buscado la maner...</td>\n",
       "      <td>La reconocida casa de moda ha buscado la maner...</td>\n",
       "      <td>covid-19,moda</td>\n",
       "      <td>Venezuela</td>\n",
       "    </tr>\n",
       "    <tr>\n",
       "      <th>240</th>\n",
       "      <td>Harper's Bazaar</td>\n",
       "      <td>human</td>\n",
       "      <td>2022-05-13 00:00:00+00:00</td>\n",
       "      <td>Lorenza García</td>\n",
       "      <td>5 marcas ecológicas de ropa interior que debes...</td>\n",
       "      <td>Si estás haciendo todo lo posible por comprar ...</td>\n",
       "      <td>Hay muchas marcas que ofrecen estilo, comodida...</td>\n",
       "      <td>moda sostenible,lenceria,marcas de lenceria,ma...</td>\n",
       "      <td>Mexico</td>\n",
       "    </tr>\n",
       "    <tr>\n",
       "      <th>667</th>\n",
       "      <td>Telva</td>\n",
       "      <td>human</td>\n",
       "      <td>2022-01-18 10:45:18+00:00</td>\n",
       "      <td>Elisa Álvarez Espejo</td>\n",
       "      <td>Las 5 veces que la Reina Letizia ha asaltado e...</td>\n",
       "      <td>Hace 4 años que la reina Letizia hizo incursió...</td>\n",
       "      <td>No sabemos muy bien cómo se abrió la veda en e...</td>\n",
       "      <td>reina letizia,looks,moda,moda sostenible</td>\n",
       "      <td>Spain</td>\n",
       "    </tr>\n",
       "    <tr>\n",
       "      <th>218</th>\n",
       "      <td>Revista COSAS</td>\n",
       "      <td>human</td>\n",
       "      <td>2018-05-08 21:41:09+00:00</td>\n",
       "      <td>Isabel Miró Quesada</td>\n",
       "      <td>Met Gala 2018: los mejores y los peores looks,...</td>\n",
       "      <td>Conversamos con el diseñador peruano Noe Berna...</td>\n",
       "      <td>Moda y religión se fusionaron en la esperada M...</td>\n",
       "      <td>met gala</td>\n",
       "      <td>Peru</td>\n",
       "    </tr>\n",
       "    <tr>\n",
       "      <th>867</th>\n",
       "      <td>Vogue Spain</td>\n",
       "      <td>human</td>\n",
       "      <td>2022-11-30 08:34:45.311000+00:00</td>\n",
       "      <td>Emily Chan</td>\n",
       "      <td>¿Cuántas prendas deberíamos tener exactamente?</td>\n",
       "      <td>Un informe del Instituto Hot Or Cool de Berlín...</td>\n",
       "      <td>\"Comprar menos y comprar mejor\" se ha converti...</td>\n",
       "      <td>sostenibilidad,vogue 365</td>\n",
       "      <td>Spain</td>\n",
       "    </tr>\n",
       "    <tr>\n",
       "      <th>420</th>\n",
       "      <td>Ocean Drive</td>\n",
       "      <td>human</td>\n",
       "      <td>2023-01-10 15:45:00+00:00</td>\n",
       "      <td>Mary Villarroel Sneshko.</td>\n",
       "      <td>¿Quién es Amanda Dudamel? 5 datos de nuestra M...</td>\n",
       "      <td>Elocuente, extrovertida y con una soltura impr...</td>\n",
       "      <td>Elocuente, extrovertida y con una soltura impr...</td>\n",
       "      <td>NaN</td>\n",
       "      <td>Venezuela</td>\n",
       "    </tr>\n",
       "    <tr>\n",
       "      <th>351</th>\n",
       "      <td>InStyle</td>\n",
       "      <td>human</td>\n",
       "      <td>2020-06-05 15:24:42+00:00</td>\n",
       "      <td>María Elvira</td>\n",
       "      <td>Marcas de belleza responsables con el medio am...</td>\n",
       "      <td>Por el Día de la Tierra, repasamos siete marca...</td>\n",
       "      <td>Belleza cosmética El mundo se ha parado en los...</td>\n",
       "      <td>cosmética,looks de moda,trucos de belleza,prod...</td>\n",
       "      <td>Spain</td>\n",
       "    </tr>\n",
       "    <tr>\n",
       "      <th>328</th>\n",
       "      <td>InStyle</td>\n",
       "      <td>human</td>\n",
       "      <td>2020-09-13 14:00:00+00:00</td>\n",
       "      <td>María Elvira</td>\n",
       "      <td>Cómo cuidar tu melena con los mejores ingredie...</td>\n",
       "      <td>Belleza productos de belleza Si el pelo de tod...</td>\n",
       "      <td>Porque el valor de tu melena es incalculable. ...</td>\n",
       "      <td>productos de belleza</td>\n",
       "      <td>Spain</td>\n",
       "    </tr>\n",
       "  </tbody>\n",
       "</table>\n",
       "</div>"
      ],
      "text/plain": [
       "              source source_type                             date  \\\n",
       "174    Revista COSAS       human        2022-05-13 21:09:16+00:00   \n",
       "752   Viste La Calle       human        2018-10-09 13:00:59+00:00   \n",
       "467      Ocean Drive       human        2020-07-17 01:27:59+00:00   \n",
       "240  Harper's Bazaar       human        2022-05-13 00:00:00+00:00   \n",
       "667            Telva       human        2022-01-18 10:45:18+00:00   \n",
       "218    Revista COSAS       human        2018-05-08 21:41:09+00:00   \n",
       "867      Vogue Spain       human 2022-11-30 08:34:45.311000+00:00   \n",
       "420      Ocean Drive       human        2023-01-10 15:45:00+00:00   \n",
       "351          InStyle       human        2020-06-05 15:24:42+00:00   \n",
       "328          InStyle       human        2020-09-13 14:00:00+00:00   \n",
       "\n",
       "                       author  \\\n",
       "174          Arianna Gonzales   \n",
       "752              Kevin Cortés   \n",
       "467  Mary Villarroel Sneshko.   \n",
       "240            Lorenza García   \n",
       "667      Elisa Álvarez Espejo   \n",
       "218       Isabel Miró Quesada   \n",
       "867                Emily Chan   \n",
       "420  Mary Villarroel Sneshko.   \n",
       "351              María Elvira   \n",
       "328              María Elvira   \n",
       "\n",
       "                                              headline  \\\n",
       "174  El look de Sassa de Osma, perfecto para adopta...   \n",
       "752  Renace, una pasarela dedicada 100% a la moda s...   \n",
       "467  “Heart for hope”: Carolina Herrera se une con ...   \n",
       "240  5 marcas ecológicas de ropa interior que debes...   \n",
       "667  Las 5 veces que la Reina Letizia ha asaltado e...   \n",
       "218  Met Gala 2018: los mejores y los peores looks,...   \n",
       "867     ¿Cuántas prendas deberíamos tener exactamente?   \n",
       "420  ¿Quién es Amanda Dudamel? 5 datos de nuestra M...   \n",
       "351  Marcas de belleza responsables con el medio am...   \n",
       "328  Cómo cuidar tu melena con los mejores ingredie...   \n",
       "\n",
       "                                                  lead  \\\n",
       "174  Sassa de Osma vuelve a sorprender con sus esti...   \n",
       "752  Fotos: Maglio Cicardini (@ballentinno), Isidor...   \n",
       "467  La reconocida casa de moda ha buscado la maner...   \n",
       "240  Si estás haciendo todo lo posible por comprar ...   \n",
       "667  Hace 4 años que la reina Letizia hizo incursió...   \n",
       "218  Conversamos con el diseñador peruano Noe Berna...   \n",
       "867  Un informe del Instituto Hot Or Cool de Berlín...   \n",
       "420  Elocuente, extrovertida y con una soltura impr...   \n",
       "351  Por el Día de la Tierra, repasamos siete marca...   \n",
       "328  Belleza productos de belleza Si el pelo de tod...   \n",
       "\n",
       "                                                  body  \\\n",
       "174  Sassa de Osma vuelve a sorprender con sus esti...   \n",
       "752  Fotos: Maglio Cicardini (@ballentinno), Isidor...   \n",
       "467  La reconocida casa de moda ha buscado la maner...   \n",
       "240  Hay muchas marcas que ofrecen estilo, comodida...   \n",
       "667  No sabemos muy bien cómo se abrió la veda en e...   \n",
       "218  Moda y religión se fusionaron en la esperada M...   \n",
       "867  \"Comprar menos y comprar mejor\" se ha converti...   \n",
       "420  Elocuente, extrovertida y con una soltura impr...   \n",
       "351  Belleza cosmética El mundo se ha parado en los...   \n",
       "328  Porque el valor de tu melena es incalculable. ...   \n",
       "\n",
       "                                              keywords    country  \n",
       "174               looks de sassa de osma,sassa de osma       Peru  \n",
       "752                                               moda      Chile  \n",
       "467                                      covid-19,moda  Venezuela  \n",
       "240  moda sostenible,lenceria,marcas de lenceria,ma...     Mexico  \n",
       "667           reina letizia,looks,moda,moda sostenible      Spain  \n",
       "218                                           met gala       Peru  \n",
       "867                           sostenibilidad,vogue 365      Spain  \n",
       "420                                                NaN  Venezuela  \n",
       "351  cosmética,looks de moda,trucos de belleza,prod...      Spain  \n",
       "328                               productos de belleza      Spain  "
      ]
     },
     "execution_count": 3,
     "metadata": {},
     "output_type": "execute_result"
    }
   ],
   "source": [
    "# Create the dataframe structure\n",
    "df = pd.DataFrame(\n",
    "    columns=[\n",
    "        \"source\",\n",
    "        \"source_type\",\n",
    "        \"date\",\n",
    "        \"author\",\n",
    "        \"headline\",\n",
    "        \"lead\",\n",
    "        \"body\",\n",
    "        \"keywords\",\n",
    "        \"country\",\n",
    "    ]\n",
    ")\n",
    "\n",
    "# Data sources\n",
    "input_data = {\n",
    "    \"jasper.csv\": \"chatbot\",\n",
    "    \"chatgpt.csv\": \"chatbot\",\n",
    "    \"perplexity.csv\": \"chatbot\",\n",
    "    \"cosas_pe.csv\": \"human\",\n",
    "    \"harpersbazaar_mx.csv\": \"human\",\n",
    "    \"instyle_es.csv\": \"human\",\n",
    "    \"lofficiel_ar.csv\": \"human\",\n",
    "    \"oceandrive_ve.csv\": \"human\",\n",
    "    \"paula_cl.csv\": \"human\",\n",
    "    \"somosohlala_ar.csv\": \"human\",\n",
    "    \"telva_es.csv\": \"human\",\n",
    "    \"vistelacalle_cl.csv\": \"human\",\n",
    "    \"vogue_es.csv\": \"human\",\n",
    "    \"vogue_mx.csv\": \"human\",\n",
    "}\n",
    "\n",
    "# Read all the data files and set the corresponding source type, chatbot or human\n",
    "for filename, source_type in input_data.items():\n",
    "    data = pd.read_csv(\n",
    "        f\"../data/{filename}\", header=0, delimiter=\",\", encoding=\"utf-8\", dtype=str\n",
    "    )\n",
    "    data[\"source_type\"] = source_type\n",
    "    df = pd.concat([df, data], ignore_index=True)\n",
    "\n",
    "# Format the dates properly\n",
    "df[\"date\"] = pd.to_datetime(df[\"date\"], format=\"ISO8601\", utc=True)\n",
    "\n",
    "# Apply consistent casing to author names\n",
    "df[\"author\"] = df[\"author\"].str.title()\n",
    "\n",
    "# Put all keywords in lowercase\n",
    "df[\"keywords\"] = df[\"keywords\"].str.lower()\n",
    "\n",
    "# Extract a sample to verify that the data looks good\n",
    "df.sample(10, random_state=42)"
   ]
  },
  {
   "cell_type": "code",
   "execution_count": 4,
   "id": "958d9c2a-e929-4b21-93b3-5d85e7a71378",
   "metadata": {},
   "outputs": [
    {
     "data": {
      "text/html": [
       "<div>\n",
       "<style scoped>\n",
       "    .dataframe tbody tr th:only-of-type {\n",
       "        vertical-align: middle;\n",
       "    }\n",
       "\n",
       "    .dataframe tbody tr th {\n",
       "        vertical-align: top;\n",
       "    }\n",
       "\n",
       "    .dataframe thead th {\n",
       "        text-align: right;\n",
       "    }\n",
       "</style>\n",
       "<table border=\"1\" class=\"dataframe\">\n",
       "  <thead>\n",
       "    <tr style=\"text-align: right;\">\n",
       "      <th></th>\n",
       "      <th>source</th>\n",
       "      <th>source_type</th>\n",
       "      <th>date</th>\n",
       "      <th>author</th>\n",
       "      <th>headline</th>\n",
       "      <th>lead</th>\n",
       "      <th>body</th>\n",
       "      <th>keywords</th>\n",
       "      <th>country</th>\n",
       "    </tr>\n",
       "  </thead>\n",
       "  <tbody>\n",
       "    <tr>\n",
       "      <th>0</th>\n",
       "      <td>Jasper</td>\n",
       "      <td>chatbot</td>\n",
       "      <td>2023-04-05 13:34:25+00:00</td>\n",
       "      <td>Jasper</td>\n",
       "      <td>La industria de la moda es uno de los sectores...</td>\n",
       "      <td>Implica todos los aspectos relacionados con el...</td>\n",
       "      <td>La industria de la moda está experimentando un...</td>\n",
       "      <td>moda,industria de la moda</td>\n",
       "      <td>NaN</td>\n",
       "    </tr>\n",
       "    <tr>\n",
       "      <th>1</th>\n",
       "      <td>Jasper</td>\n",
       "      <td>chatbot</td>\n",
       "      <td>2023-04-05 13:34:25+00:00</td>\n",
       "      <td>Jasper</td>\n",
       "      <td>Industria de la moda y moda sostenible</td>\n",
       "      <td>La palabra moda en los últimos años ha recibid...</td>\n",
       "      <td>Estamos viendo cada vez más marcas y diseñador...</td>\n",
       "      <td>moda,industria de la moda,moda latinoamericana...</td>\n",
       "      <td>NaN</td>\n",
       "    </tr>\n",
       "    <tr>\n",
       "      <th>2</th>\n",
       "      <td>Jasper</td>\n",
       "      <td>chatbot</td>\n",
       "      <td>2023-04-05 13:34:25+00:00</td>\n",
       "      <td>Jasper</td>\n",
       "      <td>¿Cómo la industria de la moda latinoamericana ...</td>\n",
       "      <td>La industria de la moda latinoamericana está g...</td>\n",
       "      <td>La industria de la moda latinoamericana está g...</td>\n",
       "      <td>moda,industria de la moda,moda latinoamericana...</td>\n",
       "      <td>NaN</td>\n",
       "    </tr>\n",
       "    <tr>\n",
       "      <th>3</th>\n",
       "      <td>Jasper</td>\n",
       "      <td>chatbot</td>\n",
       "      <td>2023-04-05 13:34:25+00:00</td>\n",
       "      <td>Jasper</td>\n",
       "      <td>Industria de la moda, moda sostenible y moda s...</td>\n",
       "      <td>En un mundo donde la sostenibilidad ambiental ...</td>\n",
       "      <td>Desde prendas hechas con materiales reciclados...</td>\n",
       "      <td>industria de la moda,moda sostenible,moda sust...</td>\n",
       "      <td>NaN</td>\n",
       "    </tr>\n",
       "    <tr>\n",
       "      <th>4</th>\n",
       "      <td>Jasper</td>\n",
       "      <td>chatbot</td>\n",
       "      <td>2023-04-05 13:34:25+00:00</td>\n",
       "      <td>Jasper</td>\n",
       "      <td>La industria de la moda se une para el Día Mun...</td>\n",
       "      <td>Cada año, el 22 de marzo se celebra el Día Mun...</td>\n",
       "      <td>Cada año, el 22 de marzo se celebra el Día Mun...</td>\n",
       "      <td>moda,industria de la moda,día del agua,medioam...</td>\n",
       "      <td>NaN</td>\n",
       "    </tr>\n",
       "    <tr>\n",
       "      <th>...</th>\n",
       "      <td>...</td>\n",
       "      <td>...</td>\n",
       "      <td>...</td>\n",
       "      <td>...</td>\n",
       "      <td>...</td>\n",
       "      <td>...</td>\n",
       "      <td>...</td>\n",
       "      <td>...</td>\n",
       "      <td>...</td>\n",
       "    </tr>\n",
       "    <tr>\n",
       "      <th>1145</th>\n",
       "      <td>Vogue Mexico</td>\n",
       "      <td>human</td>\n",
       "      <td>2023-04-28 17:08:36+00:00</td>\n",
       "      <td>Luz García</td>\n",
       "      <td>Blake Lively confirma la tendencia de los vest...</td>\n",
       "      <td>Serena van der Woodsen estaría orgullosa de la...</td>\n",
       "      <td>A casi un año del performance que Blake Lively...</td>\n",
       "      <td>blake lively</td>\n",
       "      <td>Mexico</td>\n",
       "    </tr>\n",
       "    <tr>\n",
       "      <th>1146</th>\n",
       "      <td>Vogue Mexico</td>\n",
       "      <td>human</td>\n",
       "      <td>2023-04-28 16:59:40+00:00</td>\n",
       "      <td>Katharina Fuchs</td>\n",
       "      <td>Dakota Johnson eleva un crop top básico con pa...</td>\n",
       "      <td>Los crop tops lisos no son precisamente famoso...</td>\n",
       "      <td>Dakota Johnson lo demuestra con su look más re...</td>\n",
       "      <td>dakota johnson</td>\n",
       "      <td>Mexico</td>\n",
       "    </tr>\n",
       "    <tr>\n",
       "      <th>1147</th>\n",
       "      <td>Vogue Mexico</td>\n",
       "      <td>human</td>\n",
       "      <td>2023-04-28 17:36:44+00:00</td>\n",
       "      <td>Alice Cary</td>\n",
       "      <td>Cómo llevar vestido boho transparente y lucir ...</td>\n",
       "      <td>Los vestidos boho son versátiles e ideales par...</td>\n",
       "      <td>Los vestidos boho definieron el estilo de la a...</td>\n",
       "      <td>vestidos</td>\n",
       "      <td>Mexico</td>\n",
       "    </tr>\n",
       "    <tr>\n",
       "      <th>1148</th>\n",
       "      <td>Vogue Mexico</td>\n",
       "      <td>human</td>\n",
       "      <td>2023-04-28 18:01:10+00:00</td>\n",
       "      <td>Renata Joffre</td>\n",
       "      <td>Anitta lleva pantalones baggy y sandalias de t...</td>\n",
       "      <td>La cantante brasileña incendia las cámaras al ...</td>\n",
       "      <td>La Quinta Avenida se llenó de celebridades de ...</td>\n",
       "      <td>anitta,sandalias,pantalones</td>\n",
       "      <td>Mexico</td>\n",
       "    </tr>\n",
       "    <tr>\n",
       "      <th>1149</th>\n",
       "      <td>Vogue Mexico</td>\n",
       "      <td>human</td>\n",
       "      <td>2023-04-21 22:16:00+00:00</td>\n",
       "      <td>Emily Chan</td>\n",
       "      <td>Culpar a la sobrepoblación del cambio climátic...</td>\n",
       "      <td>El problema no es el número de habitantes del ...</td>\n",
       "      <td>Desde Sir David Attenborough hasta el príncipe...</td>\n",
       "      <td>eco &amp; green</td>\n",
       "      <td>Mexico</td>\n",
       "    </tr>\n",
       "  </tbody>\n",
       "</table>\n",
       "<p>1150 rows × 9 columns</p>\n",
       "</div>"
      ],
      "text/plain": [
       "            source source_type                      date           author  \\\n",
       "0           Jasper     chatbot 2023-04-05 13:34:25+00:00           Jasper   \n",
       "1           Jasper     chatbot 2023-04-05 13:34:25+00:00           Jasper   \n",
       "2           Jasper     chatbot 2023-04-05 13:34:25+00:00           Jasper   \n",
       "3           Jasper     chatbot 2023-04-05 13:34:25+00:00           Jasper   \n",
       "4           Jasper     chatbot 2023-04-05 13:34:25+00:00           Jasper   \n",
       "...            ...         ...                       ...              ...   \n",
       "1145  Vogue Mexico       human 2023-04-28 17:08:36+00:00       Luz García   \n",
       "1146  Vogue Mexico       human 2023-04-28 16:59:40+00:00  Katharina Fuchs   \n",
       "1147  Vogue Mexico       human 2023-04-28 17:36:44+00:00       Alice Cary   \n",
       "1148  Vogue Mexico       human 2023-04-28 18:01:10+00:00    Renata Joffre   \n",
       "1149  Vogue Mexico       human 2023-04-21 22:16:00+00:00       Emily Chan   \n",
       "\n",
       "                                               headline  \\\n",
       "0     La industria de la moda es uno de los sectores...   \n",
       "1                Industria de la moda y moda sostenible   \n",
       "2     ¿Cómo la industria de la moda latinoamericana ...   \n",
       "3     Industria de la moda, moda sostenible y moda s...   \n",
       "4     La industria de la moda se une para el Día Mun...   \n",
       "...                                                 ...   \n",
       "1145  Blake Lively confirma la tendencia de los vest...   \n",
       "1146  Dakota Johnson eleva un crop top básico con pa...   \n",
       "1147  Cómo llevar vestido boho transparente y lucir ...   \n",
       "1148  Anitta lleva pantalones baggy y sandalias de t...   \n",
       "1149  Culpar a la sobrepoblación del cambio climátic...   \n",
       "\n",
       "                                                   lead  \\\n",
       "0     Implica todos los aspectos relacionados con el...   \n",
       "1     La palabra moda en los últimos años ha recibid...   \n",
       "2     La industria de la moda latinoamericana está g...   \n",
       "3     En un mundo donde la sostenibilidad ambiental ...   \n",
       "4     Cada año, el 22 de marzo se celebra el Día Mun...   \n",
       "...                                                 ...   \n",
       "1145  Serena van der Woodsen estaría orgullosa de la...   \n",
       "1146  Los crop tops lisos no son precisamente famoso...   \n",
       "1147  Los vestidos boho son versátiles e ideales par...   \n",
       "1148  La cantante brasileña incendia las cámaras al ...   \n",
       "1149  El problema no es el número de habitantes del ...   \n",
       "\n",
       "                                                   body  \\\n",
       "0     La industria de la moda está experimentando un...   \n",
       "1     Estamos viendo cada vez más marcas y diseñador...   \n",
       "2     La industria de la moda latinoamericana está g...   \n",
       "3     Desde prendas hechas con materiales reciclados...   \n",
       "4     Cada año, el 22 de marzo se celebra el Día Mun...   \n",
       "...                                                 ...   \n",
       "1145  A casi un año del performance que Blake Lively...   \n",
       "1146  Dakota Johnson lo demuestra con su look más re...   \n",
       "1147  Los vestidos boho definieron el estilo de la a...   \n",
       "1148  La Quinta Avenida se llenó de celebridades de ...   \n",
       "1149  Desde Sir David Attenborough hasta el príncipe...   \n",
       "\n",
       "                                               keywords country  \n",
       "0                             moda,industria de la moda     NaN  \n",
       "1     moda,industria de la moda,moda latinoamericana...     NaN  \n",
       "2     moda,industria de la moda,moda latinoamericana...     NaN  \n",
       "3     industria de la moda,moda sostenible,moda sust...     NaN  \n",
       "4     moda,industria de la moda,día del agua,medioam...     NaN  \n",
       "...                                                 ...     ...  \n",
       "1145                                       blake lively  Mexico  \n",
       "1146                                     dakota johnson  Mexico  \n",
       "1147                                           vestidos  Mexico  \n",
       "1148                        anitta,sandalias,pantalones  Mexico  \n",
       "1149                                        eco & green  Mexico  \n",
       "\n",
       "[1150 rows x 9 columns]"
      ]
     },
     "execution_count": 4,
     "metadata": {},
     "output_type": "execute_result"
    }
   ],
   "source": [
    "# Replace missing headlines, leads, or article bodies with an empty string\n",
    "df[[\"headline\", \"lead\", \"body\"]] = df[[\"headline\", \"lead\", \"body\"]].fillna(\"\")\n",
    "df"
   ]
  },
  {
   "cell_type": "code",
   "execution_count": 5,
   "id": "66c5d2b2-ca49-4f1d-8f2b-cf1e959f65fa",
   "metadata": {},
   "outputs": [
    {
     "name": "stdout",
     "output_type": "stream",
     "text": [
      "<class 'pandas.core.frame.DataFrame'>\n",
      "RangeIndex: 1150 entries, 0 to 1149\n",
      "Data columns (total 9 columns):\n",
      " #   Column       Non-Null Count  Dtype              \n",
      "---  ------       --------------  -----              \n",
      " 0   source       1150 non-null   object             \n",
      " 1   source_type  1150 non-null   object             \n",
      " 2   date         1150 non-null   datetime64[ns, UTC]\n",
      " 3   author       1150 non-null   object             \n",
      " 4   headline     1150 non-null   object             \n",
      " 5   lead         1150 non-null   object             \n",
      " 6   body         1150 non-null   object             \n",
      " 7   keywords     1074 non-null   object             \n",
      " 8   country      1064 non-null   object             \n",
      "dtypes: datetime64[ns, UTC](1), object(8)\n",
      "memory usage: 81.0+ KB\n"
     ]
    }
   ],
   "source": [
    "# Review the dataset structure, non-null values and data types\n",
    "df.info()"
   ]
  },
  {
   "cell_type": "code",
   "execution_count": 6,
   "id": "88fcc6f4-9725-47b7-9b93-8bf2d9ed76d5",
   "metadata": {},
   "outputs": [
    {
     "name": "stdout",
     "output_type": "stream",
     "text": [
      "Nul values in the dataset by column:\n"
     ]
    },
    {
     "data": {
      "text/plain": [
       "source          0\n",
       "source_type     0\n",
       "date            0\n",
       "author          0\n",
       "headline        0\n",
       "lead            0\n",
       "body            0\n",
       "keywords       76\n",
       "country        86\n",
       "dtype: int64"
      ]
     },
     "execution_count": 6,
     "metadata": {},
     "output_type": "execute_result"
    }
   ],
   "source": [
    "# Count the null values by column. Some missing values are expected because not all articles/websites have tags, and chatbots have no country assigned.\n",
    "print(\"Nul values in the dataset by column:\")\n",
    "df.isna().sum()"
   ]
  },
  {
   "cell_type": "code",
   "execution_count": 7,
   "id": "5cd39fc2-d1b5-403e-a5c6-a0c1012aacb6",
   "metadata": {},
   "outputs": [
    {
     "data": {
      "text/html": [
       "<div>\n",
       "<style scoped>\n",
       "    .dataframe tbody tr th:only-of-type {\n",
       "        vertical-align: middle;\n",
       "    }\n",
       "\n",
       "    .dataframe tbody tr th {\n",
       "        vertical-align: top;\n",
       "    }\n",
       "\n",
       "    .dataframe thead th {\n",
       "        text-align: right;\n",
       "    }\n",
       "</style>\n",
       "<table border=\"1\" class=\"dataframe\">\n",
       "  <thead>\n",
       "    <tr style=\"text-align: right;\">\n",
       "      <th></th>\n",
       "      <th>source</th>\n",
       "      <th>source_type</th>\n",
       "      <th>date</th>\n",
       "      <th>author</th>\n",
       "      <th>headline</th>\n",
       "      <th>lead</th>\n",
       "      <th>body</th>\n",
       "      <th>keywords</th>\n",
       "      <th>country</th>\n",
       "    </tr>\n",
       "  </thead>\n",
       "  <tbody>\n",
       "    <tr>\n",
       "      <th>count</th>\n",
       "      <td>1150</td>\n",
       "      <td>1150</td>\n",
       "      <td>1150</td>\n",
       "      <td>1150</td>\n",
       "      <td>1150</td>\n",
       "      <td>1150</td>\n",
       "      <td>1150</td>\n",
       "      <td>1074</td>\n",
       "      <td>1064</td>\n",
       "    </tr>\n",
       "    <tr>\n",
       "      <th>unique</th>\n",
       "      <td>14</td>\n",
       "      <td>2</td>\n",
       "      <td>NaN</td>\n",
       "      <td>221</td>\n",
       "      <td>1140</td>\n",
       "      <td>1143</td>\n",
       "      <td>1149</td>\n",
       "      <td>840</td>\n",
       "      <td>6</td>\n",
       "    </tr>\n",
       "    <tr>\n",
       "      <th>top</th>\n",
       "      <td>Vogue Spain</td>\n",
       "      <td>human</td>\n",
       "      <td>NaN</td>\n",
       "      <td>Isabel Miró Quesada</td>\n",
       "      <td>Conoce las marcas de ropa sostenible en España...</td>\n",
       "      <td>La moda sostenible es una tendencia mundial qu...</td>\n",
       "      <td>Estamos aquí para examinar todo lo relacionado...</td>\n",
       "      <td>moda</td>\n",
       "      <td>Spain</td>\n",
       "    </tr>\n",
       "    <tr>\n",
       "      <th>freq</th>\n",
       "      <td>243</td>\n",
       "      <td>1064</td>\n",
       "      <td>NaN</td>\n",
       "      <td>76</td>\n",
       "      <td>3</td>\n",
       "      <td>3</td>\n",
       "      <td>2</td>\n",
       "      <td>114</td>\n",
       "      <td>415</td>\n",
       "    </tr>\n",
       "    <tr>\n",
       "      <th>mean</th>\n",
       "      <td>NaN</td>\n",
       "      <td>NaN</td>\n",
       "      <td>2020-09-08 13:11:18.960533760+00:00</td>\n",
       "      <td>NaN</td>\n",
       "      <td>NaN</td>\n",
       "      <td>NaN</td>\n",
       "      <td>NaN</td>\n",
       "      <td>NaN</td>\n",
       "      <td>NaN</td>\n",
       "    </tr>\n",
       "    <tr>\n",
       "      <th>min</th>\n",
       "      <td>NaN</td>\n",
       "      <td>NaN</td>\n",
       "      <td>2007-09-30 03:00:00+00:00</td>\n",
       "      <td>NaN</td>\n",
       "      <td>NaN</td>\n",
       "      <td>NaN</td>\n",
       "      <td>NaN</td>\n",
       "      <td>NaN</td>\n",
       "      <td>NaN</td>\n",
       "    </tr>\n",
       "    <tr>\n",
       "      <th>25%</th>\n",
       "      <td>NaN</td>\n",
       "      <td>NaN</td>\n",
       "      <td>2019-11-29 05:15:09.249999872+00:00</td>\n",
       "      <td>NaN</td>\n",
       "      <td>NaN</td>\n",
       "      <td>NaN</td>\n",
       "      <td>NaN</td>\n",
       "      <td>NaN</td>\n",
       "      <td>NaN</td>\n",
       "    </tr>\n",
       "    <tr>\n",
       "      <th>50%</th>\n",
       "      <td>NaN</td>\n",
       "      <td>NaN</td>\n",
       "      <td>2020-12-03 08:59:38+00:00</td>\n",
       "      <td>NaN</td>\n",
       "      <td>NaN</td>\n",
       "      <td>NaN</td>\n",
       "      <td>NaN</td>\n",
       "      <td>NaN</td>\n",
       "      <td>NaN</td>\n",
       "    </tr>\n",
       "    <tr>\n",
       "      <th>75%</th>\n",
       "      <td>NaN</td>\n",
       "      <td>NaN</td>\n",
       "      <td>2022-05-12 17:07:29.750000128+00:00</td>\n",
       "      <td>NaN</td>\n",
       "      <td>NaN</td>\n",
       "      <td>NaN</td>\n",
       "      <td>NaN</td>\n",
       "      <td>NaN</td>\n",
       "      <td>NaN</td>\n",
       "    </tr>\n",
       "    <tr>\n",
       "      <th>max</th>\n",
       "      <td>NaN</td>\n",
       "      <td>NaN</td>\n",
       "      <td>2023-04-28 18:01:10+00:00</td>\n",
       "      <td>NaN</td>\n",
       "      <td>NaN</td>\n",
       "      <td>NaN</td>\n",
       "      <td>NaN</td>\n",
       "      <td>NaN</td>\n",
       "      <td>NaN</td>\n",
       "    </tr>\n",
       "  </tbody>\n",
       "</table>\n",
       "</div>"
      ],
      "text/plain": [
       "             source source_type                                 date  \\\n",
       "count          1150        1150                                 1150   \n",
       "unique           14           2                                  NaN   \n",
       "top     Vogue Spain       human                                  NaN   \n",
       "freq            243        1064                                  NaN   \n",
       "mean            NaN         NaN  2020-09-08 13:11:18.960533760+00:00   \n",
       "min             NaN         NaN            2007-09-30 03:00:00+00:00   \n",
       "25%             NaN         NaN  2019-11-29 05:15:09.249999872+00:00   \n",
       "50%             NaN         NaN            2020-12-03 08:59:38+00:00   \n",
       "75%             NaN         NaN  2022-05-12 17:07:29.750000128+00:00   \n",
       "max             NaN         NaN            2023-04-28 18:01:10+00:00   \n",
       "\n",
       "                     author  \\\n",
       "count                  1150   \n",
       "unique                  221   \n",
       "top     Isabel Miró Quesada   \n",
       "freq                     76   \n",
       "mean                    NaN   \n",
       "min                     NaN   \n",
       "25%                     NaN   \n",
       "50%                     NaN   \n",
       "75%                     NaN   \n",
       "max                     NaN   \n",
       "\n",
       "                                                 headline  \\\n",
       "count                                                1150   \n",
       "unique                                               1140   \n",
       "top     Conoce las marcas de ropa sostenible en España...   \n",
       "freq                                                    3   \n",
       "mean                                                  NaN   \n",
       "min                                                   NaN   \n",
       "25%                                                   NaN   \n",
       "50%                                                   NaN   \n",
       "75%                                                   NaN   \n",
       "max                                                   NaN   \n",
       "\n",
       "                                                     lead  \\\n",
       "count                                                1150   \n",
       "unique                                               1143   \n",
       "top     La moda sostenible es una tendencia mundial qu...   \n",
       "freq                                                    3   \n",
       "mean                                                  NaN   \n",
       "min                                                   NaN   \n",
       "25%                                                   NaN   \n",
       "50%                                                   NaN   \n",
       "75%                                                   NaN   \n",
       "max                                                   NaN   \n",
       "\n",
       "                                                     body keywords country  \n",
       "count                                                1150     1074    1064  \n",
       "unique                                               1149      840       6  \n",
       "top     Estamos aquí para examinar todo lo relacionado...     moda   Spain  \n",
       "freq                                                    2      114     415  \n",
       "mean                                                  NaN      NaN     NaN  \n",
       "min                                                   NaN      NaN     NaN  \n",
       "25%                                                   NaN      NaN     NaN  \n",
       "50%                                                   NaN      NaN     NaN  \n",
       "75%                                                   NaN      NaN     NaN  \n",
       "max                                                   NaN      NaN     NaN  "
      ]
     },
     "execution_count": 7,
     "metadata": {},
     "output_type": "execute_result"
    }
   ],
   "source": [
    "# Show dataset statistics\n",
    "df.describe()"
   ]
  },
  {
   "cell_type": "markdown",
   "id": "fed2b2b7-4886-4b35-b2b7-df03cee0c044",
   "metadata": {},
   "source": [
    "### Exploring the data"
   ]
  },
  {
   "cell_type": "code",
   "execution_count": 8,
   "id": "003b1479-3556-4ff6-8e2d-a5b3aee36d8c",
   "metadata": {
    "editable": true,
    "slideshow": {
     "slide_type": ""
    },
    "tags": []
   },
   "outputs": [],
   "source": [
    "# Define some useful sub-datasets, with article breakdown by source type\n",
    "subdf_human = df[df[\"source_type\"] == \"human\"]\n",
    "subdf_chatbot = df[df[\"source_type\"] == \"chatbot\"]"
   ]
  },
  {
   "cell_type": "code",
   "execution_count": 9,
   "id": "0b688dba-0516-4e64-83ef-0e1e99a05e5b",
   "metadata": {},
   "outputs": [
    {
     "name": "stdout",
     "output_type": "stream",
     "text": [
      "Total number of articles in the dataset: 1150\n"
     ]
    }
   ],
   "source": [
    "# Count the number of articles (global and by source type)\n",
    "print(f\"Total number of articles in the dataset: {len(df)}\")"
   ]
  },
  {
   "cell_type": "code",
   "execution_count": 10,
   "id": "3fe2367c-b96d-40ed-ae90-23211d573ce9",
   "metadata": {},
   "outputs": [
    {
     "name": "stdout",
     "output_type": "stream",
     "text": [
      "Human-written articles: 1064\n",
      "Chatbot-written articles: 86\n"
     ]
    },
    {
     "data": {
      "image/png": "[encoded data removed]",
      "text/plain": [
       "<Figure size 640x480 with 1 Axes>"
      ]
     },
     "metadata": {},
     "output_type": "display_data"
    }
   ],
   "source": [
    "# Count and visualize the number of articles by source type\n",
    "print(f\"Human-written articles: {len(subdf_human)}\")\n",
    "print(f\"Chatbot-written articles: {len(subdf_chatbot)}\")\n",
    "\n",
    "source_counts = df[\"source_type\"].value_counts()\n",
    "barplot = source_counts.plot.bar(color=[\"g\", \"r\"])\n",
    "plt.title(\"Number of articles by source type\")\n",
    "plt.xlabel(\"Source\")\n",
    "plt.ylabel(\"Articles\")\n",
    "plt.show()"
   ]
  },
  {
   "cell_type": "code",
   "execution_count": 11,
   "id": "0dee484a-76b5-45bb-8ad6-5a9cfadd1b1e",
   "metadata": {},
   "outputs": [
    {
     "name": "stdout",
     "output_type": "stream",
     "text": [
      "Article breakdown by source:\n"
     ]
    },
    {
     "data": {
      "text/plain": [
       "source\n",
       "Vogue Spain        243\n",
       "Viste La Calle     167\n",
       "Revista COSAS      145\n",
       "Ocean Drive         96\n",
       "Telva               94\n",
       "InStyle             78\n",
       "Paula               70\n",
       "Harper's Bazaar     58\n",
       "Vogue Mexico        48\n",
       "L'Officiel          40\n",
       "Perplexity          36\n",
       "ChatGPT-3.5         34\n",
       "Ohlalá              25\n",
       "Jasper              16\n",
       "Name: count, dtype: int64"
      ]
     },
     "execution_count": 11,
     "metadata": {},
     "output_type": "execute_result"
    }
   ],
   "source": [
    "# Count articles by source\n",
    "print(\"Article breakdown by source:\")\n",
    "df[\"source\"].value_counts()"
   ]
  },
  {
   "cell_type": "code",
   "execution_count": 12,
   "id": "6dd545b5-180f-4142-b939-e5b0d322492f",
   "metadata": {},
   "outputs": [
    {
     "name": "stdout",
     "output_type": "stream",
     "text": [
      "Article breakdown by country:\n"
     ]
    },
    {
     "data": {
      "text/plain": [
       "country\n",
       "Spain        415\n",
       "Chile        237\n",
       "Peru         145\n",
       "Mexico       106\n",
       "Venezuela     96\n",
       "Argentina     65\n",
       "Name: count, dtype: int64"
      ]
     },
     "execution_count": 12,
     "metadata": {},
     "output_type": "execute_result"
    }
   ],
   "source": [
    "# Break down articles by country (does not show chatbots)\n",
    "print(\"Article breakdown by country:\")\n",
    "df[\"country\"].value_counts()"
   ]
  },
  {
   "cell_type": "code",
   "execution_count": 13,
   "id": "933e5808-9cb7-416b-b8a8-a421471c5faf",
   "metadata": {},
   "outputs": [],
   "source": [
    "# Define a custom color palette with enough colors to differentiate all sources\n",
    "palette = sns.color_palette(cc.glasbey, n_colors=df[\"source\"].nunique())\n",
    "sns.set_palette(palette)"
   ]
  },
  {
   "cell_type": "code",
   "execution_count": 14,
   "id": "05cfdb43-f82c-44e7-aeff-b8e4a6cdf0f2",
   "metadata": {},
   "outputs": [
    {
     "data": {
      "image/png": "[encoded data removed]",
      "text/plain": [
       "<Figure size 640x480 with 1 Axes>"
      ]
     },
     "metadata": {},
     "output_type": "display_data"
    }
   ],
   "source": [
    "# Group by country and source type and count the number of articles\n",
    "article_count = df.groupby([\"country\"]).size().reset_index(name=\"article_count\")\n",
    "\n",
    "# Create a horizontal bar plot\n",
    "sns.set_style(\"darkgrid\")\n",
    "ax = sns.barplot(x=\"article_count\", y=\"country\", data=article_count)\n",
    "\n",
    "# Add labels and title\n",
    "ax.set_xlabel(\"Articles\")\n",
    "ax.set_ylabel(\"Country\")\n",
    "ax.set_title(\"Number of human-written articles by country\")\n",
    "\n",
    "# Show the plot\n",
    "plt.show()"
   ]
  },
  {
   "cell_type": "code",
   "execution_count": 15,
   "id": "30a4f668-a3ff-4ac8-b602-bd98288b2b8d",
   "metadata": {},
   "outputs": [
    {
     "data": {
      "image/png": "[encoded data removed]",
      "text/plain": [
       "<Figure size 640x480 with 1 Axes>"
      ]
     },
     "metadata": {},
     "output_type": "display_data"
    }
   ],
   "source": [
    "# Group by Spanish magazines and count the number of articles\n",
    "spain_df = df[df[\"country\"] == \"Spain\"]\n",
    "spain_magazine_article_count = (\n",
    "    spain_df.groupby(\"source\").size().reset_index(name=\"spain_magazine_article_count\")\n",
    ")\n",
    "\n",
    "# Create a horizontal bar plot\n",
    "sns.set_style(\"darkgrid\")\n",
    "ax = sns.barplot(\n",
    "    x=\"spain_magazine_article_count\", y=\"source\", data=spain_magazine_article_count\n",
    ")\n",
    "\n",
    "# Add labels and title\n",
    "ax.set_xlabel(\"Articles\")\n",
    "ax.set_ylabel(\"Source\")\n",
    "ax.set_title(\"Number of articles by source in Spain\")\n",
    "\n",
    "# Show the plot\n",
    "plt.show()"
   ]
  },
  {
   "cell_type": "code",
   "execution_count": 16,
   "id": "52dddb71-f941-45fd-b75e-6bbc2d074523",
   "metadata": {},
   "outputs": [
    {
     "name": "stdout",
     "output_type": "stream",
     "text": [
      "Top 10 human authors:\n",
      "author\n",
      "Isabel Miró Quesada        76\n",
      "Emily Chan                 74\n",
      "Vistelacalle               68\n",
      "Luis Fernando Jimenez      47\n",
      "Harper’S Bazaar            44\n",
      "Arianna Gonzales           40\n",
      "Andrea Martínez Maugard    29\n",
      "Laura Cadenas              23\n",
      "Elisa Álvarez Espejo       22\n",
      "Lidia A. Costa             21\n",
      "Name: count, dtype: int64\n"
     ]
    }
   ],
   "source": [
    "# Break down articles by author\n",
    "author_counts = subdf_human[\"author\"].value_counts()\n",
    "print(\"Top 10 human authors:\")\n",
    "print(author_counts.head(10))"
   ]
  },
  {
   "cell_type": "code",
   "execution_count": 17,
   "id": "1d836133-910e-42c6-a7ce-5ab10d81b26e",
   "metadata": {},
   "outputs": [
    {
     "data": {
      "image/png": "[encoded data removed]",
      "text/plain": [
       "<Figure size 640x480 with 1 Axes>"
      ]
     },
     "metadata": {},
     "output_type": "display_data"
    }
   ],
   "source": [
    "# Visualize articles by author and country\n",
    "sns.set_style(\"darkgrid\")\n",
    "ax = sns.countplot(\n",
    "    y=\"author\",\n",
    "    hue=\"country\",\n",
    "    data=subdf_human,\n",
    "    order=subdf_human[\"author\"].value_counts().iloc[:10].index,\n",
    ")\n",
    "ax.set_xlabel(\"Articles\")\n",
    "ax.set_ylabel(\"Author\")\n",
    "ax.set_title(\"Top 10 human authors by number of articles and country\")\n",
    "plt.show()"
   ]
  },
  {
   "cell_type": "code",
   "execution_count": 18,
   "id": "85cbe5e1-ab07-4170-b220-0625d36e7217",
   "metadata": {},
   "outputs": [
    {
     "name": "stdout",
     "output_type": "stream",
     "text": [
      "Articles by year of publication, sorted by quantity:\n",
      "    year  count\n",
      "0   2020    289\n",
      "1   2021    202\n",
      "2   2022    191\n",
      "3   2019    100\n",
      "4   2023     85\n",
      "5   2018     72\n",
      "6   2016     40\n",
      "7   2017     35\n",
      "8   2015     25\n",
      "9   2013      7\n",
      "10  2014      7\n",
      "11  2012      6\n",
      "12  2011      4\n",
      "13  2007      1\n"
     ]
    }
   ],
   "source": [
    "# Count articles by publication year\n",
    "year_of_publication = pd.DataFrame(\n",
    "    {\"year\": subdf_human[\"date\"].dt.year, \"source\": subdf_human[\"source\"]}\n",
    ")\n",
    "article_counts = year_of_publication[\"year\"].value_counts().reset_index()\n",
    "article_counts.columns = [\"year\", \"count\"]\n",
    "sorted_article_counts = article_counts.sort_values(\"count\", ascending=False)\n",
    "print(\"Articles by year of publication, sorted by quantity:\")\n",
    "print(sorted_article_counts)"
   ]
  },
  {
   "cell_type": "code",
   "execution_count": 19,
   "id": "1f0ce044-9f11-466e-90b2-d92ee48262ee",
   "metadata": {},
   "outputs": [
    {
     "data": {
      "image/png": "[encoded data removed]",
      "text/plain": [
       "<Figure size 1100x400 with 1 Axes>"
      ]
     },
     "metadata": {},
     "output_type": "display_data"
    }
   ],
   "source": [
    "# Create a pivot table to count articles by source so that they can be plotted\n",
    "pivot_table = year_of_publication.pivot_table(index='year', columns='source', aggfunc='size')\n",
    "\n",
    "# Create the bar plot\n",
    "fig, ax = plt.subplots(figsize=(11, 4))\n",
    "pivot_table.plot(kind='bar', stacked=True, ax=ax)\n",
    "plt.xlabel('Year')\n",
    "plt.ylabel('Articles')\n",
    "plt.title('Sustainable fashion articles by year and magazine')\n",
    "\n",
    "# Show the graph\n",
    "plt.show()"
   ]
  },
  {
   "cell_type": "markdown",
   "id": "4b2d6f02-b474-496b-9d6d-aa705f875ec6",
   "metadata": {
    "tags": []
   },
   "source": [
    "## Dataset Preprocessing"
   ]
  },
  {
   "cell_type": "markdown",
   "id": "72b81948-e6f9-4a92-ab5d-64f915af3830",
   "metadata": {},
   "source": [
    "### Lexical Variety Analysis"
   ]
  },
  {
   "cell_type": "markdown",
   "id": "771d5b12-d8a1-43c5-b2e4-a02c5bc163d9",
   "metadata": {},
   "source": [
    "To determine the lexical variety of chatbot- and human-generated articles, a Count Vectorizer will be used. This Count Vectorizer has to count lemmas instead of words, so it will need to be adapted to use a custom tokenizer.\n",
    "\n",
    "Let's start by creating a Spacy NLP (Natural Language Processor) with the Spanish News Md corpus, and replace the English lemmatizer with a Spanish one to fit the language of the dataset."
   ]
  },
  {
   "cell_type": "code",
   "execution_count": 20,
   "id": "2b920e35-1d6a-42a9-a0ae-a6bb6845d965",
   "metadata": {},
   "outputs": [
    {
     "data": {
      "text/plain": [
       "<spacy_spanish_lemmatizer.main.SpacyCustomLemmatizer at 0x1edf4f3d2b0>"
      ]
     },
     "execution_count": 20,
     "metadata": {},
     "output_type": "execute_result"
    }
   ],
   "source": [
    "# Load Spacy's Spanish News corpus Md, disabling less critical features to improve processing speed\n",
    "nlp_lemmas = spacy.load(\"es_core_news_md\", disable=[\"ner\", \"parser\"])\n",
    "\n",
    "# Replace Spacy's default lemmatizer with a Spanish one to fit the corpus\n",
    "nlp_lemmas.replace_pipe(\"lemmatizer\", \"spanish_lemmatizer\")"
   ]
  },
  {
   "cell_type": "code",
   "execution_count": 21,
   "id": "fc636b34-df53-457a-a4a1-f1f04cf7e54a",
   "metadata": {},
   "outputs": [],
   "source": [
    "# Define a lemma tokenizer to evaluate lexical variety\n",
    "# Adapted from: https://scikit-learn.org/stable/modules/feature_extraction.html#customizing-the-vectorizer-classes\n",
    "class LemmaTokenizer:\n",
    "    def __call__(self, doc):\n",
    "        return [token.lemma_ for token in nlp_lemmas(doc) if not token.is_punct]\n",
    "\n",
    "\n",
    "# Create count vectorizers that use the lemma tokenizer\n",
    "lemma_cv_human = CountVectorizer(tokenizer=LemmaTokenizer())\n",
    "lemma_cv_chatbot = CountVectorizer(tokenizer=LemmaTokenizer())"
   ]
  },
  {
   "cell_type": "code",
   "execution_count": 22,
   "id": "3928970e-1569-4304-906e-b227699d32fe",
   "metadata": {},
   "outputs": [],
   "source": [
    "# Combine the headline, lead, and body of each article into a list of documents that can be processed by the Count Vectorizer\n",
    "chatbot_texts_combined = subdf_chatbot[\"headline\"] + \" \" + subdf_chatbot[\"lead\"] + \" \" + subdf_chatbot[\"body\"]\n",
    "human_texts_combined = subdf_human[\"headline\"] + \" \" + subdf_human[\"lead\"] + \" \" + subdf_human[\"body\"]\n",
    "\n",
    "# Since the human-written texts are many more than chatbot-written ones, extract a random sample of the same length\n",
    "human_texts_combined = human_texts_combined.sample(len(chatbot_texts_combined), random_state=42)\n",
    "\n",
    "# Fit the lemma-based count vectorizers to the document collections\n",
    "human_count_lemmas = lemma_cv_human.fit_transform(human_texts_combined)\n",
    "chatbot_count_lemmas = lemma_cv_chatbot.fit_transform(chatbot_texts_combined)"
   ]
  },
  {
   "cell_type": "code",
   "execution_count": 23,
   "id": "ca62bab4-ebd0-4249-9339-e445f3ac9fa1",
   "metadata": {},
   "outputs": [
    {
     "name": "stdout",
     "output_type": "stream",
     "text": [
      "Number of different lemmas employed by human authors: 6936\n",
      "Number of different lemmas employed by conversational chatbots: 2713\n"
     ]
    }
   ],
   "source": [
    "# Compare human/chatbot lexical variety\n",
    "# The get_shape() method returns a tuple containing the number of rows and columns of the count vectorizers, each column identifies a lemma\n",
    "print(f\"Number of different lemmas employed by human authors: {human_count_lemmas.get_shape()[1]}\")\n",
    "print(f\"Number of different lemmas employed by conversational chatbots: {chatbot_count_lemmas.get_shape()[1]}\")"
   ]
  },
  {
   "cell_type": "markdown",
   "id": "22764a4c-c35b-4176-8dce-c647e65f8eff",
   "metadata": {},
   "source": [
    "#### Analysis of headlines"
   ]
  },
  {
   "cell_type": "markdown",
   "id": "6f3d0616-f126-4e13-b8a3-e7fbe685147f",
   "metadata": {},
   "source": [
    "Headlines, leads, and bodies have to be lemmatized and cleaned from stop words before they can be analyzed. The following reusable functions will take care of it."
   ]
  },
  {
   "cell_type": "code",
   "execution_count": 24,
   "id": "a968c054-91b9-4c64-b929-d6f63f939ff8",
   "metadata": {},
   "outputs": [],
   "source": [
    "# Create a new Spacy NLP with the Spanish News Md corpus, again disabling less critical features for better speed\n",
    "nlp = spacy.load(\"es_core_news_md\", disable=[\"ner\", \"parser\"])\n",
    "\n",
    "# Define a function that, given a document, returns its lemmas without stopwords\n",
    "def cleaning(doc):\n",
    "    txt = [\n",
    "        token.lemma_.lower()\n",
    "        for token in doc\n",
    "        if not token.is_stop and len(token) > 1\n",
    "    ]  # Tokenize, take out stopwords, and return the lemmas\n",
    "    return \" \".join(txt)\n",
    "\n",
    "\n",
    "# Define a function that cleans a series of documents, to be used with headlines, leads and bodies\n",
    "def process(series):\n",
    "    docs = [row for row in series]\n",
    "    txts = [\n",
    "        cleaning(doc) for doc in nlp.pipe(docs, n_process=-1, batch_size=500)\n",
    "    ]  # nlp.pipe processes documents in batches\n",
    "    return txts"
   ]
  },
  {
   "cell_type": "code",
   "execution_count": 25,
   "id": "aa4e9e4e-7b4c-4983-afd4-21999cd105d5",
   "metadata": {},
   "outputs": [
    {
     "data": {
      "text/html": [
       "<div>\n",
       "<style scoped>\n",
       "    .dataframe tbody tr th:only-of-type {\n",
       "        vertical-align: middle;\n",
       "    }\n",
       "\n",
       "    .dataframe tbody tr th {\n",
       "        vertical-align: top;\n",
       "    }\n",
       "\n",
       "    .dataframe thead th {\n",
       "        text-align: right;\n",
       "    }\n",
       "</style>\n",
       "<table border=\"1\" class=\"dataframe\">\n",
       "  <thead>\n",
       "    <tr style=\"text-align: right;\">\n",
       "      <th></th>\n",
       "      <th>source</th>\n",
       "      <th>source_type</th>\n",
       "      <th>date</th>\n",
       "      <th>author</th>\n",
       "      <th>headline</th>\n",
       "      <th>lead</th>\n",
       "      <th>body</th>\n",
       "      <th>keywords</th>\n",
       "      <th>country</th>\n",
       "      <th>clean_headline</th>\n",
       "    </tr>\n",
       "  </thead>\n",
       "  <tbody>\n",
       "    <tr>\n",
       "      <th>174</th>\n",
       "      <td>Revista COSAS</td>\n",
       "      <td>human</td>\n",
       "      <td>2022-05-13 21:09:16+00:00</td>\n",
       "      <td>Arianna Gonzales</td>\n",
       "      <td>El look de Sassa de Osma, perfecto para adopta...</td>\n",
       "      <td>Sassa de Osma vuelve a sorprender con sus esti...</td>\n",
       "      <td>Sassa de Osma vuelve a sorprender con sus esti...</td>\n",
       "      <td>looks de sassa de osma,sassa de osma</td>\n",
       "      <td>Peru</td>\n",
       "      <td>look sassa osma perfecto adoptar cambio estación</td>\n",
       "    </tr>\n",
       "    <tr>\n",
       "      <th>752</th>\n",
       "      <td>Viste La Calle</td>\n",
       "      <td>human</td>\n",
       "      <td>2018-10-09 13:00:59+00:00</td>\n",
       "      <td>Kevin Cortés</td>\n",
       "      <td>Renace, una pasarela dedicada 100% a la moda s...</td>\n",
       "      <td>Fotos: Maglio Cicardini (@ballentinno), Isidor...</td>\n",
       "      <td>Fotos: Maglio Cicardini (@ballentinno), Isidor...</td>\n",
       "      <td>moda</td>\n",
       "      <td>Chile</td>\n",
       "      <td>renace pasarela dedicado 100% moda sustentable</td>\n",
       "    </tr>\n",
       "    <tr>\n",
       "      <th>467</th>\n",
       "      <td>Ocean Drive</td>\n",
       "      <td>human</td>\n",
       "      <td>2020-07-17 01:27:59+00:00</td>\n",
       "      <td>Mary Villarroel Sneshko.</td>\n",
       "      <td>“Heart for hope”: Carolina Herrera se une con ...</td>\n",
       "      <td>La reconocida casa de moda ha buscado la maner...</td>\n",
       "      <td>La reconocida casa de moda ha buscado la maner...</td>\n",
       "      <td>covid-19,moda</td>\n",
       "      <td>Venezuela</td>\n",
       "      <td>heart for hope carolina herrera unir cruz roja...</td>\n",
       "    </tr>\n",
       "    <tr>\n",
       "      <th>240</th>\n",
       "      <td>Harper's Bazaar</td>\n",
       "      <td>human</td>\n",
       "      <td>2022-05-13 00:00:00+00:00</td>\n",
       "      <td>Lorenza García</td>\n",
       "      <td>5 marcas ecológicas de ropa interior que debes...</td>\n",
       "      <td>Si estás haciendo todo lo posible por comprar ...</td>\n",
       "      <td>Hay muchas marcas que ofrecen estilo, comodida...</td>\n",
       "      <td>moda sostenible,lenceria,marcas de lenceria,ma...</td>\n",
       "      <td>Mexico</td>\n",
       "      <td>marca ecológico ropa interior deber radar</td>\n",
       "    </tr>\n",
       "    <tr>\n",
       "      <th>667</th>\n",
       "      <td>Telva</td>\n",
       "      <td>human</td>\n",
       "      <td>2022-01-18 10:45:18+00:00</td>\n",
       "      <td>Elisa Álvarez Espejo</td>\n",
       "      <td>Las 5 veces que la Reina Letizia ha asaltado e...</td>\n",
       "      <td>Hace 4 años que la reina Letizia hizo incursió...</td>\n",
       "      <td>No sabemos muy bien cómo se abrió la veda en e...</td>\n",
       "      <td>reina letizia,looks,moda,moda sostenible</td>\n",
       "      <td>Spain</td>\n",
       "      <td>reina letizia asaltar armario doña sofía</td>\n",
       "    </tr>\n",
       "    <tr>\n",
       "      <th>218</th>\n",
       "      <td>Revista COSAS</td>\n",
       "      <td>human</td>\n",
       "      <td>2018-05-08 21:41:09+00:00</td>\n",
       "      <td>Isabel Miró Quesada</td>\n",
       "      <td>Met Gala 2018: los mejores y los peores looks,...</td>\n",
       "      <td>Conversamos con el diseñador peruano Noe Berna...</td>\n",
       "      <td>Moda y religión se fusionaron en la esperada M...</td>\n",
       "      <td>met gala</td>\n",
       "      <td>Peru</td>\n",
       "      <td>met gala 2018 mejor peor look noe bernacelli</td>\n",
       "    </tr>\n",
       "    <tr>\n",
       "      <th>867</th>\n",
       "      <td>Vogue Spain</td>\n",
       "      <td>human</td>\n",
       "      <td>2022-11-30 08:34:45.311000+00:00</td>\n",
       "      <td>Emily Chan</td>\n",
       "      <td>¿Cuántas prendas deberíamos tener exactamente?</td>\n",
       "      <td>Un informe del Instituto Hot Or Cool de Berlín...</td>\n",
       "      <td>\"Comprar menos y comprar mejor\" se ha converti...</td>\n",
       "      <td>sostenibilidad,vogue 365</td>\n",
       "      <td>Spain</td>\n",
       "      <td>prenda debeer exactamente</td>\n",
       "    </tr>\n",
       "    <tr>\n",
       "      <th>420</th>\n",
       "      <td>Ocean Drive</td>\n",
       "      <td>human</td>\n",
       "      <td>2023-01-10 15:45:00+00:00</td>\n",
       "      <td>Mary Villarroel Sneshko.</td>\n",
       "      <td>¿Quién es Amanda Dudamel? 5 datos de nuestra M...</td>\n",
       "      <td>Elocuente, extrovertida y con una soltura impr...</td>\n",
       "      <td>Elocuente, extrovertida y con una soltura impr...</td>\n",
       "      <td>NaN</td>\n",
       "      <td>Venezuela</td>\n",
       "      <td>amanda dudamel dato miss venezuela 2021</td>\n",
       "    </tr>\n",
       "    <tr>\n",
       "      <th>351</th>\n",
       "      <td>InStyle</td>\n",
       "      <td>human</td>\n",
       "      <td>2020-06-05 15:24:42+00:00</td>\n",
       "      <td>María Elvira</td>\n",
       "      <td>Marcas de belleza responsables con el medio am...</td>\n",
       "      <td>Por el Día de la Tierra, repasamos siete marca...</td>\n",
       "      <td>Belleza cosmética El mundo se ha parado en los...</td>\n",
       "      <td>cosmética,looks de moda,trucos de belleza,prod...</td>\n",
       "      <td>Spain</td>\n",
       "      <td>marca belleza responsable ambiente deber</td>\n",
       "    </tr>\n",
       "    <tr>\n",
       "      <th>328</th>\n",
       "      <td>InStyle</td>\n",
       "      <td>human</td>\n",
       "      <td>2020-09-13 14:00:00+00:00</td>\n",
       "      <td>María Elvira</td>\n",
       "      <td>Cómo cuidar tu melena con los mejores ingredie...</td>\n",
       "      <td>Belleza productos de belleza Si el pelo de tod...</td>\n",
       "      <td>Porque el valor de tu melena es incalculable. ...</td>\n",
       "      <td>productos de belleza</td>\n",
       "      <td>Spain</td>\n",
       "      <td>cuidar melena mejor ingrediente pasar pelo pelazo</td>\n",
       "    </tr>\n",
       "  </tbody>\n",
       "</table>\n",
       "</div>"
      ],
      "text/plain": [
       "              source source_type                             date  \\\n",
       "174    Revista COSAS       human        2022-05-13 21:09:16+00:00   \n",
       "752   Viste La Calle       human        2018-10-09 13:00:59+00:00   \n",
       "467      Ocean Drive       human        2020-07-17 01:27:59+00:00   \n",
       "240  Harper's Bazaar       human        2022-05-13 00:00:00+00:00   \n",
       "667            Telva       human        2022-01-18 10:45:18+00:00   \n",
       "218    Revista COSAS       human        2018-05-08 21:41:09+00:00   \n",
       "867      Vogue Spain       human 2022-11-30 08:34:45.311000+00:00   \n",
       "420      Ocean Drive       human        2023-01-10 15:45:00+00:00   \n",
       "351          InStyle       human        2020-06-05 15:24:42+00:00   \n",
       "328          InStyle       human        2020-09-13 14:00:00+00:00   \n",
       "\n",
       "                       author  \\\n",
       "174          Arianna Gonzales   \n",
       "752              Kevin Cortés   \n",
       "467  Mary Villarroel Sneshko.   \n",
       "240            Lorenza García   \n",
       "667      Elisa Álvarez Espejo   \n",
       "218       Isabel Miró Quesada   \n",
       "867                Emily Chan   \n",
       "420  Mary Villarroel Sneshko.   \n",
       "351              María Elvira   \n",
       "328              María Elvira   \n",
       "\n",
       "                                              headline  \\\n",
       "174  El look de Sassa de Osma, perfecto para adopta...   \n",
       "752  Renace, una pasarela dedicada 100% a la moda s...   \n",
       "467  “Heart for hope”: Carolina Herrera se une con ...   \n",
       "240  5 marcas ecológicas de ropa interior que debes...   \n",
       "667  Las 5 veces que la Reina Letizia ha asaltado e...   \n",
       "218  Met Gala 2018: los mejores y los peores looks,...   \n",
       "867     ¿Cuántas prendas deberíamos tener exactamente?   \n",
       "420  ¿Quién es Amanda Dudamel? 5 datos de nuestra M...   \n",
       "351  Marcas de belleza responsables con el medio am...   \n",
       "328  Cómo cuidar tu melena con los mejores ingredie...   \n",
       "\n",
       "                                                  lead  \\\n",
       "174  Sassa de Osma vuelve a sorprender con sus esti...   \n",
       "752  Fotos: Maglio Cicardini (@ballentinno), Isidor...   \n",
       "467  La reconocida casa de moda ha buscado la maner...   \n",
       "240  Si estás haciendo todo lo posible por comprar ...   \n",
       "667  Hace 4 años que la reina Letizia hizo incursió...   \n",
       "218  Conversamos con el diseñador peruano Noe Berna...   \n",
       "867  Un informe del Instituto Hot Or Cool de Berlín...   \n",
       "420  Elocuente, extrovertida y con una soltura impr...   \n",
       "351  Por el Día de la Tierra, repasamos siete marca...   \n",
       "328  Belleza productos de belleza Si el pelo de tod...   \n",
       "\n",
       "                                                  body  \\\n",
       "174  Sassa de Osma vuelve a sorprender con sus esti...   \n",
       "752  Fotos: Maglio Cicardini (@ballentinno), Isidor...   \n",
       "467  La reconocida casa de moda ha buscado la maner...   \n",
       "240  Hay muchas marcas que ofrecen estilo, comodida...   \n",
       "667  No sabemos muy bien cómo se abrió la veda en e...   \n",
       "218  Moda y religión se fusionaron en la esperada M...   \n",
       "867  \"Comprar menos y comprar mejor\" se ha converti...   \n",
       "420  Elocuente, extrovertida y con una soltura impr...   \n",
       "351  Belleza cosmética El mundo se ha parado en los...   \n",
       "328  Porque el valor de tu melena es incalculable. ...   \n",
       "\n",
       "                                              keywords    country  \\\n",
       "174               looks de sassa de osma,sassa de osma       Peru   \n",
       "752                                               moda      Chile   \n",
       "467                                      covid-19,moda  Venezuela   \n",
       "240  moda sostenible,lenceria,marcas de lenceria,ma...     Mexico   \n",
       "667           reina letizia,looks,moda,moda sostenible      Spain   \n",
       "218                                           met gala       Peru   \n",
       "867                           sostenibilidad,vogue 365      Spain   \n",
       "420                                                NaN  Venezuela   \n",
       "351  cosmética,looks de moda,trucos de belleza,prod...      Spain   \n",
       "328                               productos de belleza      Spain   \n",
       "\n",
       "                                        clean_headline  \n",
       "174   look sassa osma perfecto adoptar cambio estación  \n",
       "752     renace pasarela dedicado 100% moda sustentable  \n",
       "467  heart for hope carolina herrera unir cruz roja...  \n",
       "240          marca ecológico ropa interior deber radar  \n",
       "667           reina letizia asaltar armario doña sofía  \n",
       "218       met gala 2018 mejor peor look noe bernacelli  \n",
       "867                          prenda debeer exactamente  \n",
       "420            amanda dudamel dato miss venezuela 2021  \n",
       "351           marca belleza responsable ambiente deber  \n",
       "328  cuidar melena mejor ingrediente pasar pelo pelazo  "
      ]
     },
     "execution_count": 25,
     "metadata": {},
     "output_type": "execute_result"
    }
   ],
   "source": [
    "# Clean all the headlines\n",
    "df[\"clean_headline\"] = process(df[\"headline\"])\n",
    "df.sample(10, random_state=42)"
   ]
  },
  {
   "cell_type": "markdown",
   "id": "cb40c851-c5d0-42a6-ae13-3161d0de3098",
   "metadata": {},
   "source": [
    "##### The 20 most common terms in the headlines"
   ]
  },
  {
   "cell_type": "code",
   "execution_count": 26,
   "id": "d8234a99-c068-493d-9072-004b43162c60",
   "metadata": {},
   "outputs": [
    {
     "name": "stdout",
     "output_type": "stream",
     "text": [
      "moda              344\n",
      "sostenible        187\n",
      "marca              97\n",
      "ropa               62\n",
      "sustentable        61\n",
      "colección          59\n",
      "industria          55\n",
      "fashion            46\n",
      "firma              42\n",
      "sostenibilidad     37\n",
      "vestido            33\n",
      "comprar            33\n",
      "prenda             33\n",
      "tendencia          31\n",
      "consciente         30\n",
      "armario            30\n",
      "año                29\n",
      "él                 28\n",
      "mundo              25\n",
      "semana             25\n",
      "Name: count, dtype: int64\n"
     ]
    }
   ],
   "source": [
    "# Extract the 20 most frequent terms in all headlines\n",
    "all_lemmas = [\n",
    "    lemma\n",
    "    for headline in df[\"clean_headline\"].astype(str).str.split()\n",
    "    for lemma in headline\n",
    "]\n",
    "lemma_freq = pd.Series(all_lemmas).value_counts()  # Frequency distribution of the words\n",
    "print(lemma_freq.head(20))"
   ]
  },
  {
   "cell_type": "markdown",
   "id": "c57da117-92de-4c77-9935-52633eb30437",
   "metadata": {},
   "source": [
    "##### Extracting keywords using TF-IDF"
   ]
  },
  {
   "cell_type": "code",
   "execution_count": 27,
   "id": "ace69582-d817-4473-be0e-146f7b660b47",
   "metadata": {},
   "outputs": [],
   "source": [
    "# Unify all the headlines in a single document for each source type to be able to compare human- and chatbot-written headlines\n",
    "unified_human_headline_tokens = df[df[\"source_type\"] == \"human\"][\"clean_headline\"].str.cat(sep=\" \")\n",
    "unified_chatbot_headline_tokens = df[df[\"source_type\"] == \"chatbot\"][\"clean_headline\"].str.cat(sep=\" \")\n",
    "headline_docs = [\n",
    "    unified_human_headline_tokens,\n",
    "    unified_chatbot_headline_tokens,\n",
    "]"
   ]
  },
  {
   "cell_type": "markdown",
   "id": "d317685a-d1af-4895-81ea-1ce61e859fd1",
   "metadata": {},
   "source": [
    "As we convert the headline corpus into just one document we obtain a series of tuples associated with numbers. The first element of the tuple (0) corresponds to the document number analyzed, the second element corresponds to the number assigned to each word. The second column is the frequency of occurrence of that word in the text of the first element of the tuple."
   ]
  },
  {
   "cell_type": "code",
   "execution_count": 28,
   "id": "9f73be67-335c-48cf-838a-78e06d9e8bbf",
   "metadata": {},
   "outputs": [
    {
     "name": "stdout",
     "output_type": "stream",
     "text": [
      "Most frequent word in human-written headlines: 'moda'\n",
      "Most frequent word in chatbot-written headlines: 'moda'\n"
     ]
    }
   ],
   "source": [
    "# Use a CountVectorizer to extract the most frequent word among all headlines\n",
    "headline_cv = CountVectorizer(stop_words=stopwords)\n",
    "headline_count_tokens = headline_cv.fit_transform(headline_docs)\n",
    "headline_matrix = pd.DataFrame(headline_count_tokens.toarray(), columns=headline_cv.get_feature_names_out())\n",
    "headline_most_frequent_words = headline_matrix.idxmax(axis=1)\n",
    "\n",
    "print(f\"Most frequent word in human-written headlines: '{headline_most_frequent_words[0]}'\")\n",
    "print(f\"Most frequent word in chatbot-written headlines: '{headline_most_frequent_words[1]}'\")"
   ]
  },
  {
   "cell_type": "code",
   "execution_count": 29,
   "id": "6897b656-04c8-4ddf-9e8e-ddb121dd27d3",
   "metadata": {},
   "outputs": [
    {
     "name": "stdout",
     "output_type": "stream",
     "text": [
      "Top 10 most frequent words in the TF-IDF analysis of human-generated headlines:\n",
      "- moda (TF-IDF frequency: 0.6128659330194068, occurrences: 259)\n",
      "- sostenible (TF-IDF frequency: 0.33837771591418986, occurrences: 143)\n",
      "- colección (TF-IDF frequency: 0.1962175266548609, occurrences: 59)\n",
      "- marca (TF-IDF frequency: 0.1940347741605844, occurrences: 82)\n",
      "- firma (TF-IDF frequency: 0.13968027321193485, occurrences: 42)\n",
      "- ropa (TF-IDF frequency: 0.13961038628627412, occurrences: 59)\n",
      "- sustentable (TF-IDF frequency: 0.13251155308527715, occurrences: 56)\n",
      "- comprar (TF-IDF frequency: 0.10974878609509167, occurrences: 33)\n",
      "- vestido (TF-IDF frequency: 0.10974878609509167, occurrences: 33)\n",
      "- fashion (TF-IDF frequency: 0.10411622028128918, occurrences: 44)\n",
      "\n",
      "Top 10 most frequent words in  the TF-IDF analysis of chatbot-generated headlines:\n",
      "- moda (TF-IDF frequency: 0.803141168017841, occurrences: 85)\n",
      "- sostenible (TF-IDF frequency: 0.41574366344452945, occurrences: 44)\n",
      "- industria (TF-IDF frequency: 0.2645641494647006, occurrences: 28)\n",
      "- marca (TF-IDF frequency: 0.1417307943560896, occurrences: 15)\n",
      "- españa (TF-IDF frequency: 0.07558975698991445, occurrences: 8)\n",
      "- tendencia (TF-IDF frequency: 0.06614103736617515, occurrences: 7)\n",
      "- chile (TF-IDF frequency: 0.056692317742435834, occurrences: 6)\n",
      "- sostenibilidad (TF-IDF frequency: 0.056692317742435834, occurrences: 6)\n",
      "- sustentable (TF-IDF frequency: 0.056692317742435834, occurrences: 6)\n",
      "- aja (TF-IDF frequency: 0.05311938298984999, occurrences: 4)\n"
     ]
    }
   ],
   "source": [
    "# How many words to extract from each source type\n",
    "top_headline_results = 10\n",
    "\n",
    "# Create a TF-IDF vectorizer and train it on the headlines\n",
    "tfidf_vectorizer = TfidfVectorizer(stop_words=\"english\")\n",
    "headline_tfidf = tfidf_vectorizer.fit_transform(headline_docs)\n",
    "\n",
    "# Convert the vectorized headlines into a concatenated dataframe, then into a dictionary\n",
    "headline_tfidf_matrix = pd.DataFrame(\n",
    "    headline_tfidf.toarray(), columns=tfidf_vectorizer.get_feature_names_out()\n",
    ")\n",
    "target_dict_tf_idf = headline_tfidf_matrix.to_dict(\"index\")\n",
    "\n",
    "# Extract the most frequent words for each source type from the headlines\n",
    "data_repr_tf_idf = {}\n",
    "for source_type_id, target_words in target_dict_tf_idf.items():\n",
    "    list_targets = [(k, v) for k, v in target_words.items()]\n",
    "    list_targets_sorted = sorted(list_targets, key=lambda x: x[1], reverse=True)\n",
    "    data_repr_tf_idf[source_type_id] = list_targets_sorted[0:top_headline_results]\n",
    "\n",
    "print(f\"Top {top_headline_results} most frequent words in the TF-IDF analysis of human-generated headlines:\")\n",
    "for word, frequency in data_repr_tf_idf[0]:\n",
    "    print(f\"- {word} (TF-IDF frequency: {frequency}, occurrences: {headline_count_tokens.toarray()[0][headline_cv.vocabulary_.get(word)]})\")\n",
    "\n",
    "print(f\"\\nTop {top_headline_results} most frequent words in  the TF-IDF analysis of chatbot-generated headlines:\")\n",
    "for word, frequency in data_repr_tf_idf[1]:\n",
    "    print(f\"- {word} (TF-IDF frequency: {frequency}, occurrences: {headline_count_tokens.toarray()[1][headline_cv.vocabulary_.get(word)]})\")"
   ]
  },
  {
   "cell_type": "markdown",
   "id": "cc022a83-9146-4901-9780-2831e79a9b34",
   "metadata": {},
   "source": [
    "#### CORPUS WEB/DIALECTS\n",
    "The frequency in the WEB/DIALECTS corpus of the top 10 words of the corpus under analysis."
   ]
  },
  {
   "cell_type": "markdown",
   "id": "06d4312e-bff0-4ae6-8208-a0d5ef36a28d",
   "metadata": {},
   "source": [
    "Top 10 most frequent words in human-generated headlines:\n",
    "- moda 111.297\n",
    "- sostenible 44.845\n",
    "- colección 60.164\n",
    "- marca 231.560\n",
    "- firma 96.638\n",
    "- ropa 122.425\n",
    "- sustentable 18.197\n",
    "- comprar 246.641\n",
    "- vestido 57.761\n",
    "- fashion 7.982\n",
    "\n",
    "Top 10 most frequent words in chatbot-generated headlines:\n",
    "- moda 111.297\n",
    "- sostenible 44.845\n",
    "- industria 178.067\n",
    "- marca 231.560\n",
    "- españa 467.257\n",
    "- tendencia 108.399\n",
    "- chile 233.742\n",
    "- sostenibilidad 21.574\n",
    "- sustentable 18.197\n",
    "- aja N/A"
   ]
  },
  {
   "cell_type": "markdown",
   "id": "2c92d067-19b6-4de5-8b6e-5243bbc96f06",
   "metadata": {},
   "source": [
    "These results allow us to observe that headlines written by the chatbot use more frequent or common words compared to headlines written by journalists, who tend to use less common or less frequent words in their headlines."
   ]
  },
  {
   "cell_type": "markdown",
   "id": "024fa115-5977-4b9c-a52e-11a88a036bfa",
   "metadata": {},
   "source": [
    "### Analysis of leads"
   ]
  },
  {
   "cell_type": "code",
   "execution_count": 30,
   "id": "67107965-6161-4055-b776-c7e54fc06966",
   "metadata": {},
   "outputs": [
    {
     "data": {
      "text/html": [
       "<div>\n",
       "<style scoped>\n",
       "    .dataframe tbody tr th:only-of-type {\n",
       "        vertical-align: middle;\n",
       "    }\n",
       "\n",
       "    .dataframe tbody tr th {\n",
       "        vertical-align: top;\n",
       "    }\n",
       "\n",
       "    .dataframe thead th {\n",
       "        text-align: right;\n",
       "    }\n",
       "</style>\n",
       "<table border=\"1\" class=\"dataframe\">\n",
       "  <thead>\n",
       "    <tr style=\"text-align: right;\">\n",
       "      <th></th>\n",
       "      <th>source</th>\n",
       "      <th>source_type</th>\n",
       "      <th>date</th>\n",
       "      <th>author</th>\n",
       "      <th>headline</th>\n",
       "      <th>lead</th>\n",
       "      <th>body</th>\n",
       "      <th>keywords</th>\n",
       "      <th>country</th>\n",
       "      <th>clean_headline</th>\n",
       "      <th>clean_lead</th>\n",
       "    </tr>\n",
       "  </thead>\n",
       "  <tbody>\n",
       "    <tr>\n",
       "      <th>174</th>\n",
       "      <td>Revista COSAS</td>\n",
       "      <td>human</td>\n",
       "      <td>2022-05-13 21:09:16+00:00</td>\n",
       "      <td>Arianna Gonzales</td>\n",
       "      <td>El look de Sassa de Osma, perfecto para adopta...</td>\n",
       "      <td>Sassa de Osma vuelve a sorprender con sus esti...</td>\n",
       "      <td>Sassa de Osma vuelve a sorprender con sus esti...</td>\n",
       "      <td>looks de sassa de osma,sassa de osma</td>\n",
       "      <td>Peru</td>\n",
       "      <td>look sassa osma perfecto adoptar cambio estación</td>\n",
       "      <td>sassa osma volver sorprender estilismo royal p...</td>\n",
       "    </tr>\n",
       "    <tr>\n",
       "      <th>752</th>\n",
       "      <td>Viste La Calle</td>\n",
       "      <td>human</td>\n",
       "      <td>2018-10-09 13:00:59+00:00</td>\n",
       "      <td>Kevin Cortés</td>\n",
       "      <td>Renace, una pasarela dedicada 100% a la moda s...</td>\n",
       "      <td>Fotos: Maglio Cicardini (@ballentinno), Isidor...</td>\n",
       "      <td>Fotos: Maglio Cicardini (@ballentinno), Isidor...</td>\n",
       "      <td>moda</td>\n",
       "      <td>Chile</td>\n",
       "      <td>renace pasarela dedicado 100% moda sustentable</td>\n",
       "      <td>fotos maglio cicardini @ballentinno isidora pa...</td>\n",
       "    </tr>\n",
       "    <tr>\n",
       "      <th>467</th>\n",
       "      <td>Ocean Drive</td>\n",
       "      <td>human</td>\n",
       "      <td>2020-07-17 01:27:59+00:00</td>\n",
       "      <td>Mary Villarroel Sneshko.</td>\n",
       "      <td>“Heart for hope”: Carolina Herrera se une con ...</td>\n",
       "      <td>La reconocida casa de moda ha buscado la maner...</td>\n",
       "      <td>La reconocida casa de moda ha buscado la maner...</td>\n",
       "      <td>covid-19,moda</td>\n",
       "      <td>Venezuela</td>\n",
       "      <td>heart for hope carolina herrera unir cruz roja...</td>\n",
       "      <td>reconocido casa moda buscar ayudar sobrellevar...</td>\n",
       "    </tr>\n",
       "    <tr>\n",
       "      <th>240</th>\n",
       "      <td>Harper's Bazaar</td>\n",
       "      <td>human</td>\n",
       "      <td>2022-05-13 00:00:00+00:00</td>\n",
       "      <td>Lorenza García</td>\n",
       "      <td>5 marcas ecológicas de ropa interior que debes...</td>\n",
       "      <td>Si estás haciendo todo lo posible por comprar ...</td>\n",
       "      <td>Hay muchas marcas que ofrecen estilo, comodida...</td>\n",
       "      <td>moda sostenible,lenceria,marcas de lenceria,ma...</td>\n",
       "      <td>Mexico</td>\n",
       "      <td>marca ecológico ropa interior deber radar</td>\n",
       "      <td>estar comprar sostenible checo marca ecológico...</td>\n",
       "    </tr>\n",
       "    <tr>\n",
       "      <th>667</th>\n",
       "      <td>Telva</td>\n",
       "      <td>human</td>\n",
       "      <td>2022-01-18 10:45:18+00:00</td>\n",
       "      <td>Elisa Álvarez Espejo</td>\n",
       "      <td>Las 5 veces que la Reina Letizia ha asaltado e...</td>\n",
       "      <td>Hace 4 años que la reina Letizia hizo incursió...</td>\n",
       "      <td>No sabemos muy bien cómo se abrió la veda en e...</td>\n",
       "      <td>reina letizia,looks,moda,moda sostenible</td>\n",
       "      <td>Spain</td>\n",
       "      <td>reina letizia asaltar armario doña sofía</td>\n",
       "      <td>año reina letizia incursión guardarropa suegra...</td>\n",
       "    </tr>\n",
       "    <tr>\n",
       "      <th>218</th>\n",
       "      <td>Revista COSAS</td>\n",
       "      <td>human</td>\n",
       "      <td>2018-05-08 21:41:09+00:00</td>\n",
       "      <td>Isabel Miró Quesada</td>\n",
       "      <td>Met Gala 2018: los mejores y los peores looks,...</td>\n",
       "      <td>Conversamos con el diseñador peruano Noe Berna...</td>\n",
       "      <td>Moda y religión se fusionaron en la esperada M...</td>\n",
       "      <td>met gala</td>\n",
       "      <td>Peru</td>\n",
       "      <td>met gala 2018 mejor peor look noe bernacelli</td>\n",
       "      <td>conversar diseñador peruano noe bernacelli pun...</td>\n",
       "    </tr>\n",
       "    <tr>\n",
       "      <th>867</th>\n",
       "      <td>Vogue Spain</td>\n",
       "      <td>human</td>\n",
       "      <td>2022-11-30 08:34:45.311000+00:00</td>\n",
       "      <td>Emily Chan</td>\n",
       "      <td>¿Cuántas prendas deberíamos tener exactamente?</td>\n",
       "      <td>Un informe del Instituto Hot Or Cool de Berlín...</td>\n",
       "      <td>\"Comprar menos y comprar mejor\" se ha converti...</td>\n",
       "      <td>sostenibilidad,vogue 365</td>\n",
       "      <td>Spain</td>\n",
       "      <td>prenda debeer exactamente</td>\n",
       "      <td>informe instituto hot or cool berlín estimar d...</td>\n",
       "    </tr>\n",
       "    <tr>\n",
       "      <th>420</th>\n",
       "      <td>Ocean Drive</td>\n",
       "      <td>human</td>\n",
       "      <td>2023-01-10 15:45:00+00:00</td>\n",
       "      <td>Mary Villarroel Sneshko.</td>\n",
       "      <td>¿Quién es Amanda Dudamel? 5 datos de nuestra M...</td>\n",
       "      <td>Elocuente, extrovertida y con una soltura impr...</td>\n",
       "      <td>Elocuente, extrovertida y con una soltura impr...</td>\n",
       "      <td>NaN</td>\n",
       "      <td>Venezuela</td>\n",
       "      <td>amanda dudamel dato miss venezuela 2021</td>\n",
       "      <td>elocuente extrovertido soltura impresionante c...</td>\n",
       "    </tr>\n",
       "    <tr>\n",
       "      <th>351</th>\n",
       "      <td>InStyle</td>\n",
       "      <td>human</td>\n",
       "      <td>2020-06-05 15:24:42+00:00</td>\n",
       "      <td>María Elvira</td>\n",
       "      <td>Marcas de belleza responsables con el medio am...</td>\n",
       "      <td>Por el Día de la Tierra, repasamos siete marca...</td>\n",
       "      <td>Belleza cosmética El mundo se ha parado en los...</td>\n",
       "      <td>cosmética,looks de moda,trucos de belleza,prod...</td>\n",
       "      <td>Spain</td>\n",
       "      <td>marca belleza responsable ambiente deber</td>\n",
       "      <td>tierra repasar marca belleza deber respeto pla...</td>\n",
       "    </tr>\n",
       "    <tr>\n",
       "      <th>328</th>\n",
       "      <td>InStyle</td>\n",
       "      <td>human</td>\n",
       "      <td>2020-09-13 14:00:00+00:00</td>\n",
       "      <td>María Elvira</td>\n",
       "      <td>Cómo cuidar tu melena con los mejores ingredie...</td>\n",
       "      <td>Belleza productos de belleza Si el pelo de tod...</td>\n",
       "      <td>Porque el valor de tu melena es incalculable. ...</td>\n",
       "      <td>productos de belleza</td>\n",
       "      <td>Spain</td>\n",
       "      <td>cuidar melena mejor ingrediente pasar pelo pelazo</td>\n",
       "      <td>belleza producto belleza pelo cotizar bolsa se...</td>\n",
       "    </tr>\n",
       "  </tbody>\n",
       "</table>\n",
       "</div>"
      ],
      "text/plain": [
       "              source source_type                             date  \\\n",
       "174    Revista COSAS       human        2022-05-13 21:09:16+00:00   \n",
       "752   Viste La Calle       human        2018-10-09 13:00:59+00:00   \n",
       "467      Ocean Drive       human        2020-07-17 01:27:59+00:00   \n",
       "240  Harper's Bazaar       human        2022-05-13 00:00:00+00:00   \n",
       "667            Telva       human        2022-01-18 10:45:18+00:00   \n",
       "218    Revista COSAS       human        2018-05-08 21:41:09+00:00   \n",
       "867      Vogue Spain       human 2022-11-30 08:34:45.311000+00:00   \n",
       "420      Ocean Drive       human        2023-01-10 15:45:00+00:00   \n",
       "351          InStyle       human        2020-06-05 15:24:42+00:00   \n",
       "328          InStyle       human        2020-09-13 14:00:00+00:00   \n",
       "\n",
       "                       author  \\\n",
       "174          Arianna Gonzales   \n",
       "752              Kevin Cortés   \n",
       "467  Mary Villarroel Sneshko.   \n",
       "240            Lorenza García   \n",
       "667      Elisa Álvarez Espejo   \n",
       "218       Isabel Miró Quesada   \n",
       "867                Emily Chan   \n",
       "420  Mary Villarroel Sneshko.   \n",
       "351              María Elvira   \n",
       "328              María Elvira   \n",
       "\n",
       "                                              headline  \\\n",
       "174  El look de Sassa de Osma, perfecto para adopta...   \n",
       "752  Renace, una pasarela dedicada 100% a la moda s...   \n",
       "467  “Heart for hope”: Carolina Herrera se une con ...   \n",
       "240  5 marcas ecológicas de ropa interior que debes...   \n",
       "667  Las 5 veces que la Reina Letizia ha asaltado e...   \n",
       "218  Met Gala 2018: los mejores y los peores looks,...   \n",
       "867     ¿Cuántas prendas deberíamos tener exactamente?   \n",
       "420  ¿Quién es Amanda Dudamel? 5 datos de nuestra M...   \n",
       "351  Marcas de belleza responsables con el medio am...   \n",
       "328  Cómo cuidar tu melena con los mejores ingredie...   \n",
       "\n",
       "                                                  lead  \\\n",
       "174  Sassa de Osma vuelve a sorprender con sus esti...   \n",
       "752  Fotos: Maglio Cicardini (@ballentinno), Isidor...   \n",
       "467  La reconocida casa de moda ha buscado la maner...   \n",
       "240  Si estás haciendo todo lo posible por comprar ...   \n",
       "667  Hace 4 años que la reina Letizia hizo incursió...   \n",
       "218  Conversamos con el diseñador peruano Noe Berna...   \n",
       "867  Un informe del Instituto Hot Or Cool de Berlín...   \n",
       "420  Elocuente, extrovertida y con una soltura impr...   \n",
       "351  Por el Día de la Tierra, repasamos siete marca...   \n",
       "328  Belleza productos de belleza Si el pelo de tod...   \n",
       "\n",
       "                                                  body  \\\n",
       "174  Sassa de Osma vuelve a sorprender con sus esti...   \n",
       "752  Fotos: Maglio Cicardini (@ballentinno), Isidor...   \n",
       "467  La reconocida casa de moda ha buscado la maner...   \n",
       "240  Hay muchas marcas que ofrecen estilo, comodida...   \n",
       "667  No sabemos muy bien cómo se abrió la veda en e...   \n",
       "218  Moda y religión se fusionaron en la esperada M...   \n",
       "867  \"Comprar menos y comprar mejor\" se ha converti...   \n",
       "420  Elocuente, extrovertida y con una soltura impr...   \n",
       "351  Belleza cosmética El mundo se ha parado en los...   \n",
       "328  Porque el valor de tu melena es incalculable. ...   \n",
       "\n",
       "                                              keywords    country  \\\n",
       "174               looks de sassa de osma,sassa de osma       Peru   \n",
       "752                                               moda      Chile   \n",
       "467                                      covid-19,moda  Venezuela   \n",
       "240  moda sostenible,lenceria,marcas de lenceria,ma...     Mexico   \n",
       "667           reina letizia,looks,moda,moda sostenible      Spain   \n",
       "218                                           met gala       Peru   \n",
       "867                           sostenibilidad,vogue 365      Spain   \n",
       "420                                                NaN  Venezuela   \n",
       "351  cosmética,looks de moda,trucos de belleza,prod...      Spain   \n",
       "328                               productos de belleza      Spain   \n",
       "\n",
       "                                        clean_headline  \\\n",
       "174   look sassa osma perfecto adoptar cambio estación   \n",
       "752     renace pasarela dedicado 100% moda sustentable   \n",
       "467  heart for hope carolina herrera unir cruz roja...   \n",
       "240          marca ecológico ropa interior deber radar   \n",
       "667           reina letizia asaltar armario doña sofía   \n",
       "218       met gala 2018 mejor peor look noe bernacelli   \n",
       "867                          prenda debeer exactamente   \n",
       "420            amanda dudamel dato miss venezuela 2021   \n",
       "351           marca belleza responsable ambiente deber   \n",
       "328  cuidar melena mejor ingrediente pasar pelo pelazo   \n",
       "\n",
       "                                            clean_lead  \n",
       "174  sassa osma volver sorprender estilismo royal p...  \n",
       "752  fotos maglio cicardini @ballentinno isidora pa...  \n",
       "467  reconocido casa moda buscar ayudar sobrellevar...  \n",
       "240  estar comprar sostenible checo marca ecológico...  \n",
       "667  año reina letizia incursión guardarropa suegra...  \n",
       "218  conversar diseñador peruano noe bernacelli pun...  \n",
       "867  informe instituto hot or cool berlín estimar d...  \n",
       "420  elocuente extrovertido soltura impresionante c...  \n",
       "351  tierra repasar marca belleza deber respeto pla...  \n",
       "328  belleza producto belleza pelo cotizar bolsa se...  "
      ]
     },
     "execution_count": 30,
     "metadata": {},
     "output_type": "execute_result"
    }
   ],
   "source": [
    "# Clean all the leads\n",
    "df[\"clean_lead\"] = process(df[\"lead\"])\n",
    "df.sample(10, random_state=42)"
   ]
  },
  {
   "cell_type": "markdown",
   "id": "5436a29a-45ae-4801-80d7-487a33484410",
   "metadata": {},
   "source": [
    "##### Most frequent words in leads"
   ]
  },
  {
   "cell_type": "code",
   "execution_count": 31,
   "id": "c7e6014b-8944-4319-b8da-723636d32944",
   "metadata": {},
   "outputs": [],
   "source": [
    "# Unify all leads to create the input for the Word Cloud\n",
    "all_keywords = df[\"clean_lead\"].str.cat(sep=\" \")\n",
    "\n",
    "# Create a dictionary which will contain the words as keys and their frequencies as values\n",
    "word_freq = {}\n",
    "\n",
    "for word in all_keywords.split():\n",
    "    if word not in word_freq:\n",
    "        word_freq[word] = 0\n",
    "    word_freq[word] += 1"
   ]
  },
  {
   "cell_type": "code",
   "execution_count": 32,
   "id": "1c77a6b7-2742-40fe-b227-5caf7be14c8f",
   "metadata": {},
   "outputs": [
    {
     "data": {
      "image/png": "[encoded data removed]",
      "text/plain": [
       "<PIL.Image.Image image mode=RGB size=800x400>"
      ]
     },
     "execution_count": 32,
     "metadata": {},
     "output_type": "execute_result"
    }
   ],
   "source": [
    "# Plot the Word Cloud\n",
    "wc = WordCloud(width=800, height=400, background_color=\"white\", min_font_size=10).generate_from_frequencies(word_freq)\n",
    "wc.to_image()"
   ]
  },
  {
   "cell_type": "code",
   "execution_count": 33,
   "id": "10e2aa3d-3c8a-4a81-9569-d39e2c5f2443",
   "metadata": {},
   "outputs": [
    {
     "name": "stdout",
     "output_type": "stream",
     "text": [
      "Top 10 most frequent words in chatbot-generated leads:\n",
      "- moda (occurrences: 150)\n",
      "- sostenible (occurrences: 86)\n",
      "- industria (occurrences: 65)\n",
      "- impacto (occurrences: 37)\n",
      "- marca (occurrences: 34)\n",
      "- ambiental (occurrences: 28)\n",
      "- producción (occurrences: 21)\n",
      "- tendencia (occurrences: 20)\n",
      "- práctica (occurrences: 19)\n",
      "- mundo (occurrences: 18)\n"
     ]
    }
   ],
   "source": [
    "# The most frequent words in leads for chatbots\n",
    "chatbot_leads = df.loc[df[\"source_type\"] == \"chatbot\"][\"clean_lead\"]\n",
    "tokens = [\n",
    "    word.lower()\n",
    "    for lead in chatbot_leads\n",
    "    for word in nltk.word_tokenize(lead)\n",
    "    if word.lower() not in nltk_stopwords.words(\"spanish\")\n",
    "]\n",
    "word_freq_chatbot = Counter(tokens)\n",
    "\n",
    "print(\"Top 10 most frequent words in chatbot-generated leads:\")\n",
    "for word, frequency in word_freq_chatbot.most_common(10):\n",
    "    print(f\"- {word} (occurrences: {frequency})\")"
   ]
  },
  {
   "cell_type": "code",
   "execution_count": 34,
   "id": "390602ef-1493-46cc-bc2f-cb29acfab3a7",
   "metadata": {},
   "outputs": [
    {
     "name": "stdout",
     "output_type": "stream",
     "text": [
      "Top 10 most frequent words in leads published in Latin American magazines:\n",
      "- moda (occurrences: 209)\n",
      "- marca (occurrences: 131)\n",
      "- año (occurrences: 102)\n",
      "- colección (occurrences: 78)\n",
      "- ropa (occurrences: 73)\n",
      "- industria (occurrences: 71)\n",
      "- diseño (occurrences: 61)\n",
      "- mundo (occurrences: 60)\n",
      "- presentar (occurrences: 57)\n",
      "- diseñador (occurrences: 56)\n"
     ]
    }
   ],
   "source": [
    "# The most frequent words in leads of Latin American magazines\n",
    "latam_leads = df.loc[\n",
    "    df[\"source\"].isin(\n",
    "        [\n",
    "            \"Ocean Drive\",\n",
    "            \"Paula\",\n",
    "            \"Viste La Calle\",\n",
    "            \"Ohlalá\",\n",
    "            \"Vogue Mexico\",\n",
    "            \"Harper's Bazaar\",\n",
    "            \"L'Officiel\",\n",
    "            \"Revista COSAS\",\n",
    "        ]\n",
    "    ),\n",
    "    \"clean_lead\",\n",
    "]\n",
    "tokens = [\n",
    "    word.lower()\n",
    "    for lead in latam_leads\n",
    "    for word in nltk.word_tokenize(lead)\n",
    "    if word.lower() not in nltk_stopwords.words(\"spanish\")\n",
    "]\n",
    "word_freq_latam = Counter(tokens)\n",
    "\n",
    "print(\"Top 10 most frequent words in leads published in Latin American magazines:\")\n",
    "for word, frequency in word_freq_latam.most_common(10):\n",
    "    print(f\"- {word} (occurrences: {frequency})\")"
   ]
  },
  {
   "cell_type": "code",
   "execution_count": 35,
   "id": "d411fd5a-a268-4f8d-898f-eda2491e4148",
   "metadata": {},
   "outputs": [
    {
     "name": "stdout",
     "output_type": "stream",
     "text": [
      "Top 10 most frequent words in leads published in Spanish magazines:\n",
      "- moda (occurrences: 141)\n",
      "- sostenible (occurrences: 97)\n",
      "- firma (occurrences: 70)\n",
      "- marca (occurrences: 67)\n",
      "- sostenibilidad (occurrences: 64)\n",
      "- prenda (occurrences: 51)\n",
      "- armario (occurrences: 41)\n",
      "- año (occurrences: 40)\n",
      "- industria (occurrences: 37)\n",
      "- colección (occurrences: 35)\n"
     ]
    }
   ],
   "source": [
    "# The most frequent words in leads of Spanish magazines\n",
    "spain_leads = df.loc[df[\"source\"].isin([\"InStyle\", \"Telva\", \"Vogue Spain\"]), \"clean_lead\"]\n",
    "tokens = [\n",
    "    word.lower()\n",
    "    for lead in spain_leads\n",
    "    for word in nltk.word_tokenize(lead)\n",
    "    if word.lower() not in nltk_stopwords.words(\"spanish\")\n",
    "]\n",
    "word_freq_spain = Counter(tokens)\n",
    "\n",
    "print(\"Top 10 most frequent words in leads published in Spanish magazines:\")\n",
    "for word, frequency in word_freq_spain.most_common(10):\n",
    "    print(f\"- {word} (occurrences: {frequency})\")"
   ]
  },
  {
   "cell_type": "markdown",
   "id": "adb1818b-4027-4194-a7f1-b363a0f811f7",
   "metadata": {},
   "source": [
    "### Creation of the Word2vec models \n",
    "\n",
    "#### Parameters\n",
    "When we create word embedding models we have to take into consideration some of the following important parameters."
   ]
  },
  {
   "cell_type": "markdown",
   "id": "33aac316-104c-4812-8b21-2aa5f592e3b2",
   "metadata": {},
   "source": [
    "| Parameter | Description |\n",
    "| --- | --- |\n",
    "| vector_size | The size of the vector that represents each token or word. The number could varies from 50 up to 300 | \n",
    "| window | Indicates what the maximum distance between the target word and its neighboring word can be. A window between 2 and 5 gives very good results | \n",
    "| min_count | Minimium frequency count of words. The number varies from 1 (keep everything) to 10 (larger minimal frequency), depending of the size of the dataset |\n",
    "| workers | Workers specifies the number of independent threads doing simultaneous training. Default value = 1 |\n",
    "| sg | It specificies which approach to use when creating the word embeddings. 0 = continuous bag-of-words; 1 = skip-gram models.\n",
    "| epochs | Training iterations. The higher the number, the better the word emebddings. Good starting point 10 |"
   ]
  },
  {
   "cell_type": "code",
   "execution_count": 36,
   "id": "b75f1da4-b639-43f9-ad39-09ff75fa989b",
   "metadata": {},
   "outputs": [],
   "source": [
    "# Define a function that, given a series, processes it and splits it into tokenized sentences\n",
    "def sentences(series):\n",
    "    # Clean up the series of documents\n",
    "    txts = process(series)\n",
    "\n",
    "    # Tokenize each row, excluding missing ones and the ones that are too short\n",
    "    sentences = [row.split() for row in txts if row != None and len(row) > 2]\n",
    "    return sentences"
   ]
  },
  {
   "cell_type": "code",
   "execution_count": 37,
   "id": "5372f125-9013-43cc-b653-333eb8187229",
   "metadata": {},
   "outputs": [],
   "source": [
    "# Extract sentences from leads\n",
    "human_leads_tokens = sentences(df.loc[df[\"source_type\"] == \"human\"][\"clean_lead\"])\n",
    "chatbot_leads_tokens = sentences(df.loc[df[\"source_type\"] == \"chatbot\"][\"clean_lead\"])"
   ]
  },
  {
   "cell_type": "code",
   "execution_count": 38,
   "id": "db99e138-fbfb-41f4-ae39-2a1544059a91",
   "metadata": {},
   "outputs": [
    {
     "name": "stdout",
     "output_type": "stream",
     "text": [
      "Number of words found in the human leads vocabulary: 5614\n"
     ]
    }
   ],
   "source": [
    "# Initialize the first model\n",
    "leads_human_model = Word2Vec(\n",
    "    min_count=1,  # Consider words that appear at least N times\n",
    "    window=4,  # Set the size of the window +/- N words for something to count as a collocation\n",
    "    workers=1,  # Set the number of CPUs to use\n",
    ")\n",
    "leads_human_model.build_vocab(human_leads_tokens, progress_per=50)\n",
    "\n",
    "# Train the model with the data\n",
    "leads_human_model.train(\n",
    "    human_leads_tokens, total_examples=leads_human_model.corpus_count, epochs=30\n",
    ")\n",
    "\n",
    "# Check the number of word found in the vocabulary of the first model\n",
    "print(f\"Number of words found in the human leads vocabulary: {len(leads_human_model.wv.index_to_key)}\")"
   ]
  },
  {
   "cell_type": "code",
   "execution_count": 39,
   "id": "ce222018-4ea8-4315-a021-69cac2cee30d",
   "metadata": {},
   "outputs": [
    {
     "name": "stdout",
     "output_type": "stream",
     "text": [
      "Number of words found in the human leads vocabulary: 591\n"
     ]
    }
   ],
   "source": [
    "# Initialize the second model\n",
    "leads_chatbot_model = Word2Vec(\n",
    "    min_count=1,  # Consider words that appear at least N times\n",
    "    window=4,  # Set the size of the window +/- N words for something to count as a collocation\n",
    "    workers=1,  # Set the number of CPUs to use\n",
    ")\n",
    "leads_chatbot_model.build_vocab(chatbot_leads_tokens, progress_per=50)\n",
    "\n",
    "# Train the model with the data\n",
    "leads_chatbot_model.train(\n",
    "    chatbot_leads_tokens, total_examples=leads_chatbot_model.corpus_count, epochs=30\n",
    ")\n",
    "\n",
    "# Check the number of word found in the vocabulary of the second model\n",
    "print(f\"Number of words found in the human leads vocabulary: {len(leads_chatbot_model.wv.index_to_key)}\")"
   ]
  },
  {
   "cell_type": "code",
   "execution_count": 40,
   "id": "3921cd02-c716-4564-bc32-45a657574598",
   "metadata": {},
   "outputs": [],
   "source": [
    "# Save the first model\n",
    "leads_human_model_filename = \"lead_human.model\"\n",
    "leads_human_model.wv.save(leads_human_model_filename)"
   ]
  },
  {
   "cell_type": "code",
   "execution_count": 41,
   "id": "1cdbfd95-635a-4a41-a255-a4bbcd60ea9f",
   "metadata": {},
   "outputs": [],
   "source": [
    "# Save the second model\n",
    "leads_chatbot_model_filename = \"lead_chatbot.model\"\n",
    "leads_chatbot_model.wv.save(leads_chatbot_model_filename)"
   ]
  },
  {
   "cell_type": "code",
   "execution_count": 42,
   "id": "dcd21ccd-9483-4b2f-980b-d8686e75daaf",
   "metadata": {},
   "outputs": [],
   "source": [
    "# Load the second model\n",
    "leads_human_model = KeyedVectors.load(leads_human_model_filename)\n",
    "leads_chatbot_model = KeyedVectors.load(leads_chatbot_model_filename)"
   ]
  },
  {
   "cell_type": "markdown",
   "id": "cb2ff6f0-f1a0-4fe1-9199-0867dccfd694",
   "metadata": {},
   "source": [
    "With both models trained, we can start with the analysis and compare both corpora. The first step is analyze the distances between pairs of words are being calculated using the `.distance()` method of the language model. The inputs to the method are two words, and the output is a floating-point number representing the distance between the two words."
   ]
  },
  {
   "cell_type": "code",
   "execution_count": 43,
   "id": "61da675d-e21f-4ef9-a7e7-2464cc2724b6",
   "metadata": {},
   "outputs": [
    {
     "name": "stdout",
     "output_type": "stream",
     "text": [
      "Words closest to 'sostenibilidad' (sustainability) in human-written leads:\n",
      "- tema (distance: 0.9994314908981323)\n",
      "- recibir (distance: 0.9993922114372253)\n",
      "- invitar (distance: 0.9993876814842224)\n",
      "- objetivo (distance: 0.9993876814842224)\n",
      "- empresa (distance: 0.9993836879730225)\n",
      "- libro (distance: 0.999378502368927)\n",
      "- ético (distance: 0.9993765950202942)\n",
      "- empezar (distance: 0.9993681311607361)\n",
      "- mantener (distance: 0.9993638396263123)\n",
      "- global (distance: 0.9993627667427063)\n"
     ]
    }
   ],
   "source": [
    "print(\"Words closest to 'sostenibilidad' (sustainability) in human-written leads:\")\n",
    "for word, distance in leads_human_model.most_similar(\"sostenibilidad\"):\n",
    "    print(f\"- {word} (distance: {distance})\")"
   ]
  },
  {
   "cell_type": "code",
   "execution_count": 44,
   "id": "8c15751a-ab8d-4e6a-9ce7-687cc25c662f",
   "metadata": {},
   "outputs": [
    {
     "name": "stdout",
     "output_type": "stream",
     "text": [
      "Words closest to 'sostenibilidad' (sustainability) in chatbot-written leads:\n",
      "- marca (distance: 0.9994328022003174)\n",
      "- sostenible (distance: 0.9993724822998047)\n",
      "- moda (distance: 0.9992557764053345)\n",
      "- modo (distance: 0.999211847782135)\n",
      "- mundo (distance: 0.999197781085968)\n",
      "- ropa (distance: 0.9991977214813232)\n",
      "- utilizar (distance: 0.999194860458374)\n",
      "- forma (distance: 0.9991732835769653)\n",
      "- presentar (distance: 0.9991609454154968)\n",
      "- producción (distance: 0.9991267323493958)\n"
     ]
    }
   ],
   "source": [
    "print(\"Words closest to 'sostenibilidad' (sustainability) in chatbot-written leads:\")\n",
    "for word, distance in leads_chatbot_model.most_similar(\"sostenibilidad\"):\n",
    "    print(f\"- {word} (distance: {distance})\")"
   ]
  },
  {
   "cell_type": "code",
   "execution_count": 45,
   "id": "ebc8014d-1baa-4c19-be4f-b62e98946d1e",
   "metadata": {},
   "outputs": [
    {
     "name": "stdout",
     "output_type": "stream",
     "text": [
      "Distance between 'joven' (young) and 'sostenibilidad' (sustainability) in human-written leads: 0.0008642077445983887\n"
     ]
    }
   ],
   "source": [
    "print(\n",
    "    \"Distance between 'joven' (young) and 'sostenibilidad' (sustainability) in human-written leads: \"\n",
    "    + str(leads_human_model.distance(\"joven\", \"sostenibilidad\"))\n",
    ")"
   ]
  },
  {
   "cell_type": "code",
   "execution_count": 46,
   "id": "86d690b5-1681-459c-a782-108173d7d88c",
   "metadata": {},
   "outputs": [
    {
     "name": "stdout",
     "output_type": "stream",
     "text": [
      "Distance between 'mujer' (woman) and 'sostenibilidad' (sustainability) in human-written leads: 0.0008973479270935059\n"
     ]
    }
   ],
   "source": [
    "print(\n",
    "    \"Distance between 'mujer' (woman) and 'sostenibilidad' (sustainability) in human-written leads: \"\n",
    "    + str(leads_human_model.distance(\"mujer\", \"sostenibilidad\"))\n",
    ")"
   ]
  },
  {
   "cell_type": "markdown",
   "id": "d47d2360-9bea-416b-9de3-38d72f1ab0a3",
   "metadata": {},
   "source": [
    "Words 'joven' and 'mujer are not present in the `leads_chatbot_model`, so it was not possible to calculate the distance in that case."
   ]
  },
  {
   "cell_type": "markdown",
   "id": "8537e4a1-b4da-4035-87c5-4dcecb59be9d",
   "metadata": {},
   "source": [
    "### Analysis of article bodies (texts)"
   ]
  },
  {
   "cell_type": "code",
   "execution_count": 47,
   "id": "a16a2ab9-eb1a-4abe-9af6-478b55737663",
   "metadata": {},
   "outputs": [
    {
     "data": {
      "text/html": [
       "<div>\n",
       "<style scoped>\n",
       "    .dataframe tbody tr th:only-of-type {\n",
       "        vertical-align: middle;\n",
       "    }\n",
       "\n",
       "    .dataframe tbody tr th {\n",
       "        vertical-align: top;\n",
       "    }\n",
       "\n",
       "    .dataframe thead th {\n",
       "        text-align: right;\n",
       "    }\n",
       "</style>\n",
       "<table border=\"1\" class=\"dataframe\">\n",
       "  <thead>\n",
       "    <tr style=\"text-align: right;\">\n",
       "      <th></th>\n",
       "      <th>source</th>\n",
       "      <th>source_type</th>\n",
       "      <th>date</th>\n",
       "      <th>author</th>\n",
       "      <th>headline</th>\n",
       "      <th>lead</th>\n",
       "      <th>body</th>\n",
       "      <th>keywords</th>\n",
       "      <th>country</th>\n",
       "      <th>clean_headline</th>\n",
       "      <th>clean_lead</th>\n",
       "      <th>clean_body</th>\n",
       "    </tr>\n",
       "  </thead>\n",
       "  <tbody>\n",
       "    <tr>\n",
       "      <th>174</th>\n",
       "      <td>Revista COSAS</td>\n",
       "      <td>human</td>\n",
       "      <td>2022-05-13 21:09:16+00:00</td>\n",
       "      <td>Arianna Gonzales</td>\n",
       "      <td>El look de Sassa de Osma, perfecto para adopta...</td>\n",
       "      <td>Sassa de Osma vuelve a sorprender con sus esti...</td>\n",
       "      <td>Sassa de Osma vuelve a sorprender con sus esti...</td>\n",
       "      <td>looks de sassa de osma,sassa de osma</td>\n",
       "      <td>Peru</td>\n",
       "      <td>look sassa osma perfecto adoptar cambio estación</td>\n",
       "      <td>sassa osma volver sorprender estilismo royal p...</td>\n",
       "      <td>sassa osma volver sorprender estilismo royal p...</td>\n",
       "    </tr>\n",
       "    <tr>\n",
       "      <th>752</th>\n",
       "      <td>Viste La Calle</td>\n",
       "      <td>human</td>\n",
       "      <td>2018-10-09 13:00:59+00:00</td>\n",
       "      <td>Kevin Cortés</td>\n",
       "      <td>Renace, una pasarela dedicada 100% a la moda s...</td>\n",
       "      <td>Fotos: Maglio Cicardini (@ballentinno), Isidor...</td>\n",
       "      <td>Fotos: Maglio Cicardini (@ballentinno), Isidor...</td>\n",
       "      <td>moda</td>\n",
       "      <td>Chile</td>\n",
       "      <td>renace pasarela dedicado 100% moda sustentable</td>\n",
       "      <td>fotos maglio cicardini @ballentinno isidora pa...</td>\n",
       "      <td>fotos maglio cicardini @ballentinno isidora pa...</td>\n",
       "    </tr>\n",
       "    <tr>\n",
       "      <th>467</th>\n",
       "      <td>Ocean Drive</td>\n",
       "      <td>human</td>\n",
       "      <td>2020-07-17 01:27:59+00:00</td>\n",
       "      <td>Mary Villarroel Sneshko.</td>\n",
       "      <td>“Heart for hope”: Carolina Herrera se une con ...</td>\n",
       "      <td>La reconocida casa de moda ha buscado la maner...</td>\n",
       "      <td>La reconocida casa de moda ha buscado la maner...</td>\n",
       "      <td>covid-19,moda</td>\n",
       "      <td>Venezuela</td>\n",
       "      <td>heart for hope carolina herrera unir cruz roja...</td>\n",
       "      <td>reconocido casa moda buscar ayudar sobrellevar...</td>\n",
       "      <td>reconocido casa moda buscar ayudar sobrellevar...</td>\n",
       "    </tr>\n",
       "    <tr>\n",
       "      <th>240</th>\n",
       "      <td>Harper's Bazaar</td>\n",
       "      <td>human</td>\n",
       "      <td>2022-05-13 00:00:00+00:00</td>\n",
       "      <td>Lorenza García</td>\n",
       "      <td>5 marcas ecológicas de ropa interior que debes...</td>\n",
       "      <td>Si estás haciendo todo lo posible por comprar ...</td>\n",
       "      <td>Hay muchas marcas que ofrecen estilo, comodida...</td>\n",
       "      <td>moda sostenible,lenceria,marcas de lenceria,ma...</td>\n",
       "      <td>Mexico</td>\n",
       "      <td>marca ecológico ropa interior deber radar</td>\n",
       "      <td>estar comprar sostenible checo marca ecológico...</td>\n",
       "      <td>marca ofrecer estilo comodidad sostenibilidad ...</td>\n",
       "    </tr>\n",
       "    <tr>\n",
       "      <th>667</th>\n",
       "      <td>Telva</td>\n",
       "      <td>human</td>\n",
       "      <td>2022-01-18 10:45:18+00:00</td>\n",
       "      <td>Elisa Álvarez Espejo</td>\n",
       "      <td>Las 5 veces que la Reina Letizia ha asaltado e...</td>\n",
       "      <td>Hace 4 años que la reina Letizia hizo incursió...</td>\n",
       "      <td>No sabemos muy bien cómo se abrió la veda en e...</td>\n",
       "      <td>reina letizia,looks,moda,moda sostenible</td>\n",
       "      <td>Spain</td>\n",
       "      <td>reina letizia asaltar armario doña sofía</td>\n",
       "      <td>año reina letizia incursión guardarropa suegra...</td>\n",
       "      <td>abrir veda armario doña sofía reina letizia lu...</td>\n",
       "    </tr>\n",
       "    <tr>\n",
       "      <th>218</th>\n",
       "      <td>Revista COSAS</td>\n",
       "      <td>human</td>\n",
       "      <td>2018-05-08 21:41:09+00:00</td>\n",
       "      <td>Isabel Miró Quesada</td>\n",
       "      <td>Met Gala 2018: los mejores y los peores looks,...</td>\n",
       "      <td>Conversamos con el diseñador peruano Noe Berna...</td>\n",
       "      <td>Moda y religión se fusionaron en la esperada M...</td>\n",
       "      <td>met gala</td>\n",
       "      <td>Peru</td>\n",
       "      <td>met gala 2018 mejor peor look noe bernacelli</td>\n",
       "      <td>conversar diseñador peruano noe bernacelli pun...</td>\n",
       "      <td>moda religión fusionar esperado met gala ovaci...</td>\n",
       "    </tr>\n",
       "    <tr>\n",
       "      <th>867</th>\n",
       "      <td>Vogue Spain</td>\n",
       "      <td>human</td>\n",
       "      <td>2022-11-30 08:34:45.311000+00:00</td>\n",
       "      <td>Emily Chan</td>\n",
       "      <td>¿Cuántas prendas deberíamos tener exactamente?</td>\n",
       "      <td>Un informe del Instituto Hot Or Cool de Berlín...</td>\n",
       "      <td>\"Comprar menos y comprar mejor\" se ha converti...</td>\n",
       "      <td>sostenibilidad,vogue 365</td>\n",
       "      <td>Spain</td>\n",
       "      <td>prenda debeer exactamente</td>\n",
       "      <td>informe instituto hot or cool berlín estimar d...</td>\n",
       "      <td>comprar comprar convertir estribillo común ámb...</td>\n",
       "    </tr>\n",
       "    <tr>\n",
       "      <th>420</th>\n",
       "      <td>Ocean Drive</td>\n",
       "      <td>human</td>\n",
       "      <td>2023-01-10 15:45:00+00:00</td>\n",
       "      <td>Mary Villarroel Sneshko.</td>\n",
       "      <td>¿Quién es Amanda Dudamel? 5 datos de nuestra M...</td>\n",
       "      <td>Elocuente, extrovertida y con una soltura impr...</td>\n",
       "      <td>Elocuente, extrovertida y con una soltura impr...</td>\n",
       "      <td>NaN</td>\n",
       "      <td>Venezuela</td>\n",
       "      <td>amanda dudamel dato miss venezuela 2021</td>\n",
       "      <td>elocuente extrovertido soltura impresionante c...</td>\n",
       "      <td>elocuente extrovertido soltura impresionante c...</td>\n",
       "    </tr>\n",
       "    <tr>\n",
       "      <th>351</th>\n",
       "      <td>InStyle</td>\n",
       "      <td>human</td>\n",
       "      <td>2020-06-05 15:24:42+00:00</td>\n",
       "      <td>María Elvira</td>\n",
       "      <td>Marcas de belleza responsables con el medio am...</td>\n",
       "      <td>Por el Día de la Tierra, repasamos siete marca...</td>\n",
       "      <td>Belleza cosmética El mundo se ha parado en los...</td>\n",
       "      <td>cosmética,looks de moda,trucos de belleza,prod...</td>\n",
       "      <td>Spain</td>\n",
       "      <td>marca belleza responsable ambiente deber</td>\n",
       "      <td>tierra repasar marca belleza deber respeto pla...</td>\n",
       "      <td>belleza cosmético mundo parar mes situación ja...</td>\n",
       "    </tr>\n",
       "    <tr>\n",
       "      <th>328</th>\n",
       "      <td>InStyle</td>\n",
       "      <td>human</td>\n",
       "      <td>2020-09-13 14:00:00+00:00</td>\n",
       "      <td>María Elvira</td>\n",
       "      <td>Cómo cuidar tu melena con los mejores ingredie...</td>\n",
       "      <td>Belleza productos de belleza Si el pelo de tod...</td>\n",
       "      <td>Porque el valor de tu melena es incalculable. ...</td>\n",
       "      <td>productos de belleza</td>\n",
       "      <td>Spain</td>\n",
       "      <td>cuidar melena mejor ingrediente pasar pelo pelazo</td>\n",
       "      <td>belleza producto belleza pelo cotizar bolsa se...</td>\n",
       "      <td>valor melena incalculable situación descuidar ...</td>\n",
       "    </tr>\n",
       "  </tbody>\n",
       "</table>\n",
       "</div>"
      ],
      "text/plain": [
       "              source source_type                             date  \\\n",
       "174    Revista COSAS       human        2022-05-13 21:09:16+00:00   \n",
       "752   Viste La Calle       human        2018-10-09 13:00:59+00:00   \n",
       "467      Ocean Drive       human        2020-07-17 01:27:59+00:00   \n",
       "240  Harper's Bazaar       human        2022-05-13 00:00:00+00:00   \n",
       "667            Telva       human        2022-01-18 10:45:18+00:00   \n",
       "218    Revista COSAS       human        2018-05-08 21:41:09+00:00   \n",
       "867      Vogue Spain       human 2022-11-30 08:34:45.311000+00:00   \n",
       "420      Ocean Drive       human        2023-01-10 15:45:00+00:00   \n",
       "351          InStyle       human        2020-06-05 15:24:42+00:00   \n",
       "328          InStyle       human        2020-09-13 14:00:00+00:00   \n",
       "\n",
       "                       author  \\\n",
       "174          Arianna Gonzales   \n",
       "752              Kevin Cortés   \n",
       "467  Mary Villarroel Sneshko.   \n",
       "240            Lorenza García   \n",
       "667      Elisa Álvarez Espejo   \n",
       "218       Isabel Miró Quesada   \n",
       "867                Emily Chan   \n",
       "420  Mary Villarroel Sneshko.   \n",
       "351              María Elvira   \n",
       "328              María Elvira   \n",
       "\n",
       "                                              headline  \\\n",
       "174  El look de Sassa de Osma, perfecto para adopta...   \n",
       "752  Renace, una pasarela dedicada 100% a la moda s...   \n",
       "467  “Heart for hope”: Carolina Herrera se une con ...   \n",
       "240  5 marcas ecológicas de ropa interior que debes...   \n",
       "667  Las 5 veces que la Reina Letizia ha asaltado e...   \n",
       "218  Met Gala 2018: los mejores y los peores looks,...   \n",
       "867     ¿Cuántas prendas deberíamos tener exactamente?   \n",
       "420  ¿Quién es Amanda Dudamel? 5 datos de nuestra M...   \n",
       "351  Marcas de belleza responsables con el medio am...   \n",
       "328  Cómo cuidar tu melena con los mejores ingredie...   \n",
       "\n",
       "                                                  lead  \\\n",
       "174  Sassa de Osma vuelve a sorprender con sus esti...   \n",
       "752  Fotos: Maglio Cicardini (@ballentinno), Isidor...   \n",
       "467  La reconocida casa de moda ha buscado la maner...   \n",
       "240  Si estás haciendo todo lo posible por comprar ...   \n",
       "667  Hace 4 años que la reina Letizia hizo incursió...   \n",
       "218  Conversamos con el diseñador peruano Noe Berna...   \n",
       "867  Un informe del Instituto Hot Or Cool de Berlín...   \n",
       "420  Elocuente, extrovertida y con una soltura impr...   \n",
       "351  Por el Día de la Tierra, repasamos siete marca...   \n",
       "328  Belleza productos de belleza Si el pelo de tod...   \n",
       "\n",
       "                                                  body  \\\n",
       "174  Sassa de Osma vuelve a sorprender con sus esti...   \n",
       "752  Fotos: Maglio Cicardini (@ballentinno), Isidor...   \n",
       "467  La reconocida casa de moda ha buscado la maner...   \n",
       "240  Hay muchas marcas que ofrecen estilo, comodida...   \n",
       "667  No sabemos muy bien cómo se abrió la veda en e...   \n",
       "218  Moda y religión se fusionaron en la esperada M...   \n",
       "867  \"Comprar menos y comprar mejor\" se ha converti...   \n",
       "420  Elocuente, extrovertida y con una soltura impr...   \n",
       "351  Belleza cosmética El mundo se ha parado en los...   \n",
       "328  Porque el valor de tu melena es incalculable. ...   \n",
       "\n",
       "                                              keywords    country  \\\n",
       "174               looks de sassa de osma,sassa de osma       Peru   \n",
       "752                                               moda      Chile   \n",
       "467                                      covid-19,moda  Venezuela   \n",
       "240  moda sostenible,lenceria,marcas de lenceria,ma...     Mexico   \n",
       "667           reina letizia,looks,moda,moda sostenible      Spain   \n",
       "218                                           met gala       Peru   \n",
       "867                           sostenibilidad,vogue 365      Spain   \n",
       "420                                                NaN  Venezuela   \n",
       "351  cosmética,looks de moda,trucos de belleza,prod...      Spain   \n",
       "328                               productos de belleza      Spain   \n",
       "\n",
       "                                        clean_headline  \\\n",
       "174   look sassa osma perfecto adoptar cambio estación   \n",
       "752     renace pasarela dedicado 100% moda sustentable   \n",
       "467  heart for hope carolina herrera unir cruz roja...   \n",
       "240          marca ecológico ropa interior deber radar   \n",
       "667           reina letizia asaltar armario doña sofía   \n",
       "218       met gala 2018 mejor peor look noe bernacelli   \n",
       "867                          prenda debeer exactamente   \n",
       "420            amanda dudamel dato miss venezuela 2021   \n",
       "351           marca belleza responsable ambiente deber   \n",
       "328  cuidar melena mejor ingrediente pasar pelo pelazo   \n",
       "\n",
       "                                            clean_lead  \\\n",
       "174  sassa osma volver sorprender estilismo royal p...   \n",
       "752  fotos maglio cicardini @ballentinno isidora pa...   \n",
       "467  reconocido casa moda buscar ayudar sobrellevar...   \n",
       "240  estar comprar sostenible checo marca ecológico...   \n",
       "667  año reina letizia incursión guardarropa suegra...   \n",
       "218  conversar diseñador peruano noe bernacelli pun...   \n",
       "867  informe instituto hot or cool berlín estimar d...   \n",
       "420  elocuente extrovertido soltura impresionante c...   \n",
       "351  tierra repasar marca belleza deber respeto pla...   \n",
       "328  belleza producto belleza pelo cotizar bolsa se...   \n",
       "\n",
       "                                            clean_body  \n",
       "174  sassa osma volver sorprender estilismo royal p...  \n",
       "752  fotos maglio cicardini @ballentinno isidora pa...  \n",
       "467  reconocido casa moda buscar ayudar sobrellevar...  \n",
       "240  marca ofrecer estilo comodidad sostenibilidad ...  \n",
       "667  abrir veda armario doña sofía reina letizia lu...  \n",
       "218  moda religión fusionar esperado met gala ovaci...  \n",
       "867  comprar comprar convertir estribillo común ámb...  \n",
       "420  elocuente extrovertido soltura impresionante c...  \n",
       "351  belleza cosmético mundo parar mes situación ja...  \n",
       "328  valor melena incalculable situación descuidar ...  "
      ]
     },
     "execution_count": 47,
     "metadata": {},
     "output_type": "execute_result"
    }
   ],
   "source": [
    "# Clean the article bodies\n",
    "df[\"clean_body\"] = process(df[\"body\"])\n",
    "df.sample(10, random_state=42)"
   ]
  },
  {
   "cell_type": "code",
   "execution_count": 48,
   "id": "b2abc055-f9b7-47c9-93fa-24af7a7e22a4",
   "metadata": {},
   "outputs": [],
   "source": [
    "# Extract the sentences from the article bodies\n",
    "human_body_tokens = sentences(df.loc[df[\"source_type\"] == \"human\"][\"clean_body\"])\n",
    "chatbot_body_tokens = sentences(df.loc[df[\"source_type\"] == \"chatbot\"][\"clean_body\"])"
   ]
  },
  {
   "cell_type": "code",
   "execution_count": 49,
   "id": "eb98aae4-3819-4132-9f04-3044ae523c19",
   "metadata": {},
   "outputs": [
    {
     "name": "stdout",
     "output_type": "stream",
     "text": [
      "Number of words found in the human bodies vocabulary: 31494\n"
     ]
    }
   ],
   "source": [
    "# Initialize the first model\n",
    "body_human_model = Word2Vec(\n",
    "    vector_size=50,  # Set the size of the vector that represents each token or word\n",
    "    min_count=1,  # Consider words that appear at least N times\n",
    "    window=4,  # Set the size of the window +/- N words for something to count as a collocation\n",
    "    workers=1,  # Set the number of CPUs to use\n",
    ")\n",
    "body_human_model.build_vocab(human_body_tokens, progress_per=50)\n",
    "\n",
    "# Train the model with the data\n",
    "body_human_model.train(\n",
    "    human_body_tokens, total_examples=body_human_model.corpus_count, epochs=30\n",
    ")\n",
    "# Check the number of word found in the vocabulary of the first model\n",
    "print(f\"Number of words found in the human bodies vocabulary: {len(body_human_model.wv.index_to_key)}\")"
   ]
  },
  {
   "cell_type": "code",
   "execution_count": 50,
   "id": "c4b1b41c-979d-4d8b-b212-ac2538f78f24",
   "metadata": {},
   "outputs": [
    {
     "name": "stdout",
     "output_type": "stream",
     "text": [
      "Number of words found in the chatbot bodies vocabulary: 2424\n"
     ]
    }
   ],
   "source": [
    "# Initialize the second model\n",
    "body_chatbot_model = Word2Vec(\n",
    "    vector_size=50,  # Set the size of the vector that represents each token or word\n",
    "    min_count=1,  # Consider words that appear at least N times\n",
    "    window=4,  # Set the size of the window +/- N words for something to count as a collocation\n",
    "    workers=1,  # Set the number of CPUs to use\n",
    ")\n",
    "body_chatbot_model.build_vocab(chatbot_body_tokens, progress_per=50)\n",
    "\n",
    "# Train the model with the data\n",
    "body_chatbot_model.train(\n",
    "    chatbot_body_tokens, total_examples=body_chatbot_model.corpus_count, epochs=30\n",
    ")\n",
    "\n",
    "# Check the number of word found in the vocabulary of the second model\n",
    "print(f\"Number of words found in the chatbot bodies vocabulary: {len(body_chatbot_model.wv.index_to_key)}\")"
   ]
  },
  {
   "cell_type": "code",
   "execution_count": 51,
   "id": "e258a466-548c-42cf-9f32-8b74348dc94e",
   "metadata": {},
   "outputs": [],
   "source": [
    "# Save the first model\n",
    "body_human_model_filename = \"body_human.model\"\n",
    "body_human_model.wv.save(body_human_model_filename)"
   ]
  },
  {
   "cell_type": "code",
   "execution_count": 52,
   "id": "92d36dc3-57bc-4ede-b97e-656b55b74cad",
   "metadata": {},
   "outputs": [],
   "source": [
    "# Save the second model\n",
    "body_chatbot_model_filename = \"body_chatbot.model\"\n",
    "body_chatbot_model.wv.save(body_chatbot_model_filename)"
   ]
  },
  {
   "cell_type": "code",
   "execution_count": 53,
   "id": "e07b350a-2167-48c7-97ed-518d850cc1af",
   "metadata": {},
   "outputs": [],
   "source": [
    "# Load the second model\n",
    "body_human_model = KeyedVectors.load(body_human_model_filename)\n",
    "body_chatbot_model = KeyedVectors.load(body_chatbot_model_filename)"
   ]
  },
  {
   "cell_type": "code",
   "execution_count": 54,
   "id": "95cc41a6-552a-4b48-8610-ab4ccf1855f4",
   "metadata": {},
   "outputs": [],
   "source": [
    "# Define a function that calculates the distance between two words for both the human and chatbot model\n",
    "def body_human_chatbot_distance(first_word, first_word_en, second_word, second_word_en):\n",
    "    distance_human = body_human_model.distance(first_word, second_word)\n",
    "    distance_chatbot = body_chatbot_model.distance(first_word, second_word)\n",
    "    print(\n",
    "        f\"Distance between '{first_word}' ({first_word_en}) and '{second_word}' ({second_word_en}) in article bodies:\"\n",
    "    )\n",
    "    print(f\"- Human-written: {distance_human}\")\n",
    "    print(f\"- Chatbot-written: {distance_chatbot}\")\n",
    "\n",
    "\n",
    "# Define a function that calculates the 10 most similar words to the given one for both the human and chatbot model\n",
    "def body_human_chatbot_most_similar(word, word_en):\n",
    "    most_similar_human = body_human_model.most_similar(word)\n",
    "    most_similar_chatbot = body_chatbot_model.most_similar(word)\n",
    "\n",
    "    print(\n",
    "        f\"Top 10 most similar words to '{word}' ({word_en}) in human-written article bodies:\"\n",
    "    )\n",
    "    for term, distance in most_similar_human:\n",
    "        print(f\"- {term} (distance: {distance})\")\n",
    "\n",
    "    print(\n",
    "        f\"\\nTop 10 most similar words to '{word}' ({word_en}) in chatbot-written article bodies:\"\n",
    "    )\n",
    "    for term, distance in most_similar_chatbot:\n",
    "        print(f\"- {term} (distance: {distance})\")\n",
    "\n",
    "\n",
    "# Define a function that calculates the 10 most similar words to the association of two given terms, excluding a third (negative) one\n",
    "def body_human_chatbot_most_similar_compare(\n",
    "    positive_first,\n",
    "    positive_first_en,\n",
    "    positive_second,\n",
    "    positive_second_en,\n",
    "    negative,\n",
    "    negative_en,\n",
    "):\n",
    "    top_num = 10  # How many similar words to extract\n",
    "    most_similar_human = body_human_model.most_similar(\n",
    "        positive=[positive_first, positive_second], negative=[negative], topn=top_num\n",
    "    )\n",
    "    most_similar_chatbot = body_chatbot_model.most_similar(\n",
    "        positive=[positive_first, positive_second], negative=[negative], topn=top_num\n",
    "    )\n",
    "\n",
    "    print(\n",
    "        f\"Word similarity in human-written article bodies: '{positive_first}' ({positive_first_en}) + '{positive_second}' ({positive_second_en}) - '{negative}' ({negative_en}):\"\n",
    "    )\n",
    "    for term, distance in most_similar_human:\n",
    "        print(f\"- {term} (distance: {distance})\")\n",
    "\n",
    "    print(\n",
    "        f\"\\nWord similarity in chatbot-written article bodies '{positive_first}' ({positive_first_en}) + '{positive_second}' ({positive_second_en}) - '{negative}' ({negative_en}) in chatbot-written article bodies:\"\n",
    "    )\n",
    "    for term, distance in most_similar_chatbot:\n",
    "        print(f\"- {term} (distance: {distance})\")"
   ]
  },
  {
   "cell_type": "code",
   "execution_count": 55,
   "id": "817b5347-0a27-4c87-b5c1-ebd6b624f907",
   "metadata": {},
   "outputs": [
    {
     "name": "stdout",
     "output_type": "stream",
     "text": [
      "Distance between 'local' (local) and 'sostenibilidad' (sustainability) in article bodies:\n",
      "- Human-written: 0.8065246939659119\n",
      "- Chatbot-written: 0.36555373668670654\n"
     ]
    }
   ],
   "source": [
    "body_human_chatbot_distance(\"local\", \"local\", \"sostenibilidad\", \"sustainability\")"
   ]
  },
  {
   "cell_type": "code",
   "execution_count": 56,
   "id": "cd5be30d-43fd-42c9-8eb9-47860ef6293f",
   "metadata": {},
   "outputs": [
    {
     "name": "stdout",
     "output_type": "stream",
     "text": [
      "Distance between 'local' (local) and 'marca' (brand) in article bodies:\n",
      "- Human-written: 0.8197443187236786\n",
      "- Chatbot-written: 0.20579326152801514\n"
     ]
    }
   ],
   "source": [
    "body_human_chatbot_distance(\"local\", \"local\", \"marca\", \"brand\")"
   ]
  },
  {
   "cell_type": "code",
   "execution_count": 57,
   "id": "52d96e8a-2e2e-4c23-81e6-349629f43737",
   "metadata": {},
   "outputs": [
    {
     "name": "stdout",
     "output_type": "stream",
     "text": [
      "Top 10 most similar words to 'mujer' (woman) in human-written article bodies:\n",
      "- hombre (distance: 0.6846300959587097)\n",
      "- reviveír (distance: 0.6496820449829102)\n",
      "- insensibilidad (distance: 0.6185675263404846)\n",
      "- baveír (distance: 0.6161431074142456)\n",
      "- niña (distance: 0.5840340256690979)\n",
      "- malestar (distance: 0.5827069878578186)\n",
      "- desamparo (distance: 0.5736085772514343)\n",
      "- género (distance: 0.5694658756256104)\n",
      "- criar (distance: 0.5649791359901428)\n",
      "- adolescente (distance: 0.5598500967025757)\n",
      "\n",
      "Top 10 most similar words to 'mujer' (woman) in chatbot-written article bodies:\n",
      "- diseñadora (distance: 0.9968432188034058)\n",
      "- virgil (distance: 0.9962515234947205)\n",
      "- américo (distance: 0.9957792162895203)\n",
      "- chanel (distance: 0.9957160353660583)\n",
      "- género (distance: 0.995695948600769)\n",
      "- mexicano (distance: 0.9956561923027039)\n",
      "- listo (distance: 0.995648980140686)\n",
      "- vogue (distance: 0.9955419301986694)\n",
      "- marginado (distance: 0.9955342411994934)\n",
      "- edad (distance: 0.9955337047576904)\n"
     ]
    }
   ],
   "source": [
    "body_human_chatbot_most_similar(\"mujer\", \"woman\")"
   ]
  },
  {
   "cell_type": "code",
   "execution_count": 58,
   "id": "96284b91-2761-4693-92a1-1936015efe83",
   "metadata": {},
   "outputs": [
    {
     "name": "stdout",
     "output_type": "stream",
     "text": [
      "Distance between 'moda' (fashion) and 'sostenible' (sustainable) in article bodies:\n",
      "- Human-written: 0.8898274749517441\n",
      "- Chatbot-written: 0.18716663122177124\n"
     ]
    }
   ],
   "source": [
    "body_human_chatbot_distance(\"moda\", \"fashion\", \"sostenible\", \"sustainable\")"
   ]
  },
  {
   "cell_type": "code",
   "execution_count": 59,
   "id": "ed49f490-a4f0-44b6-83ef-6b61ea9a00b0",
   "metadata": {},
   "outputs": [
    {
     "name": "stdout",
     "output_type": "stream",
     "text": [
      "Distance between 'moda' (fashion) and 'clima' (climate) in article bodies:\n",
      "- Human-written: 0.6740624606609344\n",
      "- Chatbot-written: 0.2221718430519104\n"
     ]
    }
   ],
   "source": [
    "body_human_chatbot_distance(\"moda\", \"fashion\", \"clima\", \"climate\")"
   ]
  },
  {
   "cell_type": "code",
   "execution_count": 60,
   "id": "3dea42ac-d91f-4535-ac21-12f9a9700d84",
   "metadata": {},
   "outputs": [
    {
     "name": "stdout",
     "output_type": "stream",
     "text": [
      "Distance between 'moda' (fashion) and 'mundo' (world) in article bodies:\n",
      "- Human-written: 0.800218403339386\n",
      "- Chatbot-written: 0.059557199478149414\n"
     ]
    }
   ],
   "source": [
    "body_human_chatbot_distance(\"moda\", \"fashion\", \"mundo\", \"world\")"
   ]
  },
  {
   "cell_type": "code",
   "execution_count": 61,
   "id": "7e847add-c6d5-4aac-a8bd-18534189152c",
   "metadata": {},
   "outputs": [
    {
     "name": "stdout",
     "output_type": "stream",
     "text": [
      "Distance between 'moda' (fashion) and 'colonialismo' (colonialism) in article bodies:\n",
      "- Human-written: 0.992447854951024\n",
      "- Chatbot-written: 0.22330981492996216\n"
     ]
    }
   ],
   "source": [
    "body_human_chatbot_distance(\"moda\", \"fashion\", \"colonialismo\", \"colonialism\")"
   ]
  },
  {
   "cell_type": "code",
   "execution_count": 62,
   "id": "618007fc-d867-472a-a249-8801b4693bac",
   "metadata": {},
   "outputs": [
    {
     "name": "stdout",
     "output_type": "stream",
     "text": [
      "Distance between 'moda' (fashion) and 'industria' (industry) in article bodies:\n",
      "- Human-written: 0.7190319895744324\n",
      "- Chatbot-written: 0.08575439453125\n"
     ]
    }
   ],
   "source": [
    "body_human_chatbot_distance(\"moda\", \"fashion\", \"industria\", \"industry\")"
   ]
  },
  {
   "cell_type": "code",
   "execution_count": 63,
   "id": "db19ba1c-bbd2-4eb5-8f0b-2a3b1c28c03f",
   "metadata": {},
   "outputs": [
    {
     "name": "stdout",
     "output_type": "stream",
     "text": [
      "Word similarity in human-written article bodies: 'mujer' (woman) + 'moda' (fashion) - 'hombre' (man):\n",
      "- modo (distance: 0.5443403124809265)\n",
      "- kaiser (distance: 0.4664469063282013)\n",
      "- trabajarir (distance: 0.46084165573120117)\n",
      "- superado (distance: 0.4589770436286926)\n",
      "- maquillador (distance: 0.4526357650756836)\n",
      "- remar (distance: 0.44641393423080444)\n",
      "- comunicar (distance: 0.4406602680683136)\n",
      "- textilería (distance: 0.43647196888923645)\n",
      "- olección (distance: 0.43394094705581665)\n",
      "- economía (distance: 0.43353307247161865)\n",
      "\n",
      "Word similarity in chatbot-written article bodies 'mujer' (woman) + 'moda' (fashion) - 'hombre' (man) in chatbot-written article bodies:\n",
      "- modo (distance: 0.9695124626159668)\n",
      "- convertir (distance: 0.9662811756134033)\n",
      "- conclusión (distance: 0.9660041928291321)\n",
      "- cambio (distance: 0.9657852053642273)\n",
      "- futuro (distance: 0.9635902643203735)\n",
      "- industria (distance: 0.9540789127349854)\n",
      "- terreno (distance: 0.9537091851234436)\n",
      "- tendencia (distance: 0.9534328579902649)\n",
      "- crecimiento (distance: 0.9518364667892456)\n",
      "- economía (distance: 0.9476259350776672)\n"
     ]
    }
   ],
   "source": [
    "body_human_chatbot_most_similar_compare(\n",
    "    \"mujer\", \"woman\", \"moda\", \"fashion\", \"hombre\", \"man\"\n",
    ")"
   ]
  },
  {
   "cell_type": "code",
   "execution_count": 64,
   "id": "280dfc6c-993d-4eb7-bb4c-4e837625ed67",
   "metadata": {},
   "outputs": [
    {
     "name": "stdout",
     "output_type": "stream",
     "text": [
      "Word similarity in human-written article bodies: 'hombre' (man) + 'moda' (fashion) - 'mujer' (woman):\n",
      "- modo (distance: 0.6419758200645447)\n",
      "- traicionar (distance: 0.5333430171012878)\n",
      "- pecado (distance: 0.5205049514770508)\n",
      "- criticartir (distance: 0.5161091685295105)\n",
      "- secretaría (distance: 0.506213903427124)\n",
      "- no- (distance: 0.5057329535484314)\n",
      "- invitado (distance: 0.503787100315094)\n",
      "- inspiradoro (distance: 0.5034504532814026)\n",
      "- planteo (distance: 0.5021536350250244)\n",
      "- bottle (distance: 0.49154993891716003)\n",
      "\n",
      "Word similarity in chatbot-written article bodies 'hombre' (man) + 'moda' (fashion) - 'mujer' (woman) in chatbot-written article bodies:\n",
      "- presentar (distance: 0.9711872935295105)\n",
      "- esperar (distance: 0.9558221101760864)\n",
      "- resumen (distance: 0.9459088444709778)\n",
      "- popularizar (distance: 0.9451967477798462)\n",
      "- junto (distance: 0.9388555288314819)\n",
      "- ganar (distance: 0.9387624859809875)\n",
      "- explicar (distance: 0.9321936964988708)\n",
      "- sustentable (distance: 0.9321531653404236)\n",
      "- papel (distance: 0.9312441349029541)\n",
      "- frecuente (distance: 0.9299377799034119)\n"
     ]
    }
   ],
   "source": [
    "body_human_chatbot_most_similar_compare(\n",
    "    \"hombre\", \"man\", \"moda\", \"fashion\", \"mujer\", \"woman\"\n",
    ")"
   ]
  },
  {
   "cell_type": "code",
   "execution_count": 65,
   "id": "db1de0f3-dd16-42ae-9804-d84b7efc563c",
   "metadata": {},
   "outputs": [
    {
     "name": "stdout",
     "output_type": "stream",
     "text": [
      "Word similarity in human-written article bodies: 'mujer' (woman) + 'marca' (brand) - 'hombre' (man):\n",
      "- firma (distance: 0.6387438774108887)\n",
      "- marcar (distance: 0.5707240700721741)\n",
      "- sello (distance: 0.4826177656650543)\n",
      "- bohodot (distance: 0.48030343651771545)\n",
      "- firmar (distance: 0.4785173833370209)\n",
      "- kowtow (distance: 0.4747653007507324)\n",
      "- lujo (distance: 0.46787866950035095)\n",
      "- ético (distance: 0.4658910036087036)\n",
      "- mifuko (distance: 0.46116140484809875)\n",
      "- nachaber (distance: 0.45849835872650146)\n",
      "\n",
      "Word similarity in chatbot-written article bodies 'mujer' (woman) + 'marca' (brand) - 'hombre' (man) in chatbot-written article bodies:\n",
      "- marcar (distance: 0.9606087803840637)\n",
      "- práctico (distance: 0.9553403854370117)\n",
      "- caer (distance: 0.9481027722358704)\n",
      "- evitar (distance: 0.929162859916687)\n",
      "- sostenible (distance: 0.9286097884178162)\n",
      "- verificar (distance: 0.9268375635147095)\n",
      "- común (distance: 0.9250891208648682)\n",
      "- empresa (distance: 0.9241806864738464)\n",
      "- distinguir (distance: 0.922855019569397)\n",
      "- líder (distance: 0.9215915203094482)\n"
     ]
    }
   ],
   "source": [
    "body_human_chatbot_most_similar_compare(\n",
    "    \"mujer\", \"woman\", \"marca\", \"brand\", \"hombre\", \"man\"\n",
    ")"
   ]
  },
  {
   "cell_type": "code",
   "execution_count": 66,
   "id": "96566491-a2ff-4062-8367-1757060cebf7",
   "metadata": {},
   "outputs": [
    {
     "name": "stdout",
     "output_type": "stream",
     "text": [
      "Word similarity in human-written article bodies: 'mujer' (woman) + 'sostenibilidad' (sustainability) - 'hombre' (man):\n",
      "- sustentabilidad (distance: 0.6181811690330505)\n",
      "- transparencia (distance: 0.5818570852279663)\n",
      "- circularidad (distance: 0.5709753036499023)\n",
      "- sumo (distance: 0.524152934551239)\n",
      "- @bonoboss (distance: 0.5006284713745117)\n",
      "- concientización (distance: 0.4972883462905884)\n",
      "- ecología (distance: 0.49553394317626953)\n",
      "- sostenible (distance: 0.4881688058376312)\n",
      "- eco (distance: 0.4696113169193268)\n",
      "- ecoblanqueo (distance: 0.46216291189193726)\n",
      "\n",
      "Word similarity in chatbot-written article bodies 'mujer' (woman) + 'sostenibilidad' (sustainability) - 'hombre' (man) in chatbot-written article bodies:\n",
      "- enfrentar (distance: 0.936558187007904)\n",
      "- desafío (distance: 0.9312096834182739)\n",
      "- marco (distance: 0.924890398979187)\n",
      "- tema (distance: 0.9238261580467224)\n",
      "- comenzar (distance: 0.9132041335105896)\n",
      "- preocupación (distance: 0.9130990505218506)\n",
      "- confundir (distance: 0.912682831287384)\n",
      "- empresarial (distance: 0.911655843257904)\n",
      "- avanzar (distance: 0.9111906290054321)\n",
      "- comprometido (distance: 0.9111140966415405)\n"
     ]
    }
   ],
   "source": [
    "body_human_chatbot_most_similar_compare(\n",
    "    \"mujer\", \"woman\", \"sostenibilidad\", \"sustainability\", \"hombre\", \"man\"\n",
    ")"
   ]
  },
  {
   "cell_type": "code",
   "execution_count": 67,
   "id": "2c00ea8f-6f2a-4b97-819a-10f3b74e8aad",
   "metadata": {},
   "outputs": [
    {
     "name": "stdout",
     "output_type": "stream",
     "text": [
      "Word similarity in human-written article bodies: 'mujer' (woman) + 'clima' (climate) - 'hombre' (man):\n",
      "- desencantado (distance: 0.6294215321540833)\n",
      "- feminismo (distance: 0.6073720455169678)\n",
      "- contexto (distance: 0.6002323627471924)\n",
      "- paidós (distance: 0.5996465086936951)\n",
      "- interrogant (distance: 0.5917478203773499)\n",
      "- amplitud (distance: 0.5906208157539368)\n",
      "- covid-19 (distance: 0.5720852017402649)\n",
      "- normalidad (distance: 0.5607677698135376)\n",
      "- migratorio (distance: 0.560438871383667)\n",
      "- humanidad (distance: 0.560369074344635)\n",
      "\n",
      "Word similarity in chatbot-written article bodies 'mujer' (woman) + 'clima' (climate) - 'hombre' (man) in chatbot-written article bodies:\n",
      "- digital (distance: 0.9908615946769714)\n",
      "- poderoso (distance: 0.9906161427497864)\n",
      "- representar (distance: 0.9904299974441528)\n",
      "- famoso (distance: 0.9904019832611084)\n",
      "- avance (distance: 0.9904013872146606)\n",
      "- textile (distance: 0.9901056289672852)\n",
      "- francamagazine (distance: 0.9901034832000732)\n",
      "- llamado (distance: 0.9900423288345337)\n",
      "- rico (distance: 0.9898947477340698)\n",
      "- jeanne (distance: 0.9898756742477417)\n"
     ]
    }
   ],
   "source": [
    "body_human_chatbot_most_similar_compare(\n",
    "    \"mujer\", \"woman\", \"clima\", \"climate\", \"hombre\", \"man\"\n",
    ")"
   ]
  },
  {
   "cell_type": "code",
   "execution_count": 68,
   "id": "282f475d-ed55-4ad6-92df-72699d4b1a79",
   "metadata": {},
   "outputs": [
    {
     "name": "stdout",
     "output_type": "stream",
     "text": [
      "Word similarity in human-written article bodies: 'mujer' (woman) + 'compra' (buy) - 'hombre' (man):\n",
      "- acercarte (distance: 0.6177152991294861)\n",
      "- descuento (distance: 0.6139680743217468)\n",
      "- pasaremos (distance: 0.5603664517402649)\n",
      "- fransoublette.com (distance: 0.5602855682373047)\n",
      "- www.leapingbunny.org (distance: 0.5572226047515869)\n",
      "- membresía (distance: 0.5562737584114075)\n",
      "- cuantioso (distance: 0.5422312617301941)\n",
      "- impulsivo (distance: 0.5367271304130554)\n",
      "- profundicer (distance: 0.5335382223129272)\n",
      "- comparativo (distance: 0.5324923396110535)\n",
      "\n",
      "Word similarity in chatbot-written article bodies 'mujer' (woman) + 'compra' (buy) - 'hombre' (man) in chatbot-written article bodies:\n",
      "- actitud (distance: 0.9790014624595642)\n",
      "- volver (distance: 0.9779215455055237)\n",
      "- noticia (distance: 0.975894033908844)\n",
      "- frente (distance: 0.9732661843299866)\n",
      "- socialmente (distance: 0.9731048345565796)\n",
      "- explicar (distance: 0.972385585308075)\n",
      "- alentar (distance: 0.9715802073478699)\n",
      "- aguo (distance: 0.970513105392456)\n",
      "- personar (distance: 0.9703415632247925)\n",
      "- generación (distance: 0.9699411988258362)\n"
     ]
    }
   ],
   "source": [
    "body_human_chatbot_most_similar_compare(\n",
    "    \"mujer\", \"woman\", \"compra\", \"buy\", \"hombre\", \"man\"\n",
    ")"
   ]
  },
  {
   "cell_type": "markdown",
   "id": "bb297312-f2aa-4089-908c-b93e4bc07920",
   "metadata": {},
   "source": [
    "#### Woman/Man - Sustainable"
   ]
  },
  {
   "cell_type": "code",
   "execution_count": 69,
   "id": "c431951a-8d62-468f-a569-338032931c8a",
   "metadata": {},
   "outputs": [
    {
     "name": "stdout",
     "output_type": "stream",
     "text": [
      "Distance between 'mujer' (woman) and 'sostenible' (sustainable) in article bodies:\n",
      "- Human-written: 0.822450116276741\n",
      "- Chatbot-written: 0.3663790225982666\n",
      "Distance between 'hombre' (man) and 'sostenible' (sustainable) in article bodies:\n",
      "- Human-written: 0.8773988336324692\n",
      "- Chatbot-written: 0.40299129486083984\n"
     ]
    }
   ],
   "source": [
    "body_human_chatbot_distance(\"mujer\", \"woman\", \"sostenible\", \"sustainable\")\n",
    "body_human_chatbot_distance(\"hombre\", \"man\", \"sostenible\", \"sustainable\")"
   ]
  },
  {
   "cell_type": "markdown",
   "id": "eec4ab59-e17d-4ea8-8cfc-ba077b9732fb",
   "metadata": {},
   "source": [
    "### NAIVE 2D Projection"
   ]
  },
  {
   "cell_type": "markdown",
   "id": "fd18fa74-8a5a-4939-8194-84009af647e7",
   "metadata": {},
   "source": [
    "The NAIVE 2D projection is a form of visualization of the Word2Vec vector space that represents the relationships between words on a two-dimensional plane. We use it to determine potential biases by plotting the position of test words with regard to two couples of antonyms.\n",
    "\n",
    "The words that we are going to test:"
   ]
  },
  {
   "cell_type": "code",
   "execution_count": 70,
   "id": "4bb99e4a-947f-4b38-912b-034d7a3aca11",
   "metadata": {},
   "outputs": [],
   "source": [
    "test_words = [\n",
    "    \"calidad\",\n",
    "    \"diseño\",\n",
    "    \"reparar\",\n",
    "    \"costura\",\n",
    "    \"textil\",\n",
    "    \"artesanía\",\n",
    "    \"económico\",\n",
    "    \"reutilizar\",\n",
    "    \"reciclado\",\n",
    "    \"barato\",\n",
    "    \"urbano\",\n",
    "    \"sostenible\",\n",
    "    \"sustentable\",\n",
    "    \"inversión\",\n",
    "    \"lujo\",\n",
    "    \"exclusivo\",\n",
    "]"
   ]
  },
  {
   "cell_type": "code",
   "execution_count": 71,
   "id": "02634702-be96-429d-8c03-fa276457ca36",
   "metadata": {},
   "outputs": [],
   "source": [
    "# Define the function that plots the NAIVE 2D Projection\n",
    "def naive_projection(wv_model, x_axis, y_axis, test_words, plot_size=6):\n",
    "    # Validate input data\n",
    "    if len(x_axis) != 2:\n",
    "        print(\"You must only have two antonyms in your x-axis\")\n",
    "    elif len(y_axis) != 2:\n",
    "        print(\"You must only have two antonyms in your y-axis\")\n",
    "    else:  # Proceed with the projection\n",
    "        # Lists that will store the values for each test word\n",
    "        x = list()\n",
    "        y = list()\n",
    "\n",
    "        # Check that all test words are present in the model\n",
    "        present_words = []\n",
    "        for word in test_words:\n",
    "            if not wv_model.__contains__(word):\n",
    "                print(f\"The model does not contain the word '{word}', skipping it\")\n",
    "            else:\n",
    "                present_words.append(word)\n",
    "\n",
    "        # Calculate the x and y coordinates for each test word\n",
    "        for word in present_words:\n",
    "            x_val = wv_model.distance(x_axis[0], word) - wv_model.distance(\n",
    "                x_axis[1], word\n",
    "            )  # x_axis[0] is the first word of the antonym pair, x_axis[1] is the second word\n",
    "            y_val = wv_model.distance(y_axis[0], word) - wv_model.distance(\n",
    "                y_axis[1], word\n",
    "            )  # Same thing with y: 0/1 here select the second antonym pair\n",
    "            x.append(x_val)  # Save x/y in our lists above\n",
    "            y.append(y_val)\n",
    "\n",
    "        # Plot the x/y values just calculated\n",
    "        fig, ax = plt.subplots(figsize=(plot_size, plot_size))\n",
    "\n",
    "        # Show origin axes\n",
    "        ax.axhline(y=0, color=\"0.7\")\n",
    "        ax.axvline(x=0, color=\"0.7\")\n",
    "\n",
    "        for i in range(len(x)):\n",
    "            ax.scatter(x[i], y[i])\n",
    "            ax.annotate(present_words[i], (x[i], y[i]))\n",
    "\n",
    "        xlab = x_axis[0] + \" --- \" + x_axis[1]\n",
    "        ylab = y_axis[0] + \" --- \" + y_axis[1]\n",
    "        plt.xlabel(xlab)\n",
    "        plt.ylabel(ylab)\n",
    "\n",
    "        plt.show()"
   ]
  },
  {
   "cell_type": "markdown",
   "id": "b08b4b50-59d6-4980-bade-626c3c953744",
   "metadata": {},
   "source": [
    "#### Socio-economic bias"
   ]
  },
  {
   "cell_type": "code",
   "execution_count": 72,
   "id": "3f654fe0-fd55-4a96-87fe-7edb1bd15631",
   "metadata": {},
   "outputs": [
    {
     "data": {
      "image/png": "[encoded data removed]",
      "text/plain": [
       "<Figure size 600x600 with 1 Axes>"
      ]
     },
     "metadata": {},
     "output_type": "display_data"
    }
   ],
   "source": [
    "# Socio-economic bias / human\n",
    "x_axis = [\"lujo\", \"económico\"]\n",
    "y_axis = [\"único\", \"accesible\"]\n",
    "naive_projection(body_human_model, x_axis, y_axis, test_words)"
   ]
  },
  {
   "cell_type": "code",
   "execution_count": 73,
   "id": "a104dd0c-9986-4d03-8b22-41cb2ff5e522",
   "metadata": {},
   "outputs": [
    {
     "name": "stdout",
     "output_type": "stream",
     "text": [
      "The model does not contain the word 'exclusivo', skipping it\n"
     ]
    },
    {
     "data": {
      "image/png": "[encoded data removed]",
      "text/plain": [
       "<Figure size 600x600 with 1 Axes>"
      ]
     },
     "metadata": {},
     "output_type": "display_data"
    }
   ],
   "source": [
    "# Socio-economic bias / chatbot\n",
    "x_axis = [\"lujo\", \"económico\"]\n",
    "y_axis = [\"único\", \"accesible\"]\n",
    "naive_projection(body_chatbot_model, x_axis, y_axis, test_words)"
   ]
  },
  {
   "cell_type": "markdown",
   "id": "0e8b0b01-d3b4-486c-b895-af77f1f29e8e",
   "metadata": {},
   "source": [
    "#### Geographic bias"
   ]
  },
  {
   "cell_type": "code",
   "execution_count": 74,
   "id": "2396a7c0-0439-443f-bf4c-0ac3687eb3dc",
   "metadata": {},
   "outputs": [
    {
     "data": {
      "image/png": "[encoded data removed]",
      "text/plain": [
       "<Figure size 600x600 with 1 Axes>"
      ]
     },
     "metadata": {},
     "output_type": "display_data"
    }
   ],
   "source": [
    "# Geographic bias / human\n",
    "x_axis = [\"local\", \"global\"]\n",
    "y_axis = [\"lujo\", \"económico\"]\n",
    "naive_projection(body_human_model, x_axis, y_axis, test_words)"
   ]
  },
  {
   "cell_type": "code",
   "execution_count": 75,
   "id": "2a896877-772f-4675-9eb0-d92841f01a3c",
   "metadata": {},
   "outputs": [
    {
     "name": "stdout",
     "output_type": "stream",
     "text": [
      "The model does not contain the word 'exclusivo', skipping it\n"
     ]
    },
    {
     "data": {
      "image/png": "[encoded data removed]",
      "text/plain": [
       "<Figure size 600x600 with 1 Axes>"
      ]
     },
     "metadata": {},
     "output_type": "display_data"
    }
   ],
   "source": [
    "# Geographic bias / chatbots\n",
    "x_axis = [\"local\", \"global\"]\n",
    "y_axis = [\"lujo\", \"económico\"]\n",
    "naive_projection(body_chatbot_model, x_axis, y_axis, test_words)"
   ]
  },
  {
   "cell_type": "code",
   "execution_count": null,
   "id": "9a2ba0a8-7e73-4c2b-b8c9-93fec67dddc1",
   "metadata": {},
   "outputs": [],
   "source": []
  },
  {
   "cell_type": "code",
   "execution_count": null,
   "id": "476d5899-2f9c-402d-a9cb-fec25158f929",
   "metadata": {},
   "outputs": [],
   "source": []
  }
 ],
 "metadata": {
  "kernelspec": {
   "display_name": "Python 3 (ipykernel)",
   "language": "python",
   "name": "python3"
  },
  "language_info": {
   "codemirror_mode": {
    "name": "ipython",
    "version": 3
   },
   "file_extension": ".py",
   "mimetype": "text/x-python",
   "name": "python",
   "nbconvert_exporter": "python",
   "pygments_lexer": "ipython3",
   "version": "3.9.13"
  }
 },
 "nbformat": 4,
 "nbformat_minor": 5
}
