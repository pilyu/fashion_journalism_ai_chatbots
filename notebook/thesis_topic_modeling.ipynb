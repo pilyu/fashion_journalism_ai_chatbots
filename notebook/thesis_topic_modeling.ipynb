{
 "cells": [
  {
   "cell_type": "markdown",
   "id": "35020d22-9c8c-404d-8a40-5c54ca3125d8",
   "metadata": {},
   "source": [
    "# **Topic Modelling**"
   ]
  },
  {
   "cell_type": "code",
   "execution_count": null,
   "id": "998b7dde-13fc-4ed5-9836-37b0f2d3cb2a",
   "metadata": {},
   "outputs": [],
   "source": []
  },
  {
   "cell_type": "code",
   "execution_count": 1,
   "id": "32a279d7-33fc-4dc8-9785-c1485ecef295",
   "metadata": {},
   "outputs": [
    {
     "name": "stderr",
     "output_type": "stream",
     "text": [
      "[nltk_data] Downloading package stopwords to\n",
      "[nltk_data]     C:\\Users\\pilyu\\AppData\\Roaming\\nltk_data...\n",
      "[nltk_data]   Package stopwords is already up-to-date!\n"
     ]
    }
   ],
   "source": [
    "import pandas as pd\n",
    "import nltk\n",
    "from nltk.corpus import stopwords as nltk_stopwords\n",
    "from collections import Counter\n",
    "from nltk.tokenize import sent_tokenize\n",
    "nltk.download('stopwords')\n",
    "from nltk.stem import WordNetLemmatizer\n",
    "import spacy\n",
    "from glob import glob\n",
    "import numpy as np\n",
    "import matplotlib.pyplot as plt\n",
    "import gensim\n",
    "from gensim.models import KeyedVectors\n",
    "from pprint import pprint\n",
    "import gensim.corpora as corpora\n",
    "import pyLDAvis\n",
    "import pyLDAvis.gensim_models\n",
    "import matplotlib.pyplot as plt"
   ]
  },
  {
   "cell_type": "code",
   "execution_count": 2,
   "id": "27031147-1bc1-4260-8c82-4c0dbf7a2829",
   "metadata": {},
   "outputs": [
    {
     "data": {
      "text/html": [
       "<div>\n",
       "<style scoped>\n",
       "    .dataframe tbody tr th:only-of-type {\n",
       "        vertical-align: middle;\n",
       "    }\n",
       "\n",
       "    .dataframe tbody tr th {\n",
       "        vertical-align: top;\n",
       "    }\n",
       "\n",
       "    .dataframe thead th {\n",
       "        text-align: right;\n",
       "    }\n",
       "</style>\n",
       "<table border=\"1\" class=\"dataframe\">\n",
       "  <thead>\n",
       "    <tr style=\"text-align: right;\">\n",
       "      <th></th>\n",
       "      <th>source</th>\n",
       "      <th>source_type</th>\n",
       "      <th>date</th>\n",
       "      <th>author</th>\n",
       "      <th>headline</th>\n",
       "      <th>lead</th>\n",
       "      <th>body</th>\n",
       "      <th>keywords</th>\n",
       "      <th>country</th>\n",
       "    </tr>\n",
       "  </thead>\n",
       "  <tbody>\n",
       "    <tr>\n",
       "      <th>1048</th>\n",
       "      <td>Vogue Spain</td>\n",
       "      <td>human</td>\n",
       "      <td>2020-03-11 09:31:51.813000+00:00</td>\n",
       "      <td>Julia Hobbs</td>\n",
       "      <td>Los 8 principales temas de conversación del me...</td>\n",
       "      <td>Aquí tienes los 8 temas que más han dado que h...</td>\n",
       "      <td>El mes de la moda temporada otoño-invierno 202...</td>\n",
       "      <td>tendencias otoño-invierno 2020-2021,semanas de...</td>\n",
       "      <td>Spain</td>\n",
       "    </tr>\n",
       "    <tr>\n",
       "      <th>674</th>\n",
       "      <td>Telva</td>\n",
       "      <td>human</td>\n",
       "      <td>2022-03-24 13:03:16+00:00</td>\n",
       "      <td>The Newsroom</td>\n",
       "      <td>Los marketplaces que reúnen marcas conscientes...</td>\n",
       "      <td>Reunimos los marketplaces que apuestan por la ...</td>\n",
       "      <td>Propuestas con una producción artesanal , vega...</td>\n",
       "      <td>moda,moda sostenible,Noticias de moda</td>\n",
       "      <td>Spain</td>\n",
       "    </tr>\n",
       "    <tr>\n",
       "      <th>91</th>\n",
       "      <td>Revista COSAS</td>\n",
       "      <td>human</td>\n",
       "      <td>2023-02-06 20:49:58+00:00</td>\n",
       "      <td>Gabriela Peña</td>\n",
       "      <td>Entrevista al arquitecto Tom Gimbert: Hacia un...</td>\n",
       "      <td>Desde hace una década, Tom Gimbert, arquitecto...</td>\n",
       "      <td>Desde hace una década, Tom Gimbert, arquitecto...</td>\n",
       "      <td>Tom Gimbert</td>\n",
       "      <td>Peru</td>\n",
       "    </tr>\n",
       "    <tr>\n",
       "      <th>765</th>\n",
       "      <td>Viste La Calle</td>\n",
       "      <td>human</td>\n",
       "      <td>2018-07-12 14:00:39+00:00</td>\n",
       "      <td>Andrea Martínez Maugard</td>\n",
       "      <td>Entrevista a los creadores de I-Tal Collective...</td>\n",
       "      <td>Vicente, uno de los creadores de I-Tal Collect...</td>\n",
       "      <td>Vicente, uno de los creadores de I-Tal Collect...</td>\n",
       "      <td>moda</td>\n",
       "      <td>Chile</td>\n",
       "    </tr>\n",
       "    <tr>\n",
       "      <th>429</th>\n",
       "      <td>Ocean Drive</td>\n",
       "      <td>human</td>\n",
       "      <td>2020-10-29 16:38:11+00:00</td>\n",
       "      <td>Luis Fernando Jimenez</td>\n",
       "      <td>MODA SOSTENIBLE A UN NUEVO NIVEL: ZARA Y PANTO...</td>\n",
       "      <td>Aunque el 2020 no ha sido como muchos lo esper...</td>\n",
       "      <td>Aunque el 2020 no ha sido como muchos lo esper...</td>\n",
       "      <td>eco-friendly,moda ecológica,sostenibilidad,Zara</td>\n",
       "      <td>Venezuela</td>\n",
       "    </tr>\n",
       "  </tbody>\n",
       "</table>\n",
       "</div>"
      ],
      "text/plain": [
       "              source source_type                             date  \\\n",
       "1048     Vogue Spain       human 2020-03-11 09:31:51.813000+00:00   \n",
       "674            Telva       human        2022-03-24 13:03:16+00:00   \n",
       "91     Revista COSAS       human        2023-02-06 20:49:58+00:00   \n",
       "765   Viste La Calle       human        2018-07-12 14:00:39+00:00   \n",
       "429      Ocean Drive       human        2020-10-29 16:38:11+00:00   \n",
       "\n",
       "                       author  \\\n",
       "1048              Julia Hobbs   \n",
       "674              The Newsroom   \n",
       "91              Gabriela Peña   \n",
       "765   Andrea Martínez Maugard   \n",
       "429     Luis Fernando Jimenez   \n",
       "\n",
       "                                               headline  \\\n",
       "1048  Los 8 principales temas de conversación del me...   \n",
       "674   Los marketplaces que reúnen marcas conscientes...   \n",
       "91    Entrevista al arquitecto Tom Gimbert: Hacia un...   \n",
       "765   Entrevista a los creadores de I-Tal Collective...   \n",
       "429   MODA SOSTENIBLE A UN NUEVO NIVEL: ZARA Y PANTO...   \n",
       "\n",
       "                                                   lead  \\\n",
       "1048  Aquí tienes los 8 temas que más han dado que h...   \n",
       "674   Reunimos los marketplaces que apuestan por la ...   \n",
       "91    Desde hace una década, Tom Gimbert, arquitecto...   \n",
       "765   Vicente, uno de los creadores de I-Tal Collect...   \n",
       "429   Aunque el 2020 no ha sido como muchos lo esper...   \n",
       "\n",
       "                                                   body  \\\n",
       "1048  El mes de la moda temporada otoño-invierno 202...   \n",
       "674   Propuestas con una producción artesanal , vega...   \n",
       "91    Desde hace una década, Tom Gimbert, arquitecto...   \n",
       "765   Vicente, uno de los creadores de I-Tal Collect...   \n",
       "429   Aunque el 2020 no ha sido como muchos lo esper...   \n",
       "\n",
       "                                               keywords    country  \n",
       "1048  tendencias otoño-invierno 2020-2021,semanas de...      Spain  \n",
       "674               moda,moda sostenible,Noticias de moda      Spain  \n",
       "91                                          Tom Gimbert       Peru  \n",
       "765                                                moda      Chile  \n",
       "429     eco-friendly,moda ecológica,sostenibilidad,Zara  Venezuela  "
      ]
     },
     "execution_count": 2,
     "metadata": {},
     "output_type": "execute_result"
    }
   ],
   "source": [
    "df = pd.DataFrame(columns= ['source', 'source_type', 'date', 'author', 'headline', 'lead', 'body', 'keywords', 'country'])\n",
    "\n",
    "input_data = {\n",
    "    'jasper.csv': 'chatbot',\n",
    "    'chatgpt.csv': 'chatbot',\n",
    "    'perplexity.csv': 'chatbot',\n",
    "    'cosas_pe.csv': 'human',\n",
    "    'harpersbazaar_mx.csv': 'human',\n",
    "    'instyle_es.csv': 'human',\n",
    "    'lofficiel_ar.csv': 'human',\n",
    "    'oceandrive_ve.csv': 'human',\n",
    "    'paula_cl.csv': 'human',\n",
    "    'somosohlala_ar.csv': 'human',\n",
    "    'telva_es.csv': 'human',\n",
    "    'vistelacalle_cl.csv': 'human',\n",
    "    'vogue_es.csv': 'human',\n",
    "    'vogue_mx.csv': 'human',\n",
    "}\n",
    "\n",
    "for filename, source_type in input_data.items():\n",
    "    data = pd.read_csv(f'../data/{filename}', header=0, delimiter=\",\", encoding='utf-8', dtype=str)\n",
    "    data['source_type'] = source_type\n",
    "    df = pd.concat([df, data], ignore_index=True)\n",
    "\n",
    "df['date'] = pd.to_datetime(df['date'], format='ISO8601', utc=True)\n",
    "df['author'] = df['author'].str.title()\n",
    "df.sample(5)"
   ]
  },
  {
   "cell_type": "markdown",
   "id": "9decd49c-9b5f-4d73-96aa-ac0f3dc67bd5",
   "metadata": {},
   "source": [
    "### Prepare data "
   ]
  },
  {
   "cell_type": "code",
   "execution_count": 3,
   "id": "245217d5-598e-4796-8c38-65ed9e6d05b5",
   "metadata": {},
   "outputs": [
    {
     "data": {
      "text/plain": [
       "0       La industria de la moda es uno de los sectores...\n",
       "1       Industria de la moda y moda sostenible La pala...\n",
       "2       ¿Cómo la industria de la moda latinoamericana ...\n",
       "3       Industria de la moda, moda sostenible y moda s...\n",
       "4       La industria de la moda se une para el Día Mun...\n",
       "                              ...                        \n",
       "1145    Blake Lively confirma la tendencia de los vest...\n",
       "1146    Dakota Johnson eleva un crop top básico con pa...\n",
       "1147    Cómo llevar vestido boho transparente y lucir ...\n",
       "1148    Anitta lleva pantalones baggy y sandalias de t...\n",
       "1149    Culpar a la sobrepoblación del cambio climátic...\n",
       "Name: combined_text, Length: 1150, dtype: object"
      ]
     },
     "execution_count": 3,
     "metadata": {},
     "output_type": "execute_result"
    }
   ],
   "source": [
    "df['combined_text'] = df[['headline', 'lead', 'body']].fillna('').apply(lambda x: ' '.join(x), axis=1)\n",
    "df['combined_text'] "
   ]
  },
  {
   "cell_type": "code",
   "execution_count": 4,
   "id": "8425096e-bc82-48f6-b4f7-89202c644f75",
   "metadata": {},
   "outputs": [],
   "source": [
    "nlp = spacy.load(\"es_core_news_md\", disable = [\"ner\",\"parser\"])"
   ]
  },
  {
   "cell_type": "code",
   "execution_count": 5,
   "id": "042f06fc-d80d-4701-8093-8b5d1d588e02",
   "metadata": {},
   "outputs": [],
   "source": [
    "from unidecode import unidecode # Remove accents\n",
    "\n",
    "def cleaning(doc):\n",
    "    txt = [unidecode(token.lemma_.lower()) for token in doc if not token.is_stop and len(token) > 1 and token.lemma_ != 'el' and token.text != 'el'] # this line tokenizes, takes out stopwords, and returns lemmas\n",
    "    return \" \".join(txt)\n",
    "\n",
    "def process(series):\n",
    "    docs = [row for row in series]\n",
    "    txts = [cleaning(doc) for doc in nlp.pipe(docs, n_process=-1, batch_size=500)] # nlp.pipe is a bit of spacy magic to run the process efficiently \n",
    "    return txts"
   ]
  },
  {
   "cell_type": "code",
   "execution_count": 6,
   "id": "ab98a935-5976-4b6c-9ec1-4a66847671de",
   "metadata": {},
   "outputs": [
    {
     "data": {
      "text/html": [
       "<div>\n",
       "<style scoped>\n",
       "    .dataframe tbody tr th:only-of-type {\n",
       "        vertical-align: middle;\n",
       "    }\n",
       "\n",
       "    .dataframe tbody tr th {\n",
       "        vertical-align: top;\n",
       "    }\n",
       "\n",
       "    .dataframe thead th {\n",
       "        text-align: right;\n",
       "    }\n",
       "</style>\n",
       "<table border=\"1\" class=\"dataframe\">\n",
       "  <thead>\n",
       "    <tr style=\"text-align: right;\">\n",
       "      <th></th>\n",
       "      <th>source</th>\n",
       "      <th>source_type</th>\n",
       "      <th>date</th>\n",
       "      <th>author</th>\n",
       "      <th>headline</th>\n",
       "      <th>lead</th>\n",
       "      <th>body</th>\n",
       "      <th>keywords</th>\n",
       "      <th>country</th>\n",
       "      <th>combined_text</th>\n",
       "    </tr>\n",
       "  </thead>\n",
       "  <tbody>\n",
       "    <tr>\n",
       "      <th>607</th>\n",
       "      <td>Telva</td>\n",
       "      <td>human</td>\n",
       "      <td>2022-07-21 06:28:55+00:00</td>\n",
       "      <td>Elisa Álvarez Espejo</td>\n",
       "      <td>La firma gallega que está detrás de las blusas...</td>\n",
       "      <td>Las blusas (y vestidos) de la firma Andion no ...</td>\n",
       "      <td>El talento de los gallegos junto con su trabaj...</td>\n",
       "      <td>moda,Tendencias de moda,moda sostenible,Looks</td>\n",
       "      <td>Spain</td>\n",
       "      <td>firma gallego blusa likes ig marca merecer pen...</td>\n",
       "    </tr>\n",
       "    <tr>\n",
       "      <th>810</th>\n",
       "      <td>Viste La Calle</td>\n",
       "      <td>human</td>\n",
       "      <td>2016-11-17 16:00:22+00:00</td>\n",
       "      <td>Vistelacalle</td>\n",
       "      <td>In.Seek.Too, la marca de ropa sustentable y mu...</td>\n",
       "      <td>Colaboración por Paulina Mardones Una misma ...</td>\n",
       "      <td>Colaboración por Paulina Mardones Una misma pr...</td>\n",
       "      <td>moda</td>\n",
       "      <td>Chile</td>\n",
       "      <td>in seek too marca ropa sustentable multifuncio...</td>\n",
       "    </tr>\n",
       "    <tr>\n",
       "      <th>944</th>\n",
       "      <td>Vogue Spain</td>\n",
       "      <td>human</td>\n",
       "      <td>2021-01-18 14:57:49.330000+00:00</td>\n",
       "      <td>Emily Chan</td>\n",
       "      <td>Stella McCartney nos da las claves para lograr...</td>\n",
       "      <td>Stella McCartney se ha dirigido a los alumnos ...</td>\n",
       "      <td>Stella McCartney está ahora mismo pasando tran...</td>\n",
       "      <td>stella mccartney,sostenibilidad,vogue 365</td>\n",
       "      <td>Spain</td>\n",
       "      <td>stella mccartney clave lograr industria sosten...</td>\n",
       "    </tr>\n",
       "    <tr>\n",
       "      <th>1086</th>\n",
       "      <td>Vogue Spain</td>\n",
       "      <td>human</td>\n",
       "      <td>2020-05-02 07:03:10.138000+00:00</td>\n",
       "      <td>Patricia Moreno</td>\n",
       "      <td>Cuando acabe el confinamiento, ¿compraremos de...</td>\n",
       "      <td>Expertos en sostenibilidad y consumo creen que...</td>\n",
       "      <td>Descarga el número íntegro y gratuito de Vogue...</td>\n",
       "      <td>sostenibilidad,ecológico,stella mccartney,h&amp;m,...</td>\n",
       "      <td>Spain</td>\n",
       "      <td>acabar confinamiento compraremos sostenible la...</td>\n",
       "    </tr>\n",
       "    <tr>\n",
       "      <th>179</th>\n",
       "      <td>Revista COSAS</td>\n",
       "      <td>human</td>\n",
       "      <td>2021-10-02 02:19:54+00:00</td>\n",
       "      <td>Arianna Gonzales</td>\n",
       "      <td>Paris Fashion Week: El resumen de las mejores ...</td>\n",
       "      <td>En esta nota, descubre el resumen definitivo d...</td>\n",
       "      <td>El calendario de moda 2021 llega a su parte fi...</td>\n",
       "      <td>Balmain,Loewe,YSL</td>\n",
       "      <td>Peru</td>\n",
       "      <td>paris fashion week resumen mejor pasarela nota...</td>\n",
       "    </tr>\n",
       "    <tr>\n",
       "      <th>234</th>\n",
       "      <td>Harper's Bazaar</td>\n",
       "      <td>human</td>\n",
       "      <td>2021-11-12 00:00:00+00:00</td>\n",
       "      <td>Lorenza García</td>\n",
       "      <td>FOTOS: Las mejores vestidas los de los CDFA Fa...</td>\n",
       "      <td>Los CFDA Fashion Awards 2021 fueron todo un éx...</td>\n",
       "      <td>Los CFDA Fashion Awards estuvieron a cargo de ...</td>\n",
       "      <td>looks,Cara Delevingne,CFDA,Zendaya,Emily Blunt...</td>\n",
       "      <td>Mexico</td>\n",
       "      <td>foto mejor vestido cdfa fashion awards cfda fa...</td>\n",
       "    </tr>\n",
       "    <tr>\n",
       "      <th>130</th>\n",
       "      <td>Revista COSAS</td>\n",
       "      <td>human</td>\n",
       "      <td>2023-01-15 21:44:08+00:00</td>\n",
       "      <td>Walter Chunga</td>\n",
       "      <td>¿Quién es R'Bonney Gabriel, la ganadora del Mi...</td>\n",
       "      <td>La modelo y diseñadora de modas estadounidense...</td>\n",
       "      <td>La modelo y diseñadora de modas estadounidense...</td>\n",
       "      <td>EE.UU.,Estados Unidos,Miss Universo 2022,R'Bon...</td>\n",
       "      <td>Peru</td>\n",
       "      <td>r'bonney gabriel ganadora miss universo 2022 m...</td>\n",
       "    </tr>\n",
       "    <tr>\n",
       "      <th>874</th>\n",
       "      <td>Vogue Spain</td>\n",
       "      <td>human</td>\n",
       "      <td>2022-06-25 12:55:46.770000+00:00</td>\n",
       "      <td>Tatiana Ojea</td>\n",
       "      <td>SUAGONGO, la firma de joyas atemporales y sost...</td>\n",
       "      <td>Aunando tecnología, sostenibilidad y artesanía...</td>\n",
       "      <td>SUAGONGO es una firma de joyas minimalistas y ...</td>\n",
       "      <td>joyas,sostenibilidad,pendientes,vogue 365,moda...</td>\n",
       "      <td>Spain</td>\n",
       "      <td>suagongo firma joya atemporal sostenible auten...</td>\n",
       "    </tr>\n",
       "    <tr>\n",
       "      <th>1146</th>\n",
       "      <td>Vogue Mexico</td>\n",
       "      <td>human</td>\n",
       "      <td>2023-04-28 16:59:40+00:00</td>\n",
       "      <td>Katharina Fuchs</td>\n",
       "      <td>Dakota Johnson eleva un crop top básico con pa...</td>\n",
       "      <td>Los crop tops lisos no son precisamente famoso...</td>\n",
       "      <td>Dakota Johnson lo demuestra con su look más re...</td>\n",
       "      <td>Dakota Johnson</td>\n",
       "      <td>Mexico</td>\n",
       "      <td>dakota johnson elevar crop top basico pantalon...</td>\n",
       "    </tr>\n",
       "    <tr>\n",
       "      <th>14</th>\n",
       "      <td>Jasper</td>\n",
       "      <td>chatbot</td>\n",
       "      <td>2023-04-06 10:07:27+00:00</td>\n",
       "      <td>Jasper</td>\n",
       "      <td>El futuro de la moda sostenible: ¿Qué cambios ...</td>\n",
       "      <td>El futuro de la moda sostenible está aquí para...</td>\n",
       "      <td>Los últimos años han visto un gran impulso en ...</td>\n",
       "      <td>moda,moda futura,moda sostenible,moda sustentable</td>\n",
       "      <td>NaN</td>\n",
       "      <td>futuro moda sostenible cambio esperar ano \\r  ...</td>\n",
       "    </tr>\n",
       "  </tbody>\n",
       "</table>\n",
       "</div>"
      ],
      "text/plain": [
       "               source source_type                             date  \\\n",
       "607             Telva       human        2022-07-21 06:28:55+00:00   \n",
       "810    Viste La Calle       human        2016-11-17 16:00:22+00:00   \n",
       "944       Vogue Spain       human 2021-01-18 14:57:49.330000+00:00   \n",
       "1086      Vogue Spain       human 2020-05-02 07:03:10.138000+00:00   \n",
       "179     Revista COSAS       human        2021-10-02 02:19:54+00:00   \n",
       "234   Harper's Bazaar       human        2021-11-12 00:00:00+00:00   \n",
       "130     Revista COSAS       human        2023-01-15 21:44:08+00:00   \n",
       "874       Vogue Spain       human 2022-06-25 12:55:46.770000+00:00   \n",
       "1146     Vogue Mexico       human        2023-04-28 16:59:40+00:00   \n",
       "14             Jasper     chatbot        2023-04-06 10:07:27+00:00   \n",
       "\n",
       "                    author                                           headline  \\\n",
       "607   Elisa Álvarez Espejo  La firma gallega que está detrás de las blusas...   \n",
       "810           Vistelacalle  In.Seek.Too, la marca de ropa sustentable y mu...   \n",
       "944             Emily Chan  Stella McCartney nos da las claves para lograr...   \n",
       "1086       Patricia Moreno  Cuando acabe el confinamiento, ¿compraremos de...   \n",
       "179       Arianna Gonzales  Paris Fashion Week: El resumen de las mejores ...   \n",
       "234         Lorenza García  FOTOS: Las mejores vestidas los de los CDFA Fa...   \n",
       "130          Walter Chunga  ¿Quién es R'Bonney Gabriel, la ganadora del Mi...   \n",
       "874           Tatiana Ojea  SUAGONGO, la firma de joyas atemporales y sost...   \n",
       "1146       Katharina Fuchs  Dakota Johnson eleva un crop top básico con pa...   \n",
       "14                  Jasper  El futuro de la moda sostenible: ¿Qué cambios ...   \n",
       "\n",
       "                                                   lead  \\\n",
       "607   Las blusas (y vestidos) de la firma Andion no ...   \n",
       "810     Colaboración por Paulina Mardones Una misma ...   \n",
       "944   Stella McCartney se ha dirigido a los alumnos ...   \n",
       "1086  Expertos en sostenibilidad y consumo creen que...   \n",
       "179   En esta nota, descubre el resumen definitivo d...   \n",
       "234   Los CFDA Fashion Awards 2021 fueron todo un éx...   \n",
       "130   La modelo y diseñadora de modas estadounidense...   \n",
       "874   Aunando tecnología, sostenibilidad y artesanía...   \n",
       "1146  Los crop tops lisos no son precisamente famoso...   \n",
       "14    El futuro de la moda sostenible está aquí para...   \n",
       "\n",
       "                                                   body  \\\n",
       "607   El talento de los gallegos junto con su trabaj...   \n",
       "810   Colaboración por Paulina Mardones Una misma pr...   \n",
       "944   Stella McCartney está ahora mismo pasando tran...   \n",
       "1086  Descarga el número íntegro y gratuito de Vogue...   \n",
       "179   El calendario de moda 2021 llega a su parte fi...   \n",
       "234   Los CFDA Fashion Awards estuvieron a cargo de ...   \n",
       "130   La modelo y diseñadora de modas estadounidense...   \n",
       "874   SUAGONGO es una firma de joyas minimalistas y ...   \n",
       "1146  Dakota Johnson lo demuestra con su look más re...   \n",
       "14    Los últimos años han visto un gran impulso en ...   \n",
       "\n",
       "                                               keywords country  \\\n",
       "607       moda,Tendencias de moda,moda sostenible,Looks   Spain   \n",
       "810                                                moda   Chile   \n",
       "944           stella mccartney,sostenibilidad,vogue 365   Spain   \n",
       "1086  sostenibilidad,ecológico,stella mccartney,h&m,...   Spain   \n",
       "179                                   Balmain,Loewe,YSL    Peru   \n",
       "234   looks,Cara Delevingne,CFDA,Zendaya,Emily Blunt...  Mexico   \n",
       "130   EE.UU.,Estados Unidos,Miss Universo 2022,R'Bon...    Peru   \n",
       "874   joyas,sostenibilidad,pendientes,vogue 365,moda...   Spain   \n",
       "1146                                     Dakota Johnson  Mexico   \n",
       "14    moda,moda futura,moda sostenible,moda sustentable     NaN   \n",
       "\n",
       "                                          combined_text  \n",
       "607   firma gallego blusa likes ig marca merecer pen...  \n",
       "810   in seek too marca ropa sustentable multifuncio...  \n",
       "944   stella mccartney clave lograr industria sosten...  \n",
       "1086  acabar confinamiento compraremos sostenible la...  \n",
       "179   paris fashion week resumen mejor pasarela nota...  \n",
       "234   foto mejor vestido cdfa fashion awards cfda fa...  \n",
       "130   r'bonney gabriel ganadora miss universo 2022 m...  \n",
       "874   suagongo firma joya atemporal sostenible auten...  \n",
       "1146  dakota johnson elevar crop top basico pantalon...  \n",
       "14    futuro moda sostenible cambio esperar ano \\r  ...  "
      ]
     },
     "execution_count": 6,
     "metadata": {},
     "output_type": "execute_result"
    }
   ],
   "source": [
    "df['combined_text'] = process(df['combined_text'])\n",
    "df.sample(10)"
   ]
  },
  {
   "cell_type": "code",
   "execution_count": 7,
   "id": "f893fab3-b43a-4268-b94f-ae5068aa4973",
   "metadata": {},
   "outputs": [],
   "source": [
    "texts = [text.split() for text in df['combined_text'].tolist()]"
   ]
  },
  {
   "cell_type": "code",
   "execution_count": 8,
   "id": "af4e24eb-c50e-4bbe-9888-199899a292f5",
   "metadata": {},
   "outputs": [],
   "source": [
    "id2word = corpora.Dictionary(texts)\n",
    "corpus = [id2word.doc2bow(text) for text in texts]"
   ]
  },
  {
   "cell_type": "code",
   "execution_count": 9,
   "id": "ef9b90d9-99fb-4fb9-bbef-4db8741cc327",
   "metadata": {},
   "outputs": [
    {
     "name": "stdout",
     "output_type": "stream",
     "text": [
      "[[(0, 1), (1, 1), (2, 1), (3, 2), (4, 1), (5, 1), (6, 1), (7, 1), (8, 2), (9, 1), (10, 1), (11, 1), (12, 1), (13, 1), (14, 1), (15, 1), (16, 1), (17, 1), (18, 1), (19, 1), (20, 1), (21, 1), (22, 1), (23, 1), (24, 1), (25, 1), (26, 1), (27, 1), (28, 1), (29, 1), (30, 1), (31, 1), (32, 1), (33, 3), (34, 1), (35, 1), (36, 2), (37, 1), (38, 1), (39, 1), (40, 2), (41, 1), (42, 1), (43, 1), (44, 1), (45, 1), (46, 1), (47, 1), (48, 1), (49, 4), (50, 1), (51, 1), (52, 1), (53, 1), (54, 1), (55, 2), (56, 1), (57, 1), (58, 1), (59, 1), (60, 3), (61, 1), (62, 1), (63, 1), (64, 1), (65, 1), (66, 1), (67, 1), (68, 1), (69, 1), (70, 2), (71, 1), (72, 1), (73, 3), (74, 1), (75, 1), (76, 1), (77, 1), (78, 1), (79, 1), (80, 1), (81, 1), (82, 1), (83, 1), (84, 1), (85, 1), (86, 1), (87, 1), (88, 1), (89, 1), (90, 13), (91, 1), (92, 1), (93, 1), (94, 1), (95, 1), (96, 1), (97, 1), (98, 1), (99, 1), (100, 1), (101, 1), (102, 1), (103, 1), (104, 1), (105, 1), (106, 1), (107, 3), (108, 1), (109, 1), (110, 1), (111, 2), (112, 3), (113, 13), (114, 1), (115, 1), (116, 5), (117, 1), (118, 1), (119, 1), (120, 3), (121, 1), (122, 1), (123, 1), (124, 1), (125, 1), (126, 1), (127, 1), (128, 1), (129, 1), (130, 2), (131, 1), (132, 1), (133, 1), (134, 1), (135, 1), (136, 1), (137, 4), (138, 3), (139, 2), (140, 2), (141, 1), (142, 1), (143, 1), (144, 1), (145, 1), (146, 1), (147, 1), (148, 1), (149, 1), (150, 1), (151, 1), (152, 2), (153, 1), (154, 1), (155, 1), (156, 1), (157, 1), (158, 1), (159, 1), (160, 1), (161, 1), (162, 2), (163, 1), (164, 2), (165, 1), (166, 1), (167, 1), (168, 1), (169, 1), (170, 2), (171, 1), (172, 3), (173, 1), (174, 1), (175, 2), (176, 1), (177, 1), (178, 1), (179, 1), (180, 1), (181, 1), (182, 1), (183, 1), (184, 3), (185, 1), (186, 1), (187, 1)], [(6, 6), (8, 1), (11, 1), (17, 3), (18, 1), (20, 6), (25, 1), (27, 4), (30, 4), (33, 7), (35, 2), (36, 2), (38, 1), (39, 1), (40, 4), (41, 1), (48, 7), (49, 2), (50, 2), (52, 1), (53, 3), (57, 2), (61, 1), (65, 1), (66, 3), (70, 1), (71, 3), (72, 1), (75, 5), (78, 2), (80, 2), (84, 2), (86, 2), (89, 1), (90, 22), (93, 1), (95, 1), (106, 2), (107, 5), (109, 5), (110, 4), (112, 1), (113, 27), (116, 2), (118, 1), (120, 3), (121, 1), (122, 1), (133, 1), (134, 8), (135, 1), (136, 3), (137, 7), (138, 6), (140, 8), (142, 2), (143, 1), (144, 1), (148, 1), (150, 1), (151, 1), (152, 3), (155, 2), (156, 1), (159, 1), (160, 7), (162, 2), (163, 1), (164, 4), (165, 1), (167, 1), (169, 4), (170, 19), (171, 1), (172, 9), (173, 2), (174, 1), (175, 1), (176, 5), (180, 1), (184, 1), (185, 1), (188, 1), (189, 1), (190, 2), (191, 1), (192, 2), (193, 1), (194, 1), (195, 1), (196, 1), (197, 1), (198, 1), (199, 3), (200, 2), (201, 1), (202, 2), (203, 2), (204, 2), (205, 5), (206, 1), (207, 1), (208, 1), (209, 1), (210, 1), (211, 1), (212, 1), (213, 1), (214, 1), (215, 1), (216, 1), (217, 1), (218, 2), (219, 1), (220, 1), (221, 1), (222, 1), (223, 1), (224, 2), (225, 1), (226, 2), (227, 1), (228, 1), (229, 1), (230, 2), (231, 2), (232, 2), (233, 1), (234, 6), (235, 1), (236, 1), (237, 1), (238, 1), (239, 1), (240, 2), (241, 2), (242, 2), (243, 1), (244, 1), (245, 1), (246, 1), (247, 1), (248, 3), (249, 5), (250, 1), (251, 1), (252, 1), (253, 1), (254, 1), (255, 1), (256, 1), (257, 1), (258, 1), (259, 1), (260, 1), (261, 2), (262, 1), (263, 1), (264, 3), (265, 1), (266, 1), (267, 1), (268, 1), (269, 1), (270, 1), (271, 2), (272, 2), (273, 1), (274, 1), (275, 1), (276, 1), (277, 1), (278, 1), (279, 1), (280, 2), (281, 2), (282, 2), (283, 3), (284, 1), (285, 1), (286, 1), (287, 1), (288, 1), (289, 4), (290, 1), (291, 2), (292, 1), (293, 1), (294, 1), (295, 1), (296, 1), (297, 1), (298, 1), (299, 1), (300, 1), (301, 1), (302, 6), (303, 1), (304, 3), (305, 6), (306, 1), (307, 1), (308, 1), (309, 1), (310, 1), (311, 1), (312, 1), (313, 1), (314, 1), (315, 3), (316, 7), (317, 1), (318, 3), (319, 1), (320, 1), (321, 1), (322, 1), (323, 1), (324, 1), (325, 1), (326, 1), (327, 1), (328, 5), (329, 1), (330, 1), (331, 1), (332, 1), (333, 1), (334, 1), (335, 2), (336, 4), (337, 1), (338, 1), (339, 1), (340, 2), (341, 3), (342, 1), (343, 3), (344, 1), (345, 1), (346, 1), (347, 1), (348, 2), (349, 1), (350, 1), (351, 1), (352, 2), (353, 1), (354, 1), (355, 1), (356, 1), (357, 1), (358, 1), (359, 1), (360, 3), (361, 1), (362, 1), (363, 1), (364, 1), (365, 1), (366, 1), (367, 2), (368, 1), (369, 1), (370, 1), (371, 1), (372, 1), (373, 1), (374, 1), (375, 1), (376, 1), (377, 2), (378, 1), (379, 3), (380, 1), (381, 1), (382, 1), (383, 1), (384, 1), (385, 1), (386, 2), (387, 2), (388, 1), (389, 1), (390, 1), (391, 2), (392, 1), (393, 1), (394, 1), (395, 1), (396, 1), (397, 4), (398, 1), (399, 1), (400, 1), (401, 1), (402, 1), (403, 3), (404, 2), (405, 3), (406, 1), (407, 1), (408, 1), (409, 1), (410, 1), (411, 1), (412, 1), (413, 1), (414, 1), (415, 1), (416, 2), (417, 1), (418, 1), (419, 1), (420, 1), (421, 1), (422, 1), (423, 1), (424, 3), (425, 3), (426, 2), (427, 2), (428, 1), (429, 1), (430, 1), (431, 1), (432, 1), (433, 1), (434, 2), (435, 1), (436, 1), (437, 4), (438, 1), (439, 2), (440, 1), (441, 1), (442, 1), (443, 1), (444, 2), (445, 1), (446, 1), (447, 1), (448, 1), (449, 5), (450, 1), (451, 1)]]\n"
     ]
    }
   ],
   "source": [
    "print(corpus[:2])\n",
    "#the first number is the index of the word in the vocabulary\n",
    "#the second number is the frequency of this word in the specific document"
   ]
  },
  {
   "cell_type": "code",
   "execution_count": 10,
   "id": "61e6be8e-2d54-4348-a841-c9aaae0f6def",
   "metadata": {},
   "outputs": [
    {
     "name": "stdout",
     "output_type": "stream",
     "text": [
      "[[('3d', 1), ('abrumador', 1), ('acceso', 1), ('accesorio', 2), ('agregar', 1), ('alimentar', 1), ('ambiente', 1), ('america', 1), ('ano', 2), ('aprender', 1), ('area', 1), ('asequible', 1), ('asia', 1), ('aspecto', 1), ('auge', 1), ('avance', 1), ('avanzar', 1), ('ayudar', 1), ('buscar', 1), ('cambiar', 1), ('cambio', 1), ('comercializacion', 1), ('comienzo', 1), ('competitivo', 1), ('complejo', 1), ('comprador', 1), ('comprension', 1), ('comprometido', 1), ('comunicar', 1), ('conexion', 1), ('consciente', 1), ('considerar', 1), ('constante', 1), ('consumidor', 3), ('continuar', 1), ('contribuir', 1), ('crear', 2), ('crecer', 1), ('crecimiento', 1), ('demanda', 1), ('desafio', 2), ('desarrollo', 1), ('describir', 1), ('descubrir', 1), ('digital', 1), ('dinamica', 1), ('dinamico', 1), ('directo', 1), ('disenador', 1), ('diseno', 4), ('economia', 1), ('ejemplo', 1), ('elemento', 1), ('emergente', 1), ('emocion', 1), ('emocionante', 2), ('emprender', 1), ('empresa', 1), ('energizante', 1), ('entrar', 1), ('estar', 3), ('estilo', 1), ('estudiar', 1), ('europa', 1), ('everlane', 1), ('experimentar', 1), ('explorar', 1), ('exponencialmente', 1), ('expresion', 1), ('exterior', 1), ('fabricacion', 2), ('fabricante', 1), ('fashion', 1), ('forma', 3), ('formar', 1), ('fuente', 1), ('generado', 1), ('gestion', 1), ('global', 1), ('gracias', 1), ('hablar', 1), ('herramienta', 1), ('idea', 1), ('identidad', 1), ('implementar', 1), ('implicar', 1), ('importante', 1), ('importar', 1), ('impresion', 1), ('impulsar', 1), ('industria', 13), ('industrio', 1), ('ingreso', 1), ('innovador', 1), ('intentalo', 1), ('interesado', 1), ('internacional', 1), ('inventario', 1), ('involucrartar', 1), ('junto', 1), (\"levi's\", 1), ('linea', 1), ('listo', 1), ('llegada', 1), ('llevar', 1), ('lugar', 1), ('manera', 1), ('marca', 3), ('marketing', 1), ('material', 1), ('mejorar', 1), ('mercado', 2), ('minorista', 3), ('moda', 13), ('motivar', 1), ('movimiento', 1), ('mundo', 5), ('norte', 1), ('objetivo', 1), ('obtener', 1), ('ofrecer', 3), ('opcion', 1), ('oportunidad', 1), ('optimizar', 1), ('palabras', 1), ('pasarela', 1), ('permitir', 1), ('perpetuo', 1), ('personalidad', 1), ('plataforma', 1), ('poder', 2), ('poderoso', 1), ('posibilidad', 1), ('positivo', 1), ('practica', 1), ('precio', 1), ('prenda', 1), ('proceso', 4), ('produccion', 3), ('productivo', 2), ('producto', 2), ('productor', 1), ('profesional', 1), ('profundizar', 1), ('programa', 1), ('proveedor', 1), ('rapidez', 1), ('rapido', 1), ('realizar', 1), ('realmente', 1), ('reconocer', 1), ('recurso', 1), ('reducir', 2), ('referir', 1), ('reformation', 1), ('relacionado', 1), ('relevante', 1), ('residuo', 1), ('respectar', 1), ('respetuoso', 1), ('responsable', 1), ('revolucionario', 1), ('ropa', 2), ('satisfacer', 1), ('sector', 2), ('sentido', 1), ('servir', 1), ('significar', 1), ('software', 1), ('solucion', 1), ('sostenible', 2), ('tecnologia', 1), ('tendencia', 3), ('textil', 1), ('tiempo', 1), ('trabajar', 2), ('trabajo', 1), ('transparente', 1), ('valioso', 1), ('vehiculo', 1), ('ver', 1), ('vestir', 1), ('viaje', 1), ('vibrante', 1), ('vida', 3), ('volver', 1), ('yo', 1), ('zapato', 1)], [('ambiente', 6), ('ano', 1), ('asequible', 1), ('ayudar', 3), ('buscar', 1), ('cambio', 6), ('comprador', 1), ('comprometido', 4), ('consciente', 4), ('consumidor', 7), ('contribuir', 2), ('crear', 2), ('crecimiento', 1), ('demanda', 1), ('desafio', 4), ('desarrollo', 1), ('disenador', 7), ('diseno', 2), ('economia', 2), ('elemento', 1), ('emergente', 3), ('empresa', 2), ('estilo', 1), ('experimentar', 1), ('explorar', 3), ('fabricacion', 1), ('fabricante', 3), ('fashion', 1), ('fuente', 5), ('global', 2), ('hablar', 2), ('implementar', 2), ('importante', 2), ('impulsar', 1), ('industria', 22), ('innovador', 1), ('interesado', 1), ('manera', 2), ('marca', 5), ('material', 5), ('mejorar', 4), ('minorista', 1), ('moda', 27), ('mundo', 2), ('objetivo', 1), ('ofrecer', 3), ('opcion', 1), ('oportunidad', 1), ('positivo', 1), ('practica', 8), ('precio', 1), ('prenda', 3), ('proceso', 7), ('produccion', 6), ('producto', 8), ('profesional', 2), ('profundizar', 1), ('programa', 1), ('realizar', 1), ('reconocer', 1), ('recurso', 1), ('reducir', 3), ('relacionado', 2), ('relevante', 1), ('respetuoso', 1), ('responsable', 7), ('ropa', 2), ('satisfacer', 1), ('sector', 4), ('sentido', 1), ('significar', 1), ('solucion', 4), ('sostenible', 19), ('tecnologia', 1), ('tendencia', 9), ('textil', 2), ('tiempo', 1), ('trabajar', 1), ('trabajo', 5), ('ver', 1), ('vida', 1), ('volver', 1), ('abierto', 1), ('abogar', 1), ('abrazar', 2), ('academico', 1), ('accion', 2), ('acorde', 1), ('activo', 1), ('actualizada', 1), ('actualizar', 1), ('adaptar', 1), ('adherir', 1), ('adopcion', 3), ('adoptar', 2), ('afectar', 1), ('agua', 2), ('alcanzar', 2), ('alternativo', 2), ('ambiental', 5), ('ambito', 1), ('amigabl', 1), ('anadido', 1), ('analizarer', 1), ('animar', 1), ('anualmente', 1), ('apostar', 1), ('apoyar', 1), ('articulo', 1), ('asegurar', 1), ('asumir', 1), ('aumentar', 1), ('autoridad', 2), ('barrera', 1), ('basado', 1), ('beneficioso', 1), ('bolsillo', 1), ('brecha', 1), ('cadena', 2), ('calidad', 1), ('camino', 2), ('celebridad', 1), ('cerrar', 1), ('cientifico', 1), ('circular', 2), ('clave', 2), ('climatico', 2), ('comenzar', 1), ('comercial', 6), ('comercializabl', 1), ('compartir', 1), ('compartirer', 1), ('competitividad', 1), ('compradore@', 1), ('comprar', 2), ('compromiso', 2), ('concepto', 2), ('conciencia', 1), ('conjunto', 1), ('consciencia', 1), ('conservar', 1), ('consideracion', 1), ('construir', 3), ('consultado', 5), ('consultar', 1), ('consumo', 1), ('contenido', 1), ('continuo', 1), ('convergencia', 1), ('conversacion', 1), ('coordinador', 1), ('correcto', 1), ('creador', 1), ('creatividad', 1), ('creativo', 1), ('creciente', 2), ('crisis', 1), ('cuestion', 1), ('cuidado', 3), ('dar', 1), ('dato', 1), ('debate', 1), ('decision', 1), ('demostrar', 1), ('depender', 1), ('desarrollar', 2), ('desperdicio', 2), ('destacar', 1), ('destructivo', 1), ('disenador@', 1), ('disenar', 1), ('diverso', 1), ('dolares', 1), ('donacion', 1), ('ecologicamente', 2), ('ecologico', 2), ('eficiente', 2), ('el', 3), ('empleo', 1), ('en', 1), ('encontrar', 1), ('energia', 1), ('enfoque', 1), ('enfrentar', 4), ('entorno', 1), ('entrevista', 2), ('entrevistado', 1), ('entrevistar', 1), ('envio', 1), ('equilibrar', 1), ('equilibrio', 1), ('equitativo', 1), ('esencial', 1), ('especializado', 1), ('esperar', 1), ('eticamente', 1), ('etico', 6), ('evaluar', 1), ('existente', 3), ('experto', 6), ('explicar', 1), ('extraido', 1), ('fabricado', 1), ('fabricante@', 1), ('facilitar', 1), ('favor', 1), ('fibra', 1), ('final', 1), ('final.-', 1), ('fundamental', 3), ('futuro', 7), ('garantizar', 1), ('generacion', 3), ('global.-', 1), ('gobierno', 1), ('habito', 1), ('hacer', 1), ('hecho', 1), ('historico', 1), ('humanidad', 1), ('humano', 1), ('igualdad', 1), ('impacto', 5), ('importancia', 1), ('impulso', 1), ('incorporar', 1), ('industrial', 1), ('informado', 1), ('informativo', 1), ('innovacion', 2), ('innovadora', 4), ('inorganico', 1), ('interferencia', 1), ('introduccion', 1), ('investigar', 2), ('involucrado', 3), ('involucrar', 1), ('justo', 3), ('laboral', 1), ('lider', 1), ('lienzo', 1), ('limpio', 1), ('lograr', 2), ('mano', 1), ('mantener', 1), ('materia', 1), ('medida', 2), ('medioambiental', 1), ('medioambiente', 1), ('mejora', 1), ('menor', 1), ('mercadeo', 1), ('mezcla', 1), ('militante', 1), ('modelo', 3), ('moderno', 1), ('modo', 1), ('mudar', 1), ('natural', 1), ('necesario', 1), ('negociar', 1), ('negocio', 2), ('no-destructiva', 1), ('norma', 1), ('numero', 1), ('obra', 1), ('operativo', 1), ('organico', 1), ('palabra', 1), ('papel', 1), ('pasar', 1), ('paso', 2), ('persona', 1), ('planeta', 3), ('planta', 1), ('plantear', 1), ('poner', 1), ('portafolio', 1), ('preocupacion', 1), ('presentar', 1), ('preservar', 2), ('presion', 2), ('presupuesto', 1), ('prevenir', 1), ('primo', 1), ('principal', 2), ('principio', 1), ('producir', 1), ('profundidad', 1), ('prometer', 1), ('promocion', 1), ('promover', 4), ('proyecto', 1), ('quimico', 1), ('real', 1), ('recibir', 1), ('reciclada', 1), ('reciclado', 3), ('recomendacion', 2), ('recomendar', 3), ('reconocimente', 1), ('recopilar', 1), ('redefineir', 1), ('renacer', 1), ('renovable', 1), ('requerir', 1), ('requisito', 1), ('respetar', 1), ('respeto', 1), ('responder', 1), ('responsabilidad', 2), ('respuesta', 1), ('rodear', 1), ('sacrificar', 1), ('significativo', 1), ('simplificar', 1), ('situacion', 1), ('slow', 1), ('social', 3), ('socialmente', 3), ('sostenibilidad', 2), ('sugerir', 2), ('superar', 1), ('suponer', 1), ('surgimiento', 1), ('sustentabl', 1), ('tapete', 1), ('tecnica', 1), ('tecnologico', 2), ('tejido', 1), ('tela', 1), ('tema', 4), ('tierra', 1), ('tomar', 2), ('torno', 1), ('trabajador', 1), ('tradicional', 1), ('traer', 1), ('transformacion', 2), ('trillon', 1), ('unico', 1), ('usado', 1), ('utilizar', 1), ('valor', 5), ('vanguardia', 1), ('visual', 1)]]\n"
     ]
    }
   ],
   "source": [
    "print([[(id2word[id], freq) for id, freq in cp] for cp in corpus[:2]])"
   ]
  },
  {
   "cell_type": "markdown",
   "id": "28b1f843-e25b-4834-993c-d8d97b43b771",
   "metadata": {},
   "source": [
    "### LDA Topic Modeling"
   ]
  },
  {
   "cell_type": "markdown",
   "id": "b7fc1176-1dec-4011-a686-7699060343d1",
   "metadata": {},
   "source": [
    "LDA is a mathematical model used to locate and measure the mix of words associated with each topic and, in turn, determine the mix of topics used to describe each document. Resources: http://www.morethanbooks.eu/topic-modeling-introduccion/ and http://www.cs.columbia.edu/~blei/papers/Blei2012.pdf"
   ]
  },
  {
   "cell_type": "markdown",
   "id": "f02f007c-bd26-4a14-8c4b-d32ca3ddbbb6",
   "metadata": {},
   "source": [
    "Some explanation of the parameters:\n",
    "    \n",
    "- `corpus` : the bag of word corpus we have created in the previous cell\n",
    "- `id2word`: the vocabulary index\n",
    "- `num_topic`: the number of topics we want to create\n",
    "- `random_state`: a number (seed) to replicate the results if the topic modeling is run by someone else or at a different moment\n",
    "- `update_every`: Number of documents to be iterated through for each update. Set to 0 for batch learning, > 1 for online iterative learning.\n",
    "- `chunksize`: Number of documents to be used in each training chunk (i.e., how many documents are processed at a time in the training algorithm). The higher the better, but it depends also on the number of documents we have in the corpus. With big collections of documents we can use values like 100 or higher.\n",
    "- `passes`: Number of passes through the corpus during training (i.e., how often we train the model on the entire corpus; how often we repeat a particular loop over each document)\n",
    "- `per_word_topics`: If True, the model also computes a list of topics, sorted in descending order of most likely topics for each word, along with their phi values multiplied by the feature length (i.e. word count)."
   ]
  },
  {
   "cell_type": "code",
   "execution_count": 11,
   "id": "df765899-2bd1-47ca-9a27-bcc4b5162588",
   "metadata": {},
   "outputs": [],
   "source": [
    "# First training "
   ]
  },
  {
   "cell_type": "code",
   "execution_count": 12,
   "id": "121425f9-7918-48c4-80ea-af07ce073577",
   "metadata": {},
   "outputs": [],
   "source": [
    "# The number of documents to be used in this training is 50 (chunksize) \n",
    "lda_model = gensim.models.ldamodel.LdaModel(\n",
    "   corpus=corpus, id2word=id2word, num_topics=3, random_state=42, \n",
    "   update_every=1, chunksize=50, passes=10, alpha='auto', per_word_topics=True\n",
    ")"
   ]
  },
  {
   "cell_type": "code",
   "execution_count": 13,
   "id": "bf093264-5b6e-433c-a21f-1a219a2e5725",
   "metadata": {},
   "outputs": [
    {
     "name": "stdout",
     "output_type": "stream",
     "text": [
      "[(0,\n",
      "  '0.016*\"moda\" + 0.012*\"marca\" + 0.010*\"sostenible\" + 0.010*\"el\" + '\n",
      "  '0.009*\"prenda\" + 0.009*\"ropa\" + 0.008*\"industria\" + 0.007*\"producto\" + '\n",
      "  '0.006*\"material\" + 0.006*\"comprar\"'),\n",
      " (1,\n",
      "  '0.011*\"el\" + 0.008*\"ano\" + 0.005*\"vida\" + 0.004*\"mundo\" + 0.004*\"persona\" + '\n",
      "  '0.004*\"climatico\" + 0.004*\"mujer\" + 0.003*\"querer\" + 0.003*\"ver\" + '\n",
      "  '0.003*\"cosa\"'),\n",
      " (2,\n",
      "  '0.009*\"moda\" + 0.009*\"coleccion\" + 0.008*\"vestido\" + 0.007*\"diseno\" + '\n",
      "  '0.006*\"pieza\" + 0.006*\"el\" + 0.006*\"marca\" + 0.006*\"vintage\" + '\n",
      "  '0.005*\"prenda\" + 0.005*\"firma\"')]\n"
     ]
    }
   ],
   "source": [
    "# Print the topic (number before comma), and the list of associated words per each topic (The numbers next to the words represent the importance or weight of each word in the given topic)\n",
    "pprint(lda_model.print_topics())\n",
    "doc_lda = lda_model[corpus]"
   ]
  },
  {
   "cell_type": "code",
   "execution_count": 14,
   "id": "72a3b7f4-884f-4725-b460-31430afd125b",
   "metadata": {},
   "outputs": [
    {
     "data": {
      "text/html": [
       "\n",
       "<link rel=\"stylesheet\" type=\"text/css\" href=\"https://cdn.jsdelivr.net/gh/bmabey/pyLDAvis@3.4.0/pyLDAvis/js/ldavis.v1.0.0.css\">\n",
       "\n",
       "\n",
       "<div id=\"ldavis_el2519619072668788161431740524\" style=\"background-color:white;\"></div>\n",
       "<script type=\"text/javascript\">\n",
       "\n",
       "var ldavis_el2519619072668788161431740524_data = {\"mdsDat\": {\"x\": [-0.18131035469474172, 0.04741373471470751, 0.13389661998003408], \"y\": [0.04499527613961545, -0.1639957411586337, 0.11900046501901827], \"topics\": [1, 2, 3], \"cluster\": [1, 1, 1], \"Freq\": [37.231962665670785, 37.035256254862134, 25.73278107946708]}, \"tinfo\": {\"Term\": [\"moda\", \"coleccion\", \"vestido\", \"sostenible\", \"industria\", \"marca\", \"producto\", \"ropa\", \"pieza\", \"vintage\", \"prenda\", \"look\", \"material\", \"impacto\", \"diseno\", \"comprar\", \"color\", \"sostenibilidad\", \"consumo\", \"produccion\", \"reducir\", \"plastico\", \"cambio\", \"ecologico\", \"reciclado\", \"firma\", \"responsable\", \"climatico\", \"mujer\", \"instagram\", \"vestido\", \"look\", \"color\", \"lucir\", \"bolso\", \"pasarela\", \"desfile\", \"rojo\", \"elegante\", \"actriz\", \"on\", \"alfombra\", \"joya\", \"estampado\", \"chanel\", \"otono-invierno\", \"sandalia\", \"falda\", \"primavera-verano\", \"tacon\", \"bordado\", \"clasico\", \"camisa\", \"arte\", \"edicion\", \"miu\", \"combinar\", \"primavera\", \"top\", \"by\", \"negro\", \"instagram\", \"coleccion\", \"vintage\", \"ocasion\", \"pieza\", \"evento\", \"perfecto\", \"chaqueta\", \"disenadora\", \"diseno\", \"verano\", \"estilo\", \"disenador\", \"blanco\", \"firma\", \"temporada\", \"pantalon\", \"mano\", \"the\", \"moda\", \"tienda\", \"marca\", \"prenda\", \"el\", \"ano\", \"llevar\", \"tendencia\", \"armario\", \"modelo\", \"crear\", \"impacto\", \"reducir\", \"consumo\", \"consumidor\", \"ecologico\", \"medioambiental\", \"circular\", \"carbono\", \"huella\", \"residuo\", \"emision\", \"plastico\", \"ambiental\", \"medioambiente\", \"reciclaje\", \"reparacion\", \"poliester\", \"envase\", \"vegano\", \"etico\", \"cosmetica\", \"sintetico\", \"suministro\", \"responsable\", \"consumir\", \"vegan\", \"quimico\", \"fast\", \"respetuoso\", \"ambiente\", \"producto\", \"produccion\", \"aceite\", \"industria\", \"practica\", \"reciclar\", \"sostenible\", \"consciente\", \"comprar\", \"material\", \"proceso\", \"ropa\", \"compra\", \"sustentable\", \"sostenibilidad\", \"reciclado\", \"agua\", \"global\", \"utilizar\", \"moda\", \"marca\", \"prenda\", \"planeta\", \"empresa\", \"textil\", \"cambio\", \"el\", \"forma\", \"ano\", \"mundo\", \"vida\", \"crear\", \"mercurio\", \"retrogrado\", \"ejercicio\", \"poblacion\", \"turismo\", \"comida\", \"comer\", \"thunberg\", \"orgcas\", \"perdida\", \"intimo\", \"sufrir\", \"greta\", \"signo\", \"incendio\", \"disciplina\", \"politico\", \"hijo\", \"allende\", \"pescador\", \"acontecimiento\", \"universidad\", \"racial\", \"california\", \"coche\", \"cocina\", \"guerra\", \"astrology\", \"bici\", \"barre\", \"tiburon\", \"agencia\", \"decir\", \"mereath\", \"vivir\", \"cop27\", \"gomez\", \"libro\", \"zona\", \"gente\", \"joven\", \"espacio\", \"experiencia\", \"mover\", \"movimiento\", \"cosa\", \"climatico\", \"persona\", \"ciudad\", \"sentir\", \"pais\", \"mujer\", \"ano\", \"el\", \"empezar\", \"pasar\", \"querer\", \"vida\", \"crisis\", \"proyecto\", \"ver\", \"mundo\", \"trabajar\", \"tiempo\", \"tener\", \"yo\", \"cambio\", \"lugar\", \"llegar\", \"momento\", \"poder\", \"social\", \"casa\", \"trabajo\"], \"Freq\": [3305.0, 1186.0, 999.0, 1427.0, 1030.0, 2388.0, 933.0, 1343.0, 898.0, 797.0, 1904.0, 608.0, 911.0, 591.0, 1140.0, 839.0, 508.0, 826.0, 476.0, 495.0, 438.0, 405.0, 798.0, 369.0, 565.0, 963.0, 364.0, 572.0, 629.0, 373.0, 998.9389819519395, 607.5910589461391, 507.2448837307443, 332.29417391267583, 315.72545363903083, 307.5411010204825, 324.53977076897814, 255.2914228116415, 200.950470479873, 260.7047785292536, 224.4397938718138, 193.01899050763873, 199.71553566500222, 177.69077466057567, 176.89462705153534, 180.0082394607657, 170.79731380982005, 145.46058243417363, 158.41365808043415, 146.52493062919606, 140.69089277963562, 203.94003244644517, 137.73471779676467, 187.85982695867455, 246.88368733661065, 130.33716872793948, 170.26123484679783, 161.8163225971769, 121.29071539858622, 130.02043733798362, 315.2817258960902, 367.19345295465416, 1150.1842889242694, 766.9969671350093, 182.27866175542823, 841.865007279082, 248.55363490970592, 266.4650765609519, 194.76276995829383, 373.71910462651033, 890.9341763650266, 235.74036725769423, 469.51476898432105, 468.4460786402235, 270.6428377025263, 655.1597777057472, 356.6319041353878, 243.2857181711856, 504.5111403208128, 423.380033449306, 1162.727484109779, 427.95279206716896, 789.0331128553854, 680.0958652769792, 825.5507400098951, 569.4350146649983, 332.76407729633075, 331.13658458716066, 323.66989868535865, 311.82651063524054, 319.2792341495572, 590.4520192030141, 437.86333218020803, 475.15278241806476, 314.56556256116926, 368.2287195394191, 296.3798334551177, 277.87494079844834, 257.6511558443048, 250.7150719509747, 234.42774937739955, 238.83674536023833, 404.11584645297086, 195.68793034577797, 197.3963069734752, 160.51783780347597, 161.10442597794255, 146.08753062096199, 137.47794427328782, 147.9850977313227, 147.63359353591915, 114.43621927666538, 117.54420255345669, 107.00814245020042, 362.11754339031916, 157.83741036577263, 111.9759493665855, 97.79764433432142, 96.60659592543355, 97.24253448919443, 324.459296861475, 915.4515986626084, 488.89851797187697, 106.64337538536849, 996.0886848585893, 229.22252336224773, 223.70570385773985, 1269.3422558789212, 307.89936050915395, 752.3490733292823, 811.3487877282437, 425.56201315424914, 1134.2612280393068, 343.6717765750372, 322.8538639096059, 709.5953208869213, 495.510722288521, 342.79850285472116, 384.60905008341626, 430.3236732612332, 2142.1224570398313, 1599.1352713881347, 1224.4267625552718, 418.38312259839137, 423.81195540295124, 394.15981176945826, 551.9617985219475, 1258.9839701175547, 500.70497476728724, 629.1507828620668, 484.1355147895078, 450.4187061250452, 384.71735079856467, 181.53869365146983, 125.70522094481684, 91.12813856375499, 74.906349028076, 63.107833625295996, 73.3080216550825, 69.59616979943574, 61.1834876379554, 80.2565654443646, 56.4460188780561, 57.47865594340604, 54.29436071065021, 66.97965925773244, 45.32760544165048, 54.30995989036965, 46.86331870407059, 45.40807218244662, 107.84144542098126, 45.98478583972875, 43.608853673759675, 43.50748021452923, 101.29589811523962, 43.95218674132699, 49.74610225948246, 45.15104096691991, 42.314296730849954, 41.08313597839417, 57.57165186900062, 34.6579414873574, 53.145488017220885, 99.56888546291547, 50.14296935765389, 140.83487701962184, 53.01451217173156, 262.6426148096833, 61.009187218201106, 49.87972922321099, 142.60094594584584, 119.37531559665156, 265.4565965445515, 192.9243132952042, 199.36491873656541, 157.38933947642832, 81.63164745267171, 174.59798126546633, 273.5502908572551, 331.33573950553756, 333.49370733435273, 189.92278085162218, 170.8203922819604, 223.74078445396398, 325.1733530166707, 707.2928106470939, 983.3671145306866, 246.27157792161043, 227.44339981366537, 296.6473207629024, 420.1374687920317, 183.30387180196547, 237.6305231327691, 292.7995725863143, 364.9279950875752, 267.75350417804657, 272.8185610142906, 227.9772077733643, 197.2610973466676, 244.1392941262966, 212.9499060715383, 197.8594653377275, 198.88812042348218, 222.92097385862036, 197.52478817121118, 194.23608659995926, 192.37215959729], \"Total\": [3305.0, 1186.0, 999.0, 1427.0, 1030.0, 2388.0, 933.0, 1343.0, 898.0, 797.0, 1904.0, 608.0, 911.0, 591.0, 1140.0, 839.0, 508.0, 826.0, 476.0, 495.0, 438.0, 405.0, 798.0, 369.0, 565.0, 963.0, 364.0, 572.0, 629.0, 373.0, 999.7005391644589, 608.3279610849758, 508.0703317901957, 333.0532580901105, 316.5123885954602, 308.3326820168552, 325.38288453708685, 256.06156951794736, 201.6843500469738, 261.7043670334949, 225.3033542693415, 193.80088366996677, 200.5282442125394, 178.41914383150868, 177.65513436977133, 180.7956422341916, 171.58864150958152, 146.18149728761318, 159.22567273846576, 147.28711537943855, 141.4295545228352, 205.0116693142986, 138.4671062003533, 188.86710533167027, 248.25099621374633, 131.06183540801737, 171.27804160876735, 162.8299210956594, 122.05081230506705, 130.8656660613258, 318.8911055802724, 373.4497920277683, 1186.4535956085208, 797.0222690752972, 184.59350581802477, 898.131514170394, 254.5261472320432, 273.9771185070555, 198.00958388315348, 409.3468647706505, 1140.991909210561, 247.918740638723, 594.0379130770085, 601.2461958674593, 304.03816449776224, 963.2400505624495, 440.34045238422027, 265.65362444871715, 775.2970051849928, 606.6147813403941, 3305.288574751573, 687.5345701195025, 2388.574673084524, 1904.9203312753796, 3067.9018246581363, 1905.8786081741591, 551.0390633140432, 548.6345205827863, 564.2598613516074, 576.1089114611243, 760.7933414669874, 591.355935652197, 438.7055763013003, 476.07548573150973, 315.35680038482064, 369.25262322046103, 297.3206274712006, 278.78175345568246, 258.54090441535493, 251.5918724482031, 235.2510772729577, 239.7148381891337, 405.6297446992018, 196.47540437854065, 198.32293972529635, 161.34759043089468, 162.02716693466203, 146.9410416261151, 138.28134705408687, 148.87101212191723, 148.59349145255527, 115.21749533027348, 118.3787430468265, 107.78381661600237, 364.7705807323492, 159.05501661076596, 112.85181388615814, 98.58929362829055, 97.39288515525676, 98.04122294042575, 327.14111262748906, 933.1365635949355, 495.55146544939436, 107.53424037788076, 1030.6873312691882, 234.77047970349994, 230.95131164997397, 1427.46891391556, 324.7262288760199, 839.7763309638519, 911.1621171417798, 462.4152180153599, 1343.5264087003013, 368.4596007772744, 345.91283878829665, 826.368276049983, 565.803865102542, 373.67379507790054, 428.2499113846119, 490.48607635480556, 3305.288574751573, 2388.574673084524, 1904.9203312753796, 496.39189629467523, 506.3689341482871, 466.96181681313846, 798.3843208304395, 3067.9018246581363, 789.3363130629416, 1905.8786081741591, 1011.5168855823822, 1037.0843583353499, 760.7933414669874, 182.41402878330283, 126.59375124049826, 91.98743395373954, 75.64803425367106, 63.84891598688417, 74.19425293348502, 70.47025443441629, 61.96857529248764, 81.32808485569775, 57.22884389727206, 58.277849389763034, 55.118437916898294, 68.02935105158397, 46.06578281645931, 55.199105487424234, 47.63740897265786, 46.17243000158516, 109.66672622489831, 46.7701056270553, 44.3599536752153, 44.25981590211535, 103.13246607017162, 44.76142319483686, 50.67212899434194, 46.00613285051616, 43.134114082491294, 41.91855113337847, 58.75209070102174, 35.37210763182384, 54.2437091831578, 102.07828620482441, 51.20417909581214, 146.1269560643213, 54.223386456103086, 283.99577374306574, 62.92421149261621, 51.04570042435753, 155.7807600607725, 134.93393790517598, 332.96288692311975, 245.53865835121772, 258.9498548527907, 201.90253529472406, 92.68791850972039, 242.07890131147457, 438.460423796399, 572.0222503574284, 588.8898552414166, 281.6566881618145, 252.26702989627813, 370.4247331687446, 629.4645928831845, 1905.8786081741591, 3067.9018246581363, 437.13943414273933, 392.95242443705683, 595.4389097411945, 1037.0843583353499, 300.35684036837677, 456.36231479139445, 648.8471663643918, 1011.5168855823822, 663.8117519999037, 715.7417495328212, 582.0705338749087, 433.2884812795097, 798.3843208304395, 550.972624212342, 441.63267981790517, 472.0048366999564, 779.1763869172644, 462.02005813065574, 451.6312702585401, 494.64398176448594], \"Category\": [\"Default\", \"Default\", \"Default\", \"Default\", \"Default\", \"Default\", \"Default\", \"Default\", \"Default\", \"Default\", \"Default\", \"Default\", \"Default\", \"Default\", \"Default\", \"Default\", \"Default\", \"Default\", \"Default\", \"Default\", \"Default\", \"Default\", \"Default\", \"Default\", \"Default\", \"Default\", \"Default\", \"Default\", \"Default\", \"Default\", \"Topic1\", \"Topic1\", \"Topic1\", \"Topic1\", \"Topic1\", \"Topic1\", \"Topic1\", \"Topic1\", \"Topic1\", \"Topic1\", \"Topic1\", \"Topic1\", \"Topic1\", \"Topic1\", \"Topic1\", \"Topic1\", \"Topic1\", \"Topic1\", \"Topic1\", \"Topic1\", \"Topic1\", \"Topic1\", \"Topic1\", \"Topic1\", \"Topic1\", \"Topic1\", \"Topic1\", \"Topic1\", \"Topic1\", \"Topic1\", \"Topic1\", \"Topic1\", \"Topic1\", \"Topic1\", \"Topic1\", \"Topic1\", \"Topic1\", \"Topic1\", \"Topic1\", \"Topic1\", \"Topic1\", \"Topic1\", \"Topic1\", \"Topic1\", \"Topic1\", \"Topic1\", \"Topic1\", \"Topic1\", \"Topic1\", \"Topic1\", \"Topic1\", \"Topic1\", \"Topic1\", \"Topic1\", \"Topic1\", \"Topic1\", \"Topic1\", \"Topic1\", \"Topic1\", \"Topic1\", \"Topic1\", \"Topic2\", \"Topic2\", \"Topic2\", \"Topic2\", \"Topic2\", \"Topic2\", \"Topic2\", \"Topic2\", \"Topic2\", \"Topic2\", \"Topic2\", \"Topic2\", \"Topic2\", \"Topic2\", \"Topic2\", \"Topic2\", \"Topic2\", \"Topic2\", \"Topic2\", \"Topic2\", \"Topic2\", \"Topic2\", \"Topic2\", \"Topic2\", \"Topic2\", \"Topic2\", \"Topic2\", \"Topic2\", \"Topic2\", \"Topic2\", \"Topic2\", \"Topic2\", \"Topic2\", \"Topic2\", \"Topic2\", \"Topic2\", \"Topic2\", \"Topic2\", \"Topic2\", \"Topic2\", \"Topic2\", \"Topic2\", \"Topic2\", \"Topic2\", \"Topic2\", \"Topic2\", \"Topic2\", \"Topic2\", \"Topic2\", \"Topic2\", \"Topic2\", \"Topic2\", \"Topic2\", \"Topic2\", \"Topic2\", \"Topic2\", \"Topic2\", \"Topic2\", \"Topic2\", \"Topic2\", \"Topic2\", \"Topic2\", \"Topic3\", \"Topic3\", \"Topic3\", \"Topic3\", \"Topic3\", \"Topic3\", \"Topic3\", \"Topic3\", \"Topic3\", \"Topic3\", \"Topic3\", \"Topic3\", \"Topic3\", \"Topic3\", \"Topic3\", \"Topic3\", \"Topic3\", \"Topic3\", \"Topic3\", \"Topic3\", \"Topic3\", \"Topic3\", \"Topic3\", \"Topic3\", \"Topic3\", \"Topic3\", \"Topic3\", \"Topic3\", \"Topic3\", \"Topic3\", \"Topic3\", \"Topic3\", \"Topic3\", \"Topic3\", \"Topic3\", \"Topic3\", \"Topic3\", \"Topic3\", \"Topic3\", \"Topic3\", \"Topic3\", \"Topic3\", \"Topic3\", \"Topic3\", \"Topic3\", \"Topic3\", \"Topic3\", \"Topic3\", \"Topic3\", \"Topic3\", \"Topic3\", \"Topic3\", \"Topic3\", \"Topic3\", \"Topic3\", \"Topic3\", \"Topic3\", \"Topic3\", \"Topic3\", \"Topic3\", \"Topic3\", \"Topic3\", \"Topic3\", \"Topic3\", \"Topic3\", \"Topic3\", \"Topic3\", \"Topic3\", \"Topic3\", \"Topic3\", \"Topic3\", \"Topic3\", \"Topic3\", \"Topic3\"], \"logprob\": [30.0, 29.0, 28.0, 27.0, 26.0, 25.0, 24.0, 23.0, 22.0, 21.0, 20.0, 19.0, 18.0, 17.0, 16.0, 15.0, 14.0, 13.0, 12.0, 11.0, 10.0, 9.0, 8.0, 7.0, 6.0, 5.0, 4.0, 3.0, 2.0, 1.0, -4.8823, -5.3795, -5.56, -5.983, -6.0342, -6.0604, -6.0066, -6.2466, -6.486, -6.2256, -6.3754, -6.5262, -6.4921, -6.609, -6.6135, -6.596, -6.6485, -6.8091, -6.7238, -6.8018, -6.8425, -6.4712, -6.8637, -6.5533, -6.2801, -6.9189, -6.6517, -6.7026, -6.9908, -6.9213, -6.0356, -5.8831, -4.7413, -5.1465, -6.5835, -5.0534, -6.2734, -6.2038, -6.5172, -5.8655, -4.9968, -6.3263, -5.6373, -5.6396, -6.1882, -5.3041, -5.9123, -6.2948, -5.5654, -5.7408, -4.7305, -5.73, -5.1182, -5.2668, -5.073, -5.4444, -5.9816, -5.9865, -6.0093, -6.0466, -6.023, -5.4028, -5.7018, -5.6201, -6.0325, -5.875, -6.0921, -6.1566, -6.2321, -6.2594, -6.3266, -6.3079, -5.782, -6.5072, -6.4985, -6.7053, -6.7017, -6.7995, -6.8603, -6.7866, -6.789, -7.0437, -7.0169, -7.1108, -5.8918, -6.7222, -7.0654, -7.2008, -7.2131, -7.2065, -6.0016, -4.9643, -5.5916, -7.1142, -4.8799, -6.349, -6.3734, -4.6375, -6.054, -5.1605, -5.085, -5.7303, -4.75, -5.944, -6.0065, -5.219, -5.5781, -5.9466, -5.8315, -5.7192, -4.1142, -4.4065, -4.6735, -5.7473, -5.7344, -5.807, -5.4702, -4.6457, -5.5677, -5.3394, -5.6014, -5.6735, -5.8312, -6.2182, -6.5857, -6.9074, -7.1034, -7.2748, -7.125, -7.1769, -7.3057, -7.0344, -7.3863, -7.3682, -7.4252, -7.2152, -7.6057, -7.4249, -7.5724, -7.6039, -6.739, -7.5913, -7.6444, -7.6467, -6.8016, -7.6365, -7.5127, -7.6096, -7.6745, -7.704, -7.3666, -7.8741, -7.4466, -6.8188, -7.5047, -6.472, -7.4491, -5.8488, -7.3086, -7.51, -6.4596, -6.6373, -5.8382, -6.1573, -6.1245, -6.3609, -7.0174, -6.2571, -5.8081, -5.6165, -5.61, -6.173, -6.279, -6.0091, -5.6353, -4.8582, -4.5286, -5.9132, -5.9927, -5.7271, -5.379, -6.2085, -5.9489, -5.7401, -5.5199, -5.8296, -5.8108, -5.9904, -6.1351, -5.9219, -6.0586, -6.1321, -6.1269, -6.0128, -6.1338, -6.1505, -6.1602], \"loglift\": [30.0, 29.0, 28.0, 27.0, 26.0, 25.0, 24.0, 23.0, 22.0, 21.0, 20.0, 19.0, 18.0, 17.0, 16.0, 15.0, 14.0, 13.0, 12.0, 11.0, 10.0, 9.0, 8.0, 7.0, 6.0, 5.0, 4.0, 3.0, 2.0, 1.0, 0.9872, 0.9868, 0.9864, 0.9857, 0.9855, 0.9854, 0.9854, 0.985, 0.9844, 0.9842, 0.9842, 0.984, 0.9839, 0.9839, 0.9837, 0.9836, 0.9834, 0.9831, 0.9829, 0.9828, 0.9828, 0.9828, 0.9827, 0.9827, 0.9825, 0.9825, 0.982, 0.9818, 0.9818, 0.9815, 0.9766, 0.9711, 0.957, 0.9496, 0.9754, 0.9233, 0.9643, 0.9602, 0.9715, 0.8969, 0.7406, 0.9376, 0.7528, 0.7384, 0.8716, 0.6026, 0.7772, 0.9, 0.5583, 0.6284, -0.0568, 0.5139, -0.1196, -0.042, -0.3247, -0.2201, 0.4836, 0.4831, 0.4322, 0.3742, 0.1197, 0.9918, 0.9914, 0.9914, 0.9908, 0.9905, 0.9901, 0.99, 0.9899, 0.9898, 0.9898, 0.9896, 0.9896, 0.9893, 0.9886, 0.9881, 0.9876, 0.9875, 0.9875, 0.9873, 0.9868, 0.9865, 0.9862, 0.9861, 0.986, 0.9856, 0.9855, 0.9852, 0.9852, 0.9851, 0.9851, 0.9742, 0.9798, 0.985, 0.9592, 0.9694, 0.9614, 0.8759, 0.9401, 0.8834, 0.8773, 0.9102, 0.824, 0.9237, 0.9243, 0.841, 0.8606, 0.9071, 0.8858, 0.8624, 0.5596, 0.5921, 0.5513, 0.8223, 0.8153, 0.8238, 0.6242, 0.1026, 0.5381, -0.115, 0.2565, 0.1593, 0.3114, 1.3526, 1.3504, 1.348, 1.3476, 1.3457, 1.3454, 1.3449, 1.3447, 1.3441, 1.3436, 1.3436, 1.3423, 1.3419, 1.3413, 1.3412, 1.341, 1.3407, 1.3406, 1.3405, 1.3403, 1.3403, 1.3394, 1.3392, 1.339, 1.3386, 1.3382, 1.3373, 1.3371, 1.337, 1.337, 1.3325, 1.3365, 1.3205, 1.3349, 1.2792, 1.3265, 1.3343, 1.269, 1.2349, 1.1308, 1.1162, 1.0959, 1.1083, 1.2304, 1.0306, 0.8856, 0.8114, 0.7888, 0.9633, 0.9675, 0.8532, 0.6969, 0.3662, 0.2196, 0.7836, 0.8106, 0.6606, 0.4538, 0.8636, 0.7048, 0.5617, 0.3379, 0.4495, 0.3929, 0.4201, 0.5705, 0.1726, 0.4068, 0.5545, 0.4932, 0.106, 0.5077, 0.5136, 0.413]}, \"token.table\": {\"Topic\": [2, 3, 1, 3, 2, 3, 2, 3, 1, 3, 2, 1, 2, 3, 1, 2, 3, 1, 2, 1, 3, 1, 3, 1, 2, 3, 3, 1, 3, 1, 1, 1, 2, 3, 1, 2, 3, 1, 2, 1, 2, 3, 1, 1, 2, 1, 2, 1, 3, 1, 3, 2, 3, 3, 3, 1, 2, 1, 1, 3, 3, 3, 1, 2, 1, 2, 3, 1, 2, 3, 2, 2, 3, 2, 3, 1, 2, 3, 1, 2, 3, 2, 1, 2, 3, 2, 3, 1, 2, 3, 1, 3, 1, 2, 1, 2, 1, 2, 1, 2, 1, 2, 3, 3, 1, 2, 3, 1, 2, 1, 2, 3, 2, 3, 2, 1, 2, 3, 1, 1, 2, 1, 2, 1, 2, 3, 1, 3, 1, 2, 1, 2, 1, 2, 3, 1, 2, 3, 1, 2, 3, 1, 3, 1, 3, 3, 1, 3, 2, 2, 3, 1, 2, 3, 1, 2, 3, 3, 1, 2, 3, 1, 1, 3, 1, 2, 3, 1, 2, 3, 1, 1, 1, 2, 3, 1, 2, 1, 2, 1, 2, 2, 3, 2, 3, 1, 3, 1, 1, 2, 1, 2, 3, 1, 2, 3, 1, 2, 3, 1, 2, 3, 1, 3, 1, 2, 3, 1, 3, 1, 2, 3, 1, 2, 3, 1, 1, 2, 3, 1, 2, 1, 2, 3, 1, 3, 1, 2, 1, 2, 3, 3, 1, 2, 2, 3, 2, 3, 3, 1, 2, 3, 2, 3, 2, 3, 1, 2, 1, 2, 1, 1, 2, 3, 1, 2, 3, 1, 2, 3, 1, 2, 3, 1, 2, 3, 2, 3, 1, 2, 2, 1, 2, 2, 1, 2, 2, 2, 1, 2, 1, 3, 1, 1, 2, 1, 1, 2, 3, 3, 2, 1, 2, 3, 1, 2, 1, 2, 3, 2, 1, 2, 1, 1, 2, 3, 1, 2, 1, 2, 3, 1, 2, 1, 2, 3, 3, 2, 3, 1, 2, 3, 1, 2, 1, 1, 2, 3, 1, 2, 3, 3, 2, 3, 1, 2, 2, 2, 1, 2, 3, 1, 2, 3, 1, 1, 2, 3, 1, 2, 1, 2, 3, 1, 2, 3, 1, 2, 3], \"Freq\": [0.9950319044798809, 0.9941297563756263, 0.9973085392441894, 0.003821105514345553, 0.019529655931575858, 0.9764827965787929, 0.917912908312166, 0.08028392784071423, 0.9958674921661832, 0.9835342337433205, 0.9975803364291609, 0.003056784859500939, 0.9903982944783042, 0.003056784859500939, 0.2985499693210287, 0.3300315126589227, 0.37095751899818497, 0.5742035225116, 0.42533594260118524, 0.9954089128959352, 0.005294728260084762, 0.017020670891335774, 0.9871989116974749, 0.018435317478445803, 0.018435317478445803, 0.9770718263576275, 0.9894801962128754, 0.8913354691759251, 0.10853900547160712, 0.9983811420534471, 0.9969627669104633, 0.9933850788569697, 0.01973471452347424, 0.986735726173712, 0.0025050592149902192, 0.6913963433373005, 0.3056172242288067, 0.996626590869333, 0.9979078574952073, 0.3941268280606487, 0.1771356530609657, 0.42955395867284185, 0.9963123251568529, 0.9848008170911088, 0.015150781801401675, 0.0035870353335695215, 0.997195822732327, 0.32308836901369664, 0.6745801111274985, 0.9950653086349557, 0.004877771120759587, 0.41956409886160173, 0.5786488196799591, 0.9781304624367081, 0.973707259170262, 0.9692751610821964, 0.030342526781703537, 0.9978933393209078, 0.9925382051501578, 0.005838460030295046, 0.9933269088044242, 0.9839037002696737, 0.06513604191442271, 0.933616600773392, 0.08811870169651795, 0.8954765361592094, 0.016671105726368263, 0.030795171780897284, 0.9484912908516363, 0.0215566202466281, 0.9988685819224914, 0.9933669705410942, 0.006287132724943635, 0.997740934444761, 0.0021005072304100232, 0.015892133985935513, 0.015892133985935513, 0.9694201731420663, 0.05701768881108608, 0.319299057342082, 0.6249138693695034, 0.9894330689381547, 0.4192991481561779, 0.5060506960505595, 0.07492179136332959, 0.38953665865076936, 0.6092752866076137, 0.03421682169167426, 0.006843364338334852, 0.9649143717052141, 0.998823280033209, 0.9866195709127734, 0.7783833032403377, 0.2195440086062491, 0.9136505789766958, 0.08550205952990468, 0.780899490002933, 0.21910760101092397, 0.0027081730422885944, 0.9966076795622028, 0.9949607605494996, 0.0040281812167995935, 0.0040281812167995935, 0.989265556051535, 0.26923938483332766, 0.41037819068421244, 0.32041442529196257, 0.9966068262271495, 0.9970179643674385, 0.12124277944390138, 0.3156887464765734, 0.5627495045886743, 0.8373341479037775, 0.16193726445308904, 0.9907337679203712, 0.2123963345384639, 0.01544700614825192, 0.768488555875533, 0.9976507911510634, 0.7911952918383363, 0.20874088550628447, 0.006729769858858805, 0.9960059391111032, 0.9782884890525405, 0.01964434716972973, 0.003928869433945946, 0.21792693160475518, 0.7776029150442401, 0.9919176003151167, 0.995965976830541, 0.6799966421844028, 0.3197541462485436, 0.19890127617564812, 0.6347104418089153, 0.16722909844067232, 0.012013350908155687, 0.18921027680345207, 0.7958844976653142, 0.04903678773009685, 0.8990077750517756, 0.05370695799010607, 0.019590288539224922, 0.9795144269612461, 0.01469953754581224, 0.9848690155694201, 0.9780872404092456, 0.009118536081301969, 0.9848018967806125, 0.997647489791925, 0.9977070735737157, 0.9782767224788195, 0.030077016627173058, 0.9663454374407859, 0.002910679028436102, 0.9827291588710036, 0.01606641676628344, 0.0026777361277139067, 0.9780731546695082, 0.19141588666975343, 0.02443607063869193, 0.7860269388779237, 0.9973657366092553, 0.08345061350919393, 0.9179567486011332, 0.21511089269745748, 0.3373844527570649, 0.4483363868852272, 0.6043128739318062, 0.19599336451842364, 0.20143762464393541, 0.9994608811267021, 0.9968375685734157, 0.28676560877389, 0.3266949973373431, 0.38658908018252264, 0.6513632796498452, 0.34825363466427367, 0.33032251781398664, 0.6694368897142772, 0.1086524539788294, 0.8900721229982893, 0.9955582379788683, 0.0033633724256042848, 0.9933293660978967, 0.9977302799238392, 0.018442226968054767, 0.9774380293069027, 0.9918982104537778, 0.3518603515844034, 0.6480523414392021, 0.5415642663966216, 0.35757127845417963, 0.10241119140192523, 0.42796171626607116, 0.15254080975820358, 0.4216058491928127, 0.10788892620294713, 0.010788892620294713, 0.8846891948641664, 0.1156647681739656, 0.1611044985280235, 0.7229048010872849, 0.48295011893769224, 0.5163118047853618, 0.16015550734650197, 0.4784892935537466, 0.36084419865106926, 0.9877980115714049, 0.009407600110203857, 0.9859501784392053, 0.010834617345485773, 0.005417308672742887, 0.9942151137804038, 0.01229587542574404, 0.9836700340595231, 0.9955992178552568, 0.12418177265459485, 0.2726599790894365, 0.6047112407528097, 0.9147249562443283, 0.0828146050920791, 0.18322828801259367, 0.23666987201626682, 0.5776780747063717, 0.9989210290174916, 0.978527542868455, 0.9708839973552388, 0.025549578877769444, 0.027169766735819837, 0.4058483906163088, 0.5654707701892503, 0.9918856165213623, 0.9375018989037003, 0.06235167023587555, 0.8420765993969025, 0.15713391089224496, 0.9959821864138431, 0.0024653024416184236, 0.991433561227804, 0.29390007685681574, 0.419673908874143, 0.2861996381618773, 0.9935957877002837, 0.9746075742267645, 0.9754207611161859, 0.02129739653092109, 0.3569703093801972, 0.642546556884355, 0.9949031413263916, 0.00614137741559501, 0.9923022919772556, 0.019463027273685117, 0.9212499576210955, 0.060551640407020366, 0.008071815500278204, 0.9867794449090104, 0.006053861625208653, 0.00857323602150983, 0.9805638699601869, 0.00964489052419856, 0.2651402100440956, 0.2147416577216642, 0.5215154544668987, 0.25863274549346393, 0.24351784478280694, 0.49879172345168044, 0.9940227421598906, 0.9829892988093218, 0.12371778334761593, 0.8766288648631072, 0.9978457042341543, 0.030309418682189972, 0.9699013978300791, 0.9983916860431796, 0.00617180451228437, 0.9936605264777836, 0.9946819488035495, 0.9893797434467086, 0.005482898308258862, 0.992404593794854, 0.00789928404997049, 0.9953097902962819, 0.9958542411501037, 0.15556076802552926, 0.8440474207700966, 0.9965694610995061, 0.2814477977133686, 0.04360458837812753, 0.677853146605437, 0.976863894385433, 0.9968005822913943, 0.008657632779373467, 0.5627461306592754, 0.42855282257898664, 0.1403732492666305, 0.859181094649204, 0.1106854226104333, 0.8889860841306321, 0.9797084612850503, 0.9927278821569768, 0.06649073818875023, 0.9337612363028838, 0.99805064157378, 0.8107363247392467, 0.18849051807663159, 0.0022709700973088144, 0.6033160283979135, 0.3955274264723482, 0.1872625286052101, 0.42091118814932543, 0.391705105706311, 0.15418819571025408, 0.8437520709700014, 0.6973123850779347, 0.2604618365066517, 0.04121231590295122, 0.9843698957428659, 0.01959280542765888, 0.9796402713829439, 0.19699842868190026, 0.42193989689314804, 0.3814224895755941, 0.6225141521619895, 0.37670833039709173, 0.9913903702464467, 0.16269672791212603, 0.4338579410990027, 0.40372891741157196, 0.36996305776774113, 0.2405770703517005, 0.3881579622481218, 0.9867043007110949, 0.009696267704096179, 0.979323038113714, 0.12232763149141358, 0.8766813590217973, 0.9924519256108951, 0.9941492160931644, 0.35139245699033456, 0.19727295831036326, 0.4515701311323159, 0.9519248096855596, 0.04436937672263202, 0.004033579702057456, 0.9992992509886567, 0.1610283663597587, 0.4339087716280923, 0.4049815201862195, 0.9623319570353674, 0.03764010262198308, 0.07394476235762207, 0.003521179159886765, 0.9260701190502192, 0.1661710456446535, 0.3785007150794885, 0.45466244433328806, 0.022233101965112974, 0.0889324078604519, 0.881913044616148], \"Term\": [\"aceite\", \"acontecimiento\", \"actriz\", \"actriz\", \"agencia\", \"agencia\", \"agua\", \"agua\", \"alfombra\", \"allende\", \"ambiental\", \"ambiente\", \"ambiente\", \"ambiente\", \"ano\", \"ano\", \"ano\", \"armario\", \"armario\", \"arte\", \"arte\", \"astrology\", \"astrology\", \"barre\", \"barre\", \"barre\", \"bici\", \"blanco\", \"blanco\", \"bolso\", \"bordado\", \"by\", \"california\", \"california\", \"cambio\", \"cambio\", \"cambio\", \"camisa\", \"carbono\", \"casa\", \"casa\", \"casa\", \"chanel\", \"chaqueta\", \"chaqueta\", \"circular\", \"circular\", \"ciudad\", \"ciudad\", \"clasico\", \"clasico\", \"climatico\", \"climatico\", \"coche\", \"cocina\", \"coleccion\", \"coleccion\", \"color\", \"combinar\", \"combinar\", \"comer\", \"comida\", \"compra\", \"compra\", \"comprar\", \"comprar\", \"comprar\", \"consciente\", \"consciente\", \"consciente\", \"consumidor\", \"consumir\", \"consumir\", \"consumo\", \"consumo\", \"cop27\", \"cop27\", \"cop27\", \"cosa\", \"cosa\", \"cosa\", \"cosmetica\", \"crear\", \"crear\", \"crear\", \"crisis\", \"crisis\", \"decir\", \"decir\", \"decir\", \"desfile\", \"disciplina\", \"disenador\", \"disenador\", \"disenadora\", \"disenadora\", \"diseno\", \"diseno\", \"ecologico\", \"ecologico\", \"edicion\", \"edicion\", \"edicion\", \"ejercicio\", \"el\", \"el\", \"el\", \"elegante\", \"emision\", \"empezar\", \"empezar\", \"empezar\", \"empresa\", \"empresa\", \"envase\", \"espacio\", \"espacio\", \"espacio\", \"estampado\", \"estilo\", \"estilo\", \"etico\", \"etico\", \"evento\", \"evento\", \"evento\", \"experiencia\", \"experiencia\", \"falda\", \"fast\", \"firma\", \"firma\", \"forma\", \"forma\", \"forma\", \"gente\", \"gente\", \"gente\", \"global\", \"global\", \"global\", \"gomez\", \"gomez\", \"greta\", \"greta\", \"guerra\", \"hijo\", \"hijo\", \"huella\", \"impacto\", \"incendio\", \"industria\", \"industria\", \"industria\", \"instagram\", \"instagram\", \"instagram\", \"intimo\", \"joven\", \"joven\", \"joven\", \"joya\", \"libro\", \"libro\", \"llegar\", \"llegar\", \"llegar\", \"llevar\", \"llevar\", \"llevar\", \"look\", \"lucir\", \"lugar\", \"lugar\", \"lugar\", \"mano\", \"mano\", \"marca\", \"marca\", \"material\", \"material\", \"medioambiental\", \"medioambiental\", \"medioambiente\", \"mercurio\", \"mereath\", \"mereath\", \"miu\", \"moda\", \"moda\", \"modelo\", \"modelo\", \"modelo\", \"momento\", \"momento\", \"momento\", \"mover\", \"mover\", \"mover\", \"movimiento\", \"movimiento\", \"movimiento\", \"mujer\", \"mujer\", \"mundo\", \"mundo\", \"mundo\", \"negro\", \"negro\", \"ocasion\", \"ocasion\", \"ocasion\", \"on\", \"orgcas\", \"orgcas\", \"otono-invierno\", \"pais\", \"pais\", \"pais\", \"pantalon\", \"pantalon\", \"pasar\", \"pasar\", \"pasar\", \"pasarela\", \"perdida\", \"perfecto\", \"perfecto\", \"persona\", \"persona\", \"persona\", \"pescador\", \"pieza\", \"pieza\", \"planeta\", \"planeta\", \"plastico\", \"plastico\", \"poblacion\", \"poder\", \"poder\", \"poder\", \"poliester\", \"politico\", \"practica\", \"practica\", \"prenda\", \"prenda\", \"primavera\", \"primavera\", \"primavera-verano\", \"proceso\", \"proceso\", \"proceso\", \"produccion\", \"produccion\", \"produccion\", \"producto\", \"producto\", \"producto\", \"proyecto\", \"proyecto\", \"proyecto\", \"querer\", \"querer\", \"querer\", \"quimico\", \"racial\", \"reciclado\", \"reciclado\", \"reciclaje\", \"reciclar\", \"reciclar\", \"reducir\", \"reparacion\", \"reparacion\", \"residuo\", \"respetuoso\", \"responsable\", \"responsable\", \"retrogrado\", \"retrogrado\", \"rojo\", \"ropa\", \"ropa\", \"sandalia\", \"sentir\", \"sentir\", \"sentir\", \"signo\", \"sintetico\", \"social\", \"social\", \"social\", \"sostenibilidad\", \"sostenibilidad\", \"sostenible\", \"sostenible\", \"sufrir\", \"suministro\", \"sustentable\", \"sustentable\", \"tacon\", \"temporada\", \"temporada\", \"temporada\", \"tendencia\", \"tendencia\", \"tener\", \"tener\", \"tener\", \"textil\", \"textil\", \"the\", \"the\", \"the\", \"thunberg\", \"tiburon\", \"tiburon\", \"tiempo\", \"tiempo\", \"tiempo\", \"tienda\", \"tienda\", \"top\", \"trabajar\", \"trabajar\", \"trabajar\", \"trabajo\", \"trabajo\", \"trabajo\", \"turismo\", \"universidad\", \"universidad\", \"utilizar\", \"utilizar\", \"vegan\", \"vegano\", \"ver\", \"ver\", \"ver\", \"verano\", \"verano\", \"verano\", \"vestido\", \"vida\", \"vida\", \"vida\", \"vintage\", \"vintage\", \"vivir\", \"vivir\", \"vivir\", \"yo\", \"yo\", \"yo\", \"zona\", \"zona\", \"zona\"]}, \"R\": 30, \"lambda.step\": 0.01, \"plot.opts\": {\"xlab\": \"PC1\", \"ylab\": \"PC2\"}, \"topic.order\": [3, 1, 2]};\n",
       "\n",
       "function LDAvis_load_lib(url, callback){\n",
       "  var s = document.createElement('script');\n",
       "  s.src = url;\n",
       "  s.async = true;\n",
       "  s.onreadystatechange = s.onload = callback;\n",
       "  s.onerror = function(){console.warn(\"failed to load library \" + url);};\n",
       "  document.getElementsByTagName(\"head\")[0].appendChild(s);\n",
       "}\n",
       "\n",
       "if(typeof(LDAvis) !== \"undefined\"){\n",
       "   // already loaded: just create the visualization\n",
       "   !function(LDAvis){\n",
       "       new LDAvis(\"#\" + \"ldavis_el2519619072668788161431740524\", ldavis_el2519619072668788161431740524_data);\n",
       "   }(LDAvis);\n",
       "}else if(typeof define === \"function\" && define.amd){\n",
       "   // require.js is available: use it to load d3/LDAvis\n",
       "   require.config({paths: {d3: \"https://d3js.org/d3.v5\"}});\n",
       "   require([\"d3\"], function(d3){\n",
       "      window.d3 = d3;\n",
       "      LDAvis_load_lib(\"https://cdn.jsdelivr.net/gh/bmabey/pyLDAvis@3.4.0/pyLDAvis/js/ldavis.v3.0.0.js\", function(){\n",
       "        new LDAvis(\"#\" + \"ldavis_el2519619072668788161431740524\", ldavis_el2519619072668788161431740524_data);\n",
       "      });\n",
       "    });\n",
       "}else{\n",
       "    // require.js not available: dynamically load d3 & LDAvis\n",
       "    LDAvis_load_lib(\"https://d3js.org/d3.v5.js\", function(){\n",
       "         LDAvis_load_lib(\"https://cdn.jsdelivr.net/gh/bmabey/pyLDAvis@3.4.0/pyLDAvis/js/ldavis.v3.0.0.js\", function(){\n",
       "                 new LDAvis(\"#\" + \"ldavis_el2519619072668788161431740524\", ldavis_el2519619072668788161431740524_data);\n",
       "            })\n",
       "         });\n",
       "}\n",
       "</script>"
      ],
      "text/plain": [
       "PreparedData(topic_coordinates=              x         y  topics  cluster       Freq\n",
       "topic                                                \n",
       "2     -0.181310  0.044995       1        1  37.231963\n",
       "0      0.047414 -0.163996       2        1  37.035256\n",
       "1      0.133897  0.119000       3        1  25.732781, topic_info=            Term         Freq        Total Category  logprob  loglift\n",
       "113         moda  3305.000000  3305.000000  Default  30.0000  30.0000\n",
       "1320   coleccion  1186.000000  1186.000000  Default  29.0000  29.0000\n",
       "885      vestido   999.000000   999.000000  Default  28.0000  28.0000\n",
       "170   sostenible  1427.000000  1427.000000  Default  27.0000  27.0000\n",
       "90     industria  1030.000000  1030.000000  Default  26.0000  26.0000\n",
       "...          ...          ...          ...      ...      ...      ...\n",
       "2256     momento   198.888120   472.004837   Topic3  -6.1269   0.4932\n",
       "130        poder   222.920974   779.176387   Topic3  -6.0128   0.1060\n",
       "424       social   197.524788   462.020058   Topic3  -6.1338   0.5077\n",
       "2382        casa   194.236087   451.631270   Topic3  -6.1505   0.5136\n",
       "176      trabajo   192.372160   494.643982   Topic3  -6.1602   0.4130\n",
       "\n",
       "[227 rows x 6 columns], token_table=       Topic      Freq            Term\n",
       "term                                  \n",
       "9076       2  0.995032          aceite\n",
       "12782      3  0.994130  acontecimiento\n",
       "3424       1  0.997309          actriz\n",
       "3424       3  0.003821          actriz\n",
       "3317       2  0.019530         agencia\n",
       "...      ...       ...             ...\n",
       "186        2  0.378501              yo\n",
       "186        3  0.454662              yo\n",
       "2281       1  0.022233            zona\n",
       "2281       2  0.088932            zona\n",
       "2281       3  0.881913            zona\n",
       "\n",
       "[359 rows x 3 columns], R=30, lambda_step=0.01, plot_opts={'xlab': 'PC1', 'ylab': 'PC2'}, topic_order=[3, 1, 2])"
      ]
     },
     "execution_count": 14,
     "metadata": {},
     "output_type": "execute_result"
    }
   ],
   "source": [
    "pyLDAvis.enable_notebook()\n",
    "vis = pyLDAvis.gensim_models.prepare(lda_model, corpus, id2word)\n",
    "vis"
   ]
  },
  {
   "cell_type": "code",
   "execution_count": 15,
   "id": "e9b90525-f35f-4b5c-8b4e-96a69b89c0de",
   "metadata": {},
   "outputs": [],
   "source": [
    "# Second training "
   ]
  },
  {
   "cell_type": "code",
   "execution_count": 16,
   "id": "da571905-47e2-4774-9522-27bb57fa9836",
   "metadata": {},
   "outputs": [],
   "source": [
    "# The number of documents to be used in this training is 100 (chunksize) \n",
    "lda_model = gensim.models.ldamodel.LdaModel(\n",
    "   corpus=corpus, id2word=id2word, num_topics=3, random_state=42, \n",
    "   update_every=1, chunksize=100, passes=10, alpha='auto', per_word_topics=True\n",
    ")"
   ]
  },
  {
   "cell_type": "code",
   "execution_count": 17,
   "id": "34fd996d-9a80-4014-b68f-c297dd17b724",
   "metadata": {},
   "outputs": [
    {
     "name": "stdout",
     "output_type": "stream",
     "text": [
      "[(0,\n",
      "  '0.018*\"moda\" + 0.015*\"marca\" + 0.011*\"prenda\" + 0.010*\"ropa\" + '\n",
      "  '0.009*\"sostenible\" + 0.008*\"el\" + 0.008*\"industria\" + 0.007*\"material\" + '\n",
      "  '0.006*\"comprar\" + 0.006*\"producto\"'),\n",
      " (1,\n",
      "  '0.012*\"el\" + 0.007*\"ano\" + 0.005*\"vida\" + 0.004*\"mundo\" + 0.004*\"climatico\" '\n",
      "  '+ 0.003*\"cambio\" + 0.003*\"mujer\" + 0.003*\"persona\" + 0.003*\"querer\" + '\n",
      "  '0.003*\"poder\"'),\n",
      " (2,\n",
      "  '0.008*\"coleccion\" + 0.008*\"vestido\" + 0.008*\"moda\" + 0.006*\"el\" + '\n",
      "  '0.006*\"pieza\" + 0.006*\"diseno\" + 0.005*\"vintage\" + 0.005*\"look\" + '\n",
      "  '0.005*\"ano\" + 0.004*\"marca\"')]\n"
     ]
    }
   ],
   "source": [
    "pprint(lda_model.print_topics())\n",
    "doc_lda = lda_model[corpus]"
   ]
  },
  {
   "cell_type": "code",
   "execution_count": 18,
   "id": "becc8757-3efc-4f61-a2cd-5cb062ab2c1c",
   "metadata": {},
   "outputs": [
    {
     "data": {
      "text/html": [
       "\n",
       "<link rel=\"stylesheet\" type=\"text/css\" href=\"https://cdn.jsdelivr.net/gh/bmabey/pyLDAvis@3.4.0/pyLDAvis/js/ldavis.v1.0.0.css\">\n",
       "\n",
       "\n",
       "<div id=\"ldavis_el2519619074674991042856533071\" style=\"background-color:white;\"></div>\n",
       "<script type=\"text/javascript\">\n",
       "\n",
       "var ldavis_el2519619074674991042856533071_data = {\"mdsDat\": {\"x\": [0.04776845477438291, -0.17504923136172232, 0.12728077658733933], \"y\": [-0.1463930533100588, 0.03850114530454375, 0.10789190800551503], \"topics\": [1, 2, 3], \"cluster\": [1, 1, 1], \"Freq\": [37.38992563405059, 35.899027714106765, 26.711046651842636]}, \"tinfo\": {\"Term\": [\"moda\", \"marca\", \"vestido\", \"ropa\", \"industria\", \"prenda\", \"sostenible\", \"coleccion\", \"material\", \"look\", \"vintage\", \"color\", \"pieza\", \"producto\", \"comprar\", \"impacto\", \"reciclado\", \"sostenibilidad\", \"diseno\", \"produccion\", \"lucir\", \"climatico\", \"reducir\", \"consumidor\", \"sustentable\", \"proceso\", \"ambiente\", \"circular\", \"consumo\", \"responsable\", \"circular\", \"residuo\", \"reparacion\", \"reciclaje\", \"consumidor\", \"etico\", \"poliester\", \"huella\", \"ambiental\", \"fast\", \"suministro\", \"desperdicio\", \"patagonia\", \"desecho\", \"sustentabilidad\", \"circularidad\", \"sustentabl\", \"reciclar\", \"contaminante\", \"microplastico\", \"levi's\", \"lavado\", \"respetuoso\", \"greenwashing\", \"vertedero\", \"requisito\", \"proveedor\", \"basura\", \"sintetico\", \"swap\", \"industria\", \"material\", \"sustentable\", \"impacto\", \"responsable\", \"ambiente\", \"reciclado\", \"produccion\", \"carbono\", \"ropa\", \"sostenible\", \"reducir\", \"ecologico\", \"compra\", \"comprar\", \"proceso\", \"sostenibilidad\", \"consumo\", \"marca\", \"textil\", \"moda\", \"prenda\", \"utilizar\", \"producto\", \"plastico\", \"empresa\", \"el\", \"forma\", \"crear\", \"cambio\", \"ano\", \"mundo\", \"vida\", \"diseno\", \"firma\", \"look\", \"lucir\", \"elegante\", \"rojo\", \"actriz\", \"estampado\", \"sandalia\", \"otono-invierno\", \"tacon\", \"falda\", \"camisa\", \"bordado\", \"arte\", \"bota\", \"alpargata\", \"top\", \"toque\", \"miu\", \"inspirado\", \"reina\", \"atuendo\", \"peruano\", \"casual\", \"silueta\", \"gala\", \"alexander\", \"novia\", \"estilismo\", \"lively\", \"princesa\", \"vestido\", \"chanel\", \"this\", \"primavera-verano\", \"artista\", \"tenis\", \"color\", \"negro\", \"on\", \"pasarela\", \"clasico\", \"vintage\", \"coleccion\", \"instagram\", \"desfile\", \"verano\", \"pieza\", \"bolso\", \"blanco\", \"perfecto\", \"diseno\", \"estilo\", \"edicion\", \"the\", \"disenadora\", \"disenador\", \"mano\", \"firma\", \"moda\", \"el\", \"ano\", \"tendencia\", \"temporada\", \"tienda\", \"marca\", \"llevar\", \"prenda\", \"mujer\", \"modelo\", \"mercurio\", \"retrogrado\", \"tiburon\", \"orgcas\", \"cosmetico\", \"ejercicio\", \"ingrediente\", \"crema\", \"salvar\", \"cop27\", \"turismo\", \"poblacion\", \"astrology\", \"barre\", \"mereath\", \"rutina\", \"comer\", \"perdida\", \"allende\", \"sudar\", \"saludable\", \"signo\", \"disciplina\", \"california\", \"pescador\", \"vidrio\", \"thunberg\", \"sufrir\", \"coche\", \"cop\", \"afectado\", \"gomez\", \"ciencia\", \"aceite\", \"envase\", \"decir\", \"alimento\", \"vivir\", \"climatico\", \"belleza\", \"zona\", \"libro\", \"gente\", \"tierra\", \"salud\", \"el\", \"crisis\", \"hijo\", \"pais\", \"cosa\", \"ano\", \"vida\", \"problema\", \"joven\", \"empezar\", \"persona\", \"pasar\", \"mujer\", \"mundo\", \"cambio\", \"querer\", \"necesitar\", \"ver\", \"naturaleza\", \"hablar\", \"llegar\", \"tiempo\", \"poder\", \"tener\", \"lugar\", \"yo\", \"trabajar\", \"producto\", \"casa\", \"proyecto\"], \"Freq\": [3397.0, 2496.0, 1031.0, 1409.0, 1028.0, 1931.0, 1383.0, 1198.0, 915.0, 660.0, 775.0, 567.0, 934.0, 976.0, 864.0, 597.0, 572.0, 771.0, 1125.0, 535.0, 363.0, 480.0, 465.0, 342.0, 391.0, 484.0, 385.0, 305.0, 482.0, 371.0, 305.0725382604665, 230.66159107654778, 181.33298944883032, 159.67319935698126, 340.57831351739213, 149.16246577840076, 139.7212124077466, 262.46599624331736, 215.77817513276136, 109.14346062328929, 102.54526897496676, 97.22452443175078, 91.86097541047548, 87.41997229087248, 96.57866679952096, 78.811349223721, 111.13764390600825, 242.18516366026626, 72.626949605018, 68.19754129093683, 84.06938166265282, 86.73400664698376, 99.2679914160798, 58.68773989228898, 57.50454199206702, 63.09811500567801, 53.50098276451012, 87.55744585215587, 107.71991896860771, 47.10469096396686, 998.351368828243, 871.5502058404259, 378.24200149687056, 571.3349434782704, 355.8623473263846, 369.30588102910286, 543.295760726019, 505.49056218984623, 260.1889767477629, 1271.1535833447053, 1242.5621642736469, 436.52234768909875, 343.3257816537339, 351.2704345386344, 765.579754272414, 442.2686870805784, 681.5648874561881, 429.34623395345767, 1933.8668732687236, 417.64677471853435, 2435.9148953260956, 1460.2319028821169, 448.3065838276515, 744.813080077524, 349.02568018960847, 422.6805690116068, 1113.6673723222632, 488.6398043603096, 459.73682785715636, 429.1554782161019, 599.7406607604264, 470.7099669024612, 446.77252557150103, 421.65172070024005, 400.1344735265072, 659.7408263995953, 362.7948611872073, 238.37977611323515, 229.05405008340523, 250.65243352129679, 182.1833756151397, 188.96882720970336, 174.27997248295912, 170.20315082464202, 155.50806783200034, 146.75769450767353, 141.80626750116178, 199.61290404044365, 124.325315198757, 118.41759048232707, 129.6781916670088, 130.20694333313688, 112.79954670304089, 128.6191941426965, 106.7514566972172, 113.05101478789707, 105.1204425100618, 103.53798956473136, 116.92139384178273, 93.13658579728902, 90.25070178063861, 90.47936494416254, 84.14269615276129, 84.82820483895856, 76.80307683313421, 1007.4809777160124, 181.38907199447766, 128.0540640778944, 165.0132004664338, 147.95991255966513, 160.4913314850947, 540.2234513880172, 326.78696296716817, 214.0147407465799, 298.2070041318574, 215.99197106833034, 688.1961607410345, 1018.019736197765, 330.3440276996556, 268.8438519554308, 238.8266578898707, 729.079622434279, 278.143644136999, 282.6691228496421, 260.62860650293703, 703.9791486963818, 456.6377855955952, 216.84413394772122, 392.2636423862173, 281.6901755551896, 361.2147161028745, 443.7828223110761, 464.98851432383395, 960.6943626463909, 825.3421023949807, 588.6468724882592, 336.7905344011648, 287.87358610296997, 355.7605304544194, 562.4067888249213, 316.4472131145181, 470.7865416729731, 321.96711362548234, 282.84345511884703, 200.55907083787002, 141.29573971607783, 112.62893572373822, 90.89344586999036, 91.49739523055808, 91.22950838497005, 83.98253434756352, 82.26758630907574, 92.5073109712014, 70.7002220795012, 68.06536757600027, 66.42703804833845, 65.66281779952624, 60.628220461618746, 60.62003629915929, 75.50417684039037, 61.2871088333972, 59.496483435247285, 51.761789454098135, 50.54507913639403, 56.396777310141644, 47.92840371063594, 49.6709038118487, 53.51406431827526, 46.81519800571775, 46.10556452440584, 41.541440947949965, 50.42591068611004, 42.78704900942906, 36.60878789326735, 41.10793351276532, 52.140264313336466, 75.89304288908632, 95.72254752951928, 143.30842725461238, 119.66134931103065, 92.58357173450895, 215.49900348054803, 352.7192174212847, 242.25534766368872, 110.6228527547742, 128.25986045011535, 220.17484059938516, 147.92065136086953, 90.5621056222536, 1089.3082147193452, 177.8989247328262, 97.04621334760989, 231.2533235817343, 244.77567342702898, 691.3425221605394, 439.22364611746144, 193.4998426981213, 152.97092354389105, 221.9929465107564, 281.68933925928724, 213.8271667699318, 282.98625657061723, 371.2929622264279, 297.5458100364974, 260.3668386445916, 203.66872234398727, 256.193301056824, 149.45426543799084, 179.26506894087117, 197.6049789603703, 245.62248932212844, 256.83216107137986, 218.6562519180368, 221.29171734422297, 190.74333752693948, 217.54007966061982, 230.5076456619913, 189.25495374376024, 186.91563721711591], \"Total\": [3397.0, 2496.0, 1031.0, 1409.0, 1028.0, 1931.0, 1383.0, 1198.0, 915.0, 660.0, 775.0, 567.0, 934.0, 976.0, 864.0, 597.0, 572.0, 771.0, 1125.0, 535.0, 363.0, 480.0, 465.0, 342.0, 391.0, 484.0, 385.0, 305.0, 482.0, 371.0, 305.8099856247874, 231.4655783088132, 182.03386405071276, 160.38533536803524, 342.11723559804, 149.8875126180601, 140.43020944834154, 263.85256696361, 216.97180556399783, 109.83532431558314, 103.23258491785914, 97.94171750104367, 92.57669544876045, 88.14428805124614, 97.38376694554655, 79.50470398885187, 112.19499290138003, 244.52215835546775, 73.34517590012241, 68.89442004639643, 84.94248714502898, 87.65381565016762, 100.40482938956711, 59.373436019355296, 58.204657429824515, 63.91031155940119, 54.22576436821201, 88.77583459864525, 109.28490516708945, 47.81232247593789, 1028.6996199497119, 915.249051218298, 391.8377657937007, 597.8463218568885, 371.30999733275695, 385.9694789707135, 572.4165113876595, 535.8497171222724, 271.24832605604837, 1409.6742054840754, 1383.2922980772328, 465.7153035447552, 364.3896181642835, 377.4396475583319, 864.5914706943873, 484.5626627345416, 771.3767263165577, 482.57539652051094, 2496.6332030794747, 476.616611647793, 3397.1524999440985, 1931.3530430141495, 526.5504468954693, 976.420379203343, 397.2146609431397, 525.4396790909469, 3028.317689436589, 825.3035796748094, 780.4518465336579, 750.0533353750872, 1879.7300554092249, 1007.953491009876, 1044.3967882259428, 1125.98258570895, 865.4800942611118, 660.8798391895016, 363.5481437509305, 239.0707632971512, 229.76152255477925, 251.53217513408634, 182.8741395016753, 189.7078820833677, 174.97466785886135, 170.89074069342897, 156.17992998194595, 147.4647319954163, 142.49465299846096, 200.62480966356387, 125.0158321636543, 119.07809777272598, 130.43522302069923, 130.97369326047556, 113.46505235267544, 129.38936463663154, 107.40284219479247, 113.74485216365487, 105.83014615456348, 104.26017867278601, 117.7915220627596, 93.83111028146067, 90.94061789115177, 91.18510046382652, 84.8213200229105, 85.51795745194495, 77.43324351064841, 1031.094490006821, 183.48908008069165, 129.26095490081286, 167.02236438079376, 149.82591778498647, 162.80114836895618, 567.1467669278073, 338.9236557606776, 220.4113842266364, 312.5254214967627, 224.1981842323767, 775.0249452705092, 1198.6031951454631, 359.8594739066823, 288.41636444422466, 257.9713597356486, 934.5323203474625, 313.0466658424645, 319.7020776317891, 295.40919370399536, 1125.98258570895, 648.4485452849766, 252.72429978586584, 617.3130176492036, 377.7257796083173, 568.5015015245216, 795.4441256274454, 865.4800942611118, 3397.1524999440985, 3028.317689436589, 1879.7300554092249, 590.539086023656, 434.37981008280144, 722.8440473423922, 2496.6332030794747, 549.9138379141388, 1931.3530430141495, 621.8498292790285, 580.9010318780939, 201.24438544994612, 141.95738866300292, 113.28867247873977, 91.54809854296332, 92.2204247093536, 91.99681803294506, 84.71130935022137, 83.03464069731064, 93.3907551666687, 71.37795781181384, 68.74212446331329, 67.10093378921471, 66.3375933928652, 61.297363330616975, 61.295977167172644, 76.35965740917932, 61.99585322652875, 60.188494992804216, 52.43074057362153, 51.214391266274234, 57.1712981655502, 48.58710740653577, 50.371583700280766, 54.280188371930095, 47.49358080942392, 46.8170389909984, 42.22451013584814, 51.29635526127763, 43.533179126137206, 37.27671980700586, 41.93926554595968, 53.47798571989655, 78.85714752742206, 100.52434958727436, 155.80063302803524, 128.81955285959143, 100.55225619520179, 262.13567757940575, 480.9550053930836, 324.1445404991917, 128.98199728101963, 154.3890733989385, 311.5221984591088, 197.61304841540905, 105.26729952063316, 3028.317689436589, 263.1999203759857, 115.82142268164256, 389.8734393369916, 423.7482867279134, 1879.7300554092249, 1044.3967882259428, 317.57415190929936, 224.80413040130503, 399.8164002315019, 575.4057885782006, 382.954012180445, 621.8498292790285, 1007.953491009876, 750.0533353750872, 595.5697505532096, 409.1000227849522, 636.1271532903276, 237.7123441903089, 347.6348120201998, 429.5492984203488, 692.4284861718, 769.4563670496054, 547.4990615279776, 577.8487082787541, 410.03615683052624, 660.670692318952, 976.420379203343, 448.5194516280602, 426.84749060537104], \"Category\": [\"Default\", \"Default\", \"Default\", \"Default\", \"Default\", \"Default\", \"Default\", \"Default\", \"Default\", \"Default\", \"Default\", \"Default\", \"Default\", \"Default\", \"Default\", \"Default\", \"Default\", \"Default\", \"Default\", \"Default\", \"Default\", \"Default\", \"Default\", \"Default\", \"Default\", \"Default\", \"Default\", \"Default\", \"Default\", \"Default\", \"Topic1\", \"Topic1\", \"Topic1\", \"Topic1\", \"Topic1\", \"Topic1\", \"Topic1\", \"Topic1\", \"Topic1\", \"Topic1\", \"Topic1\", \"Topic1\", \"Topic1\", \"Topic1\", \"Topic1\", \"Topic1\", \"Topic1\", \"Topic1\", \"Topic1\", \"Topic1\", \"Topic1\", \"Topic1\", \"Topic1\", \"Topic1\", \"Topic1\", \"Topic1\", \"Topic1\", \"Topic1\", \"Topic1\", \"Topic1\", \"Topic1\", \"Topic1\", \"Topic1\", \"Topic1\", \"Topic1\", \"Topic1\", \"Topic1\", \"Topic1\", \"Topic1\", \"Topic1\", \"Topic1\", \"Topic1\", \"Topic1\", \"Topic1\", \"Topic1\", \"Topic1\", \"Topic1\", \"Topic1\", \"Topic1\", \"Topic1\", \"Topic1\", \"Topic1\", \"Topic1\", \"Topic1\", \"Topic1\", \"Topic1\", \"Topic1\", \"Topic1\", \"Topic1\", \"Topic1\", \"Topic1\", \"Topic1\", \"Topic1\", \"Topic1\", \"Topic1\", \"Topic2\", \"Topic2\", \"Topic2\", \"Topic2\", \"Topic2\", \"Topic2\", \"Topic2\", \"Topic2\", \"Topic2\", \"Topic2\", \"Topic2\", \"Topic2\", \"Topic2\", \"Topic2\", \"Topic2\", \"Topic2\", \"Topic2\", \"Topic2\", \"Topic2\", \"Topic2\", \"Topic2\", \"Topic2\", \"Topic2\", \"Topic2\", \"Topic2\", \"Topic2\", \"Topic2\", \"Topic2\", \"Topic2\", \"Topic2\", \"Topic2\", \"Topic2\", \"Topic2\", \"Topic2\", \"Topic2\", \"Topic2\", \"Topic2\", \"Topic2\", \"Topic2\", \"Topic2\", \"Topic2\", \"Topic2\", \"Topic2\", \"Topic2\", \"Topic2\", \"Topic2\", \"Topic2\", \"Topic2\", \"Topic2\", \"Topic2\", \"Topic2\", \"Topic2\", \"Topic2\", \"Topic2\", \"Topic2\", \"Topic2\", \"Topic2\", \"Topic2\", \"Topic2\", \"Topic2\", \"Topic2\", \"Topic2\", \"Topic2\", \"Topic2\", \"Topic2\", \"Topic2\", \"Topic2\", \"Topic2\", \"Topic2\", \"Topic3\", \"Topic3\", \"Topic3\", \"Topic3\", \"Topic3\", \"Topic3\", \"Topic3\", \"Topic3\", \"Topic3\", \"Topic3\", \"Topic3\", \"Topic3\", \"Topic3\", \"Topic3\", \"Topic3\", \"Topic3\", \"Topic3\", \"Topic3\", \"Topic3\", \"Topic3\", \"Topic3\", \"Topic3\", \"Topic3\", \"Topic3\", \"Topic3\", \"Topic3\", \"Topic3\", \"Topic3\", \"Topic3\", \"Topic3\", \"Topic3\", \"Topic3\", \"Topic3\", \"Topic3\", \"Topic3\", \"Topic3\", \"Topic3\", \"Topic3\", \"Topic3\", \"Topic3\", \"Topic3\", \"Topic3\", \"Topic3\", \"Topic3\", \"Topic3\", \"Topic3\", \"Topic3\", \"Topic3\", \"Topic3\", \"Topic3\", \"Topic3\", \"Topic3\", \"Topic3\", \"Topic3\", \"Topic3\", \"Topic3\", \"Topic3\", \"Topic3\", \"Topic3\", \"Topic3\", \"Topic3\", \"Topic3\", \"Topic3\", \"Topic3\", \"Topic3\", \"Topic3\", \"Topic3\", \"Topic3\", \"Topic3\", \"Topic3\", \"Topic3\", \"Topic3\", \"Topic3\", \"Topic3\", \"Topic3\"], \"logprob\": [30.0, 29.0, 28.0, 27.0, 26.0, 25.0, 24.0, 23.0, 22.0, 21.0, 20.0, 19.0, 18.0, 17.0, 16.0, 15.0, 14.0, 13.0, 12.0, 11.0, 10.0, 9.0, 8.0, 7.0, 6.0, 5.0, 4.0, 3.0, 2.0, 1.0, -6.0727, -6.3523, -6.5929, -6.7201, -5.9626, -6.7882, -6.8536, -6.2231, -6.419, -7.1006, -7.163, -7.2162, -7.273, -7.3225, -7.2229, -7.4262, -7.0825, -6.3036, -7.5079, -7.5708, -7.3616, -7.3304, -7.1954, -7.721, -7.7414, -7.6486, -7.8136, -7.321, -7.1137, -7.9409, -4.8872, -5.023, -5.8577, -5.4453, -5.9187, -5.8816, -5.4956, -5.5677, -6.2318, -4.6456, -4.6683, -5.7144, -5.9546, -5.9317, -5.1526, -5.7013, -5.2689, -5.731, -4.226, -5.7586, -3.9952, -4.5069, -5.6878, -5.1801, -5.9381, -5.7466, -4.7778, -5.6016, -5.6626, -5.7314, -5.3968, -5.639, -5.6912, -5.7491, -5.8015, -5.2607, -5.8587, -6.2787, -6.3186, -6.2285, -6.5476, -6.511, -6.5919, -6.6156, -6.7059, -6.7638, -6.7981, -6.4562, -6.9297, -6.9783, -6.8875, -6.8834, -7.027, -6.8957, -7.0821, -7.0247, -7.0975, -7.1126, -6.9911, -7.2185, -7.25, -7.2474, -7.3201, -7.3119, -7.4113, -4.8374, -6.5519, -6.9001, -6.6465, -6.7556, -6.6743, -5.4606, -5.9633, -6.3865, -6.0548, -6.3773, -5.2185, -4.827, -5.9524, -6.1584, -6.2768, -5.1608, -6.1244, -6.1083, -6.1895, -5.1958, -5.6287, -6.3734, -5.7806, -6.1118, -5.8631, -5.6572, -5.6106, -4.8849, -5.0368, -5.3747, -5.9331, -6.09, -5.8783, -5.4203, -5.9954, -5.5982, -5.9781, -6.1077, -6.1558, -6.5061, -6.7328, -6.9472, -6.9406, -6.9436, -7.0263, -7.047, -6.9296, -7.1985, -7.2365, -7.2608, -7.2724, -7.3522, -7.3523, -7.1327, -7.3414, -7.371, -7.5103, -7.5341, -7.4245, -7.5872, -7.5515, -7.477, -7.6107, -7.626, -7.7302, -7.5364, -7.7007, -7.8566, -7.7407, -7.503, -7.1276, -6.8955, -6.4919, -6.6723, -6.9288, -6.084, -5.5913, -5.9669, -6.7508, -6.6029, -6.0625, -6.4603, -6.9509, -4.4636, -6.2757, -6.8817, -6.0134, -5.9566, -4.9183, -5.3719, -6.1917, -6.4267, -6.0543, -5.8161, -6.0918, -5.8115, -5.5399, -5.7614, -5.8948, -6.1404, -5.911, -6.4499, -6.2681, -6.1707, -5.9531, -5.9085, -6.0694, -6.0575, -6.206, -6.0746, -6.0166, -6.2138, -6.2263], \"loglift\": [30.0, 29.0, 28.0, 27.0, 26.0, 25.0, 24.0, 23.0, 22.0, 21.0, 20.0, 19.0, 18.0, 17.0, 16.0, 15.0, 14.0, 13.0, 12.0, 11.0, 10.0, 9.0, 8.0, 7.0, 6.0, 5.0, 4.0, 3.0, 2.0, 1.0, 0.9814, 0.9803, 0.9799, 0.9793, 0.9793, 0.9789, 0.9787, 0.9785, 0.9783, 0.9774, 0.9771, 0.9764, 0.976, 0.9755, 0.9755, 0.975, 0.9743, 0.9742, 0.9739, 0.9736, 0.9734, 0.9732, 0.9724, 0.9722, 0.9717, 0.971, 0.9703, 0.9699, 0.9693, 0.9689, 0.9538, 0.9348, 0.9485, 0.9384, 0.9413, 0.9396, 0.9316, 0.9254, 0.9421, 0.8803, 0.8765, 0.919, 0.9242, 0.9119, 0.8621, 0.8924, 0.86, 0.8669, 0.7283, 0.8517, 0.6512, 0.7041, 0.8229, 0.713, 0.8544, 0.7662, -0.0166, 0.4596, 0.4546, 0.4254, -0.1586, 0.2223, 0.1346, 0.0015, 0.2123, 1.0227, 1.0224, 1.0216, 1.0214, 1.021, 1.0207, 1.0206, 1.0205, 1.0204, 1.0201, 1.0197, 1.0196, 1.0194, 1.0189, 1.0189, 1.0186, 1.0186, 1.0186, 1.0185, 1.0184, 1.0183, 1.0177, 1.0175, 1.017, 1.017, 1.0168, 1.0167, 1.0164, 1.0164, 1.0163, 1.0013, 1.0129, 1.0151, 1.0124, 1.0119, 1.0102, 0.9758, 0.988, 0.995, 0.9776, 0.9872, 0.9056, 0.8612, 0.9389, 0.9542, 0.9473, 0.7762, 0.9062, 0.9013, 0.8992, 0.5548, 0.6738, 0.8713, 0.571, 0.7311, 0.5709, 0.4409, 0.4032, -0.2386, -0.2755, -0.1366, 0.4629, 0.6131, 0.3155, -0.466, 0.4719, -0.3871, 0.3662, 0.3048, 1.3167, 1.3154, 1.3143, 1.3129, 1.3122, 1.3117, 1.3115, 1.3108, 1.3106, 1.3106, 1.3102, 1.31, 1.3099, 1.3091, 1.309, 1.3088, 1.3086, 1.3085, 1.3073, 1.3069, 1.3065, 1.3064, 1.3061, 1.3059, 1.3057, 1.3048, 1.3038, 1.303, 1.3028, 1.302, 1.3001, 1.2948, 1.2818, 1.2711, 1.2365, 1.2463, 1.2375, 1.1242, 1.01, 1.0289, 1.1665, 1.1347, 0.973, 1.0305, 1.1696, 0.2976, 0.9284, 1.1432, 0.7978, 0.7713, 0.3198, 0.4539, 0.8247, 0.9351, 0.7317, 0.6058, 0.7373, 0.5328, 0.3214, 0.3955, 0.4927, 0.6226, 0.4106, 0.856, 0.6578, 0.5436, 0.2837, 0.2228, 0.4022, 0.3603, 0.5548, 0.2092, -0.1235, 0.4572, 0.4943]}, \"token.table\": {\"Topic\": [1, 2, 3, 2, 3, 2, 1, 3, 3, 2, 1, 3, 1, 2, 3, 1, 2, 3, 2, 3, 2, 3, 3, 2, 3, 1, 3, 1, 2, 3, 2, 3, 1, 2, 2, 2, 3, 1, 2, 3, 2, 1, 3, 1, 2, 3, 2, 1, 2, 1, 2, 3, 1, 1, 1, 2, 3, 1, 3, 3, 1, 2, 1, 2, 3, 1, 2, 3, 1, 2, 3, 1, 3, 1, 3, 1, 3, 3, 1, 2, 3, 3, 1, 2, 3, 3, 1, 2, 3, 1, 2, 3, 1, 1, 2, 1, 3, 1, 2, 1, 2, 1, 2, 1, 3, 1, 2, 3, 3, 1, 2, 3, 2, 1, 2, 3, 1, 2, 3, 1, 3, 2, 2, 1, 2, 1, 2, 1, 1, 2, 1, 2, 3, 2, 1, 2, 3, 2, 3, 1, 1, 2, 3, 2, 3, 1, 3, 1, 2, 3, 1, 2, 3, 3, 2, 1, 2, 3, 1, 2, 3, 1, 2, 1, 2, 1, 2, 3, 2, 1, 2, 3, 1, 2, 3, 1, 2, 2, 1, 2, 3, 1, 2, 3, 1, 2, 1, 2, 3, 3, 1, 2, 1, 2, 3, 1, 2, 3, 1, 2, 3, 1, 2, 3, 1, 2, 3, 1, 2, 3, 2, 3, 2, 1, 2, 3, 2, 1, 2, 3, 1, 2, 3, 1, 2, 1, 3, 1, 2, 3, 1, 2, 3, 2, 3, 1, 2, 1, 3, 3, 1, 2, 3, 1, 1, 2, 1, 2, 2, 1, 3, 1, 2, 3, 1, 2, 3, 1, 2, 3, 1, 1, 2, 3, 1, 2, 3, 1, 2, 1, 1, 2, 3, 1, 3, 2, 1, 1, 1, 1, 3, 1, 3, 3, 2, 1, 2, 3, 1, 3, 3, 1, 3, 2, 3, 2, 1, 2, 3, 1, 2, 3, 1, 2, 3, 3, 3, 1, 1, 1, 2, 1, 2, 3, 1, 2, 1, 2, 3, 1, 2, 3, 1, 2, 3, 1, 2, 3, 1, 2, 1, 2, 3, 1, 2, 3, 3, 3, 1, 2, 3, 1, 2, 1, 2, 3, 2, 2, 1, 2, 3, 3, 1, 2, 3, 1, 2, 3, 1, 2, 3, 1, 1, 2, 1, 2, 3, 3, 1, 2, 1, 2, 3, 1, 2, 3, 1, 2, 3], \"Freq\": [0.039791354198489344, 0.009947838549622336, 0.9549925007637442, 0.9978842661627577, 0.9776041489107535, 0.9896567901894221, 0.07956062153861196, 0.9248922253863641, 0.991784579639559, 0.9909462966499208, 0.9955210514035604, 0.004608893756497965, 0.9560341428654748, 0.0051817568718995925, 0.038863176539246945, 0.3191947685644562, 0.31334286447410786, 0.36760597513006543, 0.9968856809653222, 0.0049844284048266106, 0.9878130712497498, 0.0066744126435793905, 0.9949109791959756, 0.9934515527561354, 0.9951488397794029, 0.9912607456505164, 0.011264326655119505, 0.049360695618564335, 0.20361286942657786, 0.7465805212307856, 0.8851991269382364, 0.11573274804492843, 0.11180441710122913, 0.8880465129754771, 0.9965286206320576, 0.9918743718609616, 0.9948381098088638, 0.5719593257797666, 0.030664485997516623, 0.39730507944608495, 0.9968485210726132, 0.9585312609312688, 0.04055324565478445, 0.17167594341895592, 0.4057795026266231, 0.4213864065738009, 0.9975045249672689, 0.010899831200420616, 0.9864347236380658, 0.012681158669253874, 0.02536231733850775, 0.9637680588632945, 0.9973513434391865, 0.9936518977679277, 0.03122237597047016, 0.9634333156602221, 0.00892067884870576, 0.2661371616153279, 0.7339563910172715, 0.987752350348861, 0.15017480407947278, 0.8493219475161293, 0.04584351267810289, 0.9521344940836753, 0.983936776821347, 0.9299499993459331, 0.03974145296350142, 0.029143732173234373, 0.8859675649874216, 0.043951393563344675, 0.07055355282536908, 0.9967343486916495, 0.00292297462959428, 0.8889802569571451, 0.10982739771265429, 0.9952938159069595, 0.9925766052260356, 0.9947048385327818, 0.3256650335169593, 0.09675555343619806, 0.5781734290699639, 0.9867662211142494, 0.5894021547172571, 0.34595343863839, 0.0653467606316959, 0.987539649854303, 0.29255327999341396, 0.030395145973341708, 0.676291997906853, 0.0077627967012893085, 0.06986517031160377, 0.931535604154717, 0.9870180124368256, 0.06587698321699881, 0.9326793939669832, 0.9903849194697486, 0.9926231483510276, 0.3641151332844304, 0.6350027203656009, 0.2541526291892155, 0.7465733482433206, 0.3747837713975808, 0.6252316944642106, 0.9413001438623861, 0.057630621052799154, 0.02374128647337759, 0.8586431941204896, 0.11474955128799169, 0.989164646623016, 0.36786100873295663, 0.2724284849234194, 0.3596056000989136, 0.9955211449430966, 0.3226480952890035, 0.12255625324931141, 0.5552548616601456, 0.8050400775438661, 0.001903168032018596, 0.19412313926589678, 0.07702150990516633, 0.9178396597032321, 0.9952199939036909, 0.9903170568120296, 0.2945491996069794, 0.7047590796879036, 0.9940788088176389, 0.9988479314725859, 0.99239475714404, 0.4621712303406502, 0.5372740552710059, 0.5925092439229191, 0.19023302923496588, 0.21810156218021565, 0.9911424869750808, 0.27606379392988456, 0.016050220577318867, 0.7062097054020302, 0.0186992832010864, 0.9723627264564928, 0.9937103855799493, 0.35094298896886955, 0.13232276633252457, 0.5149081559461283, 0.1554116637772311, 0.8374961881328564, 0.9929787798355378, 0.0037899953428837323, 0.9550949451800509, 0.02676273051292612, 0.016726706570578825, 0.9701568666359451, 0.015553617100375873, 0.01360941496282889, 0.9916031359250911, 0.9969907523873773, 0.08058701271685902, 0.917024627467706, 0.002778862507477897, 0.0800697032028176, 0.24020910960845282, 0.6805924772239497, 0.992540933383014, 0.011408516475666828, 0.9889044084214323, 0.011772671528826575, 0.038862853878888895, 0.129542846262963, 0.8290742160829632, 0.99394329018866, 0.3189389448517604, 0.22116204205049078, 0.46094825606312817, 0.20003133657672192, 0.5746354759840375, 0.22367140362669816, 0.0015131343713350267, 0.9986686850811176, 0.9984922388950334, 0.3270752314441905, 0.28900298228137467, 0.3824530484082862, 0.4412629230533717, 0.5581787402726411, 0.001257159324938381, 0.7746432265718912, 0.22510315063774708, 0.9527461392494986, 0.04698174769234913, 0.9987856284815115, 0.9951713443385457, 0.9870175255732744, 0.9959013604362518, 0.7170711353229169, 0.2828839741565366, 0.00029436417706195275, 0.43380883519050784, 0.48717420777346715, 0.07918732705858476, 0.027337789928654908, 0.5178099033545224, 0.45509379704760816, 0.46728346516078006, 0.16469013846430888, 0.3680725383750518, 0.16406383998627008, 0.20613149126480088, 0.6268080040501088, 0.43754580794558706, 0.06599852969011649, 0.4986555576586579, 0.9648190512582657, 0.035406203715899656, 0.9870033540808935, 0.0272218244128014, 0.9709117373899167, 0.9940129991590585, 0.9944296630432953, 0.24879868750473388, 0.15902596520921133, 0.5924999671504487, 0.20367980885194906, 0.23762644366060723, 0.5588138345425269, 0.04479635587066961, 0.9535224321042531, 0.9937706196363464, 0.9802537844990756, 0.11509458989305706, 0.8835202341790557, 0.0033851349968546194, 0.45706874213041904, 0.053875022836665364, 0.4900889174174075, 0.9921558631001883, 0.9896074206027022, 0.21936105957660218, 0.7800693289333804, 0.8786181234381943, 0.12084146110324735, 0.9835928693232037, 0.40158222510371316, 0.2651222456995388, 0.3340020448273602, 0.9969364893064565, 0.7559467210207532, 0.24387048328820188, 0.011974444305196197, 0.9878916551786863, 0.9944049417148743, 0.3904599894370968, 0.6077320803335459, 0.9121627273254053, 0.0041274331553185755, 0.08254866310637152, 0.942428415773087, 0.0018661948827189841, 0.055985846481569526, 0.7629910393798234, 0.001024149046147414, 0.23657842966005263, 0.9958365848625205, 0.3162722119053294, 0.24598949814858953, 0.4380955824170118, 0.307268795686846, 0.2568968619676909, 0.43655675889934403, 0.9486099530631155, 0.050662410016262156, 0.9975974401453161, 0.9896853586912919, 0.008179217840423901, 0.004089608920211951, 0.9383415075128712, 0.06226980255806239, 0.9962492408342244, 0.9943204850586221, 0.9857564211910452, 0.9979885635168092, 0.9860083484220025, 0.009959680287090935, 0.9587676134692474, 0.04039751180347952, 0.9932558025191933, 0.9966855958025013, 0.9016267695439207, 0.09789496002915898, 0.995289955175518, 0.13299476726156442, 0.8644659872001688, 0.9795124791086869, 0.010707697975194247, 0.9958159116930649, 0.9962685678866172, 0.9879163951534847, 0.9932803138214151, 0.9882426107693014, 0.009150394544160199, 0.009150394544160199, 0.8841334937037247, 0.09074683952970782, 0.024631285015206405, 0.8985808724069105, 0.06506217097073366, 0.03686856355008241, 0.9958138472219739, 0.9747281214293948, 0.9977469815558313, 0.9960592308391486, 0.9893489640626794, 0.008913053730294409, 0.9646849614771789, 0.028072842794309435, 0.007656229852993483, 0.9830101857874254, 0.9947876597069298, 0.2877665975685484, 0.6630142407979355, 0.05064692117206451, 0.42842210784649953, 0.5706650211235982, 0.0016933680152035554, 0.39269473704661934, 0.20821953499216095, 0.4000006856428355, 0.012284925628825423, 0.9827940503060338, 0.006142462814412711, 0.8770151727504011, 0.12378922294802312, 0.24622840545114832, 0.635010098268751, 0.11825443156535413, 0.007736288199072491, 0.9902448894812789, 0.007736288199072491, 0.9946829427949352, 0.9974518857673618, 0.41015065912458154, 0.23540337125812252, 0.35527134557974316, 0.5077167078421851, 0.49249904084964014, 0.17205341586820447, 0.08096631334974329, 0.7489383984851253, 0.9966633014409754, 0.9925657341086114, 0.5131149359904419, 0.15741579157228897, 0.32996771694960575, 0.9892042256606522, 0.8508206623722357, 0.09305850994696328, 0.055075444662488475, 0.22951386251133002, 0.3678509851208988, 0.40243526577329103, 0.01938199653296264, 0.9264594342756143, 0.05814598959888793, 0.9964838306956576, 0.022306394053029855, 0.9766321222348288, 0.42799825223447246, 0.15128349855267706, 0.42033832825712175, 0.9825482557503158, 0.11096417028226514, 0.8877133622581211, 0.0343333653896606, 0.14496309831190032, 0.8201859509752255, 0.36826020701976886, 0.16583903362479657, 0.46581257974023743, 0.10854227950508076, 0.031012079858594506, 0.8605852160759975], \"Term\": [\"aceite\", \"aceite\", \"aceite\", \"actriz\", \"afectado\", \"alexander\", \"alimento\", \"alimento\", \"allende\", \"alpargata\", \"ambiental\", \"ambiental\", \"ambiente\", \"ambiente\", \"ambiente\", \"ano\", \"ano\", \"ano\", \"arte\", \"arte\", \"artista\", \"artista\", \"astrology\", \"atuendo\", \"barre\", \"basura\", \"basura\", \"belleza\", \"belleza\", \"belleza\", \"blanco\", \"blanco\", \"bolso\", \"bolso\", \"bordado\", \"bota\", \"california\", \"cambio\", \"cambio\", \"cambio\", \"camisa\", \"carbono\", \"carbono\", \"casa\", \"casa\", \"casa\", \"casual\", \"chanel\", \"chanel\", \"ciencia\", \"ciencia\", \"ciencia\", \"circular\", \"circularidad\", \"clasico\", \"clasico\", \"clasico\", \"climatico\", \"climatico\", \"coche\", \"coleccion\", \"coleccion\", \"color\", \"color\", \"comer\", \"compra\", \"compra\", \"compra\", \"comprar\", \"comprar\", \"comprar\", \"consumidor\", \"consumidor\", \"consumo\", \"consumo\", \"contaminante\", \"cop\", \"cop27\", \"cosa\", \"cosa\", \"cosa\", \"cosmetico\", \"crear\", \"crear\", \"crear\", \"crema\", \"crisis\", \"crisis\", \"crisis\", \"decir\", \"decir\", \"decir\", \"desecho\", \"desfile\", \"desfile\", \"desperdicio\", \"disciplina\", \"disenador\", \"disenador\", \"disenadora\", \"disenadora\", \"diseno\", \"diseno\", \"ecologico\", \"ecologico\", \"edicion\", \"edicion\", \"edicion\", \"ejercicio\", \"el\", \"el\", \"el\", \"elegante\", \"empezar\", \"empezar\", \"empezar\", \"empresa\", \"empresa\", \"empresa\", \"envase\", \"envase\", \"estampado\", \"estilismo\", \"estilo\", \"estilo\", \"etico\", \"falda\", \"fast\", \"firma\", \"firma\", \"forma\", \"forma\", \"forma\", \"gala\", \"gente\", \"gente\", \"gente\", \"gomez\", \"gomez\", \"greenwashing\", \"hablar\", \"hablar\", \"hablar\", \"hijo\", \"hijo\", \"huella\", \"huella\", \"impacto\", \"impacto\", \"impacto\", \"industria\", \"industria\", \"industria\", \"ingrediente\", \"inspirado\", \"instagram\", \"instagram\", \"instagram\", \"joven\", \"joven\", \"joven\", \"lavado\", \"lavado\", \"levi's\", \"levi's\", \"libro\", \"libro\", \"libro\", \"lively\", \"llegar\", \"llegar\", \"llegar\", \"llevar\", \"llevar\", \"llevar\", \"look\", \"look\", \"lucir\", \"lugar\", \"lugar\", \"lugar\", \"mano\", \"mano\", \"mano\", \"marca\", \"marca\", \"material\", \"material\", \"mercurio\", \"mereath\", \"microplastico\", \"miu\", \"moda\", \"moda\", \"moda\", \"modelo\", \"modelo\", \"modelo\", \"mujer\", \"mujer\", \"mujer\", \"mundo\", \"mundo\", \"mundo\", \"naturaleza\", \"naturaleza\", \"naturaleza\", \"necesitar\", \"necesitar\", \"necesitar\", \"negro\", \"negro\", \"novia\", \"on\", \"on\", \"orgcas\", \"otono-invierno\", \"pais\", \"pais\", \"pais\", \"pasar\", \"pasar\", \"pasar\", \"pasarela\", \"pasarela\", \"patagonia\", \"perdida\", \"perfecto\", \"perfecto\", \"perfecto\", \"persona\", \"persona\", \"persona\", \"peruano\", \"pescador\", \"pieza\", \"pieza\", \"plastico\", \"plastico\", \"poblacion\", \"poder\", \"poder\", \"poder\", \"poliester\", \"prenda\", \"prenda\", \"primavera-verano\", \"primavera-verano\", \"princesa\", \"problema\", \"problema\", \"proceso\", \"proceso\", \"proceso\", \"produccion\", \"produccion\", \"produccion\", \"producto\", \"producto\", \"producto\", \"proveedor\", \"proyecto\", \"proyecto\", \"proyecto\", \"querer\", \"querer\", \"querer\", \"reciclado\", \"reciclado\", \"reciclaje\", \"reciclar\", \"reciclar\", \"reciclar\", \"reducir\", \"reducir\", \"reina\", \"reparacion\", \"requisito\", \"residuo\", \"respetuoso\", \"respetuoso\", \"responsable\", \"responsable\", \"retrogrado\", \"rojo\", \"ropa\", \"ropa\", \"rutina\", \"salud\", \"salud\", \"saludable\", \"salvar\", \"salvar\", \"sandalia\", \"signo\", \"silueta\", \"sintetico\", \"sintetico\", \"sintetico\", \"sostenibilidad\", \"sostenibilidad\", \"sostenibilidad\", \"sostenible\", \"sostenible\", \"sostenible\", \"sudar\", \"sufrir\", \"suministro\", \"sustentabilidad\", \"sustentabl\", \"sustentabl\", \"sustentable\", \"sustentable\", \"sustentable\", \"swap\", \"tacon\", \"temporada\", \"temporada\", \"temporada\", \"tendencia\", \"tendencia\", \"tendencia\", \"tener\", \"tener\", \"tener\", \"tenis\", \"tenis\", \"tenis\", \"textil\", \"textil\", \"the\", \"the\", \"the\", \"this\", \"this\", \"this\", \"thunberg\", \"tiburon\", \"tiempo\", \"tiempo\", \"tiempo\", \"tienda\", \"tienda\", \"tierra\", \"tierra\", \"tierra\", \"top\", \"toque\", \"trabajar\", \"trabajar\", \"trabajar\", \"turismo\", \"utilizar\", \"utilizar\", \"utilizar\", \"ver\", \"ver\", \"ver\", \"verano\", \"verano\", \"verano\", \"vertedero\", \"vestido\", \"vestido\", \"vida\", \"vida\", \"vida\", \"vidrio\", \"vintage\", \"vintage\", \"vivir\", \"vivir\", \"vivir\", \"yo\", \"yo\", \"yo\", \"zona\", \"zona\", \"zona\"]}, \"R\": 30, \"lambda.step\": 0.01, \"plot.opts\": {\"xlab\": \"PC1\", \"ylab\": \"PC2\"}, \"topic.order\": [1, 3, 2]};\n",
       "\n",
       "function LDAvis_load_lib(url, callback){\n",
       "  var s = document.createElement('script');\n",
       "  s.src = url;\n",
       "  s.async = true;\n",
       "  s.onreadystatechange = s.onload = callback;\n",
       "  s.onerror = function(){console.warn(\"failed to load library \" + url);};\n",
       "  document.getElementsByTagName(\"head\")[0].appendChild(s);\n",
       "}\n",
       "\n",
       "if(typeof(LDAvis) !== \"undefined\"){\n",
       "   // already loaded: just create the visualization\n",
       "   !function(LDAvis){\n",
       "       new LDAvis(\"#\" + \"ldavis_el2519619074674991042856533071\", ldavis_el2519619074674991042856533071_data);\n",
       "   }(LDAvis);\n",
       "}else if(typeof define === \"function\" && define.amd){\n",
       "   // require.js is available: use it to load d3/LDAvis\n",
       "   require.config({paths: {d3: \"https://d3js.org/d3.v5\"}});\n",
       "   require([\"d3\"], function(d3){\n",
       "      window.d3 = d3;\n",
       "      LDAvis_load_lib(\"https://cdn.jsdelivr.net/gh/bmabey/pyLDAvis@3.4.0/pyLDAvis/js/ldavis.v3.0.0.js\", function(){\n",
       "        new LDAvis(\"#\" + \"ldavis_el2519619074674991042856533071\", ldavis_el2519619074674991042856533071_data);\n",
       "      });\n",
       "    });\n",
       "}else{\n",
       "    // require.js not available: dynamically load d3 & LDAvis\n",
       "    LDAvis_load_lib(\"https://d3js.org/d3.v5.js\", function(){\n",
       "         LDAvis_load_lib(\"https://cdn.jsdelivr.net/gh/bmabey/pyLDAvis@3.4.0/pyLDAvis/js/ldavis.v3.0.0.js\", function(){\n",
       "                 new LDAvis(\"#\" + \"ldavis_el2519619074674991042856533071\", ldavis_el2519619074674991042856533071_data);\n",
       "            })\n",
       "         });\n",
       "}\n",
       "</script>"
      ],
      "text/plain": [
       "PreparedData(topic_coordinates=              x         y  topics  cluster       Freq\n",
       "topic                                                \n",
       "0      0.047768 -0.146393       1        1  37.389926\n",
       "2     -0.175049  0.038501       2        1  35.899028\n",
       "1      0.127281  0.107892       3        1  26.711047, topic_info=           Term         Freq        Total Category  logprob  loglift\n",
       "113        moda  3397.000000  3397.000000  Default  30.0000  30.0000\n",
       "107       marca  2496.000000  2496.000000  Default  29.0000  29.0000\n",
       "885     vestido  1031.000000  1031.000000  Default  28.0000  28.0000\n",
       "162        ropa  1409.000000  1409.000000  Default  27.0000  27.0000\n",
       "90    industria  1028.000000  1028.000000  Default  26.0000  26.0000\n",
       "...         ...          ...          ...      ...      ...      ...\n",
       "186          yo   190.743338   410.036157   Topic3  -6.2060   0.5548\n",
       "175    trabajar   217.540080   660.670692   Topic3  -6.0746   0.2092\n",
       "140    producto   230.507646   976.420379   Topic3  -6.0166  -0.1235\n",
       "2382       casa   189.254954   448.519452   Topic3  -6.2138   0.4572\n",
       "398    proyecto   186.915637   426.847491   Topic3  -6.2263   0.4943\n",
       "\n",
       "[239 rows x 6 columns], token_table=      Topic      Freq      Term\n",
       "term                           \n",
       "9076      1  0.039791    aceite\n",
       "9076      2  0.009948    aceite\n",
       "9076      3  0.954993    aceite\n",
       "3424      2  0.997884    actriz\n",
       "3316      3  0.977604  afectado\n",
       "...     ...       ...       ...\n",
       "186       2  0.165839        yo\n",
       "186       3  0.465813        yo\n",
       "2281      1  0.108542      zona\n",
       "2281      2  0.031012      zona\n",
       "2281      3  0.860585      zona\n",
       "\n",
       "[379 rows x 3 columns], R=30, lambda_step=0.01, plot_opts={'xlab': 'PC1', 'ylab': 'PC2'}, topic_order=[1, 3, 2])"
      ]
     },
     "execution_count": 18,
     "metadata": {},
     "output_type": "execute_result"
    }
   ],
   "source": [
    "pyLDAvis.enable_notebook()\n",
    "vis = pyLDAvis.gensim_models.prepare(lda_model, corpus, id2word)\n",
    "vis"
   ]
  },
  {
   "cell_type": "code",
   "execution_count": 19,
   "id": "b5126eb6-17c3-4171-8d27-881cce2d3173",
   "metadata": {},
   "outputs": [
    {
     "data": {
      "text/plain": [
       "True"
      ]
     },
     "execution_count": 19,
     "metadata": {},
     "output_type": "execute_result"
    }
   ],
   "source": [
    "# Save the figure in PNG\n",
    "import pyLDAvis\n",
    "import pyLDAvis.gensim_models\n",
    "import matplotlib.pyplot as plt\n",
    "import tempfile\n",
    "import webbrowser\n",
    "\n",
    "# Generate PyLDAvis visualization\n",
    "vis = pyLDAvis.gensim_models.prepare(lda_model, corpus, id2word)\n",
    "\n",
    "# Save the visualization as HTML file\n",
    "temp_file = tempfile.NamedTemporaryFile(delete=False, suffix='.html')\n",
    "pyLDAvis.save_html(vis, temp_file.name)\n",
    "\n",
    "# Open the HTML file in a web browser\n",
    "webbrowser.open(temp_file.name)\n"
   ]
  },
  {
   "cell_type": "markdown",
   "id": "9e179af6-824e-4dfb-a62d-7bac50c9f2c2",
   "metadata": {},
   "source": [
    "### TOPIC MODELLING HUMAN TEXTS"
   ]
  },
  {
   "cell_type": "code",
   "execution_count": 20,
   "id": "d3357f6c-992c-4d61-91aa-59088109c0c5",
   "metadata": {},
   "outputs": [
    {
     "data": {
      "text/plain": [
       "86      sw apuesta moda sostenible susan wagner rastri...\n",
       "87      guia cosa marca moda sostenible peruano poder ...\n",
       "88      marca peruano invitar festival moda sostenible...\n",
       "89      disenadores peruano presentar coleccion feria ...\n",
       "90      radicales sostenible vivienda hermoso hecho ba...\n",
       "                              ...                        \n",
       "1145    blake lively confirmar tendencia vestido gabar...\n",
       "1146    dakota johnson elevar crop top basico pantalon...\n",
       "1147    vestido boho transparente lucir sexy 40 vestid...\n",
       "1148    anitta pantalon baggy sandalia tacon 2000 cant...\n",
       "1149    culpar sobrepoblacion cambio climatico problem...\n",
       "Name: combined_text, Length: 1064, dtype: object"
      ]
     },
     "execution_count": 20,
     "metadata": {},
     "output_type": "execute_result"
    }
   ],
   "source": [
    "human_data = df[df['source_type'] == 'human']\n",
    "human_data['combined_text'] "
   ]
  },
  {
   "cell_type": "code",
   "execution_count": 21,
   "id": "7cd6cac4-48f2-4882-a54e-507eece1240b",
   "metadata": {},
   "outputs": [],
   "source": [
    "texts = [text.split() for text in human_data['combined_text'].tolist()]\n",
    "id2word = corpora.Dictionary(texts)  #\n",
    "corpus = [id2word.doc2bow(text) for text in texts]"
   ]
  },
  {
   "cell_type": "code",
   "execution_count": 22,
   "id": "3a43a5b3-0935-4f74-9212-522fd45041ab",
   "metadata": {},
   "outputs": [],
   "source": [
    "# The number of documents to be used in this training is 100 (chunksize) \n",
    "lda_model = gensim.models.ldamodel.LdaModel(\n",
    "   corpus=corpus, id2word=id2word, num_topics=3, random_state=42, \n",
    "   update_every=1, chunksize=100, passes=10, alpha='auto', per_word_topics=True\n",
    ")"
   ]
  },
  {
   "cell_type": "code",
   "execution_count": 23,
   "id": "7a4c85d8-9c60-4192-9d7a-317ec49439d0",
   "metadata": {},
   "outputs": [
    {
     "name": "stdout",
     "output_type": "stream",
     "text": [
      "[(0,\n",
      "  '0.011*\"vestido\" + 0.008*\"vintage\" + 0.007*\"moda\" + 0.006*\"look\" + '\n",
      "  '0.005*\"the\" + 0.005*\"coleccion\" + 0.004*\"ano\" + 0.004*\"lucir\" + '\n",
      "  '0.004*\"pieza\" + 0.004*\"el\"'),\n",
      " (1,\n",
      "  '0.010*\"el\" + 0.005*\"producto\" + 0.004*\"natural\" + 0.004*\"piel\" + '\n",
      "  '0.003*\"belleza\" + 0.003*\"vida\" + 0.003*\"color\" + 0.003*\"bolso\" + '\n",
      "  '0.003*\"zapatilla\" + 0.002*\"envase\"'),\n",
      " (2,\n",
      "  '0.013*\"moda\" + 0.010*\"marca\" + 0.010*\"el\" + 0.008*\"prenda\" + 0.006*\"ano\" + '\n",
      "  '0.006*\"ropa\" + 0.006*\"sostenible\" + 0.005*\"industria\" + 0.004*\"mundo\" + '\n",
      "  '0.004*\"material\"')]\n"
     ]
    }
   ],
   "source": [
    "pprint(lda_model.print_topics())\n",
    "doc_lda = lda_model[corpus]"
   ]
  },
  {
   "cell_type": "code",
   "execution_count": 24,
   "id": "37f471a1-15d7-437f-959d-d434838c9dae",
   "metadata": {},
   "outputs": [
    {
     "data": {
      "text/html": [
       "\n",
       "<link rel=\"stylesheet\" type=\"text/css\" href=\"https://cdn.jsdelivr.net/gh/bmabey/pyLDAvis@3.4.0/pyLDAvis/js/ldavis.v1.0.0.css\">\n",
       "\n",
       "\n",
       "<div id=\"ldavis_el2519619074674985442744632631\" style=\"background-color:white;\"></div>\n",
       "<script type=\"text/javascript\">\n",
       "\n",
       "var ldavis_el2519619074674985442744632631_data = {\"mdsDat\": {\"x\": [0.128143427686925, -0.1783335753954634, 0.050190147708538385], \"y\": [0.1202541613032851, 0.041020714074288166, -0.16127487537757335], \"topics\": [1, 2, 3], \"cluster\": [1, 1, 1], \"Freq\": [68.1609875790069, 16.420642128359134, 15.418370292633988]}, \"tinfo\": {\"Term\": [\"vestido\", \"moda\", \"vintage\", \"el\", \"producto\", \"look\", \"coleccion\", \"ropa\", \"the\", \"natural\", \"lucir\", \"disenador\", \"piel\", \"pieza\", \"industria\", \"desfile\", \"actriz\", \"pasarela\", \"on\", \"belleza\", \"color\", \"plastico\", \"negro\", \"rojo\", \"2023\", \"fashion\", \"vida\", \"zapatilla\", \"bolso\", \"2020\", \"textil\", \"produccion\", \"empresa\", \"trabajar\", \"proyecto\", \"sustentable\", \"consumidor\", \"circular\", \"medioambiental\", \"ropa\", \"carbono\", \"huella\", \"emision\", \"social\", \"generar\", \"comunidad\", \"espacio\", \"tema\", \"ambiental\", \"negocio\", \"sistema\", \"consciente\", \"sector\", \"concepto\", \"responsable\", \"reciclaje\", \"recurso\", \"slow\", \"economia\", \"etico\", \"industria\", \"impacto\", \"persona\", \"gente\", \"valor\", \"planeta\", \"objetivo\", \"futuro\", \"pais\", \"marca\", \"material\", \"prenda\", \"cambio\", \"consumo\", \"sostenibilidad\", \"sostenible\", \"moda\", \"proceso\", \"mundo\", \"reducir\", \"reciclado\", \"comprar\", \"crear\", \"ano\", \"el\", \"diseno\", \"tiempo\", \"vida\", \"forma\", \"coleccion\", \"firma\", \"producto\", \"poder\", \"pieza\", \"mano\", \"on\", \"actriz\", \"chanel\", \"miu\", \"mercurio\", \"retrogrado\", \"content\", \"miller\", \"alexander\", \"at\", \"mcqueen\", \"can\", \"celebridad\", \"princesa\", \"jolie\", \"versace\", \"shared\", \"rihanna\", \"also\", \"letizia\", \"originat\", \"viewed\", \"hearst\", \"bafta\", \"vuitton\", \"angelina\", \"awards\", \"crop\", \"lvmh\", \"maison\", \"greta\", \"cantante\", \"cop27\", \"astrology\", \"jennifer\", \"vestido\", \"rojo\", \"lucir\", \"otono-invierno\", \"alfombra\", \"it\", \"boda\", \"this\", \"gala\", \"vintage\", \"look\", \"from\", \"negro\", \"desfile\", \"pasarela\", \"post\", \"the\", \"mccartney\", \"stella\", \"prada\", \"and\", \"elegante\", \"gucci\", \"2023\", \"premio\", \"coleccion\", \"moda\", \"pieza\", \"disenador\", \"2020\", \"ano\", \"llevar\", \"estilo\", \"blanco\", \"el\", \"firma\", \"fashion\", \"diseno\", \"color\", \"mano\", \"aceite\", \"envase\", \"crema\", \"cosmetico\", \"ingrediente\", \"alpargata\", \"tiburon\", \"suela\", \"regalo\", \"azucar\", \"vegana\", \"holmes\", \"navidad\", \"barre\", \"orgcas\", \"ceja\", \"sudar\", \"coco\", \"truco\", \"sabor\", \"hidratante\", \"champu\", \"facial\", \"carne\", \"pulsera\", \"cerveza\", \"higiene\", \"botin\", \"cocina\", \"tamara\", \"sneaker\", \"tenis\", \"skinny\", \"cosmetica\", \"conver\", \"zapatilla\", \"perfume\", \"vegan\", \"beauty\", \"belleza\", \"piel\", \"maquillaje\", \"vegano\", \"rutina\", \"bolso\", \"natural\", \"camisa\", \"euros\", \"animal\", \"el\", \"producto\", \"verano\", \"perfecto\", \"color\", \"basico\", \"blanco\", \"plastico\", \"opcion\", \"zapato\", \"vida\", \"encontrar\", \"tendencia\", \"poder\", \"casa\", \"armario\", \"look\", \"estilo\", \"ano\", \"forma\", \"comprar\"], \"Freq\": [763.0, 3280.0, 591.0, 2911.0, 975.0, 493.0, 1106.0, 1438.0, 516.0, 464.0, 252.0, 531.0, 299.0, 821.0, 1047.0, 233.0, 178.0, 242.0, 173.0, 272.0, 472.0, 405.0, 250.0, 173.0, 308.0, 590.0, 992.0, 171.0, 249.0, 278.0, 499.35160297401353, 525.0337457727695, 556.4330176829077, 685.9493870595213, 447.79245213384417, 403.3823334128865, 336.7318486442563, 303.4666435920079, 299.89335142660775, 1435.2540301645192, 266.24365734901204, 259.64974107125397, 242.11809512868808, 461.4300924163357, 305.22181430850594, 245.39406082130049, 252.36044003351546, 242.00980709788305, 216.6538720145289, 202.91182823501552, 211.44479203047396, 346.7079433465613, 194.53923449009204, 182.25514137987201, 381.3881563453219, 168.49515158640827, 168.28736893860187, 167.5706325460118, 148.6882597091266, 160.1299810259061, 1042.0973860527047, 617.1326361532705, 589.111312250751, 315.07700954840845, 381.1390672680745, 489.9744980597955, 343.22902406697574, 419.6369255710346, 390.73354643577585, 2377.439185227796, 926.9811962614997, 1837.304234553733, 731.1784506424394, 502.7904264151659, 771.0789981306679, 1305.4255677654626, 2869.764145503164, 490.2288019906148, 946.0908675374924, 440.3740568638044, 558.9542397465651, 799.8839336015584, 703.092153921437, 1464.1336763947463, 2190.4932830599655, 921.4240780143094, 627.6815399502196, 813.2678020811461, 701.0691100122742, 845.069735184946, 666.8621183687713, 710.3280825292504, 567.3813899060256, 575.3233458321297, 526.2875455672797, 172.70872337147915, 178.03281878703518, 129.90634878001123, 93.65991877971294, 135.53353508824335, 94.4058777315962, 83.42941855514908, 78.82070122929815, 65.65850200981018, 55.367923306689185, 62.09616166758206, 73.45486559691037, 55.4115479866273, 51.15848461366882, 49.87553059333783, 48.07268589163154, 47.4594918524074, 48.028570866701465, 54.87736679336219, 46.05882619018346, 53.555105051943855, 53.555105051943855, 44.75501488091351, 37.32532679198253, 45.45253864414671, 37.02867448158645, 35.63701770676377, 43.164098566679115, 35.243607189490554, 35.44423520806283, 41.43459409239743, 48.85303629520566, 46.924868387188766, 43.665506767213756, 50.626082122825515, 626.5162447447199, 155.14269411591715, 219.05752933432498, 113.74153962904971, 117.11797191707198, 95.89249478165884, 58.60861656340828, 94.35317045226458, 65.84532665661537, 416.8417007869633, 345.7655211801254, 74.34338354181502, 181.99014003245847, 165.82893315450977, 161.3164388223748, 83.79241486344401, 277.48129545037284, 131.23142119174295, 119.98236865819797, 68.92315486888141, 76.97476706081491, 108.75941657964975, 114.87743501996253, 145.11128677756514, 99.58020319836676, 260.4998471615631, 410.75355172786, 214.41396867022198, 164.97109221786013, 124.0050564164054, 239.09339747055594, 149.6142946967838, 149.18953414871754, 117.45444472763197, 199.8282755049956, 142.82261274464386, 131.18588640974465, 133.3355075765805, 123.2465151479311, 119.74164452070814, 89.92685651204411, 126.70275234303112, 74.88068364170353, 78.97984544418588, 76.12030915142905, 81.05829410590268, 80.29868652013259, 61.15245509002602, 59.26333656675213, 45.233249883801065, 51.85963019265006, 48.20821207967085, 42.23810463054466, 43.25127184288348, 64.38807573941773, 40.792264065871635, 36.06650364384679, 32.27142681958387, 33.22143282848036, 31.49602968526636, 25.616485694027496, 25.536367352017454, 26.503128879555465, 27.147433941570416, 35.462408215468336, 24.649668495315836, 27.98976889138039, 26.160245607182787, 42.447208568016556, 24.30986218375691, 31.397855827478818, 105.65662926523676, 50.23358956201229, 87.18141904199058, 43.90183615036797, 136.71214047656358, 38.23383960973622, 90.52214084872314, 50.393621616853565, 171.41647883435556, 182.80358708078518, 80.44795748757046, 104.52801508501658, 54.66858696720885, 139.48587695834573, 191.87623098175973, 77.85163450381808, 87.19097642834214, 125.05217727570435, 521.6777766191946, 264.60794111711954, 106.05306820665814, 107.01521053140974, 150.09264988689267, 91.61507131126172, 107.93369461901133, 126.50524907444627, 113.82650941434666, 106.66663074380925, 162.08743457232993, 116.81901856229955, 116.90935632623966, 124.2735512133153, 105.12623043375682, 105.78104380595427, 105.07903331551442, 105.6316524684112, 118.41235764461163, 105.881312103572, 97.46984313485385], \"Total\": [763.0, 3280.0, 591.0, 2911.0, 975.0, 493.0, 1106.0, 1438.0, 516.0, 464.0, 252.0, 531.0, 299.0, 821.0, 1047.0, 233.0, 178.0, 242.0, 173.0, 272.0, 472.0, 405.0, 250.0, 173.0, 308.0, 590.0, 992.0, 171.0, 249.0, 278.0, 499.97151398372847, 525.6899350119293, 557.1809680998937, 686.959405274787, 448.4970039233961, 404.0338150478756, 337.4167880832522, 304.1268760208265, 300.57023135526265, 1438.9988914747262, 266.9488885806114, 260.34037419648087, 242.76523707318495, 462.67536458020857, 306.04761169211577, 246.06684528187424, 253.06906319622988, 242.70568541051543, 217.32570448397644, 203.54666004524535, 212.10672847654757, 347.875369301682, 195.2023412257689, 182.89529714102204, 382.77104894645606, 169.13500203255586, 168.93476104208534, 168.24199439845086, 149.30272468726108, 160.80115507479724, 1047.354554308369, 621.2133498839933, 595.4928540877636, 316.77094914243753, 384.1155151406041, 495.58604227432215, 346.006735084419, 424.01142213411, 395.2154429547701, 2496.11493242821, 955.9628760857141, 1948.1394338506325, 757.0834243704337, 516.1289431836942, 806.0200582376672, 1411.6405605938257, 3280.9612476680463, 504.58444714431556, 1016.4001581244618, 451.00795082315176, 585.7758154422446, 897.7803463830819, 776.094471483051, 1821.639431509914, 2911.9993351841554, 1086.0372368220799, 692.497044758688, 992.9896081429008, 822.1074953914728, 1106.0309179367682, 867.9893378478977, 975.23465821846, 735.429496766923, 821.9052170129726, 725.6609901143731, 173.5563026445117, 178.92759549277199, 130.69038085234726, 94.36794711661453, 136.60316550652837, 95.35630193670742, 84.29508943371174, 79.70671385582847, 66.40086666091838, 56.051826193832596, 62.86490679047028, 74.39384129708387, 56.12541607365333, 51.828951273246496, 50.54734197608311, 48.762601075817884, 48.14259674702286, 48.752754497661435, 55.71532493028116, 46.78560258305442, 54.42037084059764, 54.42037084059764, 45.51285039960811, 37.99458116913582, 46.28432570556183, 37.71343986073784, 36.30952613890721, 43.99009484433051, 35.94144943508921, 36.1896242350872, 42.32587173626018, 50.092582212597165, 48.079836964134536, 44.71237738276439, 52.173280948225276, 763.9221076865173, 173.63588644775635, 252.04696452945225, 124.67336928865879, 129.16032458574276, 105.44019398703047, 61.27371879926588, 105.30845543904336, 70.2048479278193, 591.0264698633473, 493.1034662989857, 81.40682254381201, 250.65639902871413, 233.85488560934758, 242.7548619327923, 100.14421658059824, 516.9895448876317, 197.1328234634762, 177.04897741087768, 78.15032897390465, 92.65731667377825, 166.25723614466133, 191.39815357956925, 308.8601524352193, 152.98271703963306, 1106.0309179367682, 3280.9612476680463, 821.9052170129726, 531.7240740896074, 278.84398564675524, 1821.639431509914, 489.31595974170443, 552.0683989519144, 247.3138781126752, 2911.9993351841554, 867.9893378478977, 590.4946841956091, 1086.0372368220799, 472.78577628407794, 725.6609901143731, 90.62421839625543, 127.73687050148715, 75.54357866355761, 79.68175549901325, 76.82669619745108, 81.98651925301013, 81.24343569901605, 61.93614357742793, 60.0454819054568, 45.91883587897256, 52.65658268503977, 48.95760794810906, 42.93096353444907, 43.96110346093885, 65.4527255713172, 41.474110167267675, 36.77686905082786, 32.94831273958714, 33.93965990609598, 32.22607519423693, 26.27029162027265, 26.19583447280292, 27.194375656486887, 27.86510499457997, 36.40338921142011, 25.318900256227256, 28.766341050310885, 26.897693799436556, 43.661051234915014, 25.0147118333782, 32.387247009963666, 110.80118503929529, 52.26406364064517, 93.441261025643, 46.39877223779059, 171.9471920743564, 41.102234798717916, 110.22992904879368, 58.33226554923257, 272.852842740232, 299.95927441720147, 106.89751080278174, 150.41620358350553, 65.34346670840459, 249.24387706981676, 464.7155887638835, 114.8162830998792, 138.49328652880013, 251.40793017600197, 2911.9993351841554, 975.23465821846, 216.888872703208, 233.69538511409527, 472.78577628407794, 176.85815378916814, 247.3138781126752, 405.1928440125231, 311.9323435402545, 284.09084168806083, 992.9896081429008, 503.85791259181303, 509.4950258473826, 735.429496766923, 413.7166425325079, 503.2018595341559, 493.1034662989857, 552.0683989519144, 1821.639431509914, 822.1074953914728, 897.7803463830819], \"Category\": [\"Default\", \"Default\", \"Default\", \"Default\", \"Default\", \"Default\", \"Default\", \"Default\", \"Default\", \"Default\", \"Default\", \"Default\", \"Default\", \"Default\", \"Default\", \"Default\", \"Default\", \"Default\", \"Default\", \"Default\", \"Default\", \"Default\", \"Default\", \"Default\", \"Default\", \"Default\", \"Default\", \"Default\", \"Default\", \"Default\", \"Topic1\", \"Topic1\", \"Topic1\", \"Topic1\", \"Topic1\", \"Topic1\", \"Topic1\", \"Topic1\", \"Topic1\", \"Topic1\", \"Topic1\", \"Topic1\", \"Topic1\", \"Topic1\", \"Topic1\", \"Topic1\", \"Topic1\", \"Topic1\", \"Topic1\", \"Topic1\", \"Topic1\", \"Topic1\", \"Topic1\", \"Topic1\", \"Topic1\", \"Topic1\", \"Topic1\", \"Topic1\", \"Topic1\", \"Topic1\", \"Topic1\", \"Topic1\", \"Topic1\", \"Topic1\", \"Topic1\", \"Topic1\", \"Topic1\", \"Topic1\", \"Topic1\", \"Topic1\", \"Topic1\", \"Topic1\", \"Topic1\", \"Topic1\", \"Topic1\", \"Topic1\", \"Topic1\", \"Topic1\", \"Topic1\", \"Topic1\", \"Topic1\", \"Topic1\", \"Topic1\", \"Topic1\", \"Topic1\", \"Topic1\", \"Topic1\", \"Topic1\", \"Topic1\", \"Topic1\", \"Topic1\", \"Topic1\", \"Topic1\", \"Topic1\", \"Topic1\", \"Topic2\", \"Topic2\", \"Topic2\", \"Topic2\", \"Topic2\", \"Topic2\", \"Topic2\", \"Topic2\", \"Topic2\", \"Topic2\", \"Topic2\", \"Topic2\", \"Topic2\", \"Topic2\", \"Topic2\", \"Topic2\", \"Topic2\", \"Topic2\", \"Topic2\", \"Topic2\", \"Topic2\", \"Topic2\", \"Topic2\", \"Topic2\", \"Topic2\", \"Topic2\", \"Topic2\", \"Topic2\", \"Topic2\", \"Topic2\", \"Topic2\", \"Topic2\", \"Topic2\", \"Topic2\", \"Topic2\", \"Topic2\", \"Topic2\", \"Topic2\", \"Topic2\", \"Topic2\", \"Topic2\", \"Topic2\", \"Topic2\", \"Topic2\", \"Topic2\", \"Topic2\", \"Topic2\", \"Topic2\", \"Topic2\", \"Topic2\", \"Topic2\", \"Topic2\", \"Topic2\", \"Topic2\", \"Topic2\", \"Topic2\", \"Topic2\", \"Topic2\", \"Topic2\", \"Topic2\", \"Topic2\", \"Topic2\", \"Topic2\", \"Topic2\", \"Topic2\", \"Topic2\", \"Topic2\", \"Topic2\", \"Topic2\", \"Topic2\", \"Topic2\", \"Topic2\", \"Topic2\", \"Topic2\", \"Topic2\", \"Topic3\", \"Topic3\", \"Topic3\", \"Topic3\", \"Topic3\", \"Topic3\", \"Topic3\", \"Topic3\", \"Topic3\", \"Topic3\", \"Topic3\", \"Topic3\", \"Topic3\", \"Topic3\", \"Topic3\", \"Topic3\", \"Topic3\", \"Topic3\", \"Topic3\", \"Topic3\", \"Topic3\", \"Topic3\", \"Topic3\", \"Topic3\", \"Topic3\", \"Topic3\", \"Topic3\", \"Topic3\", \"Topic3\", \"Topic3\", \"Topic3\", \"Topic3\", \"Topic3\", \"Topic3\", \"Topic3\", \"Topic3\", \"Topic3\", \"Topic3\", \"Topic3\", \"Topic3\", \"Topic3\", \"Topic3\", \"Topic3\", \"Topic3\", \"Topic3\", \"Topic3\", \"Topic3\", \"Topic3\", \"Topic3\", \"Topic3\", \"Topic3\", \"Topic3\", \"Topic3\", \"Topic3\", \"Topic3\", \"Topic3\", \"Topic3\", \"Topic3\", \"Topic3\", \"Topic3\", \"Topic3\", \"Topic3\", \"Topic3\", \"Topic3\", \"Topic3\", \"Topic3\", \"Topic3\", \"Topic3\", \"Topic3\", \"Topic3\"], \"logprob\": [30.0, 29.0, 28.0, 27.0, 26.0, 25.0, 24.0, 23.0, 22.0, 21.0, 20.0, 19.0, 18.0, 17.0, 16.0, 15.0, 14.0, 13.0, 12.0, 11.0, 10.0, 9.0, 8.0, 7.0, 6.0, 5.0, 4.0, 3.0, 2.0, 1.0, -6.1262, -6.076, -6.018, -5.8087, -6.2352, -6.3396, -6.5202, -6.6242, -6.6361, -5.0704, -6.7551, -6.7802, -6.8501, -6.2052, -6.6185, -6.8366, -6.8086, -6.8505, -6.9612, -7.0267, -6.9855, -6.491, -7.0689, -7.1341, -6.3957, -7.2126, -7.2138, -7.2181, -7.3376, -7.2635, -5.3905, -5.9144, -5.9609, -6.5867, -6.3963, -6.1451, -6.5011, -6.3001, -6.3715, -4.5657, -5.5076, -4.8234, -5.7448, -6.1193, -5.6917, -5.1652, -4.3775, -6.1446, -5.4872, -6.2519, -6.0134, -5.655, -5.784, -5.0505, -4.6476, -5.5136, -5.8975, -5.6384, -5.7869, -5.6001, -5.8369, -5.7738, -5.9985, -5.9846, -6.0737, -5.7646, -5.7342, -6.0494, -6.3765, -6.0069, -6.3686, -6.4922, -6.549, -6.7317, -6.9022, -6.7875, -6.6195, -6.9014, -6.9812, -7.0066, -7.0435, -7.0563, -7.0444, -6.9111, -7.0862, -6.9355, -6.9355, -7.115, -7.2965, -7.0995, -7.3045, -7.3428, -7.1512, -7.3539, -7.3482, -7.192, -7.0273, -7.0676, -7.1396, -6.9917, -4.476, -5.8718, -5.5268, -6.1822, -6.153, -6.3529, -6.8453, -6.3691, -6.7289, -4.8835, -5.0704, -6.6075, -5.7122, -5.8052, -5.8328, -6.4878, -5.2904, -6.0392, -6.1288, -6.6832, -6.5727, -6.227, -6.1723, -5.9387, -6.3152, -5.3536, -4.8982, -5.5483, -5.8104, -6.0958, -5.4393, -5.9081, -5.9109, -6.1501, -5.6187, -5.9546, -6.0395, -6.0233, -6.102, -6.1308, -6.3542, -6.0113, -6.5373, -6.484, -6.5209, -6.458, -6.4674, -6.7398, -6.7712, -7.0414, -6.9046, -6.9777, -7.1099, -7.0862, -6.6883, -7.1447, -7.2678, -7.379, -7.35, -7.4033, -7.6099, -7.6131, -7.5759, -7.5519, -7.2847, -7.6484, -7.5213, -7.5889, -7.1049, -7.6623, -7.4064, -6.193, -6.9365, -6.3852, -7.0712, -5.9353, -7.2095, -6.3476, -6.9333, -5.7091, -5.6448, -6.4656, -6.2037, -6.8519, -5.9152, -5.5963, -6.4984, -6.3851, -6.0245, -4.5961, -5.2749, -6.1892, -6.1802, -5.8419, -6.3356, -6.1717, -6.0129, -6.1185, -6.1835, -5.765, -6.0926, -6.0918, -6.0307, -6.198, -6.1918, -6.1985, -6.1932, -6.079, -6.1909, -6.2736], \"loglift\": [30.0, 29.0, 28.0, 27.0, 26.0, 25.0, 24.0, 23.0, 22.0, 21.0, 20.0, 19.0, 18.0, 17.0, 16.0, 15.0, 14.0, 13.0, 12.0, 11.0, 10.0, 9.0, 8.0, 7.0, 6.0, 5.0, 4.0, 3.0, 2.0, 1.0, 0.3821, 0.382, 0.382, 0.3818, 0.3817, 0.3817, 0.3813, 0.3811, 0.381, 0.3807, 0.3807, 0.3806, 0.3806, 0.3806, 0.3806, 0.3806, 0.3805, 0.3804, 0.3802, 0.3802, 0.3802, 0.3799, 0.3799, 0.3798, 0.3797, 0.3795, 0.3795, 0.3793, 0.3792, 0.3791, 0.3783, 0.3767, 0.3725, 0.3779, 0.3755, 0.3719, 0.3752, 0.3729, 0.3719, 0.3346, 0.3525, 0.3247, 0.3485, 0.3571, 0.339, 0.3051, 0.2494, 0.3544, 0.3116, 0.3594, 0.3364, 0.2678, 0.2845, 0.1648, 0.0986, 0.2189, 0.285, 0.1836, 0.224, 0.1142, 0.1197, 0.0663, 0.1239, 0.0266, 0.0621, 1.8017, 1.8016, 1.8006, 1.7991, 1.7988, 1.7966, 1.7963, 1.7955, 1.7954, 1.7944, 1.7943, 1.7939, 1.7938, 1.7936, 1.7933, 1.7924, 1.7923, 1.7917, 1.7915, 1.791, 1.7906, 1.7906, 1.7898, 1.7889, 1.7885, 1.7883, 1.7879, 1.7877, 1.787, 1.7858, 1.7853, 1.7816, 1.7823, 1.7829, 1.7765, 1.6083, 1.694, 1.6663, 1.7149, 1.7088, 1.7117, 1.7622, 1.6968, 1.7425, 1.4575, 1.4517, 1.7159, 1.4865, 1.4629, 1.3979, 1.6284, 1.1844, 1.3997, 1.4175, 1.681, 1.6212, 1.3822, 1.2961, 1.0512, 1.3773, 0.3607, -0.2713, 0.4629, 0.6363, 0.9963, -0.224, 0.6217, 0.4982, 1.062, -0.8725, 0.0021, 0.3023, -0.2908, 0.4622, 0.0049, 1.8619, 1.8615, 1.8608, 1.8608, 1.8604, 1.8582, 1.8579, 1.8569, 1.8565, 1.8546, 1.8544, 1.8542, 1.8533, 1.8533, 1.8532, 1.853, 1.8501, 1.8489, 1.8482, 1.8467, 1.8444, 1.8441, 1.8439, 1.8435, 1.8434, 1.8428, 1.8422, 1.8418, 1.8414, 1.841, 1.8386, 1.8221, 1.83, 1.8003, 1.8143, 1.6403, 1.7973, 1.6726, 1.7233, 1.4048, 1.3744, 1.5854, 1.5057, 1.6912, 1.2891, 0.985, 1.4811, 1.4069, 1.1713, 0.1501, 0.5652, 1.1542, 1.0886, 0.7222, 1.2119, 1.0405, 0.7055, 0.8615, 0.89, 0.057, 0.4079, 0.3976, 0.0916, 0.4996, 0.31, 0.3236, 0.2159, -0.8637, -0.1799, -0.3508]}, \"token.table\": {\"Topic\": [1, 2, 1, 2, 3, 3, 2, 2, 1, 2, 3, 1, 3, 2, 1, 1, 2, 2, 1, 2, 3, 1, 2, 3, 1, 2, 3, 1, 2, 2, 2, 3, 2, 3, 1, 2, 3, 2, 3, 1, 2, 3, 1, 2, 3, 2, 3, 1, 2, 3, 3, 1, 2, 3, 1, 2, 3, 1, 2, 1, 2, 3, 1, 3, 1, 2, 3, 3, 2, 3, 3, 2, 1, 1, 3, 3, 1, 2, 1, 2, 3, 1, 3, 1, 1, 1, 3, 1, 1, 3, 2, 1, 2, 3, 1, 2, 1, 3, 3, 1, 2, 3, 3, 2, 1, 2, 1, 2, 1, 2, 3, 1, 1, 2, 3, 1, 2, 3, 1, 1, 1, 2, 3, 1, 3, 1, 1, 2, 3, 1, 1, 2, 3, 3, 1, 2, 1, 2, 3, 1, 2, 3, 1, 2, 1, 2, 1, 2, 1, 3, 1, 2, 3, 1, 2, 1, 2, 2, 3, 3, 3, 1, 1, 2, 1, 2, 3, 2, 3, 2, 3, 2, 2, 1, 2, 3, 1, 2, 3, 1, 2, 3, 2, 2, 1, 2, 3, 1, 2, 3, 1, 2, 3, 1, 3, 1, 2, 2, 1, 1, 2, 2, 2, 1, 2, 1, 2, 3, 1, 3, 3, 1, 1, 2, 3, 1, 3, 2, 1, 2, 3, 1, 3, 2, 1, 2, 1, 3, 1, 2, 1, 2, 3, 1, 2, 3, 1, 2, 3, 1, 2, 3, 1, 2, 3, 1, 2, 3, 1, 3, 1, 2, 3, 1, 2, 1, 2, 1, 2, 3, 1, 2, 3, 2, 1, 3, 1, 1, 3, 1, 2, 3, 1, 3, 1, 1, 1, 3, 3, 1, 3, 1, 2, 2, 1, 2, 3, 1, 2, 1, 3, 3, 1, 2, 1, 1, 2, 3, 1, 1, 3, 1, 2, 1, 2, 3, 1, 2, 3, 1, 2, 3, 3, 1, 3, 1, 1, 2, 3, 1, 3, 1, 1, 2, 3, 1, 2, 1, 3, 1, 2, 3, 1, 2, 3, 1, 3, 1, 2, 3, 1, 3, 1, 3, 1, 2, 3, 2, 1, 2, 3, 1, 2, 3, 2, 1, 2, 3, 2, 1, 2, 3, 1, 2, 3], \"Freq\": [0.5522801563849761, 0.44469311293335734, 0.5147960937866495, 0.46946813584317093, 0.016188556408385204, 0.9931120134628248, 0.9948158052970121, 0.993962930288765, 0.08516547194566454, 0.9058509288766137, 0.007742315631424049, 0.012197127151038127, 0.9879672992340883, 0.9871610740639801, 0.9985013071290862, 0.16188683785017224, 0.8310191009642175, 0.9810826097175882, 0.4653791148039458, 0.03579839344645737, 0.4971999089785745, 0.8036716677715551, 0.13120049767582082, 0.06477681475207889, 0.6319531495658455, 0.1569946503638421, 0.21065104985528182, 0.022365171760817117, 0.9840675574759531, 0.9812347560239112, 0.991475346229442, 0.9799900005872466, 0.9738230784882622, 0.9781374127291225, 0.47495689737967095, 0.005654248778329416, 0.5201908876063063, 0.12000219662464479, 0.8571585473188914, 0.27120846261606035, 0.10261941828715797, 0.6267114473965718, 0.0889557843170325, 0.4730830347769455, 0.4366920321017959, 0.9628924301670895, 0.032640421361596256, 0.09227909736598011, 0.34905571612349, 0.5576867188639668, 0.9666256220280357, 0.965547489839546, 0.033021459980832626, 0.0013208583992333051, 0.10451479246685896, 0.21773915097262284, 0.6793461510345832, 0.013441972918250137, 0.98126402303226, 0.01996303555995407, 0.9781887424377494, 0.01996303555995407, 0.996445429738791, 0.968953822540836, 0.5970269856393121, 0.14986102473537388, 0.25379689672926226, 0.9885685270797719, 0.979948191881973, 0.9874046560869554, 0.992524213229159, 0.9947174317815536, 0.9962947174035703, 0.022903708722439478, 0.9619557663424582, 0.9712181698928775, 0.7639931093212972, 0.23507480286809143, 0.420909447750452, 0.26016011092113367, 0.317268427952602, 0.8910865594496328, 0.10804424533326797, 0.9956644086664657, 0.9951048651604655, 0.9974836697882946, 0.0028745927083236155, 0.9987647677946915, 0.9745626681915772, 0.02518750434689961, 0.9846362410620588, 0.021552294420099465, 0.04310458884019893, 0.9483009544843763, 0.020798739412239614, 0.9775407523752618, 0.06421146219712752, 0.931066201858349, 0.9914440200928845, 0.9058175593708667, 0.05025161424674794, 0.04380909959972897, 0.9928044358875491, 0.9774927776847449, 0.2907786160755836, 0.7098419157139246, 0.6883269308929594, 0.310311321304203, 0.8480372208000847, 0.12246357260196662, 0.028544140982413275, 0.9979724101626734, 0.7520606112574899, 0.0686813343614146, 0.1792582826832921, 0.06014775796765288, 0.6556105618474164, 0.28269446244796853, 0.9968478309233614, 0.9978804586525613, 0.690670904044972, 0.07740277372917789, 0.2322083211875337, 0.007828593232901833, 0.9942313405785328, 0.9957756069322431, 0.5379768169376218, 0.2698940933458102, 0.192005193923865, 0.9950177281100713, 0.13719076553251475, 0.23827869803015717, 0.628189294806778, 0.9928523581882447, 0.777314364184776, 0.2218478904318206, 0.7684426189540152, 0.1647485674818953, 0.06682109730034914, 0.8526865451654791, 0.01824578912622281, 0.12893690982530784, 0.08598787891804398, 0.9090147199907506, 0.9905393536006178, 0.009433708129529693, 0.056976122277375724, 0.9401060175766994, 0.9965769649816132, 0.0032674654589561086, 0.9944093700914436, 0.0031568551431474397, 0.0031568551431474397, 0.02362621155758286, 0.9686746738608972, 0.39707802075741966, 0.6008417419355693, 0.9887317450982475, 0.9897111298123517, 0.9733598009920486, 0.980440058486435, 0.9986925800597337, 0.9932175477478389, 0.006439011654767189, 0.99488754377747, 0.004773932551715307, 0.9892394670294502, 0.9104687346440993, 0.08535644387288431, 0.977511842711414, 0.019166898876694392, 0.9891716961825195, 0.9832084543175477, 0.5926640940816288, 0.3065503934904977, 0.10218346449683255, 0.08517482206165215, 0.7016782960317058, 0.2129370551541304, 0.0674477474138099, 0.8688856872720218, 0.06348023286005638, 0.9738060248018243, 0.9671280301956322, 0.7248563822027912, 0.16536647502725277, 0.11024431668483517, 0.07483803822859288, 0.1777403407929081, 0.7483803822859287, 0.9522798686547916, 0.0312485611085712, 0.016024903132600618, 0.9697029280003994, 0.030335906053949927, 0.33479964848283195, 0.6645265750189543, 0.9862418186134749, 0.9981028348925591, 0.0073204745753289975, 0.9955845422447436, 0.9911335717953853, 0.9961009312180984, 0.874743644729075, 0.12526816654482573, 0.9307357859385131, 0.039354578686617896, 0.030499798482128866, 0.587456084109776, 0.41315592728599626, 0.978314869786185, 0.9973143256434479, 0.11170670331377591, 0.7260935715395435, 0.16357052985231474, 0.9913101833590453, 0.005780234305300555, 0.9967946848599837, 0.5994889721202247, 0.03846988056386469, 0.36546386535671455, 0.015278202569431602, 0.9778049644436225, 0.9922754873937014, 0.08823055045966935, 0.9143893411274823, 0.9893338101283342, 0.010121061996197792, 0.3336699391109423, 0.6632204962575519, 0.28669800204779017, 0.25674447944578227, 0.45786098834497835, 0.024329577330700094, 0.04865915466140019, 0.9245239385666036, 0.9890966717011072, 0.0033585625524655592, 0.0067171251049311185, 0.31337587471710954, 0.0800108616299003, 0.6100828199279897, 0.6995940506250911, 0.26037065536307735, 0.03893392977391811, 0.9887284108150284, 0.0020178130832959763, 0.010089065416479881, 0.6860930643469311, 0.31343100421604403, 0.7709780509112449, 0.05982898455043171, 0.16860895646030755, 0.15976958576657146, 0.8387903252745003, 0.11516266301329595, 0.8829137497686023, 0.33990767719551235, 0.6536686099913699, 0.006536686099913699, 0.9429509859923334, 0.05287095893152441, 0.004106482247108692, 0.9840060187813526, 0.971096122310436, 0.027745603494583885, 0.9986875628274801, 0.7280299095368641, 0.27172947327784364, 0.9988918456108996, 0.02746996973804543, 0.96144894083159, 0.954289995017924, 0.04438558116362437, 0.9932893722829921, 0.9944667335702895, 0.9755925570645468, 0.022172558115103335, 0.982588500045633, 0.9953730854218711, 0.002612527783259504, 0.01048698386671652, 0.9857764834713528, 0.9845597545119724, 0.10366520635937691, 0.8926726103168569, 0.005759178131076495, 0.9972210600727927, 0.0020847827039849323, 0.15303748796532374, 0.8417061838092805, 0.9619539398810752, 0.9989634282842189, 0.9762664080413669, 0.9947822094824779, 0.038267211936513536, 0.019133605968256768, 0.9566802984128384, 0.9985616290432355, 0.030876350796113, 0.957166874679503, 0.9963789630733233, 0.002161342653087469, 0.9565518774877175, 0.03846058132570589, 0.0049626556549297925, 0.9244562932160536, 0.02621063819846282, 0.04887929826199824, 0.3219448134270782, 0.6777785545833226, 0.9788761503934937, 0.9848853428167088, 0.9974412660292974, 0.9594353978515864, 0.9970924232396047, 0.5436755727679554, 0.22571368544518006, 0.22963914084422668, 0.045125871155861426, 0.9566684685042622, 0.9980568613279834, 0.3868550185932101, 0.535794200751596, 0.07737100371864201, 0.10445505020598493, 0.8926158835784166, 0.012308686743686188, 0.9846949394948951, 0.9068630758111565, 0.04043338554572035, 0.0534298308997019, 0.9986034032470912, 0.0014556900921969258, 0.9723138090158879, 0.9918891192419976, 0.00781015054521258, 0.13607919491048748, 0.04535973163682916, 0.8255471157902907, 0.01899097793682136, 0.9875308527147107, 0.30581811602805475, 0.6980630909336032, 0.276639364906951, 0.23514346017090834, 0.48872954466894675, 0.9843609434486039, 0.16362924798518194, 0.8207643078936726, 0.015708407806577465, 0.8187396860280147, 0.01812707791943944, 0.16314370127495498, 0.9922754873937014, 0.2944030578532819, 0.7055521558897617, 0.001691971596857942, 0.9722513899471696, 0.1977351278018959, 0.005815739052996938, 0.7967562502605805, 0.4364801035584077, 0.18656004426286782, 0.37664008936088406], \"Term\": [\"2020\", \"2020\", \"2023\", \"2023\", \"2023\", \"aceite\", \"actriz\", \"alexander\", \"alfombra\", \"alfombra\", \"alfombra\", \"alpargata\", \"alpargata\", \"also\", \"ambiental\", \"and\", \"and\", \"angelina\", \"animal\", \"animal\", \"animal\", \"ano\", \"ano\", \"ano\", \"armario\", \"armario\", \"armario\", \"astrology\", \"astrology\", \"at\", \"awards\", \"azucar\", \"bafta\", \"barre\", \"basico\", \"basico\", \"basico\", \"beauty\", \"beauty\", \"belleza\", \"belleza\", \"belleza\", \"blanco\", \"blanco\", \"blanco\", \"boda\", \"boda\", \"bolso\", \"bolso\", \"bolso\", \"botin\", \"cambio\", \"cambio\", \"cambio\", \"camisa\", \"camisa\", \"camisa\", \"can\", \"can\", \"cantante\", \"cantante\", \"cantante\", \"carbono\", \"carne\", \"casa\", \"casa\", \"casa\", \"ceja\", \"celebridad\", \"cerveza\", \"champu\", \"chanel\", \"circular\", \"cocina\", \"cocina\", \"coco\", \"coleccion\", \"coleccion\", \"color\", \"color\", \"color\", \"comprar\", \"comprar\", \"comunidad\", \"concepto\", \"consciente\", \"consciente\", \"consumidor\", \"consumo\", \"consumo\", \"content\", \"conver\", \"conver\", \"conver\", \"cop27\", \"cop27\", \"cosmetica\", \"cosmetica\", \"cosmetico\", \"crear\", \"crear\", \"crear\", \"crema\", \"crop\", \"desfile\", \"desfile\", \"disenador\", \"disenador\", \"diseno\", \"diseno\", \"diseno\", \"economia\", \"el\", \"el\", \"el\", \"elegante\", \"elegante\", \"elegante\", \"emision\", \"empresa\", \"encontrar\", \"encontrar\", \"encontrar\", \"envase\", \"envase\", \"espacio\", \"estilo\", \"estilo\", \"estilo\", \"etico\", \"euros\", \"euros\", \"euros\", \"facial\", \"fashion\", \"fashion\", \"firma\", \"firma\", \"firma\", \"forma\", \"forma\", \"forma\", \"from\", \"from\", \"futuro\", \"futuro\", \"gala\", \"gala\", \"generar\", \"generar\", \"gente\", \"gente\", \"gente\", \"greta\", \"greta\", \"gucci\", \"gucci\", \"hearst\", \"hidratante\", \"higiene\", \"holmes\", \"huella\", \"impacto\", \"impacto\", \"industria\", \"industria\", \"ingrediente\", \"it\", \"it\", \"jennifer\", \"jennifer\", \"jolie\", \"letizia\", \"llevar\", \"llevar\", \"llevar\", \"look\", \"look\", \"look\", \"lucir\", \"lucir\", \"lucir\", \"lvmh\", \"maison\", \"mano\", \"mano\", \"mano\", \"maquillaje\", \"maquillaje\", \"maquillaje\", \"marca\", \"marca\", \"marca\", \"material\", \"material\", \"mccartney\", \"mccartney\", \"mcqueen\", \"medioambiental\", \"mercurio\", \"mercurio\", \"miller\", \"miu\", \"moda\", \"moda\", \"mundo\", \"mundo\", \"mundo\", \"natural\", \"natural\", \"navidad\", \"negocio\", \"negro\", \"negro\", \"negro\", \"objetivo\", \"objetivo\", \"on\", \"opcion\", \"opcion\", \"opcion\", \"orgcas\", \"orgcas\", \"originat\", \"otono-invierno\", \"otono-invierno\", \"pais\", \"pais\", \"pasarela\", \"pasarela\", \"perfecto\", \"perfecto\", \"perfecto\", \"perfume\", \"perfume\", \"perfume\", \"persona\", \"persona\", \"persona\", \"piel\", \"piel\", \"piel\", \"pieza\", \"pieza\", \"pieza\", \"planeta\", \"planeta\", \"planeta\", \"plastico\", \"plastico\", \"poder\", \"poder\", \"poder\", \"post\", \"post\", \"prada\", \"prada\", \"premio\", \"premio\", \"premio\", \"prenda\", \"prenda\", \"prenda\", \"princesa\", \"proceso\", \"proceso\", \"produccion\", \"producto\", \"producto\", \"proyecto\", \"pulsera\", \"pulsera\", \"reciclado\", \"reciclado\", \"reciclaje\", \"recurso\", \"reducir\", \"reducir\", \"regalo\", \"responsable\", \"responsable\", \"retrogrado\", \"retrogrado\", \"rihanna\", \"rojo\", \"rojo\", \"rojo\", \"ropa\", \"ropa\", \"rutina\", \"rutina\", \"sabor\", \"sector\", \"shared\", \"sistema\", \"skinny\", \"skinny\", \"skinny\", \"slow\", \"sneaker\", \"sneaker\", \"social\", \"social\", \"sostenibilidad\", \"sostenibilidad\", \"sostenibilidad\", \"sostenible\", \"sostenible\", \"sostenible\", \"stella\", \"stella\", \"sudar\", \"suela\", \"sustentable\", \"tamara\", \"tema\", \"tendencia\", \"tendencia\", \"tendencia\", \"tenis\", \"tenis\", \"textil\", \"the\", \"the\", \"the\", \"this\", \"this\", \"tiburon\", \"tiburon\", \"tiempo\", \"tiempo\", \"tiempo\", \"trabajar\", \"trabajar\", \"truco\", \"valor\", \"valor\", \"vegan\", \"vegan\", \"vegan\", \"vegana\", \"vegana\", \"vegano\", \"vegano\", \"verano\", \"verano\", \"verano\", \"versace\", \"vestido\", \"vestido\", \"vestido\", \"vida\", \"vida\", \"vida\", \"viewed\", \"vintage\", \"vintage\", \"vintage\", \"vuitton\", \"zapatilla\", \"zapatilla\", \"zapatilla\", \"zapato\", \"zapato\", \"zapato\"]}, \"R\": 30, \"lambda.step\": 0.01, \"plot.opts\": {\"xlab\": \"PC1\", \"ylab\": \"PC2\"}, \"topic.order\": [3, 1, 2]};\n",
       "\n",
       "function LDAvis_load_lib(url, callback){\n",
       "  var s = document.createElement('script');\n",
       "  s.src = url;\n",
       "  s.async = true;\n",
       "  s.onreadystatechange = s.onload = callback;\n",
       "  s.onerror = function(){console.warn(\"failed to load library \" + url);};\n",
       "  document.getElementsByTagName(\"head\")[0].appendChild(s);\n",
       "}\n",
       "\n",
       "if(typeof(LDAvis) !== \"undefined\"){\n",
       "   // already loaded: just create the visualization\n",
       "   !function(LDAvis){\n",
       "       new LDAvis(\"#\" + \"ldavis_el2519619074674985442744632631\", ldavis_el2519619074674985442744632631_data);\n",
       "   }(LDAvis);\n",
       "}else if(typeof define === \"function\" && define.amd){\n",
       "   // require.js is available: use it to load d3/LDAvis\n",
       "   require.config({paths: {d3: \"https://d3js.org/d3.v5\"}});\n",
       "   require([\"d3\"], function(d3){\n",
       "      window.d3 = d3;\n",
       "      LDAvis_load_lib(\"https://cdn.jsdelivr.net/gh/bmabey/pyLDAvis@3.4.0/pyLDAvis/js/ldavis.v3.0.0.js\", function(){\n",
       "        new LDAvis(\"#\" + \"ldavis_el2519619074674985442744632631\", ldavis_el2519619074674985442744632631_data);\n",
       "      });\n",
       "    });\n",
       "}else{\n",
       "    // require.js not available: dynamically load d3 & LDAvis\n",
       "    LDAvis_load_lib(\"https://d3js.org/d3.v5.js\", function(){\n",
       "         LDAvis_load_lib(\"https://cdn.jsdelivr.net/gh/bmabey/pyLDAvis@3.4.0/pyLDAvis/js/ldavis.v3.0.0.js\", function(){\n",
       "                 new LDAvis(\"#\" + \"ldavis_el2519619074674985442744632631\", ldavis_el2519619074674985442744632631_data);\n",
       "            })\n",
       "         });\n",
       "}\n",
       "</script>"
      ],
      "text/plain": [
       "PreparedData(topic_coordinates=              x         y  topics  cluster       Freq\n",
       "topic                                                \n",
       "2      0.128143  0.120254       1        1  68.160988\n",
       "0     -0.178334  0.041021       2        1  16.420642\n",
       "1      0.050190 -0.161275       3        1  15.418370, topic_info=          Term         Freq        Total Category  logprob  loglift\n",
       "1178   vestido   763.000000   763.000000  Default  30.0000  30.0000\n",
       "67        moda  3280.000000  3280.000000  Default  29.0000  29.0000\n",
       "3131   vintage   591.000000   591.000000  Default  28.0000  28.0000\n",
       "349         el  2911.000000  2911.000000  Default  27.0000  27.0000\n",
       "246   producto   975.000000   975.000000  Default  26.0000  26.0000\n",
       "...        ...          ...          ...      ...      ...      ...\n",
       "210       look   105.079033   493.103466   Topic3  -6.1985   0.3236\n",
       "454     estilo   105.631652   552.068399   Topic3  -6.1932   0.2159\n",
       "304        ano   118.412358  1821.639432   Topic3  -6.0790  -0.8637\n",
       "658      forma   105.881312   822.107495   Topic3  -6.1909  -0.1799\n",
       "1201   comprar    97.469843   897.780346   Topic3  -6.2736  -0.3508\n",
       "\n",
       "[240 rows x 6 columns], token_table=      Topic      Freq       Term\n",
       "term                            \n",
       "2         1  0.552280       2020\n",
       "2         2  0.444693       2020\n",
       "1884      1  0.514796       2023\n",
       "1884      2  0.469468       2023\n",
       "1884      3  0.016189       2023\n",
       "...     ...       ...        ...\n",
       "8694      2  0.005816  zapatilla\n",
       "8694      3  0.796756  zapatilla\n",
       "1748      1  0.436480     zapato\n",
       "1748      2  0.186560     zapato\n",
       "1748      3  0.376640     zapato\n",
       "\n",
       "[365 rows x 3 columns], R=30, lambda_step=0.01, plot_opts={'xlab': 'PC1', 'ylab': 'PC2'}, topic_order=[3, 1, 2])"
      ]
     },
     "execution_count": 24,
     "metadata": {},
     "output_type": "execute_result"
    }
   ],
   "source": [
    "pyLDAvis.enable_notebook()\n",
    "vis = pyLDAvis.gensim_models.prepare(lda_model, corpus, id2word)\n",
    "vis"
   ]
  },
  {
   "cell_type": "code",
   "execution_count": null,
   "id": "b94100e3-4c12-4d32-bbff-69f5c7bcc03d",
   "metadata": {},
   "outputs": [],
   "source": [
    "# Generate PyLDAvis visualization\n",
    "vis = pyLDAvis.gensim_models.prepare(lda_model, corpus, id2word)\n",
    "\n",
    "# Save the visualization as HTML file\n",
    "temp_file = tempfile.NamedTemporaryFile(delete=False, suffix='.html')\n",
    "pyLDAvis.save_html(vis, temp_file.name)\n",
    "\n",
    "# Open the HTML file in a web browser\n",
    "webbrowser.open(temp_file.name)"
   ]
  },
  {
   "cell_type": "markdown",
   "id": "63cb7e11-afc2-462a-b6c2-fac7206acf8e",
   "metadata": {},
   "source": [
    "### TOPIC MODELLING CHATBOT TEXTS"
   ]
  },
  {
   "cell_type": "code",
   "execution_count": 25,
   "id": "de695460-22b2-4d6e-88d8-e53d79144bd7",
   "metadata": {},
   "outputs": [
    {
     "data": {
      "text/plain": [
       "0     industria moda sector dinamico competitivo mun...\n",
       "1     industria moda moda sostenible palabra modo an...\n",
       "2     industria moda latinoamericano transformar reg...\n",
       "3     industria moda moda sostenible moda sustentabl...\n",
       "4     industria moda unir mundial agua ano 22 marzo ...\n",
       "                            ...                        \n",
       "81    aja barber activista moda sostenible luchar fa...\n",
       "82    aja barber activista luchar sostenibilidad mod...\n",
       "83    moda sostenible espana chile marca apostar sos...\n",
       "84    moda sostenible espana chile marca apostar sos...\n",
       "85    moda sostenible espana chile marca apostar sos...\n",
       "Name: combined_text, Length: 86, dtype: object"
      ]
     },
     "execution_count": 25,
     "metadata": {},
     "output_type": "execute_result"
    }
   ],
   "source": [
    "chatbot_data = df[df['source_type'] == 'chatbot']\n",
    "chatbot_data['combined_text'] "
   ]
  },
  {
   "cell_type": "code",
   "execution_count": 26,
   "id": "ce35d1df-6fb4-4864-9c3e-83618455046e",
   "metadata": {},
   "outputs": [],
   "source": [
    "texts = [text.split() for text in chatbot_data['combined_text'].tolist()]\n",
    "id2word = corpora.Dictionary(texts) \n",
    "corpus = [id2word.doc2bow(text) for text in texts]"
   ]
  },
  {
   "cell_type": "code",
   "execution_count": 27,
   "id": "d3d9a3f1-72fd-46d0-95aa-0e3c7b1e3677",
   "metadata": {},
   "outputs": [],
   "source": [
    "# The number of documents to be used in this training is 10 (chunksize). Being a smaller dataset, the amount of chucksize was lowered\n",
    "lda_model = gensim.models.ldamodel.LdaModel(\n",
    "   corpus=corpus, id2word=id2word, num_topics=3, random_state=42, \n",
    "   update_every=1, chunksize=10, passes=10, alpha='auto', per_word_topics=True\n",
    ")"
   ]
  },
  {
   "cell_type": "code",
   "execution_count": 28,
   "id": "92e3f366-d132-4653-8cb4-2f8bd2f9606f",
   "metadata": {},
   "outputs": [
    {
     "name": "stdout",
     "output_type": "stream",
     "text": [
      "[(0,\n",
      "  '0.070*\"moda\" + 0.025*\"industria\" + 0.019*\"barber\" + 0.013*\"forma\" + '\n",
      "  '0.011*\"aja\" + 0.010*\"activista\" + 0.008*\"descolonizacion\" + '\n",
      "  '0.008*\"explotacion\" + 0.007*\"resistencia\" + 0.007*\"textil\"'),\n",
      " (1,\n",
      "  '0.037*\"marca\" + 0.021*\"cena\" + 0.015*\"ropa\" + 0.015*\"chile\" + '\n",
      "  '0.014*\"elegir\" + 0.011*\"sostenibilidad\" + 0.011*\"outfit\" + 0.011*\"optar\" + '\n",
      "  '0.010*\"tienda\" + 0.010*\"comprar\"'),\n",
      " (2,\n",
      "  '0.065*\"moda\" + 0.063*\"sostenible\" + 0.024*\"marca\" + 0.019*\"industria\" + '\n",
      "  '0.018*\"produccion\" + 0.017*\"impacto\" + 0.016*\"ropa\" + 0.016*\"prenda\" + '\n",
      "  '0.015*\"ambiental\" + 0.013*\"material\"')]\n"
     ]
    }
   ],
   "source": [
    "pprint(lda_model.print_topics())\n",
    "doc_lda = lda_model[corpus]"
   ]
  },
  {
   "cell_type": "code",
   "execution_count": 29,
   "id": "22cb2a16-fbd1-411a-9d35-fbf49f25de2e",
   "metadata": {},
   "outputs": [
    {
     "data": {
      "text/html": [
       "\n",
       "<link rel=\"stylesheet\" type=\"text/css\" href=\"https://cdn.jsdelivr.net/gh/bmabey/pyLDAvis@3.4.0/pyLDAvis/js/ldavis.v1.0.0.css\">\n",
       "\n",
       "\n",
       "<div id=\"ldavis_el2519619072668764645163089601\" style=\"background-color:white;\"></div>\n",
       "<script type=\"text/javascript\">\n",
       "\n",
       "var ldavis_el2519619072668764645163089601_data = {\"mdsDat\": {\"x\": [-0.08803623880382322, -0.1324835380619321, 0.22051977686575533], \"y\": [0.15787726929714274, -0.13799865077498913, -0.01987861852215359], \"topics\": [1, 2, 3], \"cluster\": [1, 1, 1], \"Freq\": [67.67279278063488, 21.898532144216396, 10.428675075148718]}, \"tinfo\": {\"Term\": [\"moda\", \"marca\", \"sostenible\", \"barber\", \"industria\", \"ropa\", \"cena\", \"elegir\", \"practica\", \"comprar\", \"aja\", \"chile\", \"sostenibilidad\", \"activista\", \"ambiental\", \"prenda\", \"mano\", \"tienda\", \"produccion\", \"poder\", \"forma\", \"optar\", \"outfit\", \"descolonizacion\", \"explotacion\", \"reducir\", \"opcion\", \"evitar\", \"resistencia\", \"mencionar\", \"ambiental\", \"reducir\", \"responsable\", \"prenda\", \"circular\", \"consumo\", \"consciente\", \"agua\", \"hecho\", \"sustentable\", \"transparencia\", \"reciclado\", \"contribuir\", \"organico\", \"fomentar\", \"futuro\", \"sostenible\", \"enfocar\", \"esperar\", \"ofrecer\", \"lider\", \"fast\", \"apoyar\", \"cantidad\", \"adoptar\", \"contaminante\", \"reduccion\", \"ambiente\", \"produccion\", \"alternativa\", \"consumidor\", \"impacto\", \"material\", \"ano\", \"tendencia\", \"ropa\", \"producir\", \"moda\", \"marca\", \"buscar\", \"practica\", \"social\", \"industria\", \"producto\", \"etico\", \"importante\", \"promover\", \"fashion\", \"sostenibilidad\", \"utilizar\", \"forma\", \"barber\", \"aja\", \"activista\", \"descolonizacion\", \"resistencia\", \"colonialismo\", \"explotacion\", \"diversidad\", \"cultural\", \"inclusion\", \"opresion\", \"luchar\", \"voz\", \"escritora\", \"historia\", \"identidad\", \"lucha\", \"carrera\", \"evolucionar\", \"actualidad\", \"colonia\", \"expresion\", \"inclusivo\", \"apropiacion\", \"occidental\", \"pueblo\", \"decada\", \"tradicion\", \"valorar\", \"diverso\", \"inspirar\", \"cultura\", \"actual\", \"disenador\", \"reconocer\", \"moda\", \"industria\", \"forma\", \"trabajo\", \"falta\", \"lograr\", \"persona\", \"problema\", \"textil\", \"mundo\", \"laboral\", \"trabajar\", \"el\", \"cambiar\", \"utilizar\", \"cambio\", \"importancia\", \"cena\", \"outfit\", \"noche\", \"armario\", \"certificacion\", \"perfecto\", \"chile\", \"lavado\", \"greenwashing\", \"verificar\", \"tu\", \"toque\", \"formal\", \"code\", \"dress\", \"autenticidad\", \"optar\", \"lucir\", \"en[1\", \"bocoque\", \"ecoalf\", \"trampa\", \"temporada\", \"ocasion\", \"casual\", \"tercero\", \"hombre\", \"olvidser\", \"estaras\", \"en[3\", \"caer\", \"revolucionar\", \"comun\", \"dar\", \"tipo\", \"elegante\", \"mencionar\", \"tienda\", \"poder\", \"evitar\", \"elegir\", \"opcion\", \"recomendacion\", \"estar\", \"marca\", \"mano\", \"comprar\", \"ropa\", \"sostenibilidad\", \"considerar\", \"practica\", \"utilizar\", \"lugar\", \"el\", \"tener\"], \"Freq\": [1102.0, 390.0, 806.0, 79.0, 350.0, 239.0, 41.0, 51.0, 133.0, 67.0, 46.0, 30.0, 111.0, 42.0, 185.0, 198.0, 40.0, 29.0, 236.0, 28.0, 121.0, 23.0, 21.0, 31.0, 31.0, 139.0, 26.0, 24.0, 30.0, 22.0, 184.66206392974962, 139.26626773404695, 126.38576668292664, 197.2448452319673, 83.21675051026148, 83.93220828184317, 80.15726789917866, 55.78383061242298, 70.6315431689507, 52.55258796661426, 54.303387363404774, 61.44762497085393, 45.55358295186556, 46.07786943175423, 42.53368835248908, 43.66088382190542, 794.9265213424205, 33.38372292480711, 33.028679169663015, 37.30081918797268, 30.94930751953204, 41.95472177789491, 33.01718492619272, 31.651639948544428, 44.1405417816807, 30.59668391503666, 28.83024480991772, 110.56682588382563, 232.21487974767396, 32.794798990731245, 127.86191725597669, 216.2917252595682, 161.4251317430079, 75.90938532757795, 122.82414108712423, 203.6793368589035, 50.32795133733863, 817.4996138611976, 304.566525852754, 88.1425108012782, 115.94798079946428, 87.15590194193011, 245.7780163812861, 72.62232022884997, 72.62072446041736, 83.90900192245977, 62.06395666939315, 60.58192942883114, 72.52266419581143, 64.55203052427018, 66.50871349108903, 79.1729560707322, 46.33877555128781, 41.59718422022159, 31.291672404013944, 29.450207913038152, 25.85430733587122, 30.974958979354497, 21.904933060248386, 23.32596192338019, 21.561541188905124, 16.807198471137383, 24.963937757955872, 15.298491438895583, 14.621909567757177, 15.740804688738015, 13.388530164678135, 13.203705559793486, 14.005932987328393, 17.569299617014472, 12.69503822460926, 11.111895067770654, 11.815542195440514, 10.928041298439565, 10.464786963742114, 10.302670764568083, 9.109735856174229, 9.371262186191863, 8.856228684993022, 8.90588420826685, 8.494084157908118, 18.311561038095338, 23.279784830534282, 18.09626991767412, 23.02199988542227, 19.409578907373355, 284.99207511152304, 104.25492609076808, 51.3924328724401, 25.169585308727296, 17.249000103028624, 18.88259145750864, 26.78799390032061, 19.055689817061367, 28.023899000212694, 26.16341032441502, 21.682081045859494, 22.676860700629327, 23.267151582801, 18.699272171735494, 21.42660171609549, 19.633370317106515, 18.5160519702583, 40.833109728250314, 21.051766754319882, 17.032177332203556, 16.324817085182048, 12.629883472128812, 11.160679662039145, 28.74915287598799, 8.082709417575433, 8.77255979523374, 7.999162767368095, 7.592879533517604, 7.228712635271368, 6.875831054724938, 6.785000875991286, 6.785000875991286, 6.60168671789616, 20.99422084451801, 6.610574138115025, 6.729579271961556, 6.714865210408678, 5.916638033528453, 5.231671018327551, 4.939659282671998, 4.851439341252984, 4.680000787446636, 4.691035199317311, 4.589087124675804, 4.589087124675804, 4.401228531165519, 4.542346953077551, 8.388479685532236, 9.094596746347921, 7.359540742165845, 11.501180196897787, 8.979381515558782, 15.940761476230584, 16.199171794356594, 19.590665433012557, 18.64042652852116, 16.057317896225715, 27.470248206343328, 14.96299461791445, 14.241977471332607, 8.836682795269054, 72.48457971217088, 16.07436678851406, 18.651558943392004, 29.95056984016713, 21.487386460322274, 12.137592623844562, 17.368654299444223, 13.849077091616056, 11.032459977588932, 10.116906875675227, 8.838113820558531], \"Total\": [1102.0, 390.0, 806.0, 79.0, 350.0, 239.0, 41.0, 51.0, 133.0, 67.0, 46.0, 30.0, 111.0, 42.0, 185.0, 198.0, 40.0, 29.0, 236.0, 28.0, 121.0, 23.0, 21.0, 31.0, 31.0, 139.0, 26.0, 24.0, 30.0, 22.0, 185.26962911088927, 139.81534267191145, 126.90925287434345, 198.15775869229518, 83.72632789919129, 84.46964475670369, 80.70596611082128, 56.29044294095293, 71.27652794925326, 53.10362433270439, 54.89093643061132, 62.15601443297637, 46.08523707355967, 46.63413293720351, 43.09410922993539, 44.24351784471278, 806.1385124993665, 33.89359817558592, 33.54768900733203, 37.90007797073386, 31.4577016973878, 42.65013205468519, 33.57758733117313, 32.189780038098, 44.912472007898074, 31.13360380360728, 29.353071291337823, 112.58462744945503, 236.4985884531094, 33.41699969410299, 130.40115356416814, 224.3997103289825, 167.61365443872467, 78.90164762568942, 132.86786080549916, 239.90081078500123, 52.91476744935245, 1102.7110759764337, 390.3257354732108, 98.42999204449887, 133.67031536192127, 97.78423007884795, 350.2486387241827, 82.04042176025698, 85.19242081068174, 109.29895244529078, 73.69277582136355, 70.53247399399419, 111.5584053773587, 99.82770933198172, 121.42320994376894, 79.79812565591791, 46.958805529653155, 42.240621139754126, 31.891845949551765, 30.080806738025505, 26.451536337138478, 31.766738020513124, 22.503060087958442, 23.967705448157524, 22.16841484253557, 17.404293326280637, 25.951237676019975, 15.915522588282991, 15.237729977005596, 16.423367798695697, 13.993036841734837, 13.824596790269482, 14.677821713163363, 18.455023484203505, 13.354691591041934, 11.713376729707655, 12.462805714982856, 11.528329360465236, 11.059725590154835, 10.8982424913786, 9.70596626614669, 9.988939111832435, 9.456881961431346, 9.513064029585072, 9.106226209946085, 19.811007787171757, 26.658351175961418, 20.612725888735522, 31.24552822564142, 25.934439603683984, 1102.7110759764337, 350.2486387241827, 121.42320994376894, 41.98005702136432, 25.135964758172342, 30.31272042440295, 66.56620627094362, 32.306389185534506, 86.81630229048841, 80.54166988097252, 50.23246884192299, 59.6102623376467, 82.32073526035742, 33.30862381815737, 99.82770933198172, 71.67594984497626, 46.47171252878472, 41.53440782269607, 21.754055395522172, 17.73617900468828, 17.047148226762065, 13.338409862093862, 11.858810923484082, 30.72175037272698, 8.786996157344857, 9.5449587780202, 8.707306684467927, 8.292038328510476, 7.952315920954786, 7.573063546339736, 7.482303398432666, 7.482303398432666, 7.312606330248327, 23.349702491487452, 7.389149623144296, 7.531851962836491, 7.544145679485611, 6.700502709973972, 5.9398464938090925, 5.639032529620231, 5.559937623096714, 5.377231116898256, 5.403225903828096, 5.2863930513741035, 5.2863930513741035, 5.127728921398637, 5.329210225290744, 10.037759290596338, 11.059996244558803, 8.86664604413181, 14.533909418827065, 11.23669849414796, 21.83259368042889, 22.97770679104994, 29.5342195829764, 28.829970172579294, 24.267596635862105, 51.797767442582156, 26.428074371838292, 24.746970685520175, 11.714220037537428, 390.3257354732108, 40.96383981637061, 67.72120881228119, 239.90081078500123, 111.5584053773587, 29.127229150899964, 133.67031536192127, 99.82770933198172, 36.303613765278996, 82.32073526035742, 16.95904656189409], \"Category\": [\"Default\", \"Default\", \"Default\", \"Default\", \"Default\", \"Default\", \"Default\", \"Default\", \"Default\", \"Default\", \"Default\", \"Default\", \"Default\", \"Default\", \"Default\", \"Default\", \"Default\", \"Default\", \"Default\", \"Default\", \"Default\", \"Default\", \"Default\", \"Default\", \"Default\", \"Default\", \"Default\", \"Default\", \"Default\", \"Default\", \"Topic1\", \"Topic1\", \"Topic1\", \"Topic1\", \"Topic1\", \"Topic1\", \"Topic1\", \"Topic1\", \"Topic1\", \"Topic1\", \"Topic1\", \"Topic1\", \"Topic1\", \"Topic1\", \"Topic1\", \"Topic1\", \"Topic1\", \"Topic1\", \"Topic1\", \"Topic1\", \"Topic1\", \"Topic1\", \"Topic1\", \"Topic1\", \"Topic1\", \"Topic1\", \"Topic1\", \"Topic1\", \"Topic1\", \"Topic1\", \"Topic1\", \"Topic1\", \"Topic1\", \"Topic1\", \"Topic1\", \"Topic1\", \"Topic1\", \"Topic1\", \"Topic1\", \"Topic1\", \"Topic1\", \"Topic1\", \"Topic1\", \"Topic1\", \"Topic1\", \"Topic1\", \"Topic1\", \"Topic1\", \"Topic1\", \"Topic1\", \"Topic1\", \"Topic2\", \"Topic2\", \"Topic2\", \"Topic2\", \"Topic2\", \"Topic2\", \"Topic2\", \"Topic2\", \"Topic2\", \"Topic2\", \"Topic2\", \"Topic2\", \"Topic2\", \"Topic2\", \"Topic2\", \"Topic2\", \"Topic2\", \"Topic2\", \"Topic2\", \"Topic2\", \"Topic2\", \"Topic2\", \"Topic2\", \"Topic2\", \"Topic2\", \"Topic2\", \"Topic2\", \"Topic2\", \"Topic2\", \"Topic2\", \"Topic2\", \"Topic2\", \"Topic2\", \"Topic2\", \"Topic2\", \"Topic2\", \"Topic2\", \"Topic2\", \"Topic2\", \"Topic2\", \"Topic2\", \"Topic2\", \"Topic2\", \"Topic2\", \"Topic2\", \"Topic2\", \"Topic2\", \"Topic2\", \"Topic2\", \"Topic2\", \"Topic2\", \"Topic2\", \"Topic3\", \"Topic3\", \"Topic3\", \"Topic3\", \"Topic3\", \"Topic3\", \"Topic3\", \"Topic3\", \"Topic3\", \"Topic3\", \"Topic3\", \"Topic3\", \"Topic3\", \"Topic3\", \"Topic3\", \"Topic3\", \"Topic3\", \"Topic3\", \"Topic3\", \"Topic3\", \"Topic3\", \"Topic3\", \"Topic3\", \"Topic3\", \"Topic3\", \"Topic3\", \"Topic3\", \"Topic3\", \"Topic3\", \"Topic3\", \"Topic3\", \"Topic3\", \"Topic3\", \"Topic3\", \"Topic3\", \"Topic3\", \"Topic3\", \"Topic3\", \"Topic3\", \"Topic3\", \"Topic3\", \"Topic3\", \"Topic3\", \"Topic3\", \"Topic3\", \"Topic3\", \"Topic3\", \"Topic3\", \"Topic3\", \"Topic3\", \"Topic3\", \"Topic3\", \"Topic3\", \"Topic3\", \"Topic3\"], \"logprob\": [30.0, 29.0, 28.0, 27.0, 26.0, 25.0, 24.0, 23.0, 22.0, 21.0, 20.0, 19.0, 18.0, 17.0, 16.0, 15.0, 14.0, 13.0, 12.0, 11.0, 10.0, 9.0, 8.0, 7.0, 6.0, 5.0, 4.0, 3.0, 2.0, 1.0, -4.2265, -4.5087, -4.6057, -4.1606, -5.0236, -5.015, -5.0611, -5.4236, -5.1876, -5.4832, -5.4505, -5.3269, -5.6262, -5.6147, -5.6947, -5.6686, -2.7668, -5.937, -5.9477, -5.826, -6.0127, -5.7085, -5.948, -5.9903, -5.6577, -6.0242, -6.0836, -4.7394, -3.9974, -5.9548, -4.5941, -4.0684, -4.361, -5.1155, -4.6343, -4.1285, -5.5265, -2.7388, -3.7262, -4.9661, -4.6919, -4.9773, -3.9406, -5.1598, -5.1598, -5.0153, -5.3169, -5.341, -5.1611, -5.2776, -5.2477, -3.9451, -4.4808, -4.5887, -4.8734, -4.9341, -5.0643, -4.8836, -5.2301, -5.1672, -5.2459, -5.495, -5.0993, -5.589, -5.6343, -5.5605, -5.7224, -5.7363, -5.6773, -5.4506, -5.7756, -5.9088, -5.8474, -5.9254, -5.9688, -5.9844, -6.1074, -6.0791, -6.1357, -6.1301, -6.1774, -5.4092, -5.1692, -5.4211, -5.1803, -5.351, -2.6643, -3.6699, -4.3773, -5.0911, -5.469, -5.3785, -5.0288, -5.3694, -4.9837, -5.0524, -5.2403, -5.1954, -5.1697, -5.3883, -5.2521, -5.3395, -5.3981, -3.8654, -4.5279, -4.7398, -4.7822, -5.0389, -5.1625, -4.2163, -5.4852, -5.4033, -5.4956, -5.5477, -5.5969, -5.6469, -5.6602, -5.6602, -5.6876, -4.5307, -5.6862, -5.6684, -5.6706, -5.7972, -5.9202, -5.9776, -5.9956, -6.0316, -6.0293, -6.0512, -6.0512, -6.093, -6.0615, -5.4481, -5.3672, -5.5789, -5.1325, -5.38, -4.806, -4.79, -4.5999, -4.6496, -4.7988, -4.2618, -4.8693, -4.9187, -5.396, -3.2915, -4.7977, -4.649, -4.1754, -4.5075, -5.0786, -4.7203, -4.9467, -5.1741, -5.2607, -5.3958], \"loglift\": [30.0, 29.0, 28.0, 27.0, 26.0, 25.0, 24.0, 23.0, 22.0, 21.0, 20.0, 19.0, 18.0, 17.0, 16.0, 15.0, 14.0, 13.0, 12.0, 11.0, 10.0, 9.0, 8.0, 7.0, 6.0, 5.0, 4.0, 3.0, 2.0, 1.0, 0.3872, 0.3866, 0.3864, 0.3859, 0.3844, 0.3841, 0.3837, 0.3814, 0.3814, 0.3801, 0.3797, 0.379, 0.3789, 0.3785, 0.3774, 0.3772, 0.3765, 0.3753, 0.3749, 0.3745, 0.3742, 0.374, 0.3737, 0.3736, 0.3731, 0.3731, 0.3725, 0.3724, 0.3722, 0.3717, 0.3708, 0.3537, 0.3529, 0.3518, 0.3119, 0.2268, 0.3404, 0.0912, 0.1424, 0.2801, 0.2483, 0.2754, 0.0363, 0.2685, 0.2308, 0.1261, 0.2187, 0.2384, -0.0402, -0.0455, -0.2115, 1.5109, 1.5055, 1.5034, 1.4998, 1.4976, 1.4959, 1.4935, 1.4918, 1.4916, 1.491, 1.4838, 1.48, 1.4792, 1.4775, 1.4763, 1.4746, 1.4728, 1.4719, 1.4696, 1.4681, 1.466, 1.4654, 1.4653, 1.4635, 1.4626, 1.4554, 1.4549, 1.4531, 1.4528, 1.4492, 1.44, 1.3832, 1.3885, 1.2133, 1.2289, 0.1657, 0.3069, 0.659, 1.0072, 1.1422, 1.0454, 0.6085, 0.9909, 0.388, 0.3943, 0.6786, 0.5523, 0.2552, 0.9414, -0.0201, 0.2238, 0.5985, 2.2436, 2.2278, 2.2201, 2.2173, 2.206, 2.1999, 2.1942, 2.1771, 2.1762, 2.1758, 2.1725, 2.1652, 2.164, 2.1628, 2.1628, 2.1583, 2.1543, 2.1493, 2.148, 2.1442, 2.1362, 2.1337, 2.1282, 2.1243, 2.1217, 2.1193, 2.1192, 2.1192, 2.1078, 2.1009, 2.0811, 2.065, 2.0743, 2.0266, 2.0364, 1.9461, 1.911, 1.8501, 1.8245, 1.8476, 1.6264, 1.6918, 1.7081, 1.9787, 0.577, 1.3251, 0.9711, 0.1799, 0.6135, 1.3852, 0.2199, 0.2854, 1.0695, 0.1642, 1.6089]}, \"token.table\": {\"Topic\": [2, 1, 2, 2, 1, 2, 1, 2, 1, 1, 1, 3, 1, 2, 1, 2, 3, 3, 2, 1, 3, 1, 2, 3, 1, 3, 1, 2, 1, 2, 1, 2, 3, 3, 3, 1, 2, 3, 1, 3, 2, 2, 1, 3, 1, 3, 1, 1, 3, 1, 2, 3, 1, 1, 1, 1, 2, 2, 1, 2, 3, 2, 2, 1, 2, 2, 2, 3, 3, 1, 2, 3, 2, 3, 1, 3, 3, 3, 1, 2, 1, 1, 3, 3, 1, 2, 1, 3, 1, 2, 1, 2, 2, 1, 2, 1, 2, 1, 1, 1, 2, 3, 3, 1, 3, 1, 2, 3, 2, 1, 2, 1, 2, 1, 2, 3, 2, 2, 1, 2, 1, 2, 3, 1, 2, 3, 1, 1, 2, 3, 2, 2, 3, 3, 1, 2, 3, 1, 3, 1, 2, 3, 1, 2, 1, 2, 3, 1, 2, 1, 2, 3, 3, 3, 2, 1, 3, 1, 3, 2, 1, 3, 1, 3, 3, 1, 2, 1, 3, 1, 3, 1, 3, 1, 2, 1, 2, 1, 2, 1, 2, 3, 1, 2, 2, 1, 1, 2, 3, 1, 2, 1, 1, 2, 1, 1, 2, 3, 1, 2, 3, 1, 2, 1, 2, 3, 1, 2, 3, 1, 3, 1, 2, 1, 3, 3, 1, 2, 1, 2, 3, 1, 3, 3, 1, 2, 3, 1, 2, 2, 3, 1, 3, 1, 2, 3, 2, 3, 2], \"Freq\": [0.9943035605712799, 0.09702743881598715, 0.8732469493438842, 0.9734406752395649, 0.9796833269890464, 0.022265530158841963, 0.9948402797032954, 0.9795819864061982, 0.9875213305227825, 0.9985446664292296, 0.9859250104978458, 0.017764414603564788, 0.9632244989425964, 0.038022019695102494, 0.9827984266565543, 0.9041815656711968, 0.9385734075381499, 0.9572510379841942, 0.9899981904417234, 0.13255311369705466, 0.9278717958793827, 0.8940364432846483, 0.020319010074651096, 0.08127604029860439, 0.09962382749473071, 0.7969906199578457, 0.4203115708541596, 0.5704228461592166, 0.7254874209894361, 0.27903362345747545, 0.9941043387723251, 0.9538200063735971, 0.9298465867102522, 0.987133370843341, 0.9746289201192129, 0.032550228677326376, 0.032550228677326376, 0.9439566316424649, 0.9913249760569243, 0.9355407856712018, 0.9390972606645207, 0.9829296744286073, 0.723554715861981, 0.2805620326811763, 0.1127822172017149, 0.7894755204120043, 0.9912526155767483, 0.5836463163704241, 0.41198563508500524, 0.9815864085666499, 0.0076686438169269525, 0.0076686438169269525, 0.9944400765735858, 0.9957086945523538, 0.998150447323866, 0.11253509191915756, 0.8627690380468745, 0.9596246102802505, 0.13760922421941216, 0.06880461210970608, 0.825655345316473, 0.9009965822435554, 0.9720352985850197, 0.25603663801832793, 0.7361053343026928, 0.9776448142611665, 0.8785197968464882, 0.9355407856712018, 0.8954552008566096, 0.595232778777142, 0.2793949777933524, 0.12147607730145754, 0.22901539199541307, 0.7328492543853218, 0.46334043309113676, 0.5212579872275289, 0.9293862962972793, 0.9382253258224987, 0.9736351929660394, 0.9843985962893199, 0.9836743148771788, 0.2560989968078713, 0.7682969904236139, 0.7800724377818635, 0.8568837380759932, 0.14085760077961532, 0.32965769622929125, 0.6593153924585825, 0.05418578853914467, 0.975344193704604, 0.031479467591361054, 0.9758634953321927, 0.962865046156784, 0.31826906494205665, 0.6763217630018703, 0.864849856325671, 0.14177866497142147, 0.984756622702795, 0.9978161927090021, 0.5517890692481914, 0.4200185452486233, 0.032942630999892024, 0.9243287022704684, 0.9944959655882816, 0.9429061150819098, 0.9961203504546385, 0.9742216210533068, 0.9458244877762805, 0.9290335005212692, 0.9625680874691502, 0.03565066990626482, 0.6025170684780923, 0.4088508678958483, 0.7685343557345247, 0.16468593337168386, 0.07319374816519282, 0.9924029370736773, 0.9541712121552438, 0.7023581901590845, 0.2969319177908325, 0.05047698788183461, 0.9085857818730231, 0.05047698788183461, 0.5574083983033654, 0.4379637415240728, 0.9104362693174703, 0.9854502499327277, 0.3628839591429267, 0.626799565792328, 0.03298945083117515, 0.940352922925761, 0.963345190395333, 0.03853380761581332, 0.9473349921179832, 0.35809107280755836, 0.33054560566851543, 0.3030001385294725, 0.610294350140709, 0.39058838409005375, 0.7813986429314832, 0.033305515928227156, 0.18446131898710424, 0.9605422692985764, 0.03579660630926372, 0.26112266356958924, 0.04352044392826488, 0.6963271028522381, 0.7409012367782368, 0.2584539198063617, 0.6580444641677454, 0.32281426544078073, 0.012415933286183876, 0.9584928070192749, 0.8992906645623757, 0.9175791425003451, 0.9762512897353696, 0.9458244877762805, 0.41622404437160127, 0.5675782423249108, 0.9767704830813124, 0.0856541962677741, 0.899369060811628, 0.986401957166065, 0.9653372494547666, 0.927580351097143, 0.6009055080770036, 0.4056112179519774, 0.3468612676370779, 0.6590364085104481, 0.8678067354440085, 0.12717857329782883, 0.9941573890422682, 0.005046484208336387, 0.40239718296407057, 0.5881189597167186, 0.9809783708117086, 0.01691342018640877, 0.9449158034731546, 0.03779663213892619, 0.8898052744453777, 0.01218911334856682, 0.09751290678853455, 0.8413307723716683, 0.1492683628401347, 0.9272647105101713, 0.981401406709838, 0.32327189059471106, 0.12122695897301665, 0.5657258085407444, 0.2313525987717005, 0.7326165627770516, 0.9879715724520447, 0.9941684320452246, 0.9640698885692037, 0.9928354091309345, 0.09041594390160584, 0.09041594390160584, 0.8137434951144525, 0.850351440382686, 0.025010336481843705, 0.12505168240921852, 0.8897140155406231, 0.10226597879777277, 0.65436575355366, 0.16135045978035453, 0.18824220307708028, 0.9861828800799599, 0.004961926440653887, 0.008683371271144302, 0.9980486391652825, 0.8866769208612337, 0.9257317703041491, 0.07526274555318285, 0.47172463208960674, 0.5306902111008076, 0.9253731176513614, 0.6795958644101805, 0.32252007124550935, 0.30473126180681687, 0.03385902908964632, 0.6771805817929264, 0.17798822323492922, 0.8009470045571814, 0.8802467192676059, 0.5535959532115485, 0.38583960375350357, 0.06710253978321801, 0.4049541903039443, 0.5955208680940358, 0.9516878857857506, 0.8417725955058496, 0.9837689700969564, 0.9647808757098527, 0.6511218221369726, 0.21036243484425268, 0.1402416232295018, 0.9460674260165313, 0.9187686031859176, 0.942476121459122], \"Term\": [\"activista\", \"actual\", \"actual\", \"actualidad\", \"adoptar\", \"adoptar\", \"agua\", \"aja\", \"alternativa\", \"ambiental\", \"ambiente\", \"ambiente\", \"ano\", \"ano\", \"apoyar\", \"apropiacion\", \"armario\", \"autenticidad\", \"barber\", \"bocoque\", \"bocoque\", \"buscar\", \"buscar\", \"buscar\", \"caer\", \"caer\", \"cambiar\", \"cambiar\", \"cambio\", \"cambio\", \"cantidad\", \"carrera\", \"casual\", \"cena\", \"certificacion\", \"chile\", \"chile\", \"chile\", \"circular\", \"code\", \"colonia\", \"colonialismo\", \"comprar\", \"comprar\", \"comun\", \"comun\", \"consciente\", \"considerar\", \"considerar\", \"consumidor\", \"consumidor\", \"consumidor\", \"consumo\", \"contaminante\", \"contribuir\", \"cultura\", \"cultura\", \"cultural\", \"dar\", \"dar\", \"dar\", \"decada\", \"descolonizacion\", \"disenador\", \"disenador\", \"diversidad\", \"diverso\", \"dress\", \"ecoalf\", \"el\", \"el\", \"el\", \"elegante\", \"elegante\", \"elegir\", \"elegir\", \"en[1\", \"en[3\", \"enfocar\", \"escritora\", \"esperar\", \"estar\", \"estar\", \"estaras\", \"etico\", \"etico\", \"evitar\", \"evitar\", \"evolucionar\", \"evolucionar\", \"explotacion\", \"explotacion\", \"expresion\", \"falta\", \"falta\", \"fashion\", \"fashion\", \"fast\", \"fomentar\", \"forma\", \"forma\", \"forma\", \"formal\", \"futuro\", \"greenwashing\", \"hecho\", \"historia\", \"hombre\", \"identidad\", \"impacto\", \"impacto\", \"importancia\", \"importancia\", \"importante\", \"importante\", \"importante\", \"inclusion\", \"inclusivo\", \"industria\", \"industria\", \"inspirar\", \"inspirar\", \"inspirar\", \"laboral\", \"laboral\", \"lavado\", \"lider\", \"lograr\", \"lograr\", \"lograr\", \"lucha\", \"luchar\", \"luchar\", \"lucir\", \"lugar\", \"lugar\", \"lugar\", \"mano\", \"mano\", \"marca\", \"marca\", \"marca\", \"material\", \"material\", \"mencionar\", \"mencionar\", \"mencionar\", \"moda\", \"moda\", \"mundo\", \"mundo\", \"mundo\", \"noche\", \"ocasion\", \"occidental\", \"ofrecer\", \"olvidser\", \"opcion\", \"opcion\", \"opresion\", \"optar\", \"optar\", \"organico\", \"outfit\", \"perfecto\", \"persona\", \"persona\", \"poder\", \"poder\", \"practica\", \"practica\", \"prenda\", \"prenda\", \"problema\", \"problema\", \"produccion\", \"produccion\", \"producir\", \"producir\", \"producto\", \"producto\", \"producto\", \"promover\", \"promover\", \"pueblo\", \"reciclado\", \"recomendacion\", \"recomendacion\", \"recomendacion\", \"reconocer\", \"reconocer\", \"reduccion\", \"reducir\", \"resistencia\", \"responsable\", \"revolucionar\", \"revolucionar\", \"revolucionar\", \"ropa\", \"ropa\", \"ropa\", \"social\", \"social\", \"sostenibilidad\", \"sostenibilidad\", \"sostenibilidad\", \"sostenible\", \"sostenible\", \"sostenible\", \"sustentable\", \"temporada\", \"tendencia\", \"tendencia\", \"tener\", \"tener\", \"tercero\", \"textil\", \"textil\", \"tienda\", \"tienda\", \"tienda\", \"tipo\", \"tipo\", \"toque\", \"trabajar\", \"trabajar\", \"trabajar\", \"trabajo\", \"trabajo\", \"tradicion\", \"trampa\", \"transparencia\", \"tu\", \"utilizar\", \"utilizar\", \"utilizar\", \"valorar\", \"verificar\", \"voz\"]}, \"R\": 30, \"lambda.step\": 0.01, \"plot.opts\": {\"xlab\": \"PC1\", \"ylab\": \"PC2\"}, \"topic.order\": [3, 1, 2]};\n",
       "\n",
       "function LDAvis_load_lib(url, callback){\n",
       "  var s = document.createElement('script');\n",
       "  s.src = url;\n",
       "  s.async = true;\n",
       "  s.onreadystatechange = s.onload = callback;\n",
       "  s.onerror = function(){console.warn(\"failed to load library \" + url);};\n",
       "  document.getElementsByTagName(\"head\")[0].appendChild(s);\n",
       "}\n",
       "\n",
       "if(typeof(LDAvis) !== \"undefined\"){\n",
       "   // already loaded: just create the visualization\n",
       "   !function(LDAvis){\n",
       "       new LDAvis(\"#\" + \"ldavis_el2519619072668764645163089601\", ldavis_el2519619072668764645163089601_data);\n",
       "   }(LDAvis);\n",
       "}else if(typeof define === \"function\" && define.amd){\n",
       "   // require.js is available: use it to load d3/LDAvis\n",
       "   require.config({paths: {d3: \"https://d3js.org/d3.v5\"}});\n",
       "   require([\"d3\"], function(d3){\n",
       "      window.d3 = d3;\n",
       "      LDAvis_load_lib(\"https://cdn.jsdelivr.net/gh/bmabey/pyLDAvis@3.4.0/pyLDAvis/js/ldavis.v3.0.0.js\", function(){\n",
       "        new LDAvis(\"#\" + \"ldavis_el2519619072668764645163089601\", ldavis_el2519619072668764645163089601_data);\n",
       "      });\n",
       "    });\n",
       "}else{\n",
       "    // require.js not available: dynamically load d3 & LDAvis\n",
       "    LDAvis_load_lib(\"https://d3js.org/d3.v5.js\", function(){\n",
       "         LDAvis_load_lib(\"https://cdn.jsdelivr.net/gh/bmabey/pyLDAvis@3.4.0/pyLDAvis/js/ldavis.v3.0.0.js\", function(){\n",
       "                 new LDAvis(\"#\" + \"ldavis_el2519619072668764645163089601\", ldavis_el2519619072668764645163089601_data);\n",
       "            })\n",
       "         });\n",
       "}\n",
       "</script>"
      ],
      "text/plain": [
       "PreparedData(topic_coordinates=              x         y  topics  cluster       Freq\n",
       "topic                                                \n",
       "2     -0.088036  0.157877       1        1  67.672793\n",
       "0     -0.132484 -0.137999       2        1  21.898532\n",
       "1      0.220520 -0.019879       3        1  10.428675, topic_info=            Term         Freq        Total Category  logprob  loglift\n",
       "113         moda  1102.000000  1102.000000  Default  30.0000  30.0000\n",
       "107        marca   390.000000   390.000000  Default  29.0000  29.0000\n",
       "170   sostenible   806.000000   806.000000  Default  28.0000  28.0000\n",
       "1810      barber    79.000000    79.000000  Default  27.0000  27.0000\n",
       "90     industria   350.000000   350.000000  Default  26.0000  26.0000\n",
       "...          ...          ...          ...      ...      ...      ...\n",
       "134     practica    17.368654   133.670315   Topic3  -4.7203   0.2199\n",
       "448     utilizar    13.849077    99.827709   Topic3  -4.9467   0.2854\n",
       "105        lugar    11.032460    36.303614   Topic3  -5.1741   1.0695\n",
       "283           el    10.116907    82.320735   Topic3  -5.2607   0.1642\n",
       "496        tener     8.838114    16.959047   Topic3  -5.3958   1.6089\n",
       "\n",
       "[188 rows x 6 columns], token_table=      Topic      Freq        Term\n",
       "term                             \n",
       "1182      2  0.994304   activista\n",
       "802       1  0.097027      actual\n",
       "802       2  0.873247      actual\n",
       "504       2  0.973441  actualidad\n",
       "200       1  0.979683     adoptar\n",
       "...     ...       ...         ...\n",
       "448       2  0.210362    utilizar\n",
       "448       3  0.140242    utilizar\n",
       "1502      2  0.946067     valorar\n",
       "1536      3  0.918769   verificar\n",
       "1504      2  0.942476         voz\n",
       "\n",
       "[239 rows x 3 columns], R=30, lambda_step=0.01, plot_opts={'xlab': 'PC1', 'ylab': 'PC2'}, topic_order=[3, 1, 2])"
      ]
     },
     "execution_count": 29,
     "metadata": {},
     "output_type": "execute_result"
    }
   ],
   "source": [
    "pyLDAvis.enable_notebook()\n",
    "vis = pyLDAvis.gensim_models.prepare(lda_model, corpus, id2word)\n",
    "vis"
   ]
  },
  {
   "cell_type": "code",
   "execution_count": null,
   "id": "950e716b-7ebb-44e6-b4dc-b9854d3c0cf9",
   "metadata": {},
   "outputs": [],
   "source": [
    "# Generate PyLDAvis visualization\n",
    "vis = pyLDAvis.gensim_models.prepare(lda_model, corpus, id2word)\n",
    "\n",
    "# Save the visualization as HTML file\n",
    "temp_file = tempfile.NamedTemporaryFile(delete=False, suffix='.html')\n",
    "pyLDAvis.save_html(vis, temp_file.name)\n",
    "\n",
    "# Open the HTML file in a web browser\n",
    "webbrowser.open(temp_file.name)"
   ]
  }
 ],
 "metadata": {
  "kernelspec": {
   "display_name": "Python 3 (ipykernel)",
   "language": "python",
   "name": "python3"
  },
  "language_info": {
   "codemirror_mode": {
    "name": "ipython",
    "version": 3
   },
   "file_extension": ".py",
   "mimetype": "text/x-python",
   "name": "python",
   "nbconvert_exporter": "python",
   "pygments_lexer": "ipython3",
   "version": "3.9.13"
  }
 },
 "nbformat": 4,
 "nbformat_minor": 5
}
