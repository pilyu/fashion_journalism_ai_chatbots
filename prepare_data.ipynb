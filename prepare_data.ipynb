{
 "cells": [
  {
   "cell_type": "code",
   "execution_count": 4,
   "id": "391bb962-4afb-4eae-aafa-cb9c8d51138c",
   "metadata": {},
   "outputs": [
    {
     "name": "stdout",
     "output_type": "stream",
     "text": [
      "Requirement already satisfied: pandas in c:\\users\\pilyu\\anaconda3\\lib\\site-packages (1.4.4)\n",
      "Requirement already satisfied: python-dateutil>=2.8.1 in c:\\users\\pilyu\\appdata\\roaming\\python\\python39\\site-packages (from pandas) (2.8.2)\n",
      "Requirement already satisfied: pytz>=2020.1 in c:\\users\\pilyu\\anaconda3\\lib\\site-packages (from pandas) (2022.1)\n",
      "Requirement already satisfied: numpy>=1.18.5 in c:\\users\\pilyu\\anaconda3\\lib\\site-packages (from pandas) (1.21.5)\n",
      "Requirement already satisfied: six>=1.5 in c:\\users\\pilyu\\anaconda3\\lib\\site-packages (from python-dateutil>=2.8.1->pandas) (1.16.0)\n"
     ]
    }
   ],
   "source": [
    "!pip install pandas"
   ]
  },
  {
   "cell_type": "code",
   "execution_count": 5,
   "id": "1c0e3aa8-0bed-48c9-a9d1-bd69836442f3",
   "metadata": {},
   "outputs": [],
   "source": [
    "from glob import glob\n",
    "import pandas as pd\n",
    "import os\n",
    "import shutil"
   ]
  },
  {
   "cell_type": "code",
   "execution_count": 6,
   "id": "8c4eefc8-1588-40eb-b4f7-cd7b078de712",
   "metadata": {},
   "outputs": [],
   "source": [
    "def create_stylo_corpus(name, input_data):\n",
    "    # Delete old data\n",
    "    shutil.rmtree(f'stylo/{name}/corpus', ignore_errors=True)\n",
    "    \n",
    "    # Recreate the directory\n",
    "    os.makedirs(f'stylo/{name}/corpus', exist_ok=True)\n",
    "    \n",
    "    # Generate corpus\n",
    "    for filename, feature in input_data.items():\n",
    "        df = pd.read_csv(f'data/{filename}')\n",
    "        df[['headline', 'lead', 'body']] = df[['headline', 'lead', 'body']].fillna('')\n",
    "        for index, row in df.iterrows():\n",
    "            filename = f'stylo/{name}/corpus/{feature}_{index}.txt'\n",
    "            with open(filename, 'w', encoding='utf-8') as fh:\n",
    "                if row['headline']:\n",
    "                    fh.write(row['headline'])\n",
    "                    fh.write('\\n')\n",
    "                if row['lead']:\n",
    "                    fh.write(row['lead'])\n",
    "                    fh.write('\\n')\n",
    "                if row['body']:\n",
    "                    fh.write(row['body'])\n",
    "                    fh.write('\\n')"
   ]
  },
  {
   "cell_type": "code",
   "execution_count": 51,
   "id": "030ff0e9-00eb-4b64-a73c-05d15835690f",
   "metadata": {},
   "outputs": [],
   "source": [
    "input_data = {\n",
    "    'cosas_pe.csv': 'RevistaCosas',\n",
    "    'harpersbazaar_mx.csv': 'HarpersBazaar',\n",
    "    'instyle_es.csv': 'InStyle',\n",
    "    'lofficiel_ar.csv': 'Lofficiel',\n",
    "    'oceandrive_ve.csv': 'OceanDrive',\n",
    "    'paula_cl.csv': 'Paula',\n",
    "    'somosohlala_ar.csv': 'SomosOhLala',\n",
    "    'telva_es.csv': 'Telva',\n",
    "    'vistelacalle_cl.csv': 'VisteLaCalle',\n",
    "    'vogue_es.csv': 'VogueES',\n",
    "    'vogue_mx.csv': 'VogueMX',\n",
    "}\n",
    "create_stylo_corpus('human_source', input_data)"
   ]
  },
  {
   "cell_type": "code",
   "execution_count": 7,
   "id": "58104672-0903-4223-ad92-def7f3f5adf8",
   "metadata": {},
   "outputs": [],
   "source": [
    "input_data = {\n",
    "    'cosas_pe.csv': 'peru',\n",
    "    'harpersbazaar_mx.csv': 'mexico',\n",
    "    'instyle_es.csv': 'spain',\n",
    "    'lofficiel_ar.csv': 'argentina',\n",
    "    'oceandrive_ve.csv': 'venezuela',\n",
    "    'paula_cl.csv': 'chile',\n",
    "    'somosohlala_ar.csv': 'argentina',\n",
    "    'telva_es.csv': 'spain',\n",
    "    'vistelacalle_cl.csv': 'chile',\n",
    "    'vogue_es.csv': 'spain',\n",
    "    'vogue_mx.csv': 'mexico',\n",
    "}\n",
    "create_stylo_corpus('sources_by_country', input_data)"
   ]
  },
  {
   "cell_type": "code",
   "execution_count": null,
   "id": "4bea6ef2-496f-49ee-afe5-9aa74f7c835e",
   "metadata": {},
   "outputs": [],
   "source": [
    "input_data = {\n",
    "    'jasper.csv': 'Jasper',\n",
    "    'chatgpt.csv': 'ChatGPT',\n",
    "    'perplexity.csv': 'Perplexity',\n",
    "}\n",
    "create_stylo_corpus('chatbot_source', input_data)"
   ]
  },
  {
   "cell_type": "code",
   "execution_count": 47,
   "id": "8467c469-1c1f-44cd-8571-4eb3ef50d001",
   "metadata": {},
   "outputs": [],
   "source": [
    "input_data = {\n",
    "    'jasper.csv': 'chatbot',\n",
    "    'chatgpt.csv': 'chatbot',\n",
    "    'perplexity.csv': 'chatbot',\n",
    "    'cosas_pe.csv': 'human',\n",
    "    'harpersbazaar_mx.csv': 'human',\n",
    "    'instyle_es.csv': 'human',\n",
    "    'lofficiel_ar.csv': 'human',\n",
    "    'oceandrive_ve.csv': 'human',\n",
    "    'paula_cl.csv': 'human',\n",
    "    'somosohlala_ar.csv': 'human',\n",
    "    'telva_es.csv': 'human',\n",
    "    'vistelacalle_cl.csv': 'human',\n",
    "    'vogue_es.csv': 'human',\n",
    "    'vogue_mx.csv': 'human',\n",
    "}\n",
    "\n",
    "create_stylo_corpus('human_chatbot', input_data)"
   ]
  },
  {
   "cell_type": "code",
   "execution_count": 48,
   "id": "bff33c75-dee1-4f41-919a-dcb919de84f0",
   "metadata": {},
   "outputs": [],
   "source": [
    "input_data = {\n",
    "    'jasper.csv': 'chatbot',\n",
    "    'chatgpt.csv': 'chatbot',\n",
    "    'perplexity.csv': 'chatbot',\n",
    "    'cosas_pe.csv': 'latam',\n",
    "    'harpersbazaar_mx.csv': 'latam',\n",
    "    'instyle_es.csv': 'spain',\n",
    "    'lofficiel_ar.csv': 'latam',\n",
    "    'oceandrive_ve.csv': 'latam',\n",
    "    'paula_cl.csv': 'latam',\n",
    "    'somosohlala_ar.csv': 'latam',\n",
    "    'telva_es.csv': 'spain',\n",
    "    'vistelacalle_cl.csv': 'latam',\n",
    "    'vogue_es.csv': 'spain',\n",
    "    'vogue_mx.csv': 'latam',\n",
    "}\n",
    "\n",
    "create_stylo_corpus('spain_latam_chatbot', input_data)"
   ]
  }
 ],
 "metadata": {
  "kernelspec": {
   "display_name": "Python 3 (ipykernel)",
   "language": "python",
   "name": "python3"
  },
  "language_info": {
   "codemirror_mode": {
    "name": "ipython",
    "version": 3
   },
   "file_extension": ".py",
   "mimetype": "text/x-python",
   "name": "python",
   "nbconvert_exporter": "python",
   "pygments_lexer": "ipython3",
   "version": "3.9.13"
  }
 },
 "nbformat": 4,
 "nbformat_minor": 5
}
